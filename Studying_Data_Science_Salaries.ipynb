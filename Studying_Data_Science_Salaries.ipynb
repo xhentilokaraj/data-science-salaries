{
 "cells": [
  {
   "cell_type": "code",
   "execution_count": 1,
   "metadata": {},
   "outputs": [],
   "source": [
    "import pandas as pd\n",
    "from bs4 import BeautifulSoup\n",
    "from bs4 import BeautifulSoup\n",
    "import urllib.request\n",
    "import re\n",
    "\n",
    "import numpy as np\n",
    "import matplotlib.pyplot as plt\n",
    "%matplotlib inline"
   ]
  },
  {
   "cell_type": "code",
   "execution_count": 2,
   "metadata": {},
   "outputs": [],
   "source": [
    "html_doc = \"https://h1bdata.info/index.php?em=&job=Data+Scientist&city=&year=All+Years\"\n",
    "try:\n",
    "    page = urllib.request.urlopen(html_doc)\n",
    "except:\n",
    "    print(\"An error occured.\")"
   ]
  },
  {
   "cell_type": "code",
   "execution_count": 3,
   "metadata": {},
   "outputs": [],
   "source": [
    "soup = BeautifulSoup(page, 'html.parser')"
   ]
  },
  {
   "cell_type": "code",
   "execution_count": 4,
   "metadata": {},
   "outputs": [
    {
     "data": {
      "text/plain": [
       "<title>Data scientist Salary</title>"
      ]
     },
     "execution_count": 4,
     "metadata": {},
     "output_type": "execute_result"
    }
   ],
   "source": [
    "soup.title"
   ]
  },
  {
   "cell_type": "code",
   "execution_count": 112,
   "metadata": {},
   "outputs": [
    {
     "data": {
      "text/plain": [
       "'title'"
      ]
     },
     "execution_count": 112,
     "metadata": {},
     "output_type": "execute_result"
    }
   ],
   "source": [
    "soup.title.name"
   ]
  },
  {
   "cell_type": "code",
   "execution_count": 6,
   "metadata": {},
   "outputs": [
    {
     "data": {
      "text/plain": [
       "'Data scientist Salary'"
      ]
     },
     "execution_count": 6,
     "metadata": {},
     "output_type": "execute_result"
    }
   ],
   "source": [
    "soup.title.string\n"
   ]
  },
  {
   "cell_type": "code",
   "execution_count": 7,
   "metadata": {},
   "outputs": [
    {
     "data": {
      "text/plain": [
       "<p>Trending now:\n",
       "<a href=\"index.php?em=Facebook&amp;year=2019\">Facebook</a>, <a href=\"index.php?em=amazon&amp;year=2019\">Amazon</a>, <a href=\"index.php?em=apple&amp;year=2019\">Apple</a>,\n",
       "<a href=\"index.php?em=netflix&amp;year=2019\">Netflix</a>, <a href=\"index.php?em=google&amp;year=2019\">Google</a>, <a href=\"index.php?em=airbnb&amp;year=2019\">Airbnb</a>,\n",
       "<a href=\"index.php?em=uber&amp;year=2019\">Uber</a>, <a href=\"index.php?em=linkedin&amp;year=2019\">Linkedin</a>, <a href=\"index.php?em=salesforce&amp;year=2019\">Salesforce</a>\n",
       "</p>"
      ]
     },
     "execution_count": 7,
     "metadata": {},
     "output_type": "execute_result"
    }
   ],
   "source": [
    "soup.p"
   ]
  },
  {
   "cell_type": "code",
   "execution_count": 8,
   "metadata": {},
   "outputs": [
    {
     "data": {
      "text/plain": [
       "<a class=\"navbar-brand\" href=\"index.php\">H1B Salary Database</a>"
      ]
     },
     "execution_count": 8,
     "metadata": {},
     "output_type": "execute_result"
    }
   ],
   "source": [
    "soup.a"
   ]
  },
  {
   "cell_type": "code",
   "execution_count": 115,
   "metadata": {},
   "outputs": [
    {
     "data": {
      "text/plain": [
       "<a class=\"navbar-brand\" href=\"index.php\">H1B Salary Database</a>"
      ]
     },
     "execution_count": 115,
     "metadata": {},
     "output_type": "execute_result"
    }
   ],
   "source": [
    "soup.find_all('a')[0]"
   ]
  },
  {
   "cell_type": "code",
   "execution_count": 10,
   "metadata": {},
   "outputs": [],
   "source": [
    "tables = soup.findChildren('table')\n",
    "my_table = tables[0]\n",
    "rows = my_table.findChildren(['tr'])"
   ]
  },
  {
   "cell_type": "code",
   "execution_count": 11,
   "metadata": {},
   "outputs": [
    {
     "data": {
      "text/plain": [
       "<tr><th>EMPLOYER</th><th>JOB TITLE</th><th>BASE SALARY</th><th>LOCATION</th><th data-date-format=\"mm/dd/yy\">SUBMIT DATE</th><th data-date-format=\"mm/dd/yy\">START DATE</th><th>CASE STATUS</th></tr>"
      ]
     },
     "execution_count": 11,
     "metadata": {},
     "output_type": "execute_result"
    }
   ],
   "source": [
    "rows[0]"
   ]
  },
  {
   "cell_type": "code",
   "execution_count": 12,
   "metadata": {},
   "outputs": [],
   "source": [
    "columns = []\n",
    "for i in rows[0].findChildren(['th']):\n",
    "    columns.append(i.string)"
   ]
  },
  {
   "cell_type": "code",
   "execution_count": 13,
   "metadata": {},
   "outputs": [
    {
     "data": {
      "text/plain": [
       "['EMPLOYER',\n",
       " 'JOB TITLE',\n",
       " 'BASE SALARY',\n",
       " 'LOCATION',\n",
       " 'SUBMIT DATE',\n",
       " 'START DATE',\n",
       " 'CASE STATUS']"
      ]
     },
     "execution_count": 13,
     "metadata": {},
     "output_type": "execute_result"
    }
   ],
   "source": [
    "columns"
   ]
  },
  {
   "cell_type": "code",
   "execution_count": 14,
   "metadata": {},
   "outputs": [],
   "source": [
    "prim_text = []\n",
    "\n",
    "for tr in rows[1:]:\n",
    "    td = tr.find_all('td')\n",
    "    row = [tr.text for tr in td]\n",
    "    prim_text.append(row)"
   ]
  },
  {
   "cell_type": "code",
   "execution_count": 15,
   "metadata": {},
   "outputs": [
    {
     "data": {
      "text/plain": [
       "[['PERCOLATA CORPORATION',\n",
       "  'DATA SCIENTIST',\n",
       "  '46,060',\n",
       "  'PALO ALTO, CA',\n",
       "  '03/18/2016',\n",
       "  '09/02/2016',\n",
       "  'CERTIFIED'],\n",
       " ['MY LIFE REGISTRY LLC',\n",
       "  'DATA SCIENTIST',\n",
       "  '47,960',\n",
       "  'FORT LEE, NJ',\n",
       "  '02/18/2015',\n",
       "  '08/20/2015',\n",
       "  'CERTIFIED'],\n",
       " ['MY LIFE REGISTRY LLC',\n",
       "  'DATA SCIENTIST',\n",
       "  '47,960',\n",
       "  'FORT LEE, NJ',\n",
       "  '02/18/2015',\n",
       "  '08/20/2015',\n",
       "  'CERTIFIED'],\n",
       " ['BIG DATA ANALYTICS TRADING INC',\n",
       "  'DATA SCIENTIST',\n",
       "  '50,000',\n",
       "  'JOHNS CREEK, GA',\n",
       "  '03/16/2017',\n",
       "  '09/01/2017',\n",
       "  'CERTIFIED'],\n",
       " ['YONO HEALTH INC',\n",
       "  'DATA SCIENTIST',\n",
       "  '50,220',\n",
       "  'SUNNYVALE, CA',\n",
       "  '02/28/2017',\n",
       "  '08/28/2017',\n",
       "  'CERTIFIED']]"
      ]
     },
     "execution_count": 15,
     "metadata": {},
     "output_type": "execute_result"
    }
   ],
   "source": [
    "prim_text[:5]"
   ]
  },
  {
   "cell_type": "code",
   "execution_count": 89,
   "metadata": {},
   "outputs": [],
   "source": [
    "data_scientists = pd.DataFrame(prim_text, columns=columns)"
   ]
  },
  {
   "cell_type": "code",
   "execution_count": 116,
   "metadata": {},
   "outputs": [
    {
     "data": {
      "text/html": [
       "<div>\n",
       "<style scoped>\n",
       "    .dataframe tbody tr th:only-of-type {\n",
       "        vertical-align: middle;\n",
       "    }\n",
       "\n",
       "    .dataframe tbody tr th {\n",
       "        vertical-align: top;\n",
       "    }\n",
       "\n",
       "    .dataframe thead th {\n",
       "        text-align: right;\n",
       "    }\n",
       "</style>\n",
       "<table border=\"1\" class=\"dataframe\">\n",
       "  <thead>\n",
       "    <tr style=\"text-align: right;\">\n",
       "      <th></th>\n",
       "      <th>EMPLOYER</th>\n",
       "      <th>JOB TITLE</th>\n",
       "      <th>BASE SALARY</th>\n",
       "      <th>LOCATION</th>\n",
       "      <th>SUBMIT DATE</th>\n",
       "      <th>START DATE</th>\n",
       "      <th>CASE STATUS</th>\n",
       "    </tr>\n",
       "  </thead>\n",
       "  <tbody>\n",
       "    <tr>\n",
       "      <th>0</th>\n",
       "      <td>PERCOLATA CORPORATION</td>\n",
       "      <td>DATA SCIENTIST</td>\n",
       "      <td>46060</td>\n",
       "      <td>PALO ALTO, CA</td>\n",
       "      <td>03/18/2016</td>\n",
       "      <td>09/02/2016</td>\n",
       "      <td>CERTIFIED</td>\n",
       "    </tr>\n",
       "    <tr>\n",
       "      <th>1</th>\n",
       "      <td>MY LIFE REGISTRY LLC</td>\n",
       "      <td>DATA SCIENTIST</td>\n",
       "      <td>47960</td>\n",
       "      <td>FORT LEE, NJ</td>\n",
       "      <td>02/18/2015</td>\n",
       "      <td>08/20/2015</td>\n",
       "      <td>CERTIFIED</td>\n",
       "    </tr>\n",
       "    <tr>\n",
       "      <th>2</th>\n",
       "      <td>MY LIFE REGISTRY LLC</td>\n",
       "      <td>DATA SCIENTIST</td>\n",
       "      <td>47960</td>\n",
       "      <td>FORT LEE, NJ</td>\n",
       "      <td>02/18/2015</td>\n",
       "      <td>08/20/2015</td>\n",
       "      <td>CERTIFIED</td>\n",
       "    </tr>\n",
       "    <tr>\n",
       "      <th>3</th>\n",
       "      <td>BIG DATA ANALYTICS TRADING INC</td>\n",
       "      <td>DATA SCIENTIST</td>\n",
       "      <td>50000</td>\n",
       "      <td>JOHNS CREEK, GA</td>\n",
       "      <td>03/16/2017</td>\n",
       "      <td>09/01/2017</td>\n",
       "      <td>CERTIFIED</td>\n",
       "    </tr>\n",
       "    <tr>\n",
       "      <th>4</th>\n",
       "      <td>YONO HEALTH INC</td>\n",
       "      <td>DATA SCIENTIST</td>\n",
       "      <td>50220</td>\n",
       "      <td>SUNNYVALE, CA</td>\n",
       "      <td>02/28/2017</td>\n",
       "      <td>08/28/2017</td>\n",
       "      <td>CERTIFIED</td>\n",
       "    </tr>\n",
       "  </tbody>\n",
       "</table>\n",
       "</div>"
      ],
      "text/plain": [
       "                         EMPLOYER       JOB TITLE  BASE SALARY  \\\n",
       "0           PERCOLATA CORPORATION  DATA SCIENTIST        46060   \n",
       "1            MY LIFE REGISTRY LLC  DATA SCIENTIST        47960   \n",
       "2            MY LIFE REGISTRY LLC  DATA SCIENTIST        47960   \n",
       "3  BIG DATA ANALYTICS TRADING INC  DATA SCIENTIST        50000   \n",
       "4                 YONO HEALTH INC  DATA SCIENTIST        50220   \n",
       "\n",
       "          LOCATION SUBMIT DATE  START DATE CASE STATUS  \n",
       "0    PALO ALTO, CA  03/18/2016  09/02/2016   CERTIFIED  \n",
       "1     FORT LEE, NJ  02/18/2015  08/20/2015   CERTIFIED  \n",
       "2     FORT LEE, NJ  02/18/2015  08/20/2015   CERTIFIED  \n",
       "3  JOHNS CREEK, GA  03/16/2017  09/01/2017   CERTIFIED  \n",
       "4    SUNNYVALE, CA  02/28/2017  08/28/2017   CERTIFIED  "
      ]
     },
     "execution_count": 116,
     "metadata": {},
     "output_type": "execute_result"
    }
   ],
   "source": [
    "data_scientists.head()"
   ]
  },
  {
   "cell_type": "code",
   "execution_count": 93,
   "metadata": {},
   "outputs": [
    {
     "name": "stdout",
     "output_type": "stream",
     "text": [
      "<class 'pandas.core.frame.DataFrame'>\n",
      "RangeIndex: 7075 entries, 0 to 7074\n",
      "Data columns (total 7 columns):\n",
      "EMPLOYER       7075 non-null object\n",
      "JOB TITLE      7075 non-null object\n",
      "BASE SALARY    7075 non-null int32\n",
      "LOCATION       7075 non-null object\n",
      "SUBMIT DATE    7075 non-null object\n",
      "START DATE     7075 non-null object\n",
      "CASE STATUS    7075 non-null object\n",
      "dtypes: int32(1), object(6)\n",
      "memory usage: 359.4+ KB\n"
     ]
    }
   ],
   "source": [
    "data_scientists.info()"
   ]
  },
  {
   "cell_type": "code",
   "execution_count": 92,
   "metadata": {},
   "outputs": [],
   "source": [
    "data_scientists['BASE SALARY'] =  data_scientists['BASE SALARY'].str.replace(',', '')\n",
    "data_scientists['BASE SALARY'] = data_scientists['BASE SALARY'].astype(str).astype(int)"
   ]
  },
  {
   "cell_type": "code",
   "execution_count": 106,
   "metadata": {},
   "outputs": [],
   "source": [
    "data_scientists_norm = data_scientists[data_scientists['BASE SALARY'] < 300000]"
   ]
  },
  {
   "cell_type": "code",
   "execution_count": 108,
   "metadata": {},
   "outputs": [
    {
     "data": {
      "text/plain": [
       "Text(0, 0.5, 'Frequency')"
      ]
     },
     "execution_count": 108,
     "metadata": {},
     "output_type": "execute_result"
    },
    {
     "data": {
      "text/plain": [
       "<Figure size 720x720 with 0 Axes>"
      ]
     },
     "metadata": {},
     "output_type": "display_data"
    },
    {
     "data": {
      "image/png": "[encoded data removed]",
      "text/plain": [
       "<Figure size 432x288 with 1 Axes>"
      ]
     },
     "metadata": {
      "needs_background": "light"
     },
     "output_type": "display_data"
    }
   ],
   "source": [
    "fig=plt.figure(figsize=(10,10))\n",
    "data_scientists_norm.hist(column='BASE SALARY', bins=50)\n",
    "plt.xlabel(\"BASE SALARY\",fontsize=15)\n",
    "plt.ylabel(\"Frequency\",fontsize=15)"
   ]
  },
  {
   "cell_type": "code",
   "execution_count": 111,
   "metadata": {},
   "outputs": [
    {
     "data": {
      "image/png": "[encoded data removed]",
      "text/plain": [
       "<Figure size 936x504 with 1 Axes>"
      ]
     },
     "metadata": {
      "needs_background": "light"
     },
     "output_type": "display_data"
    }
   ],
   "source": [
    "fig, ax = plt.subplots(figsize=(13,7))\n",
    "ax = plt.hist(data_scientists_norm['BASE SALARY'], bins=50, alpha=0.5)\n",
    "plt.axvline(data_scientists_norm['BASE SALARY'].quantile(0.25), c='black')\n",
    "plt.axvline(data_scientists_norm['BASE SALARY'].quantile(0.50), c='red')\n",
    "plt.axvline(data_scientists_norm['BASE SALARY'].quantile(0.75), c='black')\n",
    "\n",
    "plt.xlabel('Salary',fontsize=16)\n",
    "plt.ylabel('Frequency',fontsize=16)\n",
    "\n",
    "plt.savefig(fname='salary_hist', dpi=150)\n",
    "plt.show()"
   ]
  }
 ],
 "metadata": {
  "kernelspec": {
   "display_name": "Python 3",
   "language": "python",
   "name": "python3"
  },
  "language_info": {
   "codemirror_mode": {
    "name": "ipython",
    "version": 3
   },
   "file_extension": ".py",
   "mimetype": "text/x-python",
   "name": "python",
   "nbconvert_exporter": "python",
   "pygments_lexer": "ipython3",
   "version": "3.7.3"
  }
 },
 "nbformat": 4,
 "nbformat_minor": 2
}
