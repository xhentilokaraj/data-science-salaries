{
 "cells": [
  {
   "cell_type": "code",
   "execution_count": 727,
   "metadata": {},
   "outputs": [
    {
     "name": "stdout",
     "output_type": "stream",
     "text": [
      "The autotime extension is already loaded. To reload it, use:\n",
      "  %reload_ext autotime\n"
     ]
    },
    {
     "data": {
      "text/html": [
       "        <script type=\"text/javascript\">\n",
       "        window.PlotlyConfig = {MathJaxConfig: 'local'};\n",
       "        if (window.MathJax) {MathJax.Hub.Config({SVG: {font: \"STIX-Web\"}});}\n",
       "        if (typeof require !== 'undefined') {\n",
       "        require.undef(\"plotly\");\n",
       "        requirejs.config({\n",
       "            paths: {\n",
       "                'plotly': ['https://cdn.plot.ly/plotly-latest.min']\n",
       "            }\n",
       "        });\n",
       "        require(['plotly'], function(Plotly) {\n",
       "            window._Plotly = Plotly;\n",
       "        });\n",
       "        }\n",
       "        </script>\n",
       "        "
      ]
     },
     "metadata": {},
     "output_type": "display_data"
    },
    {
     "name": "stdout",
     "output_type": "stream",
     "text": [
      "time: 7 ms\n"
     ]
    }
   ],
   "source": [
    "from bs4 import BeautifulSoup\n",
    "import urllib.request\n",
    "import re\n",
    "from datetime import datetime\n",
    "\n",
    "import numpy as np\n",
    "import pandas as pd\n",
    "\n",
    "%load_ext autotime\n",
    "\n",
    "import plotly\n",
    "import chart_studio.plotly as py\n",
    "import plotly.graph_objs as go\n",
    "from plotly.offline import download_plotlyjs, init_notebook_mode, plot, iplot\n",
    "init_notebook_mode(connected=True)"
   ]
  },
  {
   "cell_type": "markdown",
   "metadata": {},
   "source": [
    "## Web Scraping"
   ]
  },
  {
   "cell_type": "code",
   "execution_count": 2,
   "metadata": {},
   "outputs": [],
   "source": [
    "html_doc = \"https://h1bdata.info/index.php?em=&job=Data+Scientist&city=&year=All+Years\"\n",
    "try:\n",
    "    page = urllib.request.urlopen(html_doc)\n",
    "except:\n",
    "    print(\"Error loading the page.\")"
   ]
  },
  {
   "cell_type": "code",
   "execution_count": 3,
   "metadata": {},
   "outputs": [],
   "source": [
    "soup = BeautifulSoup(page, 'html.parser')"
   ]
  },
  {
   "cell_type": "code",
   "execution_count": 4,
   "metadata": {},
   "outputs": [
    {
     "data": {
      "text/plain": [
       "<title>Data scientist Salary</title>"
      ]
     },
     "execution_count": 4,
     "metadata": {},
     "output_type": "execute_result"
    }
   ],
   "source": [
    "soup.title"
   ]
  },
  {
   "cell_type": "code",
   "execution_count": 5,
   "metadata": {},
   "outputs": [
    {
     "data": {
      "text/plain": [
       "'title'"
      ]
     },
     "execution_count": 5,
     "metadata": {},
     "output_type": "execute_result"
    }
   ],
   "source": [
    "soup.title.name"
   ]
  },
  {
   "cell_type": "code",
   "execution_count": 6,
   "metadata": {},
   "outputs": [
    {
     "data": {
      "text/plain": [
       "'Data scientist Salary'"
      ]
     },
     "execution_count": 6,
     "metadata": {},
     "output_type": "execute_result"
    }
   ],
   "source": [
    "soup.title.string\n"
   ]
  },
  {
   "cell_type": "code",
   "execution_count": 7,
   "metadata": {},
   "outputs": [
    {
     "data": {
      "text/plain": [
       "<p>Trending now:\n",
       "<a href=\"index.php?em=Facebook&amp;year=2019\">Facebook</a>, <a href=\"index.php?em=amazon&amp;year=2019\">Amazon</a>, <a href=\"index.php?em=apple&amp;year=2019\">Apple</a>,\n",
       "<a href=\"index.php?em=netflix&amp;year=2019\">Netflix</a>, <a href=\"index.php?em=google&amp;year=2019\">Google</a>, <a href=\"index.php?em=airbnb&amp;year=2019\">Airbnb</a>,\n",
       "<a href=\"index.php?em=uber&amp;year=2019\">Uber</a>, <a href=\"index.php?em=linkedin&amp;year=2019\">Linkedin</a>, <a href=\"index.php?em=salesforce&amp;year=2019\">Salesforce</a>\n",
       "</p>"
      ]
     },
     "execution_count": 7,
     "metadata": {},
     "output_type": "execute_result"
    }
   ],
   "source": [
    "soup.p"
   ]
  },
  {
   "cell_type": "code",
   "execution_count": 8,
   "metadata": {},
   "outputs": [
    {
     "data": {
      "text/plain": [
       "<a class=\"navbar-brand\" href=\"index.php\">H1B Salary Database</a>"
      ]
     },
     "execution_count": 8,
     "metadata": {},
     "output_type": "execute_result"
    }
   ],
   "source": [
    "soup.a"
   ]
  },
  {
   "cell_type": "code",
   "execution_count": 9,
   "metadata": {},
   "outputs": [
    {
     "data": {
      "text/plain": [
       "<a class=\"navbar-brand\" href=\"index.php\">H1B Salary Database</a>"
      ]
     },
     "execution_count": 9,
     "metadata": {},
     "output_type": "execute_result"
    }
   ],
   "source": [
    "soup.find_all('a')[0]"
   ]
  },
  {
   "cell_type": "code",
   "execution_count": 10,
   "metadata": {},
   "outputs": [],
   "source": [
    "tables = soup.findChildren('table')\n",
    "salary_table = tables[0]\n",
    "rows = salary_table.findChildren(['tr'])"
   ]
  },
  {
   "cell_type": "code",
   "execution_count": 623,
   "metadata": {},
   "outputs": [
    {
     "data": {
      "text/plain": [
       "<tr><th>EMPLOYER</th><th>JOB TITLE</th><th>BASE SALARY</th><th>LOCATION</th><th data-date-format=\"mm/dd/yy\">SUBMIT DATE</th><th data-date-format=\"mm/dd/yy\">START DATE</th><th>CASE STATUS</th></tr>"
      ]
     },
     "execution_count": 623,
     "metadata": {},
     "output_type": "execute_result"
    }
   ],
   "source": [
    "rows[0]"
   ]
  },
  {
   "cell_type": "code",
   "execution_count": 639,
   "metadata": {},
   "outputs": [],
   "source": [
    "# get column names (usage of list comprehension)\n",
    "columns = [i.string for i in rows[0].findChildren(['th'])]"
   ]
  },
  {
   "cell_type": "code",
   "execution_count": 640,
   "metadata": {},
   "outputs": [
    {
     "data": {
      "text/plain": [
       "['EMPLOYER',\n",
       " 'JOB TITLE',\n",
       " 'BASE SALARY',\n",
       " 'LOCATION',\n",
       " 'SUBMIT DATE',\n",
       " 'START DATE',\n",
       " 'CASE STATUS']"
      ]
     },
     "execution_count": 640,
     "metadata": {},
     "output_type": "execute_result"
    }
   ],
   "source": [
    "columns"
   ]
  },
  {
   "cell_type": "code",
   "execution_count": 685,
   "metadata": {},
   "outputs": [],
   "source": [
    "# store data in a list of lists\n",
    "salaries_text = [[tr.text for tr in tr.find_all('td')] for tr in rows[1:]]"
   ]
  },
  {
   "cell_type": "code",
   "execution_count": 686,
   "metadata": {},
   "outputs": [
    {
     "data": {
      "text/plain": [
       "[['PERCOLATA CORPORATION',\n",
       "  'DATA SCIENTIST',\n",
       "  '46,060',\n",
       "  'PALO ALTO, CA',\n",
       "  '03/18/2016',\n",
       "  '09/02/2016',\n",
       "  'CERTIFIED'],\n",
       " ['MY LIFE REGISTRY LLC',\n",
       "  'DATA SCIENTIST',\n",
       "  '47,960',\n",
       "  'FORT LEE, NJ',\n",
       "  '02/18/2015',\n",
       "  '08/20/2015',\n",
       "  'CERTIFIED'],\n",
       " ['MY LIFE REGISTRY LLC',\n",
       "  'DATA SCIENTIST',\n",
       "  '47,960',\n",
       "  'FORT LEE, NJ',\n",
       "  '02/18/2015',\n",
       "  '08/20/2015',\n",
       "  'CERTIFIED']]"
      ]
     },
     "execution_count": 686,
     "metadata": {},
     "output_type": "execute_result"
    }
   ],
   "source": [
    "salaries_text[:3]"
   ]
  },
  {
   "cell_type": "markdown",
   "metadata": {},
   "source": [
    "## Data Preprocessing"
   ]
  },
  {
   "cell_type": "code",
   "execution_count": 687,
   "metadata": {},
   "outputs": [],
   "source": [
    "data_scientists = pd.DataFrame(salaries_text, columns=columns)"
   ]
  },
  {
   "cell_type": "code",
   "execution_count": 688,
   "metadata": {},
   "outputs": [
    {
     "data": {
      "text/html": [
       "<div>\n",
       "<style scoped>\n",
       "    .dataframe tbody tr th:only-of-type {\n",
       "        vertical-align: middle;\n",
       "    }\n",
       "\n",
       "    .dataframe tbody tr th {\n",
       "        vertical-align: top;\n",
       "    }\n",
       "\n",
       "    .dataframe thead th {\n",
       "        text-align: right;\n",
       "    }\n",
       "</style>\n",
       "<table border=\"1\" class=\"dataframe\">\n",
       "  <thead>\n",
       "    <tr style=\"text-align: right;\">\n",
       "      <th></th>\n",
       "      <th>EMPLOYER</th>\n",
       "      <th>JOB TITLE</th>\n",
       "      <th>BASE SALARY</th>\n",
       "      <th>LOCATION</th>\n",
       "      <th>SUBMIT DATE</th>\n",
       "      <th>START DATE</th>\n",
       "      <th>CASE STATUS</th>\n",
       "    </tr>\n",
       "  </thead>\n",
       "  <tbody>\n",
       "    <tr>\n",
       "      <th>0</th>\n",
       "      <td>PERCOLATA CORPORATION</td>\n",
       "      <td>DATA SCIENTIST</td>\n",
       "      <td>46,060</td>\n",
       "      <td>PALO ALTO, CA</td>\n",
       "      <td>03/18/2016</td>\n",
       "      <td>09/02/2016</td>\n",
       "      <td>CERTIFIED</td>\n",
       "    </tr>\n",
       "    <tr>\n",
       "      <th>1</th>\n",
       "      <td>MY LIFE REGISTRY LLC</td>\n",
       "      <td>DATA SCIENTIST</td>\n",
       "      <td>47,960</td>\n",
       "      <td>FORT LEE, NJ</td>\n",
       "      <td>02/18/2015</td>\n",
       "      <td>08/20/2015</td>\n",
       "      <td>CERTIFIED</td>\n",
       "    </tr>\n",
       "    <tr>\n",
       "      <th>2</th>\n",
       "      <td>MY LIFE REGISTRY LLC</td>\n",
       "      <td>DATA SCIENTIST</td>\n",
       "      <td>47,960</td>\n",
       "      <td>FORT LEE, NJ</td>\n",
       "      <td>02/18/2015</td>\n",
       "      <td>08/20/2015</td>\n",
       "      <td>CERTIFIED</td>\n",
       "    </tr>\n",
       "    <tr>\n",
       "      <th>3</th>\n",
       "      <td>BIG DATA ANALYTICS TRADING INC</td>\n",
       "      <td>DATA SCIENTIST</td>\n",
       "      <td>50,000</td>\n",
       "      <td>JOHNS CREEK, GA</td>\n",
       "      <td>03/16/2017</td>\n",
       "      <td>09/01/2017</td>\n",
       "      <td>CERTIFIED</td>\n",
       "    </tr>\n",
       "    <tr>\n",
       "      <th>4</th>\n",
       "      <td>YONO HEALTH INC</td>\n",
       "      <td>DATA SCIENTIST</td>\n",
       "      <td>50,220</td>\n",
       "      <td>SUNNYVALE, CA</td>\n",
       "      <td>02/28/2017</td>\n",
       "      <td>08/28/2017</td>\n",
       "      <td>CERTIFIED</td>\n",
       "    </tr>\n",
       "  </tbody>\n",
       "</table>\n",
       "</div>"
      ],
      "text/plain": [
       "                         EMPLOYER       JOB TITLE BASE SALARY  \\\n",
       "0           PERCOLATA CORPORATION  DATA SCIENTIST      46,060   \n",
       "1            MY LIFE REGISTRY LLC  DATA SCIENTIST      47,960   \n",
       "2            MY LIFE REGISTRY LLC  DATA SCIENTIST      47,960   \n",
       "3  BIG DATA ANALYTICS TRADING INC  DATA SCIENTIST      50,000   \n",
       "4                 YONO HEALTH INC  DATA SCIENTIST      50,220   \n",
       "\n",
       "          LOCATION SUBMIT DATE  START DATE CASE STATUS  \n",
       "0    PALO ALTO, CA  03/18/2016  09/02/2016   CERTIFIED  \n",
       "1     FORT LEE, NJ  02/18/2015  08/20/2015   CERTIFIED  \n",
       "2     FORT LEE, NJ  02/18/2015  08/20/2015   CERTIFIED  \n",
       "3  JOHNS CREEK, GA  03/16/2017  09/01/2017   CERTIFIED  \n",
       "4    SUNNYVALE, CA  02/28/2017  08/28/2017   CERTIFIED  "
      ]
     },
     "execution_count": 688,
     "metadata": {},
     "output_type": "execute_result"
    }
   ],
   "source": [
    "data_scientists.head()"
   ]
  },
  {
   "cell_type": "code",
   "execution_count": 689,
   "metadata": {},
   "outputs": [
    {
     "name": "stdout",
     "output_type": "stream",
     "text": [
      "<class 'pandas.core.frame.DataFrame'>\n",
      "RangeIndex: 7344 entries, 0 to 7343\n",
      "Data columns (total 7 columns):\n",
      "EMPLOYER       7344 non-null object\n",
      "JOB TITLE      7344 non-null object\n",
      "BASE SALARY    7344 non-null object\n",
      "LOCATION       7344 non-null object\n",
      "SUBMIT DATE    7344 non-null object\n",
      "START DATE     7344 non-null object\n",
      "CASE STATUS    7344 non-null object\n",
      "dtypes: object(7)\n",
      "memory usage: 401.8+ KB\n"
     ]
    }
   ],
   "source": [
    "data_scientists.info()"
   ]
  },
  {
   "cell_type": "code",
   "execution_count": 690,
   "metadata": {},
   "outputs": [],
   "source": [
    "data_scientists['salary'] = data_scientists['BASE SALARY'].str.replace(',', '').astype(str).astype(int)"
   ]
  },
  {
   "cell_type": "code",
   "execution_count": 691,
   "metadata": {},
   "outputs": [],
   "source": [
    "data_scientists['date'] = pd.to_datetime(data_scientists['SUBMIT DATE'])\n",
    "data_scientists['year'] = data_scientists['date'].dt.year"
   ]
  },
  {
   "cell_type": "code",
   "execution_count": 692,
   "metadata": {},
   "outputs": [],
   "source": [
    "data_scientists = data_scientists.rename(columns={'EMPLOYER': 'employer', 'JOB TITLE': 'job_title', \n",
    "                                                  'LOCATION': 'location', 'CASE STATUS': 'case_status'})"
   ]
  },
  {
   "cell_type": "code",
   "execution_count": 693,
   "metadata": {},
   "outputs": [],
   "source": [
    "data_scientists = data_scientists[data_scientists['salary'] < 300000]\n",
    "data_scientists = data_scientists[data_scientists['year'] > 2013]"
   ]
  },
  {
   "cell_type": "code",
   "execution_count": 849,
   "metadata": {},
   "outputs": [
    {
     "name": "stdout",
     "output_type": "stream",
     "text": [
      "time: 32 ms\n"
     ]
    }
   ],
   "source": [
    "data_scientists['state'] = data_scientists['location'].str.split(',', expand=True)[1]"
   ]
  },
  {
   "cell_type": "code",
   "execution_count": 694,
   "metadata": {},
   "outputs": [],
   "source": [
    "del data_scientists['BASE SALARY']\n",
    "del data_scientists['SUBMIT DATE']\n",
    "del data_scientists['START DATE']"
   ]
  },
  {
   "cell_type": "code",
   "execution_count": 859,
   "metadata": {},
   "outputs": [
    {
     "data": {
      "text/html": [
       "<div>\n",
       "<style scoped>\n",
       "    .dataframe tbody tr th:only-of-type {\n",
       "        vertical-align: middle;\n",
       "    }\n",
       "\n",
       "    .dataframe tbody tr th {\n",
       "        vertical-align: top;\n",
       "    }\n",
       "\n",
       "    .dataframe thead th {\n",
       "        text-align: right;\n",
       "    }\n",
       "</style>\n",
       "<table border=\"1\" class=\"dataframe\">\n",
       "  <thead>\n",
       "    <tr style=\"text-align: right;\">\n",
       "      <th></th>\n",
       "      <th>employer</th>\n",
       "      <th>job_title</th>\n",
       "      <th>location</th>\n",
       "      <th>case_status</th>\n",
       "      <th>salary</th>\n",
       "      <th>date</th>\n",
       "      <th>year</th>\n",
       "      <th>state</th>\n",
       "    </tr>\n",
       "  </thead>\n",
       "  <tbody>\n",
       "    <tr>\n",
       "      <th>0</th>\n",
       "      <td>PERCOLATA CORPORATION</td>\n",
       "      <td>DATA SCIENTIST</td>\n",
       "      <td>PALO ALTO, CA</td>\n",
       "      <td>CERTIFIED</td>\n",
       "      <td>46060</td>\n",
       "      <td>2016-03-18</td>\n",
       "      <td>2016</td>\n",
       "      <td>CA</td>\n",
       "    </tr>\n",
       "    <tr>\n",
       "      <th>1</th>\n",
       "      <td>MY LIFE REGISTRY LLC</td>\n",
       "      <td>DATA SCIENTIST</td>\n",
       "      <td>FORT LEE, NJ</td>\n",
       "      <td>CERTIFIED</td>\n",
       "      <td>47960</td>\n",
       "      <td>2015-02-18</td>\n",
       "      <td>2015</td>\n",
       "      <td>NJ</td>\n",
       "    </tr>\n",
       "    <tr>\n",
       "      <th>2</th>\n",
       "      <td>MY LIFE REGISTRY LLC</td>\n",
       "      <td>DATA SCIENTIST</td>\n",
       "      <td>FORT LEE, NJ</td>\n",
       "      <td>CERTIFIED</td>\n",
       "      <td>47960</td>\n",
       "      <td>2015-02-18</td>\n",
       "      <td>2015</td>\n",
       "      <td>NJ</td>\n",
       "    </tr>\n",
       "    <tr>\n",
       "      <th>3</th>\n",
       "      <td>BIG DATA ANALYTICS TRADING INC</td>\n",
       "      <td>DATA SCIENTIST</td>\n",
       "      <td>JOHNS CREEK, GA</td>\n",
       "      <td>CERTIFIED</td>\n",
       "      <td>50000</td>\n",
       "      <td>2017-03-16</td>\n",
       "      <td>2017</td>\n",
       "      <td>GA</td>\n",
       "    </tr>\n",
       "    <tr>\n",
       "      <th>4</th>\n",
       "      <td>YONO HEALTH INC</td>\n",
       "      <td>DATA SCIENTIST</td>\n",
       "      <td>SUNNYVALE, CA</td>\n",
       "      <td>CERTIFIED</td>\n",
       "      <td>50220</td>\n",
       "      <td>2017-02-28</td>\n",
       "      <td>2017</td>\n",
       "      <td>CA</td>\n",
       "    </tr>\n",
       "  </tbody>\n",
       "</table>\n",
       "</div>"
      ],
      "text/plain": [
       "                         employer       job_title         location  \\\n",
       "0           PERCOLATA CORPORATION  DATA SCIENTIST    PALO ALTO, CA   \n",
       "1            MY LIFE REGISTRY LLC  DATA SCIENTIST     FORT LEE, NJ   \n",
       "2            MY LIFE REGISTRY LLC  DATA SCIENTIST     FORT LEE, NJ   \n",
       "3  BIG DATA ANALYTICS TRADING INC  DATA SCIENTIST  JOHNS CREEK, GA   \n",
       "4                 YONO HEALTH INC  DATA SCIENTIST    SUNNYVALE, CA   \n",
       "\n",
       "  case_status  salary       date  year state  \n",
       "0   CERTIFIED   46060 2016-03-18  2016    CA  \n",
       "1   CERTIFIED   47960 2015-02-18  2015    NJ  \n",
       "2   CERTIFIED   47960 2015-02-18  2015    NJ  \n",
       "3   CERTIFIED   50000 2017-03-16  2017    GA  \n",
       "4   CERTIFIED   50220 2017-02-28  2017    CA  "
      ]
     },
     "execution_count": 859,
     "metadata": {},
     "output_type": "execute_result"
    },
    {
     "name": "stdout",
     "output_type": "stream",
     "text": [
      "time: 13 ms\n"
     ]
    }
   ],
   "source": [
    "data_scientists.head()"
   ]
  },
  {
   "cell_type": "markdown",
   "metadata": {},
   "source": [
    "## Hired Data Scientists over Time"
   ]
  },
  {
   "cell_type": "code",
   "execution_count": 696,
   "metadata": {},
   "outputs": [
    {
     "data": {
      "text/html": [
       "<div>\n",
       "<style scoped>\n",
       "    .dataframe tbody tr th:only-of-type {\n",
       "        vertical-align: middle;\n",
       "    }\n",
       "\n",
       "    .dataframe tbody tr th {\n",
       "        vertical-align: top;\n",
       "    }\n",
       "\n",
       "    .dataframe thead th {\n",
       "        text-align: right;\n",
       "    }\n",
       "</style>\n",
       "<table border=\"1\" class=\"dataframe\">\n",
       "  <thead>\n",
       "    <tr style=\"text-align: right;\">\n",
       "      <th></th>\n",
       "      <th>job_count</th>\n",
       "    </tr>\n",
       "    <tr>\n",
       "      <th>year</th>\n",
       "      <th></th>\n",
       "    </tr>\n",
       "  </thead>\n",
       "  <tbody>\n",
       "    <tr>\n",
       "      <th>2014</th>\n",
       "      <td>74</td>\n",
       "    </tr>\n",
       "    <tr>\n",
       "      <th>2015</th>\n",
       "      <td>561</td>\n",
       "    </tr>\n",
       "    <tr>\n",
       "      <th>2016</th>\n",
       "      <td>909</td>\n",
       "    </tr>\n",
       "    <tr>\n",
       "      <th>2017</th>\n",
       "      <td>1286</td>\n",
       "    </tr>\n",
       "    <tr>\n",
       "      <th>2018</th>\n",
       "      <td>2177</td>\n",
       "    </tr>\n",
       "    <tr>\n",
       "      <th>2019</th>\n",
       "      <td>2332</td>\n",
       "    </tr>\n",
       "  </tbody>\n",
       "</table>\n",
       "</div>"
      ],
      "text/plain": [
       "      job_count\n",
       "year           \n",
       "2014         74\n",
       "2015        561\n",
       "2016        909\n",
       "2017       1286\n",
       "2018       2177\n",
       "2019       2332"
      ]
     },
     "execution_count": 696,
     "metadata": {},
     "output_type": "execute_result"
    }
   ],
   "source": [
    "count_hires = data_scientists.groupby('year')[['job_title']].count()\n",
    "count_hires = count_hires.rename(columns = {'job_title': 'job_count'})\n",
    "count_hires"
   ]
  },
  {
   "cell_type": "code",
   "execution_count": 698,
   "metadata": {},
   "outputs": [
    {
     "data": {
      "application/vnd.plotly.v1+json": {
       "config": {
        "plotlyServerURL": "https://plot.ly"
       },
       "data": [
        {
         "text": [
          74,
          561,
          909,
          1286,
          2177,
          2332
         ],
         "textposition": "auto",
         "type": "bar",
         "x": [
          2014,
          2015,
          2016,
          2017,
          2018,
          2019
         ],
         "y": [
          74,
          561,
          909,
          1286,
          2177,
          2332
         ]
        }
       ],
       "layout": {
        "template": {
         "data": {
          "bar": [
           {
            "error_x": {
             "color": "#2a3f5f"
            },
            "error_y": {
             "color": "#2a3f5f"
            },
            "marker": {
             "line": {
              "color": "#E5ECF6",
              "width": 0.5
             }
            },
            "type": "bar"
           }
          ],
          "barpolar": [
           {
            "marker": {
             "line": {
              "color": "#E5ECF6",
              "width": 0.5
             }
            },
            "type": "barpolar"
           }
          ],
          "carpet": [
           {
            "aaxis": {
             "endlinecolor": "#2a3f5f",
             "gridcolor": "white",
             "linecolor": "white",
             "minorgridcolor": "white",
             "startlinecolor": "#2a3f5f"
            },
            "baxis": {
             "endlinecolor": "#2a3f5f",
             "gridcolor": "white",
             "linecolor": "white",
             "minorgridcolor": "white",
             "startlinecolor": "#2a3f5f"
            },
            "type": "carpet"
           }
          ],
          "choropleth": [
           {
            "colorbar": {
             "outlinewidth": 0,
             "ticks": ""
            },
            "type": "choropleth"
           }
          ],
          "contour": [
           {
            "colorbar": {
             "outlinewidth": 0,
             "ticks": ""
            },
            "colorscale": [
             [
              0,
              "#0d0887"
             ],
             [
              0.1111111111111111,
              "#46039f"
             ],
             [
              0.2222222222222222,
              "#7201a8"
             ],
             [
              0.3333333333333333,
              "#9c179e"
             ],
             [
              0.4444444444444444,
              "#bd3786"
             ],
             [
              0.5555555555555556,
              "#d8576b"
             ],
             [
              0.6666666666666666,
              "#ed7953"
             ],
             [
              0.7777777777777778,
              "#fb9f3a"
             ],
             [
              0.8888888888888888,
              "#fdca26"
             ],
             [
              1,
              "#f0f921"
             ]
            ],
            "type": "contour"
           }
          ],
          "contourcarpet": [
           {
            "colorbar": {
             "outlinewidth": 0,
             "ticks": ""
            },
            "type": "contourcarpet"
           }
          ],
          "heatmap": [
           {
            "colorbar": {
             "outlinewidth": 0,
             "ticks": ""
            },
            "colorscale": [
             [
              0,
              "#0d0887"
             ],
             [
              0.1111111111111111,
              "#46039f"
             ],
             [
              0.2222222222222222,
              "#7201a8"
             ],
             [
              0.3333333333333333,
              "#9c179e"
             ],
             [
              0.4444444444444444,
              "#bd3786"
             ],
             [
              0.5555555555555556,
              "#d8576b"
             ],
             [
              0.6666666666666666,
              "#ed7953"
             ],
             [
              0.7777777777777778,
              "#fb9f3a"
             ],
             [
              0.8888888888888888,
              "#fdca26"
             ],
             [
              1,
              "#f0f921"
             ]
            ],
            "type": "heatmap"
           }
          ],
          "heatmapgl": [
           {
            "colorbar": {
             "outlinewidth": 0,
             "ticks": ""
            },
            "colorscale": [
             [
              0,
              "#0d0887"
             ],
             [
              0.1111111111111111,
              "#46039f"
             ],
             [
              0.2222222222222222,
              "#7201a8"
             ],
             [
              0.3333333333333333,
              "#9c179e"
             ],
             [
              0.4444444444444444,
              "#bd3786"
             ],
             [
              0.5555555555555556,
              "#d8576b"
             ],
             [
              0.6666666666666666,
              "#ed7953"
             ],
             [
              0.7777777777777778,
              "#fb9f3a"
             ],
             [
              0.8888888888888888,
              "#fdca26"
             ],
             [
              1,
              "#f0f921"
             ]
            ],
            "type": "heatmapgl"
           }
          ],
          "histogram": [
           {
            "marker": {
             "colorbar": {
              "outlinewidth": 0,
              "ticks": ""
             }
            },
            "type": "histogram"
           }
          ],
          "histogram2d": [
           {
            "colorbar": {
             "outlinewidth": 0,
             "ticks": ""
            },
            "colorscale": [
             [
              0,
              "#0d0887"
             ],
             [
              0.1111111111111111,
              "#46039f"
             ],
             [
              0.2222222222222222,
              "#7201a8"
             ],
             [
              0.3333333333333333,
              "#9c179e"
             ],
             [
              0.4444444444444444,
              "#bd3786"
             ],
             [
              0.5555555555555556,
              "#d8576b"
             ],
             [
              0.6666666666666666,
              "#ed7953"
             ],
             [
              0.7777777777777778,
              "#fb9f3a"
             ],
             [
              0.8888888888888888,
              "#fdca26"
             ],
             [
              1,
              "#f0f921"
             ]
            ],
            "type": "histogram2d"
           }
          ],
          "histogram2dcontour": [
           {
            "colorbar": {
             "outlinewidth": 0,
             "ticks": ""
            },
            "colorscale": [
             [
              0,
              "#0d0887"
             ],
             [
              0.1111111111111111,
              "#46039f"
             ],
             [
              0.2222222222222222,
              "#7201a8"
             ],
             [
              0.3333333333333333,
              "#9c179e"
             ],
             [
              0.4444444444444444,
              "#bd3786"
             ],
             [
              0.5555555555555556,
              "#d8576b"
             ],
             [
              0.6666666666666666,
              "#ed7953"
             ],
             [
              0.7777777777777778,
              "#fb9f3a"
             ],
             [
              0.8888888888888888,
              "#fdca26"
             ],
             [
              1,
              "#f0f921"
             ]
            ],
            "type": "histogram2dcontour"
           }
          ],
          "mesh3d": [
           {
            "colorbar": {
             "outlinewidth": 0,
             "ticks": ""
            },
            "type": "mesh3d"
           }
          ],
          "parcoords": [
           {
            "line": {
             "colorbar": {
              "outlinewidth": 0,
              "ticks": ""
             }
            },
            "type": "parcoords"
           }
          ],
          "pie": [
           {
            "automargin": true,
            "type": "pie"
           }
          ],
          "scatter": [
           {
            "marker": {
             "colorbar": {
              "outlinewidth": 0,
              "ticks": ""
             }
            },
            "type": "scatter"
           }
          ],
          "scatter3d": [
           {
            "line": {
             "colorbar": {
              "outlinewidth": 0,
              "ticks": ""
             }
            },
            "marker": {
             "colorbar": {
              "outlinewidth": 0,
              "ticks": ""
             }
            },
            "type": "scatter3d"
           }
          ],
          "scattercarpet": [
           {
            "marker": {
             "colorbar": {
              "outlinewidth": 0,
              "ticks": ""
             }
            },
            "type": "scattercarpet"
           }
          ],
          "scattergeo": [
           {
            "marker": {
             "colorbar": {
              "outlinewidth": 0,
              "ticks": ""
             }
            },
            "type": "scattergeo"
           }
          ],
          "scattergl": [
           {
            "marker": {
             "colorbar": {
              "outlinewidth": 0,
              "ticks": ""
             }
            },
            "type": "scattergl"
           }
          ],
          "scattermapbox": [
           {
            "marker": {
             "colorbar": {
              "outlinewidth": 0,
              "ticks": ""
             }
            },
            "type": "scattermapbox"
           }
          ],
          "scatterpolar": [
           {
            "marker": {
             "colorbar": {
              "outlinewidth": 0,
              "ticks": ""
             }
            },
            "type": "scatterpolar"
           }
          ],
          "scatterpolargl": [
           {
            "marker": {
             "colorbar": {
              "outlinewidth": 0,
              "ticks": ""
             }
            },
            "type": "scatterpolargl"
           }
          ],
          "scatterternary": [
           {
            "marker": {
             "colorbar": {
              "outlinewidth": 0,
              "ticks": ""
             }
            },
            "type": "scatterternary"
           }
          ],
          "surface": [
           {
            "colorbar": {
             "outlinewidth": 0,
             "ticks": ""
            },
            "colorscale": [
             [
              0,
              "#0d0887"
             ],
             [
              0.1111111111111111,
              "#46039f"
             ],
             [
              0.2222222222222222,
              "#7201a8"
             ],
             [
              0.3333333333333333,
              "#9c179e"
             ],
             [
              0.4444444444444444,
              "#bd3786"
             ],
             [
              0.5555555555555556,
              "#d8576b"
             ],
             [
              0.6666666666666666,
              "#ed7953"
             ],
             [
              0.7777777777777778,
              "#fb9f3a"
             ],
             [
              0.8888888888888888,
              "#fdca26"
             ],
             [
              1,
              "#f0f921"
             ]
            ],
            "type": "surface"
           }
          ],
          "table": [
           {
            "cells": {
             "fill": {
              "color": "#EBF0F8"
             },
             "line": {
              "color": "white"
             }
            },
            "header": {
             "fill": {
              "color": "#C8D4E3"
             },
             "line": {
              "color": "white"
             }
            },
            "type": "table"
           }
          ]
         },
         "layout": {
          "annotationdefaults": {
           "arrowcolor": "#2a3f5f",
           "arrowhead": 0,
           "arrowwidth": 1
          },
          "coloraxis": {
           "colorbar": {
            "outlinewidth": 0,
            "ticks": ""
           }
          },
          "colorscale": {
           "diverging": [
            [
             0,
             "#8e0152"
            ],
            [
             0.1,
             "#c51b7d"
            ],
            [
             0.2,
             "#de77ae"
            ],
            [
             0.3,
             "#f1b6da"
            ],
            [
             0.4,
             "#fde0ef"
            ],
            [
             0.5,
             "#f7f7f7"
            ],
            [
             0.6,
             "#e6f5d0"
            ],
            [
             0.7,
             "#b8e186"
            ],
            [
             0.8,
             "#7fbc41"
            ],
            [
             0.9,
             "#4d9221"
            ],
            [
             1,
             "#276419"
            ]
           ],
           "sequential": [
            [
             0,
             "#0d0887"
            ],
            [
             0.1111111111111111,
             "#46039f"
            ],
            [
             0.2222222222222222,
             "#7201a8"
            ],
            [
             0.3333333333333333,
             "#9c179e"
            ],
            [
             0.4444444444444444,
             "#bd3786"
            ],
            [
             0.5555555555555556,
             "#d8576b"
            ],
            [
             0.6666666666666666,
             "#ed7953"
            ],
            [
             0.7777777777777778,
             "#fb9f3a"
            ],
            [
             0.8888888888888888,
             "#fdca26"
            ],
            [
             1,
             "#f0f921"
            ]
           ],
           "sequentialminus": [
            [
             0,
             "#0d0887"
            ],
            [
             0.1111111111111111,
             "#46039f"
            ],
            [
             0.2222222222222222,
             "#7201a8"
            ],
            [
             0.3333333333333333,
             "#9c179e"
            ],
            [
             0.4444444444444444,
             "#bd3786"
            ],
            [
             0.5555555555555556,
             "#d8576b"
            ],
            [
             0.6666666666666666,
             "#ed7953"
            ],
            [
             0.7777777777777778,
             "#fb9f3a"
            ],
            [
             0.8888888888888888,
             "#fdca26"
            ],
            [
             1,
             "#f0f921"
            ]
           ]
          },
          "colorway": [
           "#636efa",
           "#EF553B",
           "#00cc96",
           "#ab63fa",
           "#FFA15A",
           "#19d3f3",
           "#FF6692",
           "#B6E880",
           "#FF97FF",
           "#FECB52"
          ],
          "font": {
           "color": "#2a3f5f"
          },
          "geo": {
           "bgcolor": "white",
           "lakecolor": "white",
           "landcolor": "#E5ECF6",
           "showlakes": true,
           "showland": true,
           "subunitcolor": "white"
          },
          "hoverlabel": {
           "align": "left"
          },
          "hovermode": "closest",
          "mapbox": {
           "style": "light"
          },
          "paper_bgcolor": "white",
          "plot_bgcolor": "#E5ECF6",
          "polar": {
           "angularaxis": {
            "gridcolor": "white",
            "linecolor": "white",
            "ticks": ""
           },
           "bgcolor": "#E5ECF6",
           "radialaxis": {
            "gridcolor": "white",
            "linecolor": "white",
            "ticks": ""
           }
          },
          "scene": {
           "xaxis": {
            "backgroundcolor": "#E5ECF6",
            "gridcolor": "white",
            "gridwidth": 2,
            "linecolor": "white",
            "showbackground": true,
            "ticks": "",
            "zerolinecolor": "white"
           },
           "yaxis": {
            "backgroundcolor": "#E5ECF6",
            "gridcolor": "white",
            "gridwidth": 2,
            "linecolor": "white",
            "showbackground": true,
            "ticks": "",
            "zerolinecolor": "white"
           },
           "zaxis": {
            "backgroundcolor": "#E5ECF6",
            "gridcolor": "white",
            "gridwidth": 2,
            "linecolor": "white",
            "showbackground": true,
            "ticks": "",
            "zerolinecolor": "white"
           }
          },
          "shapedefaults": {
           "line": {
            "color": "#2a3f5f"
           }
          },
          "ternary": {
           "aaxis": {
            "gridcolor": "white",
            "linecolor": "white",
            "ticks": ""
           },
           "baxis": {
            "gridcolor": "white",
            "linecolor": "white",
            "ticks": ""
           },
           "bgcolor": "#E5ECF6",
           "caxis": {
            "gridcolor": "white",
            "linecolor": "white",
            "ticks": ""
           }
          },
          "title": {
           "x": 0.05
          },
          "xaxis": {
           "automargin": true,
           "gridcolor": "white",
           "linecolor": "white",
           "ticks": "",
           "title": {
            "standoff": 15
           },
           "zerolinecolor": "white",
           "zerolinewidth": 2
          },
          "yaxis": {
           "automargin": true,
           "gridcolor": "white",
           "linecolor": "white",
           "ticks": "",
           "title": {
            "standoff": 15
           },
           "zerolinecolor": "white",
           "zerolinewidth": 2
          }
         }
        },
        "title": {
         "text": "Data Science Hires over Years"
        },
        "xaxis": {
         "title": {
          "text": "Year"
         }
        },
        "yaxis": {
         "title": {
          "text": "Count"
         }
        }
       }
      },
      "text/html": [
       "<div>\n",
       "        \n",
       "        \n",
       "            <div id=\"8034dd9c-5422-4be2-b7d8-3c296f3c3c60\" class=\"plotly-graph-div\" style=\"height:525px; width:100%;\"></div>\n",
       "            <script type=\"text/javascript\">\n",
       "                require([\"plotly\"], function(Plotly) {\n",
       "                    window.PLOTLYENV=window.PLOTLYENV || {};\n",
       "                    \n",
       "                if (document.getElementById(\"8034dd9c-5422-4be2-b7d8-3c296f3c3c60\")) {\n",
       "                    Plotly.newPlot(\n",
       "                        '8034dd9c-5422-4be2-b7d8-3c296f3c3c60',\n",
       "                        [{\"text\": [74.0, 561.0, 909.0, 1286.0, 2177.0, 2332.0], \"textposition\": \"auto\", \"type\": \"bar\", \"x\": [2014, 2015, 2016, 2017, 2018, 2019], \"y\": [74, 561, 909, 1286, 2177, 2332]}],\n",
       "                        {\"template\": {\"data\": {\"bar\": [{\"error_x\": {\"color\": \"#2a3f5f\"}, \"error_y\": {\"color\": \"#2a3f5f\"}, \"marker\": {\"line\": {\"color\": \"#E5ECF6\", \"width\": 0.5}}, \"type\": \"bar\"}], \"barpolar\": [{\"marker\": {\"line\": {\"color\": \"#E5ECF6\", \"width\": 0.5}}, \"type\": \"barpolar\"}], \"carpet\": [{\"aaxis\": {\"endlinecolor\": \"#2a3f5f\", \"gridcolor\": \"white\", \"linecolor\": \"white\", \"minorgridcolor\": \"white\", \"startlinecolor\": \"#2a3f5f\"}, \"baxis\": {\"endlinecolor\": \"#2a3f5f\", \"gridcolor\": \"white\", \"linecolor\": \"white\", \"minorgridcolor\": \"white\", \"startlinecolor\": \"#2a3f5f\"}, \"type\": \"carpet\"}], \"choropleth\": [{\"colorbar\": {\"outlinewidth\": 0, \"ticks\": \"\"}, \"type\": \"choropleth\"}], \"contour\": [{\"colorbar\": {\"outlinewidth\": 0, \"ticks\": \"\"}, \"colorscale\": [[0.0, \"#0d0887\"], [0.1111111111111111, \"#46039f\"], [0.2222222222222222, \"#7201a8\"], [0.3333333333333333, \"#9c179e\"], [0.4444444444444444, \"#bd3786\"], [0.5555555555555556, \"#d8576b\"], [0.6666666666666666, \"#ed7953\"], [0.7777777777777778, \"#fb9f3a\"], [0.8888888888888888, \"#fdca26\"], [1.0, \"#f0f921\"]], \"type\": \"contour\"}], \"contourcarpet\": [{\"colorbar\": {\"outlinewidth\": 0, \"ticks\": \"\"}, \"type\": \"contourcarpet\"}], \"heatmap\": [{\"colorbar\": {\"outlinewidth\": 0, \"ticks\": \"\"}, \"colorscale\": [[0.0, \"#0d0887\"], [0.1111111111111111, \"#46039f\"], [0.2222222222222222, \"#7201a8\"], [0.3333333333333333, \"#9c179e\"], [0.4444444444444444, \"#bd3786\"], [0.5555555555555556, \"#d8576b\"], [0.6666666666666666, \"#ed7953\"], [0.7777777777777778, \"#fb9f3a\"], [0.8888888888888888, \"#fdca26\"], [1.0, \"#f0f921\"]], \"type\": \"heatmap\"}], \"heatmapgl\": [{\"colorbar\": {\"outlinewidth\": 0, \"ticks\": \"\"}, \"colorscale\": [[0.0, \"#0d0887\"], [0.1111111111111111, \"#46039f\"], [0.2222222222222222, \"#7201a8\"], [0.3333333333333333, \"#9c179e\"], [0.4444444444444444, \"#bd3786\"], [0.5555555555555556, \"#d8576b\"], [0.6666666666666666, \"#ed7953\"], [0.7777777777777778, \"#fb9f3a\"], [0.8888888888888888, \"#fdca26\"], [1.0, \"#f0f921\"]], \"type\": \"heatmapgl\"}], \"histogram\": [{\"marker\": {\"colorbar\": {\"outlinewidth\": 0, \"ticks\": \"\"}}, \"type\": \"histogram\"}], \"histogram2d\": [{\"colorbar\": {\"outlinewidth\": 0, \"ticks\": \"\"}, \"colorscale\": [[0.0, \"#0d0887\"], [0.1111111111111111, \"#46039f\"], [0.2222222222222222, \"#7201a8\"], [0.3333333333333333, \"#9c179e\"], [0.4444444444444444, \"#bd3786\"], [0.5555555555555556, \"#d8576b\"], [0.6666666666666666, \"#ed7953\"], [0.7777777777777778, \"#fb9f3a\"], [0.8888888888888888, \"#fdca26\"], [1.0, \"#f0f921\"]], \"type\": \"histogram2d\"}], \"histogram2dcontour\": [{\"colorbar\": {\"outlinewidth\": 0, \"ticks\": \"\"}, \"colorscale\": [[0.0, \"#0d0887\"], [0.1111111111111111, \"#46039f\"], [0.2222222222222222, \"#7201a8\"], [0.3333333333333333, \"#9c179e\"], [0.4444444444444444, \"#bd3786\"], [0.5555555555555556, \"#d8576b\"], [0.6666666666666666, \"#ed7953\"], [0.7777777777777778, \"#fb9f3a\"], [0.8888888888888888, \"#fdca26\"], [1.0, \"#f0f921\"]], \"type\": \"histogram2dcontour\"}], \"mesh3d\": [{\"colorbar\": {\"outlinewidth\": 0, \"ticks\": \"\"}, \"type\": \"mesh3d\"}], \"parcoords\": [{\"line\": {\"colorbar\": {\"outlinewidth\": 0, \"ticks\": \"\"}}, \"type\": \"parcoords\"}], \"pie\": [{\"automargin\": true, \"type\": \"pie\"}], \"scatter\": [{\"marker\": {\"colorbar\": {\"outlinewidth\": 0, \"ticks\": \"\"}}, \"type\": \"scatter\"}], \"scatter3d\": [{\"line\": {\"colorbar\": {\"outlinewidth\": 0, \"ticks\": \"\"}}, \"marker\": {\"colorbar\": {\"outlinewidth\": 0, \"ticks\": \"\"}}, \"type\": \"scatter3d\"}], \"scattercarpet\": [{\"marker\": {\"colorbar\": {\"outlinewidth\": 0, \"ticks\": \"\"}}, \"type\": \"scattercarpet\"}], \"scattergeo\": [{\"marker\": {\"colorbar\": {\"outlinewidth\": 0, \"ticks\": \"\"}}, \"type\": \"scattergeo\"}], \"scattergl\": [{\"marker\": {\"colorbar\": {\"outlinewidth\": 0, \"ticks\": \"\"}}, \"type\": \"scattergl\"}], \"scattermapbox\": [{\"marker\": {\"colorbar\": {\"outlinewidth\": 0, \"ticks\": \"\"}}, \"type\": \"scattermapbox\"}], \"scatterpolar\": [{\"marker\": {\"colorbar\": {\"outlinewidth\": 0, \"ticks\": \"\"}}, \"type\": \"scatterpolar\"}], \"scatterpolargl\": [{\"marker\": {\"colorbar\": {\"outlinewidth\": 0, \"ticks\": \"\"}}, \"type\": \"scatterpolargl\"}], \"scatterternary\": [{\"marker\": {\"colorbar\": {\"outlinewidth\": 0, \"ticks\": \"\"}}, \"type\": \"scatterternary\"}], \"surface\": [{\"colorbar\": {\"outlinewidth\": 0, \"ticks\": \"\"}, \"colorscale\": [[0.0, \"#0d0887\"], [0.1111111111111111, \"#46039f\"], [0.2222222222222222, \"#7201a8\"], [0.3333333333333333, \"#9c179e\"], [0.4444444444444444, \"#bd3786\"], [0.5555555555555556, \"#d8576b\"], [0.6666666666666666, \"#ed7953\"], [0.7777777777777778, \"#fb9f3a\"], [0.8888888888888888, \"#fdca26\"], [1.0, \"#f0f921\"]], \"type\": \"surface\"}], \"table\": [{\"cells\": {\"fill\": {\"color\": \"#EBF0F8\"}, \"line\": {\"color\": \"white\"}}, \"header\": {\"fill\": {\"color\": \"#C8D4E3\"}, \"line\": {\"color\": \"white\"}}, \"type\": \"table\"}]}, \"layout\": {\"annotationdefaults\": {\"arrowcolor\": \"#2a3f5f\", \"arrowhead\": 0, \"arrowwidth\": 1}, \"coloraxis\": {\"colorbar\": {\"outlinewidth\": 0, \"ticks\": \"\"}}, \"colorscale\": {\"diverging\": [[0, \"#8e0152\"], [0.1, \"#c51b7d\"], [0.2, \"#de77ae\"], [0.3, \"#f1b6da\"], [0.4, \"#fde0ef\"], [0.5, \"#f7f7f7\"], [0.6, \"#e6f5d0\"], [0.7, \"#b8e186\"], [0.8, \"#7fbc41\"], [0.9, \"#4d9221\"], [1, \"#276419\"]], \"sequential\": [[0.0, \"#0d0887\"], [0.1111111111111111, \"#46039f\"], [0.2222222222222222, \"#7201a8\"], [0.3333333333333333, \"#9c179e\"], [0.4444444444444444, \"#bd3786\"], [0.5555555555555556, \"#d8576b\"], [0.6666666666666666, \"#ed7953\"], [0.7777777777777778, \"#fb9f3a\"], [0.8888888888888888, \"#fdca26\"], [1.0, \"#f0f921\"]], \"sequentialminus\": [[0.0, \"#0d0887\"], [0.1111111111111111, \"#46039f\"], [0.2222222222222222, \"#7201a8\"], [0.3333333333333333, \"#9c179e\"], [0.4444444444444444, \"#bd3786\"], [0.5555555555555556, \"#d8576b\"], [0.6666666666666666, \"#ed7953\"], [0.7777777777777778, \"#fb9f3a\"], [0.8888888888888888, \"#fdca26\"], [1.0, \"#f0f921\"]]}, \"colorway\": [\"#636efa\", \"#EF553B\", \"#00cc96\", \"#ab63fa\", \"#FFA15A\", \"#19d3f3\", \"#FF6692\", \"#B6E880\", \"#FF97FF\", \"#FECB52\"], \"font\": {\"color\": \"#2a3f5f\"}, \"geo\": {\"bgcolor\": \"white\", \"lakecolor\": \"white\", \"landcolor\": \"#E5ECF6\", \"showlakes\": true, \"showland\": true, \"subunitcolor\": \"white\"}, \"hoverlabel\": {\"align\": \"left\"}, \"hovermode\": \"closest\", \"mapbox\": {\"style\": \"light\"}, \"paper_bgcolor\": \"white\", \"plot_bgcolor\": \"#E5ECF6\", \"polar\": {\"angularaxis\": {\"gridcolor\": \"white\", \"linecolor\": \"white\", \"ticks\": \"\"}, \"bgcolor\": \"#E5ECF6\", \"radialaxis\": {\"gridcolor\": \"white\", \"linecolor\": \"white\", \"ticks\": \"\"}}, \"scene\": {\"xaxis\": {\"backgroundcolor\": \"#E5ECF6\", \"gridcolor\": \"white\", \"gridwidth\": 2, \"linecolor\": \"white\", \"showbackground\": true, \"ticks\": \"\", \"zerolinecolor\": \"white\"}, \"yaxis\": {\"backgroundcolor\": \"#E5ECF6\", \"gridcolor\": \"white\", \"gridwidth\": 2, \"linecolor\": \"white\", \"showbackground\": true, \"ticks\": \"\", \"zerolinecolor\": \"white\"}, \"zaxis\": {\"backgroundcolor\": \"#E5ECF6\", \"gridcolor\": \"white\", \"gridwidth\": 2, \"linecolor\": \"white\", \"showbackground\": true, \"ticks\": \"\", \"zerolinecolor\": \"white\"}}, \"shapedefaults\": {\"line\": {\"color\": \"#2a3f5f\"}}, \"ternary\": {\"aaxis\": {\"gridcolor\": \"white\", \"linecolor\": \"white\", \"ticks\": \"\"}, \"baxis\": {\"gridcolor\": \"white\", \"linecolor\": \"white\", \"ticks\": \"\"}, \"bgcolor\": \"#E5ECF6\", \"caxis\": {\"gridcolor\": \"white\", \"linecolor\": \"white\", \"ticks\": \"\"}}, \"title\": {\"x\": 0.05}, \"xaxis\": {\"automargin\": true, \"gridcolor\": \"white\", \"linecolor\": \"white\", \"ticks\": \"\", \"title\": {\"standoff\": 15}, \"zerolinecolor\": \"white\", \"zerolinewidth\": 2}, \"yaxis\": {\"automargin\": true, \"gridcolor\": \"white\", \"linecolor\": \"white\", \"ticks\": \"\", \"title\": {\"standoff\": 15}, \"zerolinecolor\": \"white\", \"zerolinewidth\": 2}}}, \"title\": {\"text\": \"Data Science Hires over Years\"}, \"xaxis\": {\"title\": {\"text\": \"Year\"}}, \"yaxis\": {\"title\": {\"text\": \"Count\"}}},\n",
       "                        {\"responsive\": true}\n",
       "                    ).then(function(){\n",
       "                            \n",
       "var gd = document.getElementById('8034dd9c-5422-4be2-b7d8-3c296f3c3c60');\n",
       "var x = new MutationObserver(function (mutations, observer) {{\n",
       "        var display = window.getComputedStyle(gd).display;\n",
       "        if (!display || display === 'none') {{\n",
       "            console.log([gd, 'removed!']);\n",
       "            Plotly.purge(gd);\n",
       "            observer.disconnect();\n",
       "        }}\n",
       "}});\n",
       "\n",
       "// Listen for the removal of the full notebook cells\n",
       "var notebookContainer = gd.closest('#notebook-container');\n",
       "if (notebookContainer) {{\n",
       "    x.observe(notebookContainer, {childList: true});\n",
       "}}\n",
       "\n",
       "// Listen for the clearing of the current output cell\n",
       "var outputEl = gd.closest('.output');\n",
       "if (outputEl) {{\n",
       "    x.observe(outputEl, {childList: true});\n",
       "}}\n",
       "\n",
       "                        })\n",
       "                };\n",
       "                });\n",
       "            </script>\n",
       "        </div>"
      ]
     },
     "metadata": {},
     "output_type": "display_data"
    }
   ],
   "source": [
    "fig = go.Figure([go.Bar(\n",
    "    x=count_hires.index, \n",
    "    y=count_hires.job_count, \n",
    "    text=count_hires.job_count, \n",
    "    textposition='auto')])\n",
    "fig.update_layout(title = 'Data Science Hires over Years', xaxis_title = 'Year', yaxis_title = 'Count')\n",
    "fig.show()"
   ]
  },
  {
   "cell_type": "markdown",
   "metadata": {},
   "source": [
    "## Mean & Median Salaries over Years"
   ]
  },
  {
   "cell_type": "code",
   "execution_count": 700,
   "metadata": {},
   "outputs": [
    {
     "data": {
      "text/html": [
       "<div>\n",
       "<style scoped>\n",
       "    .dataframe tbody tr th:only-of-type {\n",
       "        vertical-align: middle;\n",
       "    }\n",
       "\n",
       "    .dataframe tbody tr th {\n",
       "        vertical-align: top;\n",
       "    }\n",
       "\n",
       "    .dataframe thead th {\n",
       "        text-align: right;\n",
       "    }\n",
       "</style>\n",
       "<table border=\"1\" class=\"dataframe\">\n",
       "  <thead>\n",
       "    <tr style=\"text-align: right;\">\n",
       "      <th></th>\n",
       "      <th>salary_median</th>\n",
       "      <th>salary_mean</th>\n",
       "    </tr>\n",
       "    <tr>\n",
       "      <th>year</th>\n",
       "      <th></th>\n",
       "      <th></th>\n",
       "    </tr>\n",
       "  </thead>\n",
       "  <tbody>\n",
       "    <tr>\n",
       "      <th>2014</th>\n",
       "      <td>120000.0</td>\n",
       "      <td>121693.756757</td>\n",
       "    </tr>\n",
       "    <tr>\n",
       "      <th>2015</th>\n",
       "      <td>108597.0</td>\n",
       "      <td>106775.090909</td>\n",
       "    </tr>\n",
       "    <tr>\n",
       "      <th>2016</th>\n",
       "      <td>104021.0</td>\n",
       "      <td>104288.810781</td>\n",
       "    </tr>\n",
       "    <tr>\n",
       "      <th>2017</th>\n",
       "      <td>104749.0</td>\n",
       "      <td>105875.534992</td>\n",
       "    </tr>\n",
       "    <tr>\n",
       "      <th>2018</th>\n",
       "      <td>106000.0</td>\n",
       "      <td>109141.866330</td>\n",
       "    </tr>\n",
       "    <tr>\n",
       "      <th>2019</th>\n",
       "      <td>102865.5</td>\n",
       "      <td>109064.224700</td>\n",
       "    </tr>\n",
       "  </tbody>\n",
       "</table>\n",
       "</div>"
      ],
      "text/plain": [
       "      salary_median    salary_mean\n",
       "year                              \n",
       "2014       120000.0  121693.756757\n",
       "2015       108597.0  106775.090909\n",
       "2016       104021.0  104288.810781\n",
       "2017       104749.0  105875.534992\n",
       "2018       106000.0  109141.866330\n",
       "2019       102865.5  109064.224700"
      ]
     },
     "execution_count": 700,
     "metadata": {},
     "output_type": "execute_result"
    }
   ],
   "source": [
    "agg_salaries = data_scientists.groupby('year').agg({'salary': [np.median, np.mean]})\n",
    "agg_salaries.columns = [\"_\".join(x) for x in agg_salaries.columns.ravel()]\n",
    "agg_salaries"
   ]
  },
  {
   "cell_type": "code",
   "execution_count": 701,
   "metadata": {},
   "outputs": [
    {
     "data": {
      "application/vnd.plotly.v1+json": {
       "config": {
        "plotlyServerURL": "https://plot.ly"
       },
       "data": [
        {
         "name": "Median",
         "type": "bar",
         "x": [
          2014,
          2015,
          2016,
          2017,
          2018,
          2019
         ],
         "y": [
          120000,
          108597,
          104021,
          104749,
          106000,
          102865.5
         ]
        },
        {
         "name": "Mean",
         "type": "bar",
         "x": [
          2014,
          2015,
          2016,
          2017,
          2018,
          2019
         ],
         "y": [
          121693.75675675676,
          106775.09090909091,
          104288.81078107811,
          105875.53499222395,
          109141.86632981167,
          109064.22469982847
         ]
        }
       ],
       "layout": {
        "template": {
         "data": {
          "bar": [
           {
            "error_x": {
             "color": "#2a3f5f"
            },
            "error_y": {
             "color": "#2a3f5f"
            },
            "marker": {
             "line": {
              "color": "#E5ECF6",
              "width": 0.5
             }
            },
            "type": "bar"
           }
          ],
          "barpolar": [
           {
            "marker": {
             "line": {
              "color": "#E5ECF6",
              "width": 0.5
             }
            },
            "type": "barpolar"
           }
          ],
          "carpet": [
           {
            "aaxis": {
             "endlinecolor": "#2a3f5f",
             "gridcolor": "white",
             "linecolor": "white",
             "minorgridcolor": "white",
             "startlinecolor": "#2a3f5f"
            },
            "baxis": {
             "endlinecolor": "#2a3f5f",
             "gridcolor": "white",
             "linecolor": "white",
             "minorgridcolor": "white",
             "startlinecolor": "#2a3f5f"
            },
            "type": "carpet"
           }
          ],
          "choropleth": [
           {
            "colorbar": {
             "outlinewidth": 0,
             "ticks": ""
            },
            "type": "choropleth"
           }
          ],
          "contour": [
           {
            "colorbar": {
             "outlinewidth": 0,
             "ticks": ""
            },
            "colorscale": [
             [
              0,
              "#0d0887"
             ],
             [
              0.1111111111111111,
              "#46039f"
             ],
             [
              0.2222222222222222,
              "#7201a8"
             ],
             [
              0.3333333333333333,
              "#9c179e"
             ],
             [
              0.4444444444444444,
              "#bd3786"
             ],
             [
              0.5555555555555556,
              "#d8576b"
             ],
             [
              0.6666666666666666,
              "#ed7953"
             ],
             [
              0.7777777777777778,
              "#fb9f3a"
             ],
             [
              0.8888888888888888,
              "#fdca26"
             ],
             [
              1,
              "#f0f921"
             ]
            ],
            "type": "contour"
           }
          ],
          "contourcarpet": [
           {
            "colorbar": {
             "outlinewidth": 0,
             "ticks": ""
            },
            "type": "contourcarpet"
           }
          ],
          "heatmap": [
           {
            "colorbar": {
             "outlinewidth": 0,
             "ticks": ""
            },
            "colorscale": [
             [
              0,
              "#0d0887"
             ],
             [
              0.1111111111111111,
              "#46039f"
             ],
             [
              0.2222222222222222,
              "#7201a8"
             ],
             [
              0.3333333333333333,
              "#9c179e"
             ],
             [
              0.4444444444444444,
              "#bd3786"
             ],
             [
              0.5555555555555556,
              "#d8576b"
             ],
             [
              0.6666666666666666,
              "#ed7953"
             ],
             [
              0.7777777777777778,
              "#fb9f3a"
             ],
             [
              0.8888888888888888,
              "#fdca26"
             ],
             [
              1,
              "#f0f921"
             ]
            ],
            "type": "heatmap"
           }
          ],
          "heatmapgl": [
           {
            "colorbar": {
             "outlinewidth": 0,
             "ticks": ""
            },
            "colorscale": [
             [
              0,
              "#0d0887"
             ],
             [
              0.1111111111111111,
              "#46039f"
             ],
             [
              0.2222222222222222,
              "#7201a8"
             ],
             [
              0.3333333333333333,
              "#9c179e"
             ],
             [
              0.4444444444444444,
              "#bd3786"
             ],
             [
              0.5555555555555556,
              "#d8576b"
             ],
             [
              0.6666666666666666,
              "#ed7953"
             ],
             [
              0.7777777777777778,
              "#fb9f3a"
             ],
             [
              0.8888888888888888,
              "#fdca26"
             ],
             [
              1,
              "#f0f921"
             ]
            ],
            "type": "heatmapgl"
           }
          ],
          "histogram": [
           {
            "marker": {
             "colorbar": {
              "outlinewidth": 0,
              "ticks": ""
             }
            },
            "type": "histogram"
           }
          ],
          "histogram2d": [
           {
            "colorbar": {
             "outlinewidth": 0,
             "ticks": ""
            },
            "colorscale": [
             [
              0,
              "#0d0887"
             ],
             [
              0.1111111111111111,
              "#46039f"
             ],
             [
              0.2222222222222222,
              "#7201a8"
             ],
             [
              0.3333333333333333,
              "#9c179e"
             ],
             [
              0.4444444444444444,
              "#bd3786"
             ],
             [
              0.5555555555555556,
              "#d8576b"
             ],
             [
              0.6666666666666666,
              "#ed7953"
             ],
             [
              0.7777777777777778,
              "#fb9f3a"
             ],
             [
              0.8888888888888888,
              "#fdca26"
             ],
             [
              1,
              "#f0f921"
             ]
            ],
            "type": "histogram2d"
           }
          ],
          "histogram2dcontour": [
           {
            "colorbar": {
             "outlinewidth": 0,
             "ticks": ""
            },
            "colorscale": [
             [
              0,
              "#0d0887"
             ],
             [
              0.1111111111111111,
              "#46039f"
             ],
             [
              0.2222222222222222,
              "#7201a8"
             ],
             [
              0.3333333333333333,
              "#9c179e"
             ],
             [
              0.4444444444444444,
              "#bd3786"
             ],
             [
              0.5555555555555556,
              "#d8576b"
             ],
             [
              0.6666666666666666,
              "#ed7953"
             ],
             [
              0.7777777777777778,
              "#fb9f3a"
             ],
             [
              0.8888888888888888,
              "#fdca26"
             ],
             [
              1,
              "#f0f921"
             ]
            ],
            "type": "histogram2dcontour"
           }
          ],
          "mesh3d": [
           {
            "colorbar": {
             "outlinewidth": 0,
             "ticks": ""
            },
            "type": "mesh3d"
           }
          ],
          "parcoords": [
           {
            "line": {
             "colorbar": {
              "outlinewidth": 0,
              "ticks": ""
             }
            },
            "type": "parcoords"
           }
          ],
          "pie": [
           {
            "automargin": true,
            "type": "pie"
           }
          ],
          "scatter": [
           {
            "marker": {
             "colorbar": {
              "outlinewidth": 0,
              "ticks": ""
             }
            },
            "type": "scatter"
           }
          ],
          "scatter3d": [
           {
            "line": {
             "colorbar": {
              "outlinewidth": 0,
              "ticks": ""
             }
            },
            "marker": {
             "colorbar": {
              "outlinewidth": 0,
              "ticks": ""
             }
            },
            "type": "scatter3d"
           }
          ],
          "scattercarpet": [
           {
            "marker": {
             "colorbar": {
              "outlinewidth": 0,
              "ticks": ""
             }
            },
            "type": "scattercarpet"
           }
          ],
          "scattergeo": [
           {
            "marker": {
             "colorbar": {
              "outlinewidth": 0,
              "ticks": ""
             }
            },
            "type": "scattergeo"
           }
          ],
          "scattergl": [
           {
            "marker": {
             "colorbar": {
              "outlinewidth": 0,
              "ticks": ""
             }
            },
            "type": "scattergl"
           }
          ],
          "scattermapbox": [
           {
            "marker": {
             "colorbar": {
              "outlinewidth": 0,
              "ticks": ""
             }
            },
            "type": "scattermapbox"
           }
          ],
          "scatterpolar": [
           {
            "marker": {
             "colorbar": {
              "outlinewidth": 0,
              "ticks": ""
             }
            },
            "type": "scatterpolar"
           }
          ],
          "scatterpolargl": [
           {
            "marker": {
             "colorbar": {
              "outlinewidth": 0,
              "ticks": ""
             }
            },
            "type": "scatterpolargl"
           }
          ],
          "scatterternary": [
           {
            "marker": {
             "colorbar": {
              "outlinewidth": 0,
              "ticks": ""
             }
            },
            "type": "scatterternary"
           }
          ],
          "surface": [
           {
            "colorbar": {
             "outlinewidth": 0,
             "ticks": ""
            },
            "colorscale": [
             [
              0,
              "#0d0887"
             ],
             [
              0.1111111111111111,
              "#46039f"
             ],
             [
              0.2222222222222222,
              "#7201a8"
             ],
             [
              0.3333333333333333,
              "#9c179e"
             ],
             [
              0.4444444444444444,
              "#bd3786"
             ],
             [
              0.5555555555555556,
              "#d8576b"
             ],
             [
              0.6666666666666666,
              "#ed7953"
             ],
             [
              0.7777777777777778,
              "#fb9f3a"
             ],
             [
              0.8888888888888888,
              "#fdca26"
             ],
             [
              1,
              "#f0f921"
             ]
            ],
            "type": "surface"
           }
          ],
          "table": [
           {
            "cells": {
             "fill": {
              "color": "#EBF0F8"
             },
             "line": {
              "color": "white"
             }
            },
            "header": {
             "fill": {
              "color": "#C8D4E3"
             },
             "line": {
              "color": "white"
             }
            },
            "type": "table"
           }
          ]
         },
         "layout": {
          "annotationdefaults": {
           "arrowcolor": "#2a3f5f",
           "arrowhead": 0,
           "arrowwidth": 1
          },
          "coloraxis": {
           "colorbar": {
            "outlinewidth": 0,
            "ticks": ""
           }
          },
          "colorscale": {
           "diverging": [
            [
             0,
             "#8e0152"
            ],
            [
             0.1,
             "#c51b7d"
            ],
            [
             0.2,
             "#de77ae"
            ],
            [
             0.3,
             "#f1b6da"
            ],
            [
             0.4,
             "#fde0ef"
            ],
            [
             0.5,
             "#f7f7f7"
            ],
            [
             0.6,
             "#e6f5d0"
            ],
            [
             0.7,
             "#b8e186"
            ],
            [
             0.8,
             "#7fbc41"
            ],
            [
             0.9,
             "#4d9221"
            ],
            [
             1,
             "#276419"
            ]
           ],
           "sequential": [
            [
             0,
             "#0d0887"
            ],
            [
             0.1111111111111111,
             "#46039f"
            ],
            [
             0.2222222222222222,
             "#7201a8"
            ],
            [
             0.3333333333333333,
             "#9c179e"
            ],
            [
             0.4444444444444444,
             "#bd3786"
            ],
            [
             0.5555555555555556,
             "#d8576b"
            ],
            [
             0.6666666666666666,
             "#ed7953"
            ],
            [
             0.7777777777777778,
             "#fb9f3a"
            ],
            [
             0.8888888888888888,
             "#fdca26"
            ],
            [
             1,
             "#f0f921"
            ]
           ],
           "sequentialminus": [
            [
             0,
             "#0d0887"
            ],
            [
             0.1111111111111111,
             "#46039f"
            ],
            [
             0.2222222222222222,
             "#7201a8"
            ],
            [
             0.3333333333333333,
             "#9c179e"
            ],
            [
             0.4444444444444444,
             "#bd3786"
            ],
            [
             0.5555555555555556,
             "#d8576b"
            ],
            [
             0.6666666666666666,
             "#ed7953"
            ],
            [
             0.7777777777777778,
             "#fb9f3a"
            ],
            [
             0.8888888888888888,
             "#fdca26"
            ],
            [
             1,
             "#f0f921"
            ]
           ]
          },
          "colorway": [
           "#636efa",
           "#EF553B",
           "#00cc96",
           "#ab63fa",
           "#FFA15A",
           "#19d3f3",
           "#FF6692",
           "#B6E880",
           "#FF97FF",
           "#FECB52"
          ],
          "font": {
           "color": "#2a3f5f"
          },
          "geo": {
           "bgcolor": "white",
           "lakecolor": "white",
           "landcolor": "#E5ECF6",
           "showlakes": true,
           "showland": true,
           "subunitcolor": "white"
          },
          "hoverlabel": {
           "align": "left"
          },
          "hovermode": "closest",
          "mapbox": {
           "style": "light"
          },
          "paper_bgcolor": "white",
          "plot_bgcolor": "#E5ECF6",
          "polar": {
           "angularaxis": {
            "gridcolor": "white",
            "linecolor": "white",
            "ticks": ""
           },
           "bgcolor": "#E5ECF6",
           "radialaxis": {
            "gridcolor": "white",
            "linecolor": "white",
            "ticks": ""
           }
          },
          "scene": {
           "xaxis": {
            "backgroundcolor": "#E5ECF6",
            "gridcolor": "white",
            "gridwidth": 2,
            "linecolor": "white",
            "showbackground": true,
            "ticks": "",
            "zerolinecolor": "white"
           },
           "yaxis": {
            "backgroundcolor": "#E5ECF6",
            "gridcolor": "white",
            "gridwidth": 2,
            "linecolor": "white",
            "showbackground": true,
            "ticks": "",
            "zerolinecolor": "white"
           },
           "zaxis": {
            "backgroundcolor": "#E5ECF6",
            "gridcolor": "white",
            "gridwidth": 2,
            "linecolor": "white",
            "showbackground": true,
            "ticks": "",
            "zerolinecolor": "white"
           }
          },
          "shapedefaults": {
           "line": {
            "color": "#2a3f5f"
           }
          },
          "ternary": {
           "aaxis": {
            "gridcolor": "white",
            "linecolor": "white",
            "ticks": ""
           },
           "baxis": {
            "gridcolor": "white",
            "linecolor": "white",
            "ticks": ""
           },
           "bgcolor": "#E5ECF6",
           "caxis": {
            "gridcolor": "white",
            "linecolor": "white",
            "ticks": ""
           }
          },
          "title": {
           "x": 0.05
          },
          "xaxis": {
           "automargin": true,
           "gridcolor": "white",
           "linecolor": "white",
           "ticks": "",
           "title": {
            "standoff": 15
           },
           "zerolinecolor": "white",
           "zerolinewidth": 2
          },
          "yaxis": {
           "automargin": true,
           "gridcolor": "white",
           "linecolor": "white",
           "ticks": "",
           "title": {
            "standoff": 15
           },
           "zerolinecolor": "white",
           "zerolinewidth": 2
          }
         }
        },
        "title": {
         "text": "Mean & Median Salary over Years"
        },
        "xaxis": {
         "title": {
          "text": "Year"
         }
        },
        "yaxis": {
         "title": {
          "text": "Salary in USD"
         }
        }
       }
      },
      "text/html": [
       "<div>\n",
       "        \n",
       "        \n",
       "            <div id=\"b1c20208-01d7-466c-99f0-649ed9ebf58a\" class=\"plotly-graph-div\" style=\"height:525px; width:100%;\"></div>\n",
       "            <script type=\"text/javascript\">\n",
       "                require([\"plotly\"], function(Plotly) {\n",
       "                    window.PLOTLYENV=window.PLOTLYENV || {};\n",
       "                    \n",
       "                if (document.getElementById(\"b1c20208-01d7-466c-99f0-649ed9ebf58a\")) {\n",
       "                    Plotly.newPlot(\n",
       "                        'b1c20208-01d7-466c-99f0-649ed9ebf58a',\n",
       "                        [{\"name\": \"Median\", \"type\": \"bar\", \"x\": [2014, 2015, 2016, 2017, 2018, 2019], \"y\": [120000.0, 108597.0, 104021.0, 104749.0, 106000.0, 102865.5]}, {\"name\": \"Mean\", \"type\": \"bar\", \"x\": [2014, 2015, 2016, 2017, 2018, 2019], \"y\": [121693.75675675676, 106775.09090909091, 104288.81078107811, 105875.53499222395, 109141.86632981167, 109064.22469982847]}],\n",
       "                        {\"template\": {\"data\": {\"bar\": [{\"error_x\": {\"color\": \"#2a3f5f\"}, \"error_y\": {\"color\": \"#2a3f5f\"}, \"marker\": {\"line\": {\"color\": \"#E5ECF6\", \"width\": 0.5}}, \"type\": \"bar\"}], \"barpolar\": [{\"marker\": {\"line\": {\"color\": \"#E5ECF6\", \"width\": 0.5}}, \"type\": \"barpolar\"}], \"carpet\": [{\"aaxis\": {\"endlinecolor\": \"#2a3f5f\", \"gridcolor\": \"white\", \"linecolor\": \"white\", \"minorgridcolor\": \"white\", \"startlinecolor\": \"#2a3f5f\"}, \"baxis\": {\"endlinecolor\": \"#2a3f5f\", \"gridcolor\": \"white\", \"linecolor\": \"white\", \"minorgridcolor\": \"white\", \"startlinecolor\": \"#2a3f5f\"}, \"type\": \"carpet\"}], \"choropleth\": [{\"colorbar\": {\"outlinewidth\": 0, \"ticks\": \"\"}, \"type\": \"choropleth\"}], \"contour\": [{\"colorbar\": {\"outlinewidth\": 0, \"ticks\": \"\"}, \"colorscale\": [[0.0, \"#0d0887\"], [0.1111111111111111, \"#46039f\"], [0.2222222222222222, \"#7201a8\"], [0.3333333333333333, \"#9c179e\"], [0.4444444444444444, \"#bd3786\"], [0.5555555555555556, \"#d8576b\"], [0.6666666666666666, \"#ed7953\"], [0.7777777777777778, \"#fb9f3a\"], [0.8888888888888888, \"#fdca26\"], [1.0, \"#f0f921\"]], \"type\": \"contour\"}], \"contourcarpet\": [{\"colorbar\": {\"outlinewidth\": 0, \"ticks\": \"\"}, \"type\": \"contourcarpet\"}], \"heatmap\": [{\"colorbar\": {\"outlinewidth\": 0, \"ticks\": \"\"}, \"colorscale\": [[0.0, \"#0d0887\"], [0.1111111111111111, \"#46039f\"], [0.2222222222222222, \"#7201a8\"], [0.3333333333333333, \"#9c179e\"], [0.4444444444444444, \"#bd3786\"], [0.5555555555555556, \"#d8576b\"], [0.6666666666666666, \"#ed7953\"], [0.7777777777777778, \"#fb9f3a\"], [0.8888888888888888, \"#fdca26\"], [1.0, \"#f0f921\"]], \"type\": \"heatmap\"}], \"heatmapgl\": [{\"colorbar\": {\"outlinewidth\": 0, \"ticks\": \"\"}, \"colorscale\": [[0.0, \"#0d0887\"], [0.1111111111111111, \"#46039f\"], [0.2222222222222222, \"#7201a8\"], [0.3333333333333333, \"#9c179e\"], [0.4444444444444444, \"#bd3786\"], [0.5555555555555556, \"#d8576b\"], [0.6666666666666666, \"#ed7953\"], [0.7777777777777778, \"#fb9f3a\"], [0.8888888888888888, \"#fdca26\"], [1.0, \"#f0f921\"]], \"type\": \"heatmapgl\"}], \"histogram\": [{\"marker\": {\"colorbar\": {\"outlinewidth\": 0, \"ticks\": \"\"}}, \"type\": \"histogram\"}], \"histogram2d\": [{\"colorbar\": {\"outlinewidth\": 0, \"ticks\": \"\"}, \"colorscale\": [[0.0, \"#0d0887\"], [0.1111111111111111, \"#46039f\"], [0.2222222222222222, \"#7201a8\"], [0.3333333333333333, \"#9c179e\"], [0.4444444444444444, \"#bd3786\"], [0.5555555555555556, \"#d8576b\"], [0.6666666666666666, \"#ed7953\"], [0.7777777777777778, \"#fb9f3a\"], [0.8888888888888888, \"#fdca26\"], [1.0, \"#f0f921\"]], \"type\": \"histogram2d\"}], \"histogram2dcontour\": [{\"colorbar\": {\"outlinewidth\": 0, \"ticks\": \"\"}, \"colorscale\": [[0.0, \"#0d0887\"], [0.1111111111111111, \"#46039f\"], [0.2222222222222222, \"#7201a8\"], [0.3333333333333333, \"#9c179e\"], [0.4444444444444444, \"#bd3786\"], [0.5555555555555556, \"#d8576b\"], [0.6666666666666666, \"#ed7953\"], [0.7777777777777778, \"#fb9f3a\"], [0.8888888888888888, \"#fdca26\"], [1.0, \"#f0f921\"]], \"type\": \"histogram2dcontour\"}], \"mesh3d\": [{\"colorbar\": {\"outlinewidth\": 0, \"ticks\": \"\"}, \"type\": \"mesh3d\"}], \"parcoords\": [{\"line\": {\"colorbar\": {\"outlinewidth\": 0, \"ticks\": \"\"}}, \"type\": \"parcoords\"}], \"pie\": [{\"automargin\": true, \"type\": \"pie\"}], \"scatter\": [{\"marker\": {\"colorbar\": {\"outlinewidth\": 0, \"ticks\": \"\"}}, \"type\": \"scatter\"}], \"scatter3d\": [{\"line\": {\"colorbar\": {\"outlinewidth\": 0, \"ticks\": \"\"}}, \"marker\": {\"colorbar\": {\"outlinewidth\": 0, \"ticks\": \"\"}}, \"type\": \"scatter3d\"}], \"scattercarpet\": [{\"marker\": {\"colorbar\": {\"outlinewidth\": 0, \"ticks\": \"\"}}, \"type\": \"scattercarpet\"}], \"scattergeo\": [{\"marker\": {\"colorbar\": {\"outlinewidth\": 0, \"ticks\": \"\"}}, \"type\": \"scattergeo\"}], \"scattergl\": [{\"marker\": {\"colorbar\": {\"outlinewidth\": 0, \"ticks\": \"\"}}, \"type\": \"scattergl\"}], \"scattermapbox\": [{\"marker\": {\"colorbar\": {\"outlinewidth\": 0, \"ticks\": \"\"}}, \"type\": \"scattermapbox\"}], \"scatterpolar\": [{\"marker\": {\"colorbar\": {\"outlinewidth\": 0, \"ticks\": \"\"}}, \"type\": \"scatterpolar\"}], \"scatterpolargl\": [{\"marker\": {\"colorbar\": {\"outlinewidth\": 0, \"ticks\": \"\"}}, \"type\": \"scatterpolargl\"}], \"scatterternary\": [{\"marker\": {\"colorbar\": {\"outlinewidth\": 0, \"ticks\": \"\"}}, \"type\": \"scatterternary\"}], \"surface\": [{\"colorbar\": {\"outlinewidth\": 0, \"ticks\": \"\"}, \"colorscale\": [[0.0, \"#0d0887\"], [0.1111111111111111, \"#46039f\"], [0.2222222222222222, \"#7201a8\"], [0.3333333333333333, \"#9c179e\"], [0.4444444444444444, \"#bd3786\"], [0.5555555555555556, \"#d8576b\"], [0.6666666666666666, \"#ed7953\"], [0.7777777777777778, \"#fb9f3a\"], [0.8888888888888888, \"#fdca26\"], [1.0, \"#f0f921\"]], \"type\": \"surface\"}], \"table\": [{\"cells\": {\"fill\": {\"color\": \"#EBF0F8\"}, \"line\": {\"color\": \"white\"}}, \"header\": {\"fill\": {\"color\": \"#C8D4E3\"}, \"line\": {\"color\": \"white\"}}, \"type\": \"table\"}]}, \"layout\": {\"annotationdefaults\": {\"arrowcolor\": \"#2a3f5f\", \"arrowhead\": 0, \"arrowwidth\": 1}, \"coloraxis\": {\"colorbar\": {\"outlinewidth\": 0, \"ticks\": \"\"}}, \"colorscale\": {\"diverging\": [[0, \"#8e0152\"], [0.1, \"#c51b7d\"], [0.2, \"#de77ae\"], [0.3, \"#f1b6da\"], [0.4, \"#fde0ef\"], [0.5, \"#f7f7f7\"], [0.6, \"#e6f5d0\"], [0.7, \"#b8e186\"], [0.8, \"#7fbc41\"], [0.9, \"#4d9221\"], [1, \"#276419\"]], \"sequential\": [[0.0, \"#0d0887\"], [0.1111111111111111, \"#46039f\"], [0.2222222222222222, \"#7201a8\"], [0.3333333333333333, \"#9c179e\"], [0.4444444444444444, \"#bd3786\"], [0.5555555555555556, \"#d8576b\"], [0.6666666666666666, \"#ed7953\"], [0.7777777777777778, \"#fb9f3a\"], [0.8888888888888888, \"#fdca26\"], [1.0, \"#f0f921\"]], \"sequentialminus\": [[0.0, \"#0d0887\"], [0.1111111111111111, \"#46039f\"], [0.2222222222222222, \"#7201a8\"], [0.3333333333333333, \"#9c179e\"], [0.4444444444444444, \"#bd3786\"], [0.5555555555555556, \"#d8576b\"], [0.6666666666666666, \"#ed7953\"], [0.7777777777777778, \"#fb9f3a\"], [0.8888888888888888, \"#fdca26\"], [1.0, \"#f0f921\"]]}, \"colorway\": [\"#636efa\", \"#EF553B\", \"#00cc96\", \"#ab63fa\", \"#FFA15A\", \"#19d3f3\", \"#FF6692\", \"#B6E880\", \"#FF97FF\", \"#FECB52\"], \"font\": {\"color\": \"#2a3f5f\"}, \"geo\": {\"bgcolor\": \"white\", \"lakecolor\": \"white\", \"landcolor\": \"#E5ECF6\", \"showlakes\": true, \"showland\": true, \"subunitcolor\": \"white\"}, \"hoverlabel\": {\"align\": \"left\"}, \"hovermode\": \"closest\", \"mapbox\": {\"style\": \"light\"}, \"paper_bgcolor\": \"white\", \"plot_bgcolor\": \"#E5ECF6\", \"polar\": {\"angularaxis\": {\"gridcolor\": \"white\", \"linecolor\": \"white\", \"ticks\": \"\"}, \"bgcolor\": \"#E5ECF6\", \"radialaxis\": {\"gridcolor\": \"white\", \"linecolor\": \"white\", \"ticks\": \"\"}}, \"scene\": {\"xaxis\": {\"backgroundcolor\": \"#E5ECF6\", \"gridcolor\": \"white\", \"gridwidth\": 2, \"linecolor\": \"white\", \"showbackground\": true, \"ticks\": \"\", \"zerolinecolor\": \"white\"}, \"yaxis\": {\"backgroundcolor\": \"#E5ECF6\", \"gridcolor\": \"white\", \"gridwidth\": 2, \"linecolor\": \"white\", \"showbackground\": true, \"ticks\": \"\", \"zerolinecolor\": \"white\"}, \"zaxis\": {\"backgroundcolor\": \"#E5ECF6\", \"gridcolor\": \"white\", \"gridwidth\": 2, \"linecolor\": \"white\", \"showbackground\": true, \"ticks\": \"\", \"zerolinecolor\": \"white\"}}, \"shapedefaults\": {\"line\": {\"color\": \"#2a3f5f\"}}, \"ternary\": {\"aaxis\": {\"gridcolor\": \"white\", \"linecolor\": \"white\", \"ticks\": \"\"}, \"baxis\": {\"gridcolor\": \"white\", \"linecolor\": \"white\", \"ticks\": \"\"}, \"bgcolor\": \"#E5ECF6\", \"caxis\": {\"gridcolor\": \"white\", \"linecolor\": \"white\", \"ticks\": \"\"}}, \"title\": {\"x\": 0.05}, \"xaxis\": {\"automargin\": true, \"gridcolor\": \"white\", \"linecolor\": \"white\", \"ticks\": \"\", \"title\": {\"standoff\": 15}, \"zerolinecolor\": \"white\", \"zerolinewidth\": 2}, \"yaxis\": {\"automargin\": true, \"gridcolor\": \"white\", \"linecolor\": \"white\", \"ticks\": \"\", \"title\": {\"standoff\": 15}, \"zerolinecolor\": \"white\", \"zerolinewidth\": 2}}}, \"title\": {\"text\": \"Mean & Median Salary over Years\"}, \"xaxis\": {\"title\": {\"text\": \"Year\"}}, \"yaxis\": {\"title\": {\"text\": \"Salary in USD\"}}},\n",
       "                        {\"responsive\": true}\n",
       "                    ).then(function(){\n",
       "                            \n",
       "var gd = document.getElementById('b1c20208-01d7-466c-99f0-649ed9ebf58a');\n",
       "var x = new MutationObserver(function (mutations, observer) {{\n",
       "        var display = window.getComputedStyle(gd).display;\n",
       "        if (!display || display === 'none') {{\n",
       "            console.log([gd, 'removed!']);\n",
       "            Plotly.purge(gd);\n",
       "            observer.disconnect();\n",
       "        }}\n",
       "}});\n",
       "\n",
       "// Listen for the removal of the full notebook cells\n",
       "var notebookContainer = gd.closest('#notebook-container');\n",
       "if (notebookContainer) {{\n",
       "    x.observe(notebookContainer, {childList: true});\n",
       "}}\n",
       "\n",
       "// Listen for the clearing of the current output cell\n",
       "var outputEl = gd.closest('.output');\n",
       "if (outputEl) {{\n",
       "    x.observe(outputEl, {childList: true});\n",
       "}}\n",
       "\n",
       "                        })\n",
       "                };\n",
       "                });\n",
       "            </script>\n",
       "        </div>"
      ]
     },
     "metadata": {},
     "output_type": "display_data"
    }
   ],
   "source": [
    "fig = go.Figure(data=[go.Bar(\n",
    "    name = 'Median',\n",
    "    x=agg_salaries.index, \n",
    "    y=agg_salaries.salary_median),\n",
    "                     go.Bar(\n",
    "                         name = 'Mean',\n",
    "                         x = agg_salaries.index,\n",
    "                     y = agg_salaries.salary_mean)])\n",
    "fig.update_layout(title = 'Mean & Median Salary over Years', xaxis_title = 'Year', yaxis_title = 'Salary in USD')\n",
    "fig.show()"
   ]
  },
  {
   "cell_type": "code",
   "execution_count": 702,
   "metadata": {},
   "outputs": [
    {
     "data": {
      "application/vnd.plotly.v1+json": {
       "config": {
        "plotlyServerURL": "https://plot.ly"
       },
       "data": [
        {
         "name": "2016",
         "type": "box",
         "y": [
          46060,
          62000,
          62060,
          63720,
          65080,
          68380,
          72100,
          73460,
          73460,
          90000,
          91200,
          98900,
          100000,
          120000,
          120200,
          152000,
          152000,
          29973,
          42245,
          42765,
          42765,
          44304,
          44304,
          46900,
          50000,
          50000,
          50000,
          50004,
          50336,
          50336,
          51000,
          53893,
          55000,
          55000,
          56072,
          57429,
          57429,
          59738,
          59738,
          60000,
          60000,
          60029,
          60486,
          60486,
          60486,
          60986,
          61131,
          63000,
          63045,
          63814,
          64189,
          64596,
          64641,
          64641,
          64750,
          65000,
          65000,
          65500,
          66144,
          66144,
          66622,
          66685,
          66934,
          67000,
          67200,
          67500,
          67683,
          68400,
          68775,
          69000,
          69410,
          69529,
          69550,
          69550,
          69550,
          69550,
          69763,
          69763,
          70000,
          70000,
          70000,
          70000,
          70000,
          70000,
          70000,
          70000,
          70000,
          70000,
          70000,
          70000,
          70000,
          70000,
          70000,
          70000,
          70000,
          70000,
          70000,
          70000,
          70000,
          70000,
          70000,
          70000,
          70000,
          70000,
          70000,
          70000,
          70000,
          70000,
          70000,
          70304,
          70886,
          72000,
          72000,
          72300,
          72685,
          73000,
          73000,
          73486,
          73715,
          73965,
          74000,
          74838,
          74838,
          74900,
          74900,
          75000,
          75000,
          75000,
          75000,
          75000,
          75000,
          75000,
          75000,
          75000,
          75000,
          75000,
          75000,
          75000,
          75000,
          75000,
          75000,
          75000,
          75000,
          75000,
          75000,
          75000,
          75000,
          75000,
          75000,
          75000,
          76000,
          76000,
          76000,
          76000,
          76918,
          77000,
          77000,
          77000,
          77500,
          77667,
          78000,
          78000,
          78312,
          78312,
          78811,
          79227,
          79498,
          79498,
          79498,
          79999,
          79999,
          79999,
          80000,
          80000,
          80000,
          80000,
          80000,
          80000,
          80000,
          80000,
          80000,
          80000,
          80000,
          80000,
          80000,
          80000,
          80000,
          80000,
          80000,
          80000,
          80000,
          80000,
          80000,
          80000,
          80000,
          80000,
          80000,
          80000,
          80000,
          80995,
          81000,
          81078,
          81099,
          81120,
          81385,
          81515,
          81848,
          81900,
          82000,
          82349,
          82500,
          82574,
          82574,
          83000,
          83000,
          83500,
          84000,
          84448,
          84739,
          85000,
          85000,
          85000,
          85000,
          85000,
          85000,
          85000,
          85000,
          85000,
          85000,
          85000,
          85000,
          85000,
          85000,
          85000,
          85000,
          85000,
          85000,
          85000,
          85000,
          85020,
          85035,
          85280,
          85500,
          85600,
          85613,
          85696,
          85862,
          85862,
          85862,
          85869,
          86000,
          86000,
          86000,
          86000,
          86100,
          86500,
          86500,
          87000,
          87000,
          87100,
          87402,
          87413,
          87500,
          87807,
          88000,
          88000,
          88000,
          88000,
          88234,
          88421,
          88426,
          88629,
          89024,
          89024,
          89440,
          89440,
          89440,
          89440,
          89440,
          89440,
          89440,
          89440,
          90000,
          90000,
          90000,
          90000,
          90000,
          90000,
          90000,
          90000,
          90000,
          90000,
          90000,
          90000,
          90000,
          90000,
          90000,
          90000,
          90000,
          90000,
          90000,
          90000,
          90000,
          90000,
          90000,
          90000,
          90000,
          90000,
          90000,
          90000,
          90000,
          90000,
          90000,
          90000,
          90293,
          90293,
          90293,
          90293,
          90293,
          90522,
          91000,
          91062,
          91166,
          91166,
          91166,
          91166,
          91166,
          91500,
          91646,
          91646,
          92000,
          92000,
          92000,
          92000,
          92290,
          92500,
          92500,
          92700,
          93000,
          93000,
          93000,
          93517,
          93517,
          93662,
          93662,
          93662,
          94000,
          94000,
          94328,
          95000,
          95000,
          95000,
          95000,
          95000,
          95000,
          95000,
          95000,
          95000,
          95000,
          95000,
          95000,
          95000,
          95000,
          95000,
          95000,
          95000,
          95000,
          95000,
          95000,
          95000,
          95000,
          95000,
          95056,
          95243,
          95264,
          95264,
          95306,
          95306,
          96000,
          96000,
          96000,
          96652,
          97032,
          97032,
          97032,
          97500,
          97573,
          97822,
          98000,
          98000,
          98000,
          98000,
          98000,
          98500,
          100000,
          100000,
          100000,
          100000,
          100000,
          100000,
          100000,
          100000,
          100000,
          100000,
          100000,
          100000,
          100000,
          100000,
          100000,
          100000,
          100000,
          100000,
          100000,
          100000,
          100000,
          100000,
          100000,
          100000,
          100000,
          100000,
          100000,
          100000,
          100000,
          100235,
          100235,
          100235,
          100402,
          100402,
          100402,
          100800,
          100800,
          100800,
          100800,
          100800,
          101026,
          101026,
          101026,
          101088,
          101229,
          101837,
          101837,
          102000,
          102000,
          102000,
          102000,
          102000,
          102000,
          102000,
          102000,
          102044,
          102170,
          102357,
          102390,
          102400,
          102544,
          104000,
          104000,
          104000,
          104021,
          104064,
          105000,
          105000,
          105000,
          105000,
          105000,
          105000,
          105000,
          105000,
          105000,
          105000,
          105000,
          105000,
          105000,
          105000,
          105000,
          105000,
          105000,
          105165,
          106000,
          106000,
          106000,
          106000,
          106000,
          106000,
          106000,
          106550,
          106900,
          106995,
          107071,
          107300,
          107300,
          107390,
          107390,
          107390,
          107390,
          107390,
          108483,
          109000,
          109200,
          109500,
          109678,
          109678,
          110000,
          110000,
          110000,
          110000,
          110000,
          110000,
          110000,
          110000,
          110000,
          110000,
          110000,
          110000,
          110000,
          110000,
          110000,
          110000,
          110000,
          110000,
          110000,
          110000,
          110000,
          110000,
          110000,
          110000,
          110000,
          110000,
          110000,
          110000,
          110000,
          110000,
          110000,
          110000,
          110000,
          110000,
          110000,
          110000,
          110000,
          110000,
          110000,
          110000,
          110000,
          110000,
          110000,
          110760,
          111500,
          111500,
          111500,
          111571,
          111613,
          111613,
          112000,
          112000,
          112000,
          112200,
          112445,
          112500,
          113300,
          113860,
          114000,
          114000,
          114000,
          114000,
          114000,
          114000,
          114000,
          114000,
          114000,
          114000,
          114000,
          114000,
          114000,
          114000,
          114358,
          114358,
          114358,
          115000,
          115000,
          115000,
          115000,
          115000,
          115000,
          115000,
          115000,
          115000,
          115000,
          115000,
          115000,
          115000,
          115000,
          115000,
          115000,
          115000,
          115000,
          115000,
          115000,
          115000,
          115000,
          115000,
          115000,
          115000,
          115000,
          115000,
          115000,
          115000,
          115000,
          115000,
          115000,
          115000,
          115000,
          115000,
          115000,
          115000,
          115000,
          115000,
          115000,
          115000,
          115000,
          115000,
          115000,
          115000,
          115000,
          115000,
          115000,
          115000,
          115000,
          115000,
          115000,
          115000,
          115000,
          115000,
          115000,
          115000,
          115000,
          115000,
          115000,
          115000,
          115000,
          115000,
          115000,
          115400,
          116000,
          117000,
          117000,
          117000,
          117000,
          117163,
          117166,
          117500,
          117700,
          117770,
          117875,
          118000,
          118000,
          118000,
          119517,
          119517,
          119642,
          119912,
          120000,
          120000,
          120000,
          120000,
          120000,
          120000,
          120000,
          120000,
          120000,
          120000,
          120000,
          120000,
          120000,
          120000,
          120000,
          120000,
          120000,
          120000,
          120000,
          120000,
          120000,
          120000,
          120000,
          120000,
          120000,
          120000,
          120000,
          120000,
          120000,
          120000,
          120000,
          120000,
          120000,
          120224,
          120349,
          120390,
          121369,
          122928,
          123000,
          123000,
          123000,
          123000,
          123000,
          123000,
          123505,
          123594,
          123594,
          123594,
          123594,
          123600,
          123700,
          124000,
          124000,
          125000,
          125000,
          125000,
          125000,
          125000,
          125000,
          125000,
          125000,
          125000,
          125000,
          125000,
          125000,
          125000,
          125000,
          125000,
          125000,
          125000,
          125000,
          125000,
          125000,
          125000,
          125000,
          125000,
          125000,
          125000,
          125000,
          125000,
          125000,
          126000,
          126000,
          127000,
          128000,
          128500,
          129000,
          129000,
          129300,
          130000,
          130000,
          130000,
          130000,
          130000,
          130000,
          130000,
          130000,
          130000,
          130000,
          130000,
          130000,
          130000,
          130000,
          130000,
          130000,
          130000,
          130000,
          130000,
          130300,
          130680,
          130800,
          131766,
          132000,
          132300,
          132527,
          133500,
          133500,
          133500,
          133500,
          133500,
          133500,
          133500,
          135000,
          135000,
          135000,
          135000,
          135000,
          135000,
          135000,
          135000,
          135000,
          135000,
          135000,
          135000,
          135000,
          135000,
          135000,
          135000,
          135000,
          135000,
          135000,
          135000,
          135000,
          135000,
          135180,
          135387,
          135402,
          135500,
          137000,
          137885,
          138000,
          138100,
          138507,
          138507,
          139321,
          139672,
          139818,
          140000,
          140000,
          140000,
          140000,
          140000,
          140000,
          140000,
          140000,
          140000,
          140000,
          140000,
          140000,
          140000,
          140000,
          140000,
          140000,
          140000,
          140000,
          140000,
          140000,
          140000,
          140000,
          140000,
          140306,
          140306,
          140700,
          141750,
          141960,
          141960,
          142000,
          142000,
          142200,
          142376,
          142600,
          143220,
          143790,
          144000,
          144000,
          145000,
          145000,
          145000,
          145000,
          145000,
          145000,
          145000,
          145000,
          145534,
          147000,
          147046,
          149000,
          149000,
          150000,
          150000,
          150000,
          150000,
          150000,
          150000,
          150000,
          150000,
          150000,
          150000,
          150000,
          150000,
          150000,
          150000,
          150000,
          155000,
          155000,
          155000,
          155000,
          155000,
          156000,
          158270,
          159484,
          159484,
          160000,
          160000,
          165000,
          165000,
          165000,
          165000,
          165000,
          165360,
          170000,
          170000,
          175000,
          175000,
          184000,
          189000,
          195000,
          195000,
          250000
         ]
        },
        {
         "name": "2015",
         "type": "box",
         "y": [
          47960,
          47960,
          70000,
          90000,
          90000,
          96160,
          114000,
          130000,
          130000,
          131860,
          5769,
          45150,
          46800,
          46800,
          50000,
          50731,
          50731,
          54142,
          55550,
          57500,
          57500,
          58656,
          59738,
          60000,
          60000,
          60000,
          60000,
          60466,
          62000,
          62525,
          62795,
          62816,
          63045,
          63045,
          63107,
          63107,
          63107,
          63500,
          65000,
          65000,
          65500,
          65500,
          66144,
          67000,
          68952,
          68952,
          70000,
          70000,
          70000,
          70033,
          70033,
          70096,
          70637,
          71032,
          71032,
          71822,
          72000,
          72000,
          72000,
          72530,
          73550,
          73736,
          74290,
          74290,
          74610,
          75000,
          75000,
          75000,
          75000,
          75000,
          75000,
          75000,
          75000,
          75000,
          75000,
          76606,
          76718,
          77022,
          77064,
          78000,
          78480,
          79186,
          80000,
          80000,
          80000,
          80000,
          80000,
          80000,
          80000,
          80000,
          80000,
          80000,
          80000,
          80000,
          80000,
          80750,
          81224,
          81245,
          82000,
          82000,
          82000,
          82000,
          82000,
          84094,
          85000,
          85000,
          85000,
          85000,
          85000,
          85000,
          85000,
          85000,
          85000,
          85000,
          85000,
          85000,
          85000,
          85938,
          85946,
          85946,
          85946,
          86000,
          86237,
          86362,
          86445,
          86700,
          87277,
          87277,
          87277,
          87277,
          87277,
          87400,
          88254,
          88254,
          88254,
          89440,
          89440,
          90000,
          90000,
          90000,
          90000,
          90000,
          90000,
          90000,
          90000,
          90000,
          90000,
          90000,
          90000,
          90000,
          90000,
          90000,
          90002,
          91000,
          91000,
          91125,
          91166,
          92000,
          92000,
          92000,
          92000,
          92000,
          93000,
          93000,
          93000,
          93912,
          93974,
          93974,
          93974,
          94000,
          94200,
          94931,
          95000,
          95000,
          95000,
          95000,
          95000,
          95000,
          95000,
          95000,
          95000,
          95000,
          95000,
          95000,
          95000,
          95000,
          95000,
          95264,
          97000,
          97573,
          98000,
          98500,
          99000,
          99653,
          100000,
          100000,
          100000,
          100000,
          100000,
          100000,
          100000,
          100000,
          100000,
          100000,
          100000,
          100000,
          100000,
          100000,
          100000,
          100000,
          100000,
          100000,
          100000,
          100000,
          100000,
          100000,
          100000,
          100000,
          100000,
          100000,
          100000,
          100000,
          100000,
          100000,
          100000,
          100000,
          100000,
          100000,
          100000,
          100000,
          100000,
          100000,
          100880,
          101000,
          101358,
          101358,
          102000,
          102000,
          102003,
          102086,
          102086,
          102500,
          103130,
          103400,
          103400,
          105000,
          105000,
          105000,
          105000,
          105000,
          105000,
          105000,
          105000,
          105000,
          105000,
          105000,
          105000,
          105000,
          105000,
          105000,
          105000,
          105000,
          105000,
          105000,
          105000,
          105000,
          105000,
          105000,
          105000,
          105000,
          105789,
          105900,
          106590,
          106600,
          107000,
          107000,
          107000,
          107100,
          107390,
          107500,
          107750,
          108000,
          108597,
          108597,
          108597,
          108704,
          109100,
          110000,
          110000,
          110000,
          110000,
          110000,
          110000,
          110000,
          110000,
          110000,
          110000,
          110000,
          110000,
          110000,
          110000,
          110000,
          110000,
          110000,
          110000,
          110000,
          110000,
          110000,
          110000,
          110000,
          110000,
          110000,
          110000,
          110000,
          110000,
          110000,
          110000,
          110000,
          110000,
          110000,
          110780,
          111500,
          111500,
          112000,
          112000,
          112000,
          112000,
          112500,
          112500,
          112500,
          112500,
          112500,
          114200,
          114248,
          114358,
          115000,
          115000,
          115000,
          115000,
          115000,
          115000,
          115000,
          115000,
          115000,
          115000,
          115000,
          115000,
          115000,
          115000,
          115000,
          115000,
          115000,
          115000,
          115000,
          115000,
          115000,
          115000,
          115000,
          115000,
          115500,
          115682,
          115693,
          116480,
          116480,
          116480,
          117000,
          117000,
          117075,
          117230,
          117230,
          117230,
          117453,
          117453,
          117749,
          118000,
          118000,
          118000,
          118061,
          118061,
          119205,
          119276,
          119500,
          120000,
          120000,
          120000,
          120000,
          120000,
          120000,
          120000,
          120000,
          120000,
          120000,
          120000,
          120000,
          120000,
          120000,
          120000,
          120000,
          120000,
          120000,
          120000,
          120000,
          120000,
          120000,
          120000,
          120000,
          120000,
          120000,
          120000,
          120000,
          120000,
          120000,
          120000,
          120100,
          120200,
          120800,
          121000,
          121100,
          122200,
          123000,
          123000,
          123000,
          123000,
          123000,
          123000,
          123000,
          123594,
          124000,
          124000,
          124800,
          125000,
          125000,
          125000,
          125000,
          125000,
          125000,
          125000,
          125000,
          125000,
          125000,
          125000,
          125000,
          125000,
          125000,
          125000,
          125000,
          125000,
          125000,
          125008,
          126000,
          126500,
          126900,
          127000,
          127000,
          128000,
          129500,
          129979,
          130000,
          130000,
          130000,
          130000,
          130000,
          130000,
          130000,
          130000,
          130000,
          130000,
          130000,
          130000,
          130000,
          130000,
          130000,
          130000,
          130000,
          130000,
          130000,
          130000,
          130000,
          130000,
          130303,
          130560,
          131269,
          131616,
          132200,
          133099,
          133478,
          133500,
          133500,
          133515,
          133515,
          133732,
          134000,
          134600,
          134721,
          135000,
          135000,
          135000,
          135000,
          135000,
          135000,
          135000,
          135000,
          135000,
          135000,
          135000,
          135000,
          135000,
          135000,
          135000,
          135000,
          135000,
          135000,
          135000,
          136573,
          138486,
          138486,
          138486,
          140000,
          140000,
          140000,
          140000,
          140000,
          140000,
          140000,
          140000,
          140000,
          140000,
          140000,
          140546,
          145000,
          145000,
          145000,
          145000,
          145000,
          145000,
          145000,
          145043,
          148000,
          149575,
          150000,
          150000,
          150000,
          150000,
          150000,
          150000,
          155000,
          155000,
          157602,
          159492,
          160000,
          160000,
          160000,
          160000,
          165000,
          169000,
          170000,
          175000,
          175000,
          183066,
          185000,
          205000
         ]
        },
        {
         "name": "2017",
         "type": "box",
         "y": [
          50000,
          50220,
          52300,
          60000,
          60140,
          60360,
          79260,
          80000,
          85940,
          86540,
          87100,
          87900,
          90000,
          91580,
          91580,
          91640,
          92000,
          98900,
          100000,
          110000,
          110000,
          110000,
          110000,
          114000,
          37482,
          37482,
          45469,
          45469,
          48734,
          48734,
          49733,
          49733,
          49733,
          49733,
          50000,
          50000,
          50128,
          50315,
          50315,
          50378,
          50700,
          50939,
          52062,
          53872,
          53872,
          53872,
          53872,
          54974,
          55000,
          55000,
          55744,
          56139,
          56222,
          56784,
          58000,
          58000,
          58000,
          58323,
          58635,
          59238,
          59987,
          59987,
          60000,
          60000,
          60000,
          60000,
          60000,
          60000,
          60000,
          60000,
          60000,
          60000,
          60000,
          60000,
          60000,
          60091,
          61131,
          61963,
          62379,
          62546,
          62546,
          63000,
          63000,
          63814,
          63814,
          63814,
          63814,
          64000,
          64792,
          64958,
          64958,
          65000,
          65000,
          65000,
          65000,
          65000,
          65000,
          65000,
          65200,
          65208,
          65208,
          65208,
          65520,
          65978,
          66000,
          66000,
          66000,
          66000,
          66518,
          68000,
          68000,
          68000,
          68432,
          68432,
          69000,
          69000,
          69000,
          69000,
          69077,
          69597,
          69722,
          69763,
          69763,
          69763,
          69763,
          69867,
          69867,
          70000,
          70000,
          70000,
          70000,
          70000,
          70000,
          70000,
          70000,
          70000,
          70000,
          70000,
          70000,
          70000,
          70000,
          70000,
          70000,
          70000,
          70000,
          70000,
          70000,
          70000,
          70000,
          70000,
          70000,
          70119,
          70119,
          70500,
          70670,
          70845,
          70845,
          70900,
          71000,
          71781,
          72000,
          72000,
          72000,
          72000,
          72000,
          72000,
          72467,
          72627,
          72627,
          72758,
          72758,
          73000,
          73500,
          73590,
          74526,
          74547,
          74818,
          74859,
          74859,
          75000,
          75000,
          75000,
          75000,
          75000,
          75000,
          75000,
          75000,
          75000,
          75000,
          75000,
          75000,
          75000,
          75227,
          75338,
          76120,
          76835,
          76898,
          77000,
          77000,
          77000,
          77250,
          77250,
          77500,
          77646,
          77834,
          78000,
          78000,
          78000,
          78000,
          78250,
          78520,
          78520,
          78603,
          78666,
          79200,
          79581,
          79581,
          79585,
          79875,
          80000,
          80000,
          80000,
          80000,
          80000,
          80000,
          80000,
          80000,
          80000,
          80000,
          80000,
          80000,
          80000,
          80000,
          80000,
          80000,
          80000,
          80000,
          80000,
          80000,
          80000,
          80000,
          80000,
          80000,
          80000,
          80000,
          80205,
          80400,
          80558,
          80558,
          80558,
          80558,
          80558,
          80558,
          80662,
          80995,
          81000,
          81037,
          81078,
          81349,
          81349,
          81349,
          81349,
          81400,
          81515,
          81900,
          81900,
          82000,
          82000,
          82000,
          82430,
          82430,
          82430,
          82430,
          82500,
          82500,
          82500,
          82500,
          82534,
          82680,
          82763,
          82763,
          83000,
          83013,
          83200,
          83387,
          83387,
          84011,
          84157,
          84240,
          84323,
          84800,
          84885,
          84975,
          85000,
          85000,
          85000,
          85000,
          85000,
          85000,
          85000,
          85000,
          85000,
          85000,
          85000,
          85000,
          85000,
          85000,
          85000,
          85000,
          85000,
          85000,
          85000,
          85000,
          85000,
          85000,
          85000,
          85000,
          85000,
          85000,
          85000,
          85000,
          85000,
          85000,
          85000,
          85000,
          85218,
          85238,
          85500,
          85675,
          85675,
          85700,
          85700,
          85700,
          85738,
          86000,
          86400,
          86466,
          86466,
          86466,
          86694,
          86694,
          87000,
          87000,
          87100,
          87500,
          87500,
          87700,
          87700,
          87800,
          88000,
          88629,
          89000,
          89000,
          89586,
          89960,
          89960,
          89960,
          89960,
          90000,
          90000,
          90000,
          90000,
          90000,
          90000,
          90000,
          90000,
          90000,
          90000,
          90000,
          90000,
          90000,
          90000,
          90000,
          90000,
          90000,
          90000,
          90000,
          90000,
          90000,
          90000,
          90000,
          90000,
          90000,
          90000,
          90000,
          90000,
          90000,
          90000,
          90000,
          90000,
          90000,
          90000,
          90000,
          90000,
          90000,
          90000,
          90000,
          90000,
          90000,
          90000,
          90000,
          90000,
          90000,
          90000,
          90000,
          90000,
          90000,
          90000,
          90000,
          90000,
          90000,
          90000,
          90000,
          90000,
          90000,
          90000,
          90000,
          90000,
          90000,
          90000,
          90000,
          90000,
          90000,
          90000,
          90000,
          90000,
          90000,
          90200,
          90351,
          90351,
          90813,
          90992,
          91000,
          91400,
          91811,
          91811,
          91915,
          91936,
          92000,
          92300,
          92400,
          92518,
          92518,
          92955,
          92955,
          92955,
          92955,
          93000,
          93000,
          93662,
          93800,
          93995,
          94000,
          94000,
          94000,
          94000,
          94162,
          94200,
          94300,
          94536,
          94536,
          94536,
          94619,
          94619,
          94619,
          94723,
          95000,
          95000,
          95000,
          95000,
          95000,
          95000,
          95000,
          95000,
          95000,
          95000,
          95000,
          95000,
          95000,
          95000,
          95000,
          95000,
          95000,
          95000,
          95000,
          95000,
          95000,
          95000,
          95000,
          95000,
          95000,
          95000,
          95000,
          95000,
          95014,
          95035,
          95035,
          95035,
          95035,
          95056,
          95243,
          95243,
          95243,
          95243,
          95500,
          95514,
          95790,
          95805,
          95846,
          95846,
          96000,
          96000,
          96000,
          96000,
          96013,
          96233,
          96233,
          96304,
          96304,
          96491,
          96500,
          96500,
          96500,
          96535,
          96600,
          96600,
          96758,
          96900,
          96928,
          97000,
          97032,
          97427,
          97822,
          97822,
          97822,
          97822,
          97822,
          98000,
          98000,
          98000,
          98356,
          98500,
          98500,
          98600,
          99694,
          99750,
          99750,
          99757,
          99757,
          99930,
          100000,
          100000,
          100000,
          100000,
          100000,
          100000,
          100000,
          100000,
          100000,
          100000,
          100000,
          100000,
          100000,
          100000,
          100000,
          100000,
          100000,
          100000,
          100000,
          100000,
          100000,
          100000,
          100000,
          100000,
          100000,
          100000,
          100000,
          100000,
          100000,
          100000,
          100000,
          100000,
          100000,
          100000,
          100000,
          100000,
          100000,
          100000,
          100000,
          100000,
          100000,
          100000,
          100000,
          100000,
          100000,
          100000,
          100000,
          100000,
          100000,
          100000,
          100000,
          100000,
          100000,
          100000,
          100000,
          100000,
          100000,
          100000,
          100000,
          100000,
          100000,
          100000,
          100214,
          100277,
          100402,
          100402,
          100402,
          100402,
          100464,
          100464,
          100485,
          101026,
          101026,
          101026,
          101026,
          101500,
          101587,
          101733,
          102000,
          102336,
          102600,
          102600,
          102600,
          102900,
          102900,
          102900,
          102900,
          103000,
          103000,
          103258,
          103515,
          103751,
          103834,
          103997,
          104000,
          104000,
          104187,
          104500,
          104998,
          105000,
          105000,
          105000,
          105000,
          105000,
          105000,
          105000,
          105000,
          105000,
          105000,
          105000,
          105000,
          105000,
          105000,
          105000,
          105000,
          105000,
          105000,
          105000,
          105000,
          105000,
          105000,
          105000,
          105000,
          105000,
          105000,
          105000,
          105000,
          105000,
          105000,
          105414,
          105934,
          106000,
          106000,
          106200,
          106454,
          106454,
          106600,
          107000,
          107000,
          107000,
          107000,
          107000,
          107000,
          107000,
          107120,
          107203,
          107203,
          107203,
          107250,
          107250,
          107500,
          107500,
          107791,
          108000,
          108000,
          108000,
          108000,
          108000,
          108000,
          108000,
          108000,
          108000,
          108000,
          108077,
          108368,
          108368,
          108750,
          108900,
          109000,
          109000,
          109698,
          110000,
          110000,
          110000,
          110000,
          110000,
          110000,
          110000,
          110000,
          110000,
          110000,
          110000,
          110000,
          110000,
          110000,
          110000,
          110000,
          110000,
          110000,
          110000,
          110000,
          110000,
          110000,
          110000,
          110000,
          110000,
          110000,
          110000,
          110000,
          110000,
          110000,
          110000,
          110000,
          110000,
          110000,
          110000,
          110000,
          110000,
          110000,
          110000,
          110000,
          110000,
          110000,
          110000,
          110000,
          110000,
          110760,
          110800,
          110820,
          110906,
          111000,
          111030,
          111051,
          111261,
          111500,
          111500,
          111800,
          112000,
          112000,
          112445,
          112445,
          112500,
          112500,
          113000,
          113120,
          113256,
          113277,
          113300,
          113350,
          113500,
          113500,
          113500,
          113922,
          113984,
          114000,
          114000,
          114725,
          115000,
          115000,
          115000,
          115000,
          115000,
          115000,
          115000,
          115000,
          115000,
          115000,
          115000,
          115000,
          115000,
          115000,
          115000,
          115000,
          115000,
          115000,
          115000,
          115000,
          115000,
          115000,
          115000,
          115000,
          115000,
          115000,
          115000,
          115000,
          115000,
          115000,
          115000,
          115000,
          115000,
          115000,
          115000,
          115000,
          115000,
          115000,
          115000,
          115000,
          115000,
          115000,
          115000,
          115000,
          115000,
          115000,
          115000,
          115000,
          115000,
          115000,
          115000,
          115000,
          115000,
          115000,
          115000,
          115211,
          115211,
          115211,
          115211,
          115211,
          115543,
          115800,
          116800,
          117000,
          117000,
          117083,
          117083,
          117083,
          117167,
          117260,
          117499,
          118000,
          118000,
          118000,
          118000,
          118000,
          118000,
          118000,
          118162,
          118450,
          119016,
          119108,
          119108,
          119454,
          119454,
          119454,
          119580,
          119642,
          119642,
          119642,
          119642,
          119642,
          119642,
          119980,
          120000,
          120000,
          120000,
          120000,
          120000,
          120000,
          120000,
          120000,
          120000,
          120000,
          120000,
          120000,
          120000,
          120000,
          120000,
          120000,
          120000,
          120000,
          120000,
          120000,
          120000,
          120000,
          120000,
          120000,
          120000,
          120000,
          120000,
          120000,
          120000,
          120000,
          120000,
          120000,
          120000,
          120000,
          120000,
          120000,
          120000,
          120000,
          120000,
          120000,
          120000,
          120000,
          120000,
          120000,
          120000,
          120000,
          120000,
          120000,
          120000,
          120000,
          120000,
          120000,
          120432,
          120432,
          120432,
          121000,
          121100,
          121306,
          121306,
          121367,
          122000,
          122000,
          122520,
          122533,
          122533,
          122824,
          122932,
          123071,
          123071,
          123071,
          123220,
          124000,
          124000,
          124000,
          124000,
          124200,
          124342,
          124342,
          124342,
          124342,
          124342,
          124400,
          124571,
          124571,
          124675,
          124911,
          125000,
          125000,
          125000,
          125000,
          125000,
          125000,
          125000,
          125000,
          125000,
          125000,
          125000,
          125000,
          125000,
          125000,
          125000,
          125000,
          125000,
          125000,
          125000,
          125000,
          125000,
          125000,
          125000,
          125000,
          125000,
          125000,
          125000,
          125000,
          125000,
          125000,
          125000,
          125000,
          125000,
          125000,
          125500,
          126000,
          126275,
          127000,
          127000,
          127000,
          127000,
          127000,
          127000,
          127000,
          127046,
          127046,
          127600,
          128000,
          128000,
          128750,
          129106,
          129106,
          129385,
          129500,
          129500,
          130000,
          130000,
          130000,
          130000,
          130000,
          130000,
          130000,
          130000,
          130000,
          130000,
          130000,
          130000,
          130000,
          130000,
          130000,
          130000,
          130000,
          130000,
          130000,
          130000,
          130000,
          130036,
          130275,
          130300,
          130600,
          131037,
          131440,
          131700,
          132000,
          132000,
          132000,
          132000,
          132000,
          132000,
          132000,
          132877,
          133500,
          134000,
          134514,
          134971,
          135000,
          135000,
          135000,
          135000,
          135000,
          135000,
          135000,
          135000,
          135000,
          135000,
          135000,
          135000,
          135000,
          135000,
          135000,
          135000,
          135000,
          135000,
          135000,
          135000,
          135000,
          135000,
          135000,
          135000,
          135000,
          135000,
          135000,
          135000,
          135000,
          135000,
          135387,
          135387,
          135387,
          135500,
          135500,
          135680,
          136000,
          136000,
          136000,
          136000,
          136630,
          136906,
          137000,
          137000,
          137000,
          137000,
          137250,
          137350,
          138000,
          138100,
          138507,
          138507,
          138729,
          138923,
          138923,
          138923,
          138923,
          139000,
          139168,
          139940,
          140000,
          140000,
          140000,
          140000,
          140000,
          140000,
          140000,
          140000,
          140000,
          140000,
          140000,
          140000,
          140000,
          140000,
          140000,
          140000,
          140000,
          140000,
          140000,
          140000,
          140000,
          140000,
          140250,
          140800,
          140990,
          141550,
          141669,
          141669,
          141877,
          142000,
          142500,
          142938,
          143000,
          143000,
          143192,
          143785,
          143785,
          144382,
          145000,
          145000,
          145000,
          145000,
          145000,
          145000,
          145000,
          145000,
          145000,
          145000,
          145000,
          145000,
          145000,
          145000,
          145000,
          145000,
          145000,
          145000,
          145000,
          145000,
          145000,
          145462,
          146000,
          146500,
          146600,
          147000,
          147000,
          147281,
          147487,
          149000,
          149713,
          150000,
          150000,
          150000,
          150000,
          150000,
          150000,
          150000,
          150000,
          150000,
          150000,
          150000,
          150000,
          150000,
          150000,
          150000,
          150000,
          150000,
          150000,
          150000,
          150000,
          150000,
          150000,
          150000,
          150000,
          150000,
          150184,
          152000,
          152504,
          153000,
          154000,
          155000,
          155000,
          155000,
          155000,
          155000,
          155000,
          155000,
          156000,
          158508,
          159000,
          159010,
          160000,
          160000,
          160000,
          160000,
          160000,
          160000,
          160000,
          160000,
          160000,
          160000,
          163036,
          163500,
          163628,
          165000,
          165000,
          165000,
          165000,
          167450,
          168210,
          170000,
          170000,
          170000,
          170000,
          170000,
          171921,
          172000,
          172515,
          175000,
          175000,
          175000,
          175000,
          175000,
          175380,
          180000,
          182281,
          182610,
          182610,
          185000,
          190000,
          190000,
          200000,
          210000,
          250000,
          253630
         ]
        },
        {
         "name": "2019",
         "type": "box",
         "y": [
          51860,
          59340,
          60420,
          60420,
          62000,
          65500,
          66000,
          66000,
          67000,
          70000,
          70000,
          70000,
          71400,
          71580,
          72100,
          74000,
          75260,
          77860,
          78000,
          78000,
          78920,
          80000,
          81920,
          82000,
          82080,
          82080,
          82820,
          82820,
          82820,
          84100,
          84140,
          84740,
          89220,
          89220,
          90000,
          90000,
          90000,
          92700,
          93920,
          94120,
          94220,
          94220,
          94420,
          96000,
          96160,
          96160,
          97800,
          100000,
          100040,
          101740,
          106560,
          110000,
          111720,
          111720,
          112500,
          116000,
          121740,
          128000,
          138460,
          140000,
          145980,
          154000,
          170000,
          201920,
          40000,
          44117,
          50000,
          51000,
          51355,
          52000,
          52000,
          52000,
          54163,
          54434,
          54600,
          55000,
          55000,
          55000,
          55120,
          57096,
          57221,
          57242,
          57450,
          59280,
          59280,
          60000,
          60000,
          60000,
          60000,
          60000,
          60000,
          60000,
          60000,
          60674,
          60798,
          61000,
          61298,
          61298,
          61298,
          61734,
          61734,
          62000,
          62000,
          62546,
          62650,
          62650,
          62650,
          62982,
          62982,
          62982,
          63000,
          63066,
          63232,
          63419,
          63500,
          64043,
          64064,
          64064,
          64064,
          64272,
          64272,
          64397,
          65000,
          65000,
          65000,
          65000,
          65000,
          65000,
          65000,
          65000,
          65000,
          65000,
          65000,
          65000,
          65000,
          65000,
          65000,
          65000,
          65000,
          65000,
          65000,
          65000,
          65000,
          65166,
          65312,
          65312,
          65312,
          65499,
          66000,
          66000,
          66000,
          66500,
          66518,
          66540,
          66560,
          66664,
          66664,
          66768,
          66830,
          66830,
          66955,
          67000,
          67101,
          67142,
          67205,
          67309,
          67621,
          67642,
          67642,
          67642,
          67933,
          68000,
          68000,
          68000,
          68080,
          68224,
          68307,
          68411,
          69200,
          69264,
          69264,
          69264,
          69264,
          69264,
          69264,
          69264,
          69360,
          69430,
          69430,
          69680,
          69680,
          70000,
          70000,
          70000,
          70000,
          70000,
          70000,
          70000,
          70000,
          70000,
          70000,
          70000,
          70000,
          70000,
          70000,
          70000,
          70000,
          70000,
          70000,
          70000,
          70000,
          70000,
          70000,
          70000,
          70000,
          70000,
          70034,
          70054,
          70200,
          70200,
          70200,
          70242,
          70242,
          70387,
          70450,
          70720,
          71000,
          71000,
          71328,
          71400,
          71448,
          71469,
          71500,
          71531,
          71698,
          71750,
          71802,
          71906,
          72000,
          72000,
          72000,
          72000,
          72000,
          72301,
          72301,
          72301,
          72322,
          72322,
          72800,
          72800,
          72862,
          72862,
          72904,
          73000,
          73060,
          73108,
          73341,
          73424,
          73440,
          74000,
          74000,
          74006,
          74006,
          74006,
          74048,
          74048,
          74100,
          74100,
          74250,
          74250,
          74256,
          74360,
          74402,
          74443,
          74443,
          74443,
          74443,
          74443,
          74443,
          74443,
          74444,
          74568,
          74734,
          74880,
          74880,
          74880,
          74880,
          74880,
          74880,
          74984,
          74984,
          74984,
          75000,
          75000,
          75000,
          75000,
          75000,
          75000,
          75000,
          75000,
          75000,
          75000,
          75000,
          75000,
          75000,
          75000,
          75000,
          75000,
          75000,
          75000,
          75000,
          75000,
          75000,
          75000,
          75000,
          75000,
          75000,
          75000,
          75000,
          75000,
          75000,
          75000,
          75000,
          75000,
          75000,
          75192,
          75296,
          75650,
          75650,
          75800,
          76000,
          76000,
          76033,
          76128,
          76190,
          76220,
          76294,
          76315,
          76461,
          76500,
          76500,
          76800,
          76814,
          77000,
          77000,
          77000,
          77189,
          77443,
          77500,
          77620,
          77655,
          77813,
          78000,
          78000,
          78000,
          78000,
          78000,
          78000,
          78354,
          78444,
          78500,
          78500,
          78700,
          79165,
          79165,
          79165,
          79206,
          79331,
          79400,
          79779,
          79830,
          79830,
          79851,
          79893,
          79893,
          80000,
          80000,
          80000,
          80000,
          80000,
          80000,
          80000,
          80000,
          80000,
          80000,
          80000,
          80000,
          80000,
          80000,
          80000,
          80000,
          80000,
          80000,
          80000,
          80000,
          80000,
          80000,
          80000,
          80000,
          80000,
          80000,
          80000,
          80000,
          80000,
          80000,
          80000,
          80000,
          80000,
          80000,
          80000,
          80000,
          80000,
          80000,
          80000,
          80000,
          80000,
          80000,
          80000,
          80000,
          80000,
          80000,
          80413,
          80413,
          80413,
          80413,
          80413,
          80413,
          80500,
          80704,
          80704,
          80850,
          80850,
          80850,
          80850,
          80850,
          80850,
          80850,
          80850,
          80850,
          80850,
          80850,
          80850,
          80850,
          80850,
          80912,
          80912,
          80912,
          80912,
          80912,
          80912,
          80912,
          80974,
          80974,
          80974,
          80974,
          81000,
          81000,
          81000,
          81000,
          81000,
          81000,
          81000,
          81000,
          81000,
          81000,
          81016,
          81016,
          81016,
          81037,
          81266,
          81266,
          81266,
          81286,
          81476,
          81600,
          81931,
          82000,
          82000,
          82000,
          82000,
          82000,
          82000,
          82000,
          82000,
          82030,
          82030,
          82181,
          82500,
          82618,
          82618,
          82618,
          82618,
          82618,
          82618,
          82618,
          82618,
          82618,
          82618,
          82650,
          82800,
          83000,
          83000,
          83000,
          83000,
          83000,
          83000,
          83000,
          83000,
          83034,
          83200,
          83200,
          83491,
          83600,
          83616,
          83699,
          83866,
          83866,
          83866,
          84000,
          84000,
          84000,
          84000,
          84240,
          84240,
          84261,
          84261,
          84261,
          84400,
          84469,
          84494,
          84494,
          84677,
          84698,
          84698,
          84780,
          84781,
          84804,
          85000,
          85000,
          85000,
          85000,
          85000,
          85000,
          85000,
          85000,
          85000,
          85000,
          85000,
          85000,
          85000,
          85000,
          85000,
          85000,
          85000,
          85000,
          85000,
          85000,
          85000,
          85000,
          85000,
          85000,
          85000,
          85000,
          85000,
          85000,
          85000,
          85000,
          85000,
          85000,
          85000,
          85000,
          85000,
          85000,
          85000,
          85000,
          85000,
          85000,
          85000,
          85000,
          85000,
          85000,
          85000,
          85000,
          85000,
          85000,
          85000,
          85010,
          85200,
          85200,
          85200,
          85200,
          85200,
          85280,
          85342,
          85350,
          85363,
          85363,
          85600,
          85717,
          85717,
          85930,
          86000,
          86000,
          86000,
          86000,
          86000,
          86000,
          86000,
          86000,
          86494,
          86923,
          87000,
          87000,
          87000,
          87000,
          87000,
          87000,
          87000,
          87000,
          87000,
          87090,
          87090,
          87090,
          87235,
          87360,
          87464,
          87464,
          87464,
          87464,
          87464,
          87464,
          87464,
          87464,
          87464,
          87464,
          87464,
          87464,
          87464,
          87485,
          87500,
          87500,
          87500,
          87500,
          87500,
          87500,
          87506,
          87506,
          87506,
          87506,
          87506,
          87612,
          87630,
          87672,
          87750,
          87781,
          88000,
          88000,
          88000,
          88000,
          88000,
          88000,
          88000,
          88000,
          88000,
          88000,
          88000,
          88200,
          88200,
          88400,
          88400,
          88400,
          88483,
          88566,
          88566,
          88566,
          88800,
          89000,
          89086,
          89086,
          89086,
          89128,
          89149,
          89340,
          89419,
          89648,
          89700,
          89773,
          89918,
          90000,
          90000,
          90000,
          90000,
          90000,
          90000,
          90000,
          90000,
          90000,
          90000,
          90000,
          90000,
          90000,
          90000,
          90000,
          90000,
          90000,
          90000,
          90000,
          90000,
          90000,
          90000,
          90000,
          90000,
          90000,
          90000,
          90000,
          90000,
          90000,
          90000,
          90000,
          90000,
          90000,
          90000,
          90000,
          90000,
          90000,
          90000,
          90000,
          90000,
          90000,
          90000,
          90000,
          90000,
          90000,
          90000,
          90000,
          90000,
          90000,
          90000,
          90000,
          90000,
          90000,
          90000,
          90000,
          90000,
          90000,
          90000,
          90000,
          90000,
          90000,
          90000,
          90000,
          90000,
          90002,
          90047,
          90047,
          90048,
          90106,
          90106,
          90106,
          90106,
          90106,
          90106,
          90200,
          90200,
          90500,
          90500,
          90500,
          90500,
          90529,
          90584,
          90688,
          90938,
          90950,
          91000,
          91000,
          91000,
          91000,
          91280,
          91458,
          91533,
          92000,
          92000,
          92000,
          92000,
          92000,
          92000,
          92000,
          92248,
          92248,
          92394,
          92394,
          92400,
          92414,
          92414,
          92414,
          92414,
          92414,
          92414,
          92414,
          92414,
          92414,
          92414,
          92414,
          92414,
          92414,
          92414,
          92414,
          92414,
          92414,
          92414,
          92414,
          92414,
          92414,
          92414,
          92414,
          92414,
          92414,
          92414,
          92414,
          92414,
          92414,
          92414,
          92414,
          92414,
          92414,
          92475,
          92500,
          92500,
          92500,
          92500,
          92560,
          92789,
          92789,
          93000,
          93000,
          93000,
          93000,
          93000,
          93411,
          93538,
          93538,
          93538,
          93538,
          93538,
          93600,
          93660,
          93660,
          93660,
          93660,
          93660,
          93660,
          93660,
          93700,
          93700,
          93700,
          93746,
          93933,
          94000,
          94000,
          94000,
          94016,
          94058,
          94162,
          94370,
          94500,
          94500,
          94600,
          94640,
          94640,
          94640,
          94770,
          94806,
          94806,
          94806,
          94806,
          94900,
          95000,
          95000,
          95000,
          95000,
          95000,
          95000,
          95000,
          95000,
          95000,
          95000,
          95000,
          95000,
          95000,
          95000,
          95000,
          95000,
          95000,
          95000,
          95000,
          95000,
          95000,
          95000,
          95000,
          95000,
          95000,
          95000,
          95000,
          95000,
          95000,
          95000,
          95000,
          95000,
          95000,
          95000,
          95000,
          95000,
          95000,
          95000,
          95000,
          95000,
          95000,
          95000,
          95000,
          95000,
          95000,
          95000,
          95000,
          95000,
          95000,
          95000,
          95000,
          95000,
          95000,
          95000,
          95000,
          95000,
          95000,
          95000,
          95000,
          95000,
          95000,
          95000,
          95000,
          95000,
          95000,
          95000,
          95000,
          95000,
          95000,
          95000,
          95000,
          95077,
          95077,
          95077,
          95160,
          95160,
          95160,
          95160,
          95306,
          95618,
          95618,
          95618,
          95638,
          95638,
          95638,
          95638,
          95638,
          95638,
          95638,
          95638,
          95889,
          96000,
          96000,
          96000,
          96000,
          96000,
          96075,
          96075,
          96075,
          96075,
          96158,
          96283,
          96305,
          96366,
          96366,
          96400,
          96400,
          96500,
          96500,
          96500,
          96500,
          96500,
          96500,
          96500,
          96595,
          96907,
          97000,
          97000,
          97000,
          97000,
          97094,
          97178,
          97200,
          97200,
          97219,
          97469,
          97500,
          97677,
          97677,
          97885,
          97885,
          97900,
          97906,
          97906,
          97989,
          98000,
          98000,
          98000,
          98000,
          98000,
          98000,
          98000,
          98000,
          98000,
          98020,
          98020,
          98020,
          98100,
          98576,
          98800,
          99000,
          99195,
          99466,
          99600,
          99736,
          99900,
          99999,
          100000,
          100000,
          100000,
          100000,
          100000,
          100000,
          100000,
          100000,
          100000,
          100000,
          100000,
          100000,
          100000,
          100000,
          100000,
          100000,
          100000,
          100000,
          100000,
          100000,
          100000,
          100000,
          100000,
          100000,
          100000,
          100000,
          100000,
          100000,
          100000,
          100000,
          100000,
          100000,
          100000,
          100000,
          100000,
          100000,
          100000,
          100000,
          100000,
          100000,
          100000,
          100000,
          100000,
          100000,
          100000,
          100000,
          100000,
          100000,
          100000,
          100000,
          100000,
          100000,
          100000,
          100000,
          100000,
          100000,
          100000,
          100000,
          100000,
          100000,
          100000,
          100000,
          100000,
          100000,
          100000,
          100000,
          100000,
          100000,
          100000,
          100000,
          100000,
          100000,
          100000,
          100000,
          100000,
          100000,
          100000,
          100000,
          100000,
          100000,
          100000,
          100000,
          100000,
          100000,
          100000,
          100008,
          100022,
          100069,
          100069,
          100500,
          100500,
          100506,
          100506,
          100506,
          100506,
          100506,
          100506,
          100506,
          100506,
          100506,
          100506,
          100506,
          100506,
          100506,
          100506,
          100506,
          100506,
          100506,
          100506,
          100506,
          100660,
          100786,
          100922,
          101000,
          101296,
          101379,
          101600,
          101745,
          101756,
          101800,
          102000,
          102000,
          102000,
          102000,
          102000,
          102000,
          102000,
          102149,
          102149,
          102200,
          102200,
          102200,
          102200,
          102200,
          102200,
          102200,
          102200,
          102200,
          102200,
          102200,
          102200,
          102200,
          102223,
          102300,
          102310,
          102352,
          102731,
          103000,
          103000,
          103000,
          103000,
          103000,
          103000,
          103000,
          103000,
          103200,
          103200,
          103480,
          103584,
          104000,
          104000,
          104500,
          104790,
          104975,
          105000,
          105000,
          105000,
          105000,
          105000,
          105000,
          105000,
          105000,
          105000,
          105000,
          105000,
          105000,
          105000,
          105000,
          105000,
          105000,
          105000,
          105000,
          105000,
          105000,
          105000,
          105000,
          105000,
          105000,
          105000,
          105000,
          105000,
          105000,
          105000,
          105000,
          105000,
          105000,
          105000,
          105000,
          105000,
          105000,
          105000,
          105000,
          105000,
          105000,
          105000,
          105000,
          105039,
          105227,
          105227,
          105227,
          105500,
          105549,
          105622,
          105622,
          105622,
          105719,
          105810,
          105810,
          105810,
          105810,
          105810,
          105810,
          105810,
          105810,
          105810,
          105810,
          105810,
          105810,
          105810,
          105810,
          105810,
          105810,
          105810,
          105810,
          105810,
          105810,
          106000,
          106000,
          106000,
          106000,
          106000,
          106000,
          106000,
          106000,
          106082,
          106082,
          106517,
          106821,
          107000,
          107000,
          107000,
          107000,
          107000,
          107120,
          107182,
          107228,
          107500,
          107500,
          107500,
          108000,
          108000,
          108000,
          108000,
          108000,
          108000,
          108000,
          108000,
          108139,
          108162,
          108555,
          108576,
          108631,
          108675,
          108888,
          108888,
          109000,
          109075,
          109242,
          109346,
          109554,
          109792,
          109800,
          110000,
          110000,
          110000,
          110000,
          110000,
          110000,
          110000,
          110000,
          110000,
          110000,
          110000,
          110000,
          110000,
          110000,
          110000,
          110000,
          110000,
          110000,
          110000,
          110000,
          110000,
          110000,
          110000,
          110000,
          110000,
          110000,
          110000,
          110000,
          110000,
          110000,
          110000,
          110000,
          110000,
          110000,
          110000,
          110000,
          110000,
          110000,
          110000,
          110000,
          110000,
          110000,
          110000,
          110000,
          110000,
          110000,
          110000,
          110000,
          110000,
          110000,
          110000,
          110000,
          110000,
          110000,
          110000,
          110000,
          110000,
          110000,
          110000,
          110000,
          110000,
          110000,
          110000,
          110000,
          110000,
          110000,
          110000,
          110000,
          110000,
          110000,
          110000,
          110000,
          110000,
          110000,
          110000,
          110000,
          110000,
          110000,
          110000,
          110000,
          110004,
          110004,
          110080,
          110406,
          110500,
          110600,
          110802,
          110802,
          110802,
          110802,
          110802,
          110802,
          110802,
          110802,
          110822,
          110822,
          110854,
          110900,
          110900,
          111000,
          111000,
          111275,
          111446,
          111987,
          111987,
          112000,
          112000,
          112000,
          112000,
          112000,
          112000,
          112000,
          112000,
          112000,
          112000,
          112362,
          112362,
          112500,
          112923,
          113000,
          113152,
          113152,
          113152,
          113152,
          113152,
          113200,
          113256,
          113318,
          113318,
          113520,
          113520,
          113536,
          113589,
          113589,
          113589,
          113589,
          114000,
          114000,
          114000,
          114317,
          114317,
          114317,
          114317,
          114317,
          114320,
          114390,
          114500,
          115000,
          115000,
          115000,
          115000,
          115000,
          115000,
          115000,
          115000,
          115000,
          115000,
          115000,
          115000,
          115000,
          115000,
          115000,
          115000,
          115000,
          115000,
          115000,
          115000,
          115000,
          115000,
          115000,
          115000,
          115000,
          115000,
          115000,
          115000,
          115000,
          115000,
          115000,
          115000,
          115000,
          115000,
          115000,
          115000,
          115000,
          115000,
          115000,
          115000,
          115000,
          115190,
          115360,
          115500,
          115700,
          115856,
          116000,
          116000,
          116000,
          116000,
          116400,
          116500,
          116698,
          116892,
          116979,
          117000,
          117000,
          117500,
          117800,
          117875,
          118000,
          118000,
          118000,
          118000,
          118000,
          118000,
          118000,
          118000,
          118200,
          118456,
          118498,
          118498,
          118500,
          118500,
          118540,
          118705,
          118747,
          118800,
          118820,
          119000,
          119100,
          119200,
          119200,
          119579,
          119600,
          119850,
          119850,
          119850,
          119850,
          119850,
          119850,
          119850,
          119850,
          119900,
          119904,
          119904,
          119904,
          119904,
          120000,
          120000,
          120000,
          120000,
          120000,
          120000,
          120000,
          120000,
          120000,
          120000,
          120000,
          120000,
          120000,
          120000,
          120000,
          120000,
          120000,
          120000,
          120000,
          120000,
          120000,
          120000,
          120000,
          120000,
          120000,
          120000,
          120000,
          120000,
          120000,
          120000,
          120000,
          120000,
          120000,
          120000,
          120000,
          120000,
          120000,
          120000,
          120000,
          120000,
          120000,
          120000,
          120000,
          120000,
          120000,
          120000,
          120000,
          120000,
          120000,
          120000,
          120000,
          120000,
          120000,
          120000,
          120000,
          120000,
          120000,
          120000,
          120000,
          120000,
          120000,
          120000,
          120000,
          120000,
          120000,
          120000,
          120000,
          120000,
          120000,
          120000,
          120000,
          120000,
          120000,
          120000,
          120120,
          120144,
          120240,
          120663,
          121000,
          121000,
          121000,
          121077,
          121077,
          121306,
          121805,
          121805,
          121805,
          121805,
          121805,
          121846,
          121846,
          121953,
          122000,
          122117,
          122221,
          122283,
          122700,
          122900,
          122900,
          123000,
          123011,
          123261,
          124000,
          124000,
          124080,
          124410,
          125000,
          125000,
          125000,
          125000,
          125000,
          125000,
          125000,
          125000,
          125000,
          125000,
          125000,
          125000,
          125000,
          125000,
          125000,
          125000,
          125000,
          125000,
          125000,
          125000,
          125000,
          125000,
          125000,
          125000,
          125000,
          125000,
          125000,
          125000,
          125000,
          125000,
          125000,
          125000,
          125000,
          125000,
          125000,
          125000,
          125000,
          125000,
          125000,
          125000,
          125000,
          125000,
          125000,
          125000,
          125000,
          125000,
          125000,
          125000,
          125000,
          125000,
          125000,
          125000,
          125000,
          125050,
          125400,
          125500,
          125674,
          125694,
          125694,
          125694,
          126000,
          127000,
          128000,
          128000,
          128000,
          128000,
          128312,
          128500,
          128561,
          128731,
          129000,
          129000,
          129030,
          129118,
          129189,
          129200,
          129210,
          129210,
          129600,
          129605,
          129605,
          129605,
          129605,
          129605,
          129605,
          129864,
          130000,
          130000,
          130000,
          130000,
          130000,
          130000,
          130000,
          130000,
          130000,
          130000,
          130000,
          130000,
          130000,
          130000,
          130000,
          130000,
          130000,
          130000,
          130000,
          130000,
          130000,
          130000,
          130000,
          130000,
          130000,
          130000,
          130000,
          130000,
          130000,
          130000,
          130000,
          130000,
          130000,
          130000,
          130000,
          130000,
          130000,
          130000,
          130000,
          130000,
          130000,
          130000,
          130000,
          130000,
          130000,
          130000,
          130000,
          130000,
          130000,
          130000,
          130000,
          130000,
          130000,
          130000,
          130000,
          130000,
          130000,
          130000,
          130000,
          131000,
          131000,
          131000,
          131000,
          131997,
          131997,
          131997,
          131997,
          131997,
          131997,
          131997,
          131997,
          131997,
          131997,
          131997,
          131997,
          131997,
          131997,
          131997,
          131997,
          131997,
          132000,
          132000,
          132000,
          132000,
          132000,
          132000,
          132184,
          132388,
          132615,
          132870,
          133000,
          133300,
          133300,
          133350,
          133786,
          133786,
          134000,
          134000,
          134210,
          134400,
          135000,
          135000,
          135000,
          135000,
          135000,
          135000,
          135000,
          135000,
          135000,
          135000,
          135000,
          135000,
          135000,
          135000,
          135000,
          135000,
          135000,
          135000,
          135000,
          135000,
          135000,
          135000,
          135000,
          135000,
          135000,
          135000,
          135000,
          135000,
          135000,
          135000,
          135000,
          135000,
          135000,
          135000,
          135000,
          135000,
          135000,
          135000,
          135000,
          135000,
          135000,
          135000,
          135000,
          135000,
          136000,
          136000,
          136000,
          136219,
          136600,
          136800,
          136827,
          137000,
          137000,
          137000,
          137000,
          137000,
          137000,
          137000,
          137000,
          137000,
          137000,
          137000,
          137000,
          137000,
          137000,
          137000,
          137000,
          137000,
          137000,
          137000,
          137000,
          137000,
          137000,
          137000,
          137000,
          137079,
          137351,
          137351,
          138300,
          138720,
          138900,
          139000,
          139000,
          139130,
          139235,
          139400,
          139400,
          140000,
          140000,
          140000,
          140000,
          140000,
          140000,
          140000,
          140000,
          140000,
          140000,
          140000,
          140000,
          140000,
          140000,
          140000,
          140000,
          140000,
          140000,
          140000,
          140000,
          140000,
          140000,
          140000,
          140000,
          140000,
          140000,
          140000,
          140000,
          140000,
          140000,
          140000,
          140000,
          140000,
          140000,
          140000,
          140000,
          140000,
          140000,
          140000,
          140000,
          140000,
          140000,
          140000,
          140000,
          140000,
          140000,
          140000,
          140000,
          140000,
          140000,
          140000,
          140000,
          140149,
          140250,
          140400,
          140400,
          140670,
          141000,
          141000,
          141000,
          141000,
          141036,
          141250,
          141360,
          141750,
          142000,
          142164,
          142650,
          142800,
          143000,
          143000,
          143104,
          143104,
          143104,
          143104,
          143104,
          143104,
          143104,
          143591,
          143591,
          143871,
          143871,
          144000,
          144200,
          144518,
          144563,
          144750,
          144769,
          144769,
          145000,
          145000,
          145000,
          145000,
          145000,
          145000,
          145000,
          145000,
          145000,
          145000,
          145000,
          145000,
          145000,
          145000,
          145000,
          145000,
          145000,
          145000,
          145000,
          145000,
          145000,
          145000,
          145000,
          145000,
          145000,
          145000,
          145000,
          145000,
          145000,
          145000,
          145000,
          145000,
          145000,
          146000,
          146000,
          147000,
          147000,
          147000,
          147000,
          147000,
          147000,
          147000,
          147000,
          147000,
          147000,
          147000,
          147000,
          147000,
          147000,
          147000,
          147500,
          148000,
          148000,
          148000,
          148000,
          148500,
          148500,
          148500,
          148500,
          149219,
          149500,
          150000,
          150000,
          150000,
          150000,
          150000,
          150000,
          150000,
          150000,
          150000,
          150000,
          150000,
          150000,
          150000,
          150000,
          150000,
          150000,
          150000,
          150000,
          150000,
          150000,
          150000,
          150000,
          150000,
          150000,
          150000,
          150253,
          150300,
          150442,
          150978,
          151000,
          151000,
          151000,
          151888,
          152294,
          152568,
          152600,
          152903,
          153000,
          153001,
          154000,
          154000,
          154000,
          154000,
          154500,
          154500,
          155000,
          155000,
          155000,
          155000,
          155000,
          155000,
          155000,
          155000,
          155000,
          155000,
          155000,
          155000,
          155000,
          155000,
          155000,
          155000,
          155000,
          155000,
          155000,
          155000,
          155000,
          155000,
          155000,
          155000,
          155000,
          155000,
          155000,
          155000,
          155000,
          156000,
          156000,
          156000,
          156028,
          156924,
          158000,
          158000,
          158000,
          158142,
          158163,
          158163,
          158200,
          159126,
          159126,
          159126,
          159400,
          159744,
          160000,
          160000,
          160000,
          160000,
          160000,
          160000,
          160000,
          160000,
          160000,
          160000,
          160000,
          160000,
          160000,
          160000,
          160000,
          160000,
          160000,
          160000,
          161000,
          161200,
          161550,
          161550,
          162000,
          163134,
          164765,
          164765,
          164989,
          164989,
          165000,
          165000,
          165000,
          165000,
          165000,
          165000,
          165000,
          165000,
          165000,
          165000,
          165000,
          165000,
          165000,
          165000,
          166080,
          166250,
          168000,
          168875,
          168958,
          169000,
          169000,
          169150,
          169796,
          170000,
          170000,
          170000,
          170000,
          170000,
          170000,
          170000,
          170000,
          170000,
          170280,
          171423,
          172000,
          172000,
          172000,
          172000,
          172534,
          174117,
          174138,
          174240,
          174703,
          174850,
          175000,
          175000,
          175000,
          175000,
          175000,
          175000,
          175000,
          175000,
          175000,
          175000,
          175000,
          175000,
          175000,
          175000,
          175245,
          175780,
          175780,
          176650,
          177091,
          177406,
          177677,
          180000,
          180000,
          180000,
          180000,
          180000,
          180000,
          180000,
          180000,
          180925,
          183350,
          183465,
          185000,
          185000,
          185000,
          185000,
          185000,
          185000,
          185000,
          185000,
          187000,
          190000,
          190000,
          190000,
          190000,
          190000,
          190000,
          190000,
          190000,
          190000,
          190000,
          190000,
          190900,
          193000,
          195000,
          195979,
          200000,
          200000,
          200000,
          200000,
          200000,
          200000,
          200000,
          200000,
          200000,
          200000,
          200000,
          200000,
          200000,
          203800,
          204000,
          205000,
          216331,
          220000,
          225000,
          225000,
          248400,
          248400,
          260000,
          260000
         ]
        },
        {
         "name": "2018",
         "type": "box",
         "y": [
          52000,
          58920,
          65500,
          67300,
          67300,
          67300,
          67380,
          70000,
          72000,
          74000,
          74000,
          74000,
          74880,
          74880,
          74880,
          74880,
          77600,
          78020,
          80000,
          80000,
          80000,
          80000,
          81620,
          82000,
          82000,
          82860,
          82860,
          83520,
          84000,
          90000,
          90320,
          90720,
          91340,
          94100,
          94400,
          95000,
          95000,
          96000,
          96160,
          98000,
          98000,
          100000,
          102000,
          109880,
          116640,
          117500,
          120000,
          120000,
          120000,
          131860,
          182700,
          182700,
          182700,
          44574,
          45614,
          49088,
          50170,
          50440,
          52000,
          52000,
          52000,
          53768,
          54579,
          54579,
          54579,
          54600,
          55000,
          55000,
          55000,
          56493,
          56597,
          56597,
          56700,
          56880,
          56880,
          57000,
          57554,
          57554,
          57554,
          57928,
          58219,
          58219,
          58450,
          58864,
          59675,
          60000,
          60000,
          60000,
          60000,
          60000,
          60000,
          60000,
          60000,
          60000,
          60000,
          60000,
          60000,
          60029,
          60133,
          60133,
          60133,
          60500,
          60923,
          60923,
          61000,
          61263,
          61651,
          61797,
          61800,
          61800,
          61838,
          61838,
          61838,
          61984,
          62000,
          62000,
          62000,
          62000,
          62213,
          62213,
          62400,
          62500,
          62587,
          62587,
          63000,
          63024,
          63066,
          63500,
          63500,
          63523,
          63731,
          64168,
          64355,
          64626,
          64626,
          64626,
          64650,
          64813,
          65000,
          65000,
          65000,
          65000,
          65000,
          65000,
          65000,
          65000,
          65000,
          65000,
          65000,
          65000,
          65000,
          65000,
          65000,
          65000,
          65000,
          65000,
          65000,
          65000,
          65229,
          65229,
          65229,
          66000,
          66394,
          66700,
          67000,
          67000,
          67000,
          67000,
          67000,
          67000,
          67000,
          67000,
          67000,
          68000,
          68000,
          68037,
          68307,
          68411,
          69000,
          69000,
          69000,
          69000,
          69243,
          69243,
          69243,
          69243,
          69472,
          69701,
          69867,
          69992,
          69992,
          69992,
          69992,
          69992,
          69992,
          69992,
          70000,
          70000,
          70000,
          70000,
          70000,
          70000,
          70000,
          70000,
          70000,
          70000,
          70000,
          70000,
          70000,
          70000,
          70000,
          70000,
          70000,
          70000,
          70000,
          70000,
          70000,
          70000,
          70000,
          70000,
          70000,
          70000,
          70000,
          70000,
          70000,
          70000,
          70000,
          70000,
          70200,
          70346,
          70678,
          70678,
          70678,
          70750,
          70928,
          70990,
          71000,
          71074,
          71099,
          71365,
          71578,
          72000,
          72000,
          72000,
          72000,
          72000,
          72000,
          72000,
          72000,
          72000,
          72000,
          72000,
          72000,
          72000,
          72000,
          72000,
          72000,
          72000,
          72000,
          72000,
          72000,
          72000,
          72000,
          72000,
          72000,
          72100,
          72450,
          72450,
          72500,
          72600,
          72779,
          73070,
          73070,
          73500,
          73942,
          74000,
          74000,
          74277,
          74339,
          74339,
          74381,
          74506,
          74734,
          74880,
          74880,
          75000,
          75000,
          75000,
          75000,
          75000,
          75000,
          75000,
          75000,
          75000,
          75000,
          75000,
          75000,
          75000,
          75000,
          75000,
          75000,
          75000,
          75000,
          75000,
          75000,
          75000,
          75000,
          75000,
          75000,
          75000,
          75000,
          75000,
          75000,
          75000,
          75000,
          75000,
          75000,
          75000,
          75000,
          75000,
          75000,
          75200,
          75213,
          75317,
          75317,
          75650,
          75650,
          75733,
          75733,
          75733,
          75800,
          75982,
          76000,
          76000,
          76000,
          76000,
          76100,
          76100,
          76492,
          76500,
          76586,
          76600,
          76752,
          76794,
          76918,
          77000,
          77000,
          77000,
          77000,
          77000,
          77000,
          77000,
          77000,
          77043,
          77050,
          77106,
          77500,
          77626,
          77700,
          77854,
          77854,
          77854,
          77854,
          77854,
          77854,
          77854,
          77854,
          77854,
          78000,
          78000,
          78000,
          78000,
          78000,
          78000,
          78000,
          78000,
          78000,
          78000,
          78083,
          78374,
          78374,
          78500,
          78582,
          78666,
          78666,
          78666,
          78700,
          78720,
          79206,
          79206,
          79997,
          80000,
          80000,
          80000,
          80000,
          80000,
          80000,
          80000,
          80000,
          80000,
          80000,
          80000,
          80000,
          80000,
          80000,
          80000,
          80000,
          80000,
          80000,
          80000,
          80000,
          80000,
          80000,
          80000,
          80000,
          80000,
          80000,
          80000,
          80000,
          80000,
          80000,
          80000,
          80000,
          80000,
          80000,
          80000,
          80000,
          80000,
          80000,
          80000,
          80234,
          80234,
          80413,
          80850,
          81000,
          81037,
          81037,
          81037,
          81037,
          81037,
          81037,
          81037,
          81037,
          81037,
          81037,
          81037,
          81120,
          81162,
          81266,
          81500,
          81661,
          81786,
          81900,
          81931,
          82000,
          82000,
          82000,
          82000,
          82000,
          82000,
          82000,
          82000,
          82181,
          82200,
          82285,
          82334,
          82500,
          82500,
          82500,
          82560,
          82560,
          82576,
          82618,
          82763,
          82909,
          82909,
          82909,
          82909,
          82909,
          82909,
          82909,
          82909,
          82909,
          82909,
          82909,
          82909,
          82909,
          82909,
          82909,
          82909,
          82909,
          82909,
          82921,
          83000,
          83000,
          83000,
          83230,
          83262,
          83366,
          83720,
          83720,
          83782,
          83782,
          83970,
          84000,
          84000,
          84000,
          84000,
          84000,
          84500,
          84739,
          84739,
          84744,
          84760,
          85000,
          85000,
          85000,
          85000,
          85000,
          85000,
          85000,
          85000,
          85000,
          85000,
          85000,
          85000,
          85000,
          85000,
          85000,
          85000,
          85000,
          85000,
          85000,
          85000,
          85000,
          85000,
          85000,
          85000,
          85000,
          85000,
          85000,
          85000,
          85000,
          85000,
          85000,
          85000,
          85000,
          85000,
          85000,
          85000,
          85000,
          85000,
          85155,
          85155,
          85200,
          85200,
          85200,
          85200,
          85342,
          85342,
          85342,
          85342,
          85426,
          85426,
          85717,
          85800,
          86000,
          86000,
          86154,
          86200,
          86200,
          86611,
          86612,
          86614,
          86653,
          86666,
          86700,
          87000,
          87000,
          87000,
          87000,
          87000,
          87000,
          87000,
          87000,
          87000,
          87000,
          87173,
          87500,
          87500,
          87500,
          87526,
          87526,
          87526,
          87526,
          87550,
          87550,
          87550,
          87797,
          87797,
          87859,
          87859,
          88000,
          88000,
          88000,
          88000,
          88000,
          88000,
          88026,
          88026,
          88026,
          88088,
          88317,
          88483,
          88858,
          88858,
          88858,
          88900,
          89000,
          89000,
          89000,
          89000,
          89024,
          89024,
          89024,
          89024,
          89024,
          89024,
          89024,
          89024,
          89024,
          89024,
          89024,
          89024,
          89024,
          89100,
          89250,
          89336,
          89565,
          89565,
          89898,
          89939,
          89960,
          89960,
          89960,
          89960,
          89960,
          89960,
          89960,
          89960,
          89960,
          90000,
          90000,
          90000,
          90000,
          90000,
          90000,
          90000,
          90000,
          90000,
          90000,
          90000,
          90000,
          90000,
          90000,
          90000,
          90000,
          90000,
          90000,
          90000,
          90000,
          90000,
          90000,
          90000,
          90000,
          90000,
          90000,
          90000,
          90000,
          90000,
          90000,
          90000,
          90000,
          90000,
          90000,
          90000,
          90000,
          90000,
          90000,
          90000,
          90000,
          90000,
          90000,
          90000,
          90000,
          90000,
          90000,
          90000,
          90000,
          90000,
          90000,
          90000,
          90000,
          90000,
          90000,
          90000,
          90000,
          90000,
          90000,
          90000,
          90000,
          90000,
          90002,
          90085,
          90500,
          90500,
          90506,
          90646,
          90742,
          90917,
          91000,
          91000,
          91000,
          91000,
          91000,
          91000,
          91374,
          91374,
          91440,
          91440,
          91915,
          92000,
          92000,
          92000,
          92000,
          92019,
          92019,
          92310,
          92394,
          92414,
          92500,
          92768,
          92768,
          92955,
          92955,
          92955,
          92955,
          92955,
          92955,
          92955,
          92955,
          92955,
          92955,
          92997,
          93000,
          93000,
          93000,
          93000,
          93000,
          93000,
          93000,
          93000,
          93000,
          93000,
          93000,
          93000,
          93000,
          93000,
          93000,
          93000,
          93000,
          93000,
          93000,
          93000,
          93000,
          93150,
          93309,
          93309,
          93451,
          93600,
          93600,
          93600,
          93725,
          93742,
          93765,
          94000,
          94000,
          94000,
          94000,
          94000,
          94078,
          94120,
          94203,
          94203,
          94266,
          94300,
          94300,
          94536,
          94536,
          94557,
          94744,
          94744,
          94744,
          94770,
          94774,
          94900,
          95000,
          95000,
          95000,
          95000,
          95000,
          95000,
          95000,
          95000,
          95000,
          95000,
          95000,
          95000,
          95000,
          95000,
          95000,
          95000,
          95000,
          95000,
          95000,
          95000,
          95000,
          95000,
          95000,
          95000,
          95000,
          95000,
          95000,
          95000,
          95000,
          95000,
          95000,
          95000,
          95000,
          95000,
          95000,
          95000,
          95000,
          95000,
          95000,
          95000,
          95000,
          95014,
          95065,
          95400,
          95472,
          95555,
          95638,
          95826,
          96000,
          96000,
          96000,
          96000,
          96075,
          96075,
          96075,
          96117,
          96117,
          96117,
          96325,
          96325,
          96325,
          96500,
          96500,
          96500,
          96600,
          96697,
          96767,
          96900,
          96900,
          96900,
          96900,
          96928,
          96928,
          96928,
          96990,
          96990,
          96990,
          96990,
          96990,
          96990,
          96990,
          96990,
          96990,
          96990,
          96990,
          96990,
          96990,
          97000,
          97000,
          97000,
          97100,
          97219,
          97219,
          97365,
          97375,
          97375,
          97510,
          97656,
          98000,
          98000,
          98000,
          98020,
          98020,
          98070,
          98256,
          98262,
          98262,
          98262,
          98363,
          98500,
          98633,
          99154,
          99400,
          99861,
          100000,
          100000,
          100000,
          100000,
          100000,
          100000,
          100000,
          100000,
          100000,
          100000,
          100000,
          100000,
          100000,
          100000,
          100000,
          100000,
          100000,
          100000,
          100000,
          100000,
          100000,
          100000,
          100000,
          100000,
          100000,
          100000,
          100000,
          100000,
          100000,
          100000,
          100000,
          100000,
          100000,
          100000,
          100000,
          100000,
          100000,
          100000,
          100000,
          100000,
          100000,
          100000,
          100000,
          100000,
          100000,
          100000,
          100000,
          100000,
          100000,
          100000,
          100000,
          100000,
          100000,
          100000,
          100000,
          100000,
          100000,
          100000,
          100000,
          100000,
          100000,
          100000,
          100000,
          100000,
          100000,
          100000,
          100000,
          100050,
          100090,
          100250,
          100402,
          100402,
          100485,
          100506,
          100506,
          100506,
          100506,
          100800,
          100800,
          100880,
          100880,
          101000,
          101587,
          101591,
          101711,
          101711,
          101711,
          101800,
          101960,
          102000,
          102000,
          102000,
          102000,
          102000,
          102107,
          102253,
          102274,
          102274,
          102300,
          102336,
          102500,
          102500,
          102600,
          102600,
          102669,
          102669,
          102801,
          103000,
          103000,
          103000,
          103024,
          103201,
          103334,
          103542,
          103771,
          103771,
          103771,
          103771,
          104000,
          104000,
          104104,
          104500,
          104900,
          105000,
          105000,
          105000,
          105000,
          105000,
          105000,
          105000,
          105000,
          105000,
          105000,
          105000,
          105000,
          105000,
          105000,
          105000,
          105000,
          105000,
          105000,
          105000,
          105000,
          105000,
          105000,
          105000,
          105000,
          105000,
          105000,
          105000,
          105000,
          105000,
          105000,
          105000,
          105000,
          105000,
          105000,
          105000,
          105000,
          105000,
          105000,
          105000,
          105000,
          105000,
          105000,
          105000,
          105000,
          105000,
          105040,
          105227,
          105227,
          105227,
          105300,
          105300,
          105300,
          105435,
          105872,
          106000,
          106000,
          106090,
          106600,
          106861,
          106897,
          106954,
          107000,
          107000,
          107000,
          107000,
          107000,
          107000,
          107000,
          107000,
          107000,
          107100,
          107203,
          107349,
          107370,
          107500,
          107730,
          107920,
          108000,
          108000,
          108000,
          108000,
          108000,
          108000,
          108000,
          108000,
          108000,
          108000,
          108000,
          108100,
          108118,
          108118,
          108118,
          108118,
          108139,
          108139,
          108400,
          108400,
          108450,
          108638,
          108638,
          108638,
          108638,
          108638,
          108675,
          108784,
          109000,
          109000,
          109000,
          109000,
          109000,
          109000,
          109117,
          109117,
          109990,
          109990,
          109990,
          109992,
          110000,
          110000,
          110000,
          110000,
          110000,
          110000,
          110000,
          110000,
          110000,
          110000,
          110000,
          110000,
          110000,
          110000,
          110000,
          110000,
          110000,
          110000,
          110000,
          110000,
          110000,
          110000,
          110000,
          110000,
          110000,
          110000,
          110000,
          110000,
          110000,
          110000,
          110000,
          110000,
          110000,
          110000,
          110000,
          110000,
          110000,
          110000,
          110000,
          110000,
          110000,
          110000,
          110000,
          110000,
          110000,
          110000,
          110000,
          110000,
          110000,
          110000,
          110000,
          110000,
          110109,
          110236,
          110236,
          110365,
          110365,
          110659,
          110802,
          110802,
          110802,
          110864,
          110864,
          110864,
          111000,
          111000,
          111000,
          111000,
          111000,
          111000,
          111000,
          111000,
          111000,
          111000,
          111000,
          111000,
          111030,
          111030,
          111030,
          111030,
          111030,
          111030,
          111030,
          111030,
          111030,
          111051,
          111509,
          111509,
          112000,
          112000,
          112000,
          112000,
          112000,
          112500,
          112549,
          112642,
          112694,
          112750,
          113000,
          113000,
          113000,
          113256,
          113400,
          113740,
          113740,
          114000,
          114000,
          114000,
          114000,
          114000,
          114163,
          114317,
          114317,
          114317,
          114400,
          114400,
          114400,
          114400,
          114400,
          114400,
          114440,
          114440,
          114600,
          114712,
          114754,
          114754,
          115000,
          115000,
          115000,
          115000,
          115000,
          115000,
          115000,
          115000,
          115000,
          115000,
          115000,
          115000,
          115000,
          115000,
          115000,
          115000,
          115000,
          115000,
          115000,
          115000,
          115000,
          115000,
          115000,
          115000,
          115000,
          115000,
          115000,
          115000,
          115000,
          115000,
          115000,
          115000,
          115000,
          115000,
          115000,
          115000,
          115000,
          115000,
          115000,
          115000,
          115000,
          115000,
          115000,
          115000,
          115000,
          115000,
          115000,
          115000,
          115000,
          115000,
          115000,
          115000,
          115000,
          115000,
          115000,
          115000,
          115000,
          115000,
          115000,
          115000,
          115000,
          115000,
          115050,
          115060,
          115060,
          115060,
          115060,
          115060,
          115060,
          115060,
          115060,
          115060,
          115482,
          115600,
          115748,
          115800,
          115814,
          115887,
          116000,
          116000,
          116000,
          116000,
          116000,
          116042,
          116230,
          116230,
          116376,
          116400,
          116400,
          116600,
          116600,
          116720,
          117000,
          117000,
          117026,
          117200,
          117476,
          117476,
          117686,
          118000,
          118000,
          118000,
          118000,
          118000,
          118000,
          118000,
          118000,
          118000,
          118000,
          118300,
          118750,
          118820,
          119000,
          119184,
          119184,
          119300,
          119380,
          119850,
          119900,
          119900,
          120000,
          120000,
          120000,
          120000,
          120000,
          120000,
          120000,
          120000,
          120000,
          120000,
          120000,
          120000,
          120000,
          120000,
          120000,
          120000,
          120000,
          120000,
          120000,
          120000,
          120000,
          120000,
          120000,
          120000,
          120000,
          120000,
          120000,
          120000,
          120000,
          120000,
          120000,
          120000,
          120000,
          120000,
          120000,
          120000,
          120000,
          120000,
          120000,
          120000,
          120000,
          120000,
          120000,
          120000,
          120000,
          120000,
          120000,
          120000,
          120000,
          120000,
          120000,
          120000,
          120000,
          120000,
          120000,
          120000,
          120000,
          120000,
          120000,
          120000,
          120000,
          120000,
          120000,
          120000,
          120000,
          120000,
          120000,
          120000,
          120000,
          120000,
          120000,
          120000,
          120000,
          120000,
          120000,
          120000,
          120432,
          120432,
          120432,
          120432,
          120510,
          120928,
          121000,
          121000,
          121085,
          121306,
          121306,
          121306,
          121306,
          121306,
          121306,
          121306,
          121306,
          121310,
          121400,
          121400,
          121547,
          121620,
          121805,
          121805,
          121807,
          121894,
          122000,
          122000,
          122130,
          122158,
          122158,
          122158,
          122158,
          122158,
          122158,
          122158,
          122158,
          122158,
          122158,
          122158,
          122158,
          122158,
          122158,
          122158,
          122158,
          122200,
          122200,
          122429,
          122760,
          122824,
          122824,
          122824,
          122824,
          122824,
          122824,
          122824,
          122824,
          122824,
          122824,
          122824,
          122824,
          122886,
          123000,
          123000,
          123011,
          123614,
          123614,
          124000,
          124000,
          124800,
          125000,
          125000,
          125000,
          125000,
          125000,
          125000,
          125000,
          125000,
          125000,
          125000,
          125000,
          125000,
          125000,
          125000,
          125000,
          125000,
          125000,
          125000,
          125000,
          125000,
          125000,
          125000,
          125000,
          125000,
          125000,
          125000,
          125000,
          125000,
          125000,
          125000,
          125000,
          125000,
          125000,
          125000,
          125000,
          125000,
          125000,
          125000,
          125004,
          125050,
          125050,
          125050,
          125112,
          125310,
          126000,
          126000,
          126000,
          126000,
          126027,
          126100,
          126298,
          126298,
          126298,
          126298,
          126500,
          126610,
          126880,
          127000,
          127000,
          127000,
          127254,
          127500,
          127500,
          127500,
          127816,
          127900,
          128000,
          128000,
          128000,
          128000,
          128377,
          128500,
          128536,
          129000,
          129106,
          129106,
          129106,
          129106,
          129106,
          129106,
          129106,
          129106,
          129106,
          129106,
          129106,
          129112,
          129210,
          129579,
          129605,
          129715,
          129880,
          130000,
          130000,
          130000,
          130000,
          130000,
          130000,
          130000,
          130000,
          130000,
          130000,
          130000,
          130000,
          130000,
          130000,
          130000,
          130000,
          130000,
          130000,
          130000,
          130000,
          130000,
          130000,
          130000,
          130000,
          130000,
          130000,
          130000,
          130000,
          130000,
          130000,
          130000,
          130000,
          130000,
          130000,
          130000,
          130000,
          130000,
          130000,
          130000,
          130000,
          130000,
          130000,
          130000,
          130000,
          130000,
          130000,
          130000,
          130000,
          130000,
          130000,
          130000,
          130000,
          130000,
          130001,
          130001,
          130001,
          130001,
          130150,
          130250,
          131000,
          131000,
          131000,
          131000,
          131000,
          131000,
          131000,
          131000,
          131200,
          131303,
          131411,
          131518,
          131888,
          131997,
          131997,
          131997,
          131997,
          131997,
          132000,
          132000,
          132080,
          132100,
          132100,
          132500,
          132877,
          132877,
          133000,
          133000,
          133000,
          133012,
          133141,
          133146,
          133146,
          133555,
          133769,
          133786,
          133808,
          133850,
          134000,
          134000,
          134014,
          134730,
          135000,
          135000,
          135000,
          135000,
          135000,
          135000,
          135000,
          135000,
          135000,
          135000,
          135000,
          135000,
          135000,
          135000,
          135000,
          135000,
          135000,
          135000,
          135000,
          135000,
          135000,
          135000,
          135000,
          135000,
          135000,
          135000,
          135000,
          135000,
          135000,
          135000,
          135000,
          135000,
          135000,
          135000,
          135000,
          135000,
          135000,
          135000,
          135000,
          135000,
          135000,
          135000,
          135000,
          135000,
          135000,
          135037,
          135037,
          135250,
          135283,
          135450,
          135500,
          135975,
          136000,
          136000,
          136350,
          136370,
          137000,
          137000,
          137000,
          137000,
          137300,
          137800,
          138000,
          138000,
          138000,
          138000,
          138000,
          138000,
          138327,
          138327,
          138389,
          138500,
          139495,
          139495,
          140000,
          140000,
          140000,
          140000,
          140000,
          140000,
          140000,
          140000,
          140000,
          140000,
          140000,
          140000,
          140000,
          140000,
          140000,
          140000,
          140000,
          140000,
          140000,
          140000,
          140000,
          140000,
          140000,
          140000,
          140000,
          140000,
          140000,
          140000,
          140000,
          140000,
          140000,
          140000,
          140000,
          140000,
          140000,
          140000,
          140000,
          140000,
          140000,
          140000,
          140000,
          140000,
          140000,
          140000,
          140000,
          140000,
          140250,
          140270,
          140300,
          140400,
          141000,
          141000,
          141200,
          141200,
          141550,
          141665,
          141877,
          141877,
          141877,
          142000,
          142300,
          142500,
          142600,
          143000,
          143000,
          143104,
          143104,
          143200,
          143404,
          143529,
          143785,
          143850,
          144000,
          144000,
          144000,
          144197,
          144200,
          144244,
          144750,
          144787,
          145000,
          145000,
          145000,
          145000,
          145000,
          145000,
          145000,
          145000,
          145000,
          145000,
          145000,
          145000,
          145000,
          145000,
          145000,
          145000,
          145000,
          145000,
          145000,
          145000,
          145903,
          146000,
          146000,
          147000,
          147248,
          147300,
          147347,
          147347,
          147400,
          148000,
          148003,
          148150,
          148500,
          149000,
          149191,
          150000,
          150000,
          150000,
          150000,
          150000,
          150000,
          150000,
          150000,
          150000,
          150000,
          150000,
          150000,
          150000,
          150000,
          150000,
          150000,
          150000,
          150000,
          150000,
          150000,
          150000,
          150000,
          150000,
          150000,
          150000,
          150000,
          150000,
          150000,
          150000,
          150000,
          150000,
          150000,
          150000,
          150000,
          150000,
          150000,
          150000,
          150000,
          150000,
          150000,
          150000,
          150000,
          150000,
          150000,
          150000,
          150000,
          150000,
          150184,
          150773,
          151311,
          151590,
          152407,
          152420,
          152850,
          153000,
          154000,
          154000,
          154998,
          155000,
          155000,
          155000,
          155000,
          155000,
          155000,
          155000,
          155000,
          155000,
          155000,
          155000,
          155000,
          155000,
          155000,
          155000,
          155000,
          155000,
          155000,
          155000,
          155000,
          155000,
          155000,
          155000,
          155000,
          155000,
          155000,
          155000,
          155000,
          155000,
          155000,
          155000,
          155000,
          155000,
          155000,
          155000,
          155250,
          156000,
          157000,
          157000,
          157000,
          157500,
          157500,
          158000,
          158163,
          158163,
          158163,
          159266,
          159411,
          159800,
          160000,
          160000,
          160000,
          160000,
          160000,
          160000,
          160000,
          160000,
          160000,
          160000,
          160000,
          160000,
          160000,
          160000,
          160000,
          160000,
          160000,
          160000,
          160000,
          160000,
          160000,
          160000,
          160000,
          160000,
          160000,
          160058,
          160475,
          160930,
          160930,
          163000,
          163134,
          164000,
          164000,
          164000,
          164000,
          165000,
          165000,
          165000,
          165000,
          165000,
          165000,
          165000,
          165000,
          165000,
          165000,
          166020,
          166250,
          166385,
          167500,
          168000,
          168000,
          168000,
          168875,
          168875,
          168875,
          170000,
          170000,
          170000,
          170000,
          170000,
          170000,
          170000,
          170000,
          170000,
          170000,
          170000,
          170000,
          170000,
          170000,
          170000,
          170000,
          170000,
          170000,
          170328,
          171000,
          172000,
          172000,
          174117,
          175000,
          175000,
          175000,
          175000,
          175000,
          175000,
          175000,
          175000,
          175000,
          175000,
          175000,
          175000,
          175000,
          175723,
          178541,
          180000,
          180000,
          180000,
          180000,
          180000,
          180000,
          180000,
          180000,
          180000,
          180000,
          180000,
          180000,
          180000,
          185000,
          185000,
          185000,
          185000,
          185000,
          185000,
          187000,
          190000,
          190000,
          190000,
          190000,
          190000,
          192000,
          194835,
          200000,
          200000,
          200000,
          200000,
          200000,
          200000,
          201925,
          205000,
          210000,
          210000,
          210000,
          215000,
          215000,
          234000,
          234000,
          234000,
          260000
         ]
        },
        {
         "name": "2014",
         "type": "box",
         "y": [
          170000,
          71718,
          73923,
          74755,
          82000,
          87630,
          89565,
          90000,
          90000,
          90000,
          90870,
          91374,
          95000,
          100000,
          100880,
          102300,
          103000,
          105000,
          105000,
          105000,
          105000,
          105000,
          107000,
          108383,
          110000,
          110000,
          110000,
          110004,
          112000,
          114950,
          115000,
          115000,
          115058,
          115752,
          118378,
          118427,
          118625,
          120000,
          120000,
          120000,
          120000,
          120500,
          121900,
          122800,
          127500,
          130000,
          130000,
          130000,
          130000,
          130000,
          130000,
          135000,
          135000,
          136573,
          136573,
          138000,
          138900,
          140000,
          140000,
          140000,
          140000,
          148000,
          150000,
          150000,
          150000,
          150000,
          150000,
          150000,
          155000,
          160000,
          163000,
          170000,
          175000,
          175000
         ]
        }
       ],
       "layout": {
        "template": {
         "data": {
          "bar": [
           {
            "error_x": {
             "color": "#2a3f5f"
            },
            "error_y": {
             "color": "#2a3f5f"
            },
            "marker": {
             "line": {
              "color": "#E5ECF6",
              "width": 0.5
             }
            },
            "type": "bar"
           }
          ],
          "barpolar": [
           {
            "marker": {
             "line": {
              "color": "#E5ECF6",
              "width": 0.5
             }
            },
            "type": "barpolar"
           }
          ],
          "carpet": [
           {
            "aaxis": {
             "endlinecolor": "#2a3f5f",
             "gridcolor": "white",
             "linecolor": "white",
             "minorgridcolor": "white",
             "startlinecolor": "#2a3f5f"
            },
            "baxis": {
             "endlinecolor": "#2a3f5f",
             "gridcolor": "white",
             "linecolor": "white",
             "minorgridcolor": "white",
             "startlinecolor": "#2a3f5f"
            },
            "type": "carpet"
           }
          ],
          "choropleth": [
           {
            "colorbar": {
             "outlinewidth": 0,
             "ticks": ""
            },
            "type": "choropleth"
           }
          ],
          "contour": [
           {
            "colorbar": {
             "outlinewidth": 0,
             "ticks": ""
            },
            "colorscale": [
             [
              0,
              "#0d0887"
             ],
             [
              0.1111111111111111,
              "#46039f"
             ],
             [
              0.2222222222222222,
              "#7201a8"
             ],
             [
              0.3333333333333333,
              "#9c179e"
             ],
             [
              0.4444444444444444,
              "#bd3786"
             ],
             [
              0.5555555555555556,
              "#d8576b"
             ],
             [
              0.6666666666666666,
              "#ed7953"
             ],
             [
              0.7777777777777778,
              "#fb9f3a"
             ],
             [
              0.8888888888888888,
              "#fdca26"
             ],
             [
              1,
              "#f0f921"
             ]
            ],
            "type": "contour"
           }
          ],
          "contourcarpet": [
           {
            "colorbar": {
             "outlinewidth": 0,
             "ticks": ""
            },
            "type": "contourcarpet"
           }
          ],
          "heatmap": [
           {
            "colorbar": {
             "outlinewidth": 0,
             "ticks": ""
            },
            "colorscale": [
             [
              0,
              "#0d0887"
             ],
             [
              0.1111111111111111,
              "#46039f"
             ],
             [
              0.2222222222222222,
              "#7201a8"
             ],
             [
              0.3333333333333333,
              "#9c179e"
             ],
             [
              0.4444444444444444,
              "#bd3786"
             ],
             [
              0.5555555555555556,
              "#d8576b"
             ],
             [
              0.6666666666666666,
              "#ed7953"
             ],
             [
              0.7777777777777778,
              "#fb9f3a"
             ],
             [
              0.8888888888888888,
              "#fdca26"
             ],
             [
              1,
              "#f0f921"
             ]
            ],
            "type": "heatmap"
           }
          ],
          "heatmapgl": [
           {
            "colorbar": {
             "outlinewidth": 0,
             "ticks": ""
            },
            "colorscale": [
             [
              0,
              "#0d0887"
             ],
             [
              0.1111111111111111,
              "#46039f"
             ],
             [
              0.2222222222222222,
              "#7201a8"
             ],
             [
              0.3333333333333333,
              "#9c179e"
             ],
             [
              0.4444444444444444,
              "#bd3786"
             ],
             [
              0.5555555555555556,
              "#d8576b"
             ],
             [
              0.6666666666666666,
              "#ed7953"
             ],
             [
              0.7777777777777778,
              "#fb9f3a"
             ],
             [
              0.8888888888888888,
              "#fdca26"
             ],
             [
              1,
              "#f0f921"
             ]
            ],
            "type": "heatmapgl"
           }
          ],
          "histogram": [
           {
            "marker": {
             "colorbar": {
              "outlinewidth": 0,
              "ticks": ""
             }
            },
            "type": "histogram"
           }
          ],
          "histogram2d": [
           {
            "colorbar": {
             "outlinewidth": 0,
             "ticks": ""
            },
            "colorscale": [
             [
              0,
              "#0d0887"
             ],
             [
              0.1111111111111111,
              "#46039f"
             ],
             [
              0.2222222222222222,
              "#7201a8"
             ],
             [
              0.3333333333333333,
              "#9c179e"
             ],
             [
              0.4444444444444444,
              "#bd3786"
             ],
             [
              0.5555555555555556,
              "#d8576b"
             ],
             [
              0.6666666666666666,
              "#ed7953"
             ],
             [
              0.7777777777777778,
              "#fb9f3a"
             ],
             [
              0.8888888888888888,
              "#fdca26"
             ],
             [
              1,
              "#f0f921"
             ]
            ],
            "type": "histogram2d"
           }
          ],
          "histogram2dcontour": [
           {
            "colorbar": {
             "outlinewidth": 0,
             "ticks": ""
            },
            "colorscale": [
             [
              0,
              "#0d0887"
             ],
             [
              0.1111111111111111,
              "#46039f"
             ],
             [
              0.2222222222222222,
              "#7201a8"
             ],
             [
              0.3333333333333333,
              "#9c179e"
             ],
             [
              0.4444444444444444,
              "#bd3786"
             ],
             [
              0.5555555555555556,
              "#d8576b"
             ],
             [
              0.6666666666666666,
              "#ed7953"
             ],
             [
              0.7777777777777778,
              "#fb9f3a"
             ],
             [
              0.8888888888888888,
              "#fdca26"
             ],
             [
              1,
              "#f0f921"
             ]
            ],
            "type": "histogram2dcontour"
           }
          ],
          "mesh3d": [
           {
            "colorbar": {
             "outlinewidth": 0,
             "ticks": ""
            },
            "type": "mesh3d"
           }
          ],
          "parcoords": [
           {
            "line": {
             "colorbar": {
              "outlinewidth": 0,
              "ticks": ""
             }
            },
            "type": "parcoords"
           }
          ],
          "pie": [
           {
            "automargin": true,
            "type": "pie"
           }
          ],
          "scatter": [
           {
            "marker": {
             "colorbar": {
              "outlinewidth": 0,
              "ticks": ""
             }
            },
            "type": "scatter"
           }
          ],
          "scatter3d": [
           {
            "line": {
             "colorbar": {
              "outlinewidth": 0,
              "ticks": ""
             }
            },
            "marker": {
             "colorbar": {
              "outlinewidth": 0,
              "ticks": ""
             }
            },
            "type": "scatter3d"
           }
          ],
          "scattercarpet": [
           {
            "marker": {
             "colorbar": {
              "outlinewidth": 0,
              "ticks": ""
             }
            },
            "type": "scattercarpet"
           }
          ],
          "scattergeo": [
           {
            "marker": {
             "colorbar": {
              "outlinewidth": 0,
              "ticks": ""
             }
            },
            "type": "scattergeo"
           }
          ],
          "scattergl": [
           {
            "marker": {
             "colorbar": {
              "outlinewidth": 0,
              "ticks": ""
             }
            },
            "type": "scattergl"
           }
          ],
          "scattermapbox": [
           {
            "marker": {
             "colorbar": {
              "outlinewidth": 0,
              "ticks": ""
             }
            },
            "type": "scattermapbox"
           }
          ],
          "scatterpolar": [
           {
            "marker": {
             "colorbar": {
              "outlinewidth": 0,
              "ticks": ""
             }
            },
            "type": "scatterpolar"
           }
          ],
          "scatterpolargl": [
           {
            "marker": {
             "colorbar": {
              "outlinewidth": 0,
              "ticks": ""
             }
            },
            "type": "scatterpolargl"
           }
          ],
          "scatterternary": [
           {
            "marker": {
             "colorbar": {
              "outlinewidth": 0,
              "ticks": ""
             }
            },
            "type": "scatterternary"
           }
          ],
          "surface": [
           {
            "colorbar": {
             "outlinewidth": 0,
             "ticks": ""
            },
            "colorscale": [
             [
              0,
              "#0d0887"
             ],
             [
              0.1111111111111111,
              "#46039f"
             ],
             [
              0.2222222222222222,
              "#7201a8"
             ],
             [
              0.3333333333333333,
              "#9c179e"
             ],
             [
              0.4444444444444444,
              "#bd3786"
             ],
             [
              0.5555555555555556,
              "#d8576b"
             ],
             [
              0.6666666666666666,
              "#ed7953"
             ],
             [
              0.7777777777777778,
              "#fb9f3a"
             ],
             [
              0.8888888888888888,
              "#fdca26"
             ],
             [
              1,
              "#f0f921"
             ]
            ],
            "type": "surface"
           }
          ],
          "table": [
           {
            "cells": {
             "fill": {
              "color": "#EBF0F8"
             },
             "line": {
              "color": "white"
             }
            },
            "header": {
             "fill": {
              "color": "#C8D4E3"
             },
             "line": {
              "color": "white"
             }
            },
            "type": "table"
           }
          ]
         },
         "layout": {
          "annotationdefaults": {
           "arrowcolor": "#2a3f5f",
           "arrowhead": 0,
           "arrowwidth": 1
          },
          "coloraxis": {
           "colorbar": {
            "outlinewidth": 0,
            "ticks": ""
           }
          },
          "colorscale": {
           "diverging": [
            [
             0,
             "#8e0152"
            ],
            [
             0.1,
             "#c51b7d"
            ],
            [
             0.2,
             "#de77ae"
            ],
            [
             0.3,
             "#f1b6da"
            ],
            [
             0.4,
             "#fde0ef"
            ],
            [
             0.5,
             "#f7f7f7"
            ],
            [
             0.6,
             "#e6f5d0"
            ],
            [
             0.7,
             "#b8e186"
            ],
            [
             0.8,
             "#7fbc41"
            ],
            [
             0.9,
             "#4d9221"
            ],
            [
             1,
             "#276419"
            ]
           ],
           "sequential": [
            [
             0,
             "#0d0887"
            ],
            [
             0.1111111111111111,
             "#46039f"
            ],
            [
             0.2222222222222222,
             "#7201a8"
            ],
            [
             0.3333333333333333,
             "#9c179e"
            ],
            [
             0.4444444444444444,
             "#bd3786"
            ],
            [
             0.5555555555555556,
             "#d8576b"
            ],
            [
             0.6666666666666666,
             "#ed7953"
            ],
            [
             0.7777777777777778,
             "#fb9f3a"
            ],
            [
             0.8888888888888888,
             "#fdca26"
            ],
            [
             1,
             "#f0f921"
            ]
           ],
           "sequentialminus": [
            [
             0,
             "#0d0887"
            ],
            [
             0.1111111111111111,
             "#46039f"
            ],
            [
             0.2222222222222222,
             "#7201a8"
            ],
            [
             0.3333333333333333,
             "#9c179e"
            ],
            [
             0.4444444444444444,
             "#bd3786"
            ],
            [
             0.5555555555555556,
             "#d8576b"
            ],
            [
             0.6666666666666666,
             "#ed7953"
            ],
            [
             0.7777777777777778,
             "#fb9f3a"
            ],
            [
             0.8888888888888888,
             "#fdca26"
            ],
            [
             1,
             "#f0f921"
            ]
           ]
          },
          "colorway": [
           "#636efa",
           "#EF553B",
           "#00cc96",
           "#ab63fa",
           "#FFA15A",
           "#19d3f3",
           "#FF6692",
           "#B6E880",
           "#FF97FF",
           "#FECB52"
          ],
          "font": {
           "color": "#2a3f5f"
          },
          "geo": {
           "bgcolor": "white",
           "lakecolor": "white",
           "landcolor": "#E5ECF6",
           "showlakes": true,
           "showland": true,
           "subunitcolor": "white"
          },
          "hoverlabel": {
           "align": "left"
          },
          "hovermode": "closest",
          "mapbox": {
           "style": "light"
          },
          "paper_bgcolor": "white",
          "plot_bgcolor": "#E5ECF6",
          "polar": {
           "angularaxis": {
            "gridcolor": "white",
            "linecolor": "white",
            "ticks": ""
           },
           "bgcolor": "#E5ECF6",
           "radialaxis": {
            "gridcolor": "white",
            "linecolor": "white",
            "ticks": ""
           }
          },
          "scene": {
           "xaxis": {
            "backgroundcolor": "#E5ECF6",
            "gridcolor": "white",
            "gridwidth": 2,
            "linecolor": "white",
            "showbackground": true,
            "ticks": "",
            "zerolinecolor": "white"
           },
           "yaxis": {
            "backgroundcolor": "#E5ECF6",
            "gridcolor": "white",
            "gridwidth": 2,
            "linecolor": "white",
            "showbackground": true,
            "ticks": "",
            "zerolinecolor": "white"
           },
           "zaxis": {
            "backgroundcolor": "#E5ECF6",
            "gridcolor": "white",
            "gridwidth": 2,
            "linecolor": "white",
            "showbackground": true,
            "ticks": "",
            "zerolinecolor": "white"
           }
          },
          "shapedefaults": {
           "line": {
            "color": "#2a3f5f"
           }
          },
          "ternary": {
           "aaxis": {
            "gridcolor": "white",
            "linecolor": "white",
            "ticks": ""
           },
           "baxis": {
            "gridcolor": "white",
            "linecolor": "white",
            "ticks": ""
           },
           "bgcolor": "#E5ECF6",
           "caxis": {
            "gridcolor": "white",
            "linecolor": "white",
            "ticks": ""
           }
          },
          "title": {
           "x": 0.05
          },
          "xaxis": {
           "automargin": true,
           "gridcolor": "white",
           "linecolor": "white",
           "ticks": "",
           "title": {
            "standoff": 15
           },
           "zerolinecolor": "white",
           "zerolinewidth": 2
          },
          "yaxis": {
           "automargin": true,
           "gridcolor": "white",
           "linecolor": "white",
           "ticks": "",
           "title": {
            "standoff": 15
           },
           "zerolinecolor": "white",
           "zerolinewidth": 2
          }
         }
        },
        "title": {
         "text": "Salary Box Plot over Years"
        },
        "xaxis": {
         "title": {
          "text": "Year"
         }
        },
        "yaxis": {
         "title": {
          "text": "Salary in USD"
         }
        }
       }
      },
      "text/html": [
       "<div>\n",
       "        \n",
       "        \n",
       "            <div id=\"45235c34-0ecc-4f7a-b7b6-0345f1054aa0\" class=\"plotly-graph-div\" style=\"height:525px; width:100%;\"></div>\n",
       "            <script type=\"text/javascript\">\n",
       "                require([\"plotly\"], function(Plotly) {\n",
       "                    window.PLOTLYENV=window.PLOTLYENV || {};\n",
       "                    \n",
       "                if (document.getElementById(\"45235c34-0ecc-4f7a-b7b6-0345f1054aa0\")) {\n",
       "                    Plotly.newPlot(\n",
       "                        '45235c34-0ecc-4f7a-b7b6-0345f1054aa0',\n",
       "                        [{\"name\": \"2016\", \"type\": \"box\", \"y\": [46060, 62000, 62060, 63720, 65080, 68380, 72100, 73460, 73460, 90000, 91200, 98900, 100000, 120000, 120200, 152000, 152000, 29973, 42245, 42765, 42765, 44304, 44304, 46900, 50000, 50000, 50000, 50004, 50336, 50336, 51000, 53893, 55000, 55000, 56072, 57429, 57429, 59738, 59738, 60000, 60000, 60029, 60486, 60486, 60486, 60986, 61131, 63000, 63045, 63814, 64189, 64596, 64641, 64641, 64750, 65000, 65000, 65500, 66144, 66144, 66622, 66685, 66934, 67000, 67200, 67500, 67683, 68400, 68775, 69000, 69410, 69529, 69550, 69550, 69550, 69550, 69763, 69763, 70000, 70000, 70000, 70000, 70000, 70000, 70000, 70000, 70000, 70000, 70000, 70000, 70000, 70000, 70000, 70000, 70000, 70000, 70000, 70000, 70000, 70000, 70000, 70000, 70000, 70000, 70000, 70000, 70000, 70000, 70000, 70304, 70886, 72000, 72000, 72300, 72685, 73000, 73000, 73486, 73715, 73965, 74000, 74838, 74838, 74900, 74900, 75000, 75000, 75000, 75000, 75000, 75000, 75000, 75000, 75000, 75000, 75000, 75000, 75000, 75000, 75000, 75000, 75000, 75000, 75000, 75000, 75000, 75000, 75000, 75000, 75000, 76000, 76000, 76000, 76000, 76918, 77000, 77000, 77000, 77500, 77667, 78000, 78000, 78312, 78312, 78811, 79227, 79498, 79498, 79498, 79999, 79999, 79999, 80000, 80000, 80000, 80000, 80000, 80000, 80000, 80000, 80000, 80000, 80000, 80000, 80000, 80000, 80000, 80000, 80000, 80000, 80000, 80000, 80000, 80000, 80000, 80000, 80000, 80000, 80000, 80995, 81000, 81078, 81099, 81120, 81385, 81515, 81848, 81900, 82000, 82349, 82500, 82574, 82574, 83000, 83000, 83500, 84000, 84448, 84739, 85000, 85000, 85000, 85000, 85000, 85000, 85000, 85000, 85000, 85000, 85000, 85000, 85000, 85000, 85000, 85000, 85000, 85000, 85000, 85000, 85020, 85035, 85280, 85500, 85600, 85613, 85696, 85862, 85862, 85862, 85869, 86000, 86000, 86000, 86000, 86100, 86500, 86500, 87000, 87000, 87100, 87402, 87413, 87500, 87807, 88000, 88000, 88000, 88000, 88234, 88421, 88426, 88629, 89024, 89024, 89440, 89440, 89440, 89440, 89440, 89440, 89440, 89440, 90000, 90000, 90000, 90000, 90000, 90000, 90000, 90000, 90000, 90000, 90000, 90000, 90000, 90000, 90000, 90000, 90000, 90000, 90000, 90000, 90000, 90000, 90000, 90000, 90000, 90000, 90000, 90000, 90000, 90000, 90000, 90000, 90293, 90293, 90293, 90293, 90293, 90522, 91000, 91062, 91166, 91166, 91166, 91166, 91166, 91500, 91646, 91646, 92000, 92000, 92000, 92000, 92290, 92500, 92500, 92700, 93000, 93000, 93000, 93517, 93517, 93662, 93662, 93662, 94000, 94000, 94328, 95000, 95000, 95000, 95000, 95000, 95000, 95000, 95000, 95000, 95000, 95000, 95000, 95000, 95000, 95000, 95000, 95000, 95000, 95000, 95000, 95000, 95000, 95000, 95056, 95243, 95264, 95264, 95306, 95306, 96000, 96000, 96000, 96652, 97032, 97032, 97032, 97500, 97573, 97822, 98000, 98000, 98000, 98000, 98000, 98500, 100000, 100000, 100000, 100000, 100000, 100000, 100000, 100000, 100000, 100000, 100000, 100000, 100000, 100000, 100000, 100000, 100000, 100000, 100000, 100000, 100000, 100000, 100000, 100000, 100000, 100000, 100000, 100000, 100000, 100235, 100235, 100235, 100402, 100402, 100402, 100800, 100800, 100800, 100800, 100800, 101026, 101026, 101026, 101088, 101229, 101837, 101837, 102000, 102000, 102000, 102000, 102000, 102000, 102000, 102000, 102044, 102170, 102357, 102390, 102400, 102544, 104000, 104000, 104000, 104021, 104064, 105000, 105000, 105000, 105000, 105000, 105000, 105000, 105000, 105000, 105000, 105000, 105000, 105000, 105000, 105000, 105000, 105000, 105165, 106000, 106000, 106000, 106000, 106000, 106000, 106000, 106550, 106900, 106995, 107071, 107300, 107300, 107390, 107390, 107390, 107390, 107390, 108483, 109000, 109200, 109500, 109678, 109678, 110000, 110000, 110000, 110000, 110000, 110000, 110000, 110000, 110000, 110000, 110000, 110000, 110000, 110000, 110000, 110000, 110000, 110000, 110000, 110000, 110000, 110000, 110000, 110000, 110000, 110000, 110000, 110000, 110000, 110000, 110000, 110000, 110000, 110000, 110000, 110000, 110000, 110000, 110000, 110000, 110000, 110000, 110000, 110760, 111500, 111500, 111500, 111571, 111613, 111613, 112000, 112000, 112000, 112200, 112445, 112500, 113300, 113860, 114000, 114000, 114000, 114000, 114000, 114000, 114000, 114000, 114000, 114000, 114000, 114000, 114000, 114000, 114358, 114358, 114358, 115000, 115000, 115000, 115000, 115000, 115000, 115000, 115000, 115000, 115000, 115000, 115000, 115000, 115000, 115000, 115000, 115000, 115000, 115000, 115000, 115000, 115000, 115000, 115000, 115000, 115000, 115000, 115000, 115000, 115000, 115000, 115000, 115000, 115000, 115000, 115000, 115000, 115000, 115000, 115000, 115000, 115000, 115000, 115000, 115000, 115000, 115000, 115000, 115000, 115000, 115000, 115000, 115000, 115000, 115000, 115000, 115000, 115000, 115000, 115000, 115000, 115000, 115000, 115000, 115400, 116000, 117000, 117000, 117000, 117000, 117163, 117166, 117500, 117700, 117770, 117875, 118000, 118000, 118000, 119517, 119517, 119642, 119912, 120000, 120000, 120000, 120000, 120000, 120000, 120000, 120000, 120000, 120000, 120000, 120000, 120000, 120000, 120000, 120000, 120000, 120000, 120000, 120000, 120000, 120000, 120000, 120000, 120000, 120000, 120000, 120000, 120000, 120000, 120000, 120000, 120000, 120224, 120349, 120390, 121369, 122928, 123000, 123000, 123000, 123000, 123000, 123000, 123505, 123594, 123594, 123594, 123594, 123600, 123700, 124000, 124000, 125000, 125000, 125000, 125000, 125000, 125000, 125000, 125000, 125000, 125000, 125000, 125000, 125000, 125000, 125000, 125000, 125000, 125000, 125000, 125000, 125000, 125000, 125000, 125000, 125000, 125000, 125000, 125000, 126000, 126000, 127000, 128000, 128500, 129000, 129000, 129300, 130000, 130000, 130000, 130000, 130000, 130000, 130000, 130000, 130000, 130000, 130000, 130000, 130000, 130000, 130000, 130000, 130000, 130000, 130000, 130300, 130680, 130800, 131766, 132000, 132300, 132527, 133500, 133500, 133500, 133500, 133500, 133500, 133500, 135000, 135000, 135000, 135000, 135000, 135000, 135000, 135000, 135000, 135000, 135000, 135000, 135000, 135000, 135000, 135000, 135000, 135000, 135000, 135000, 135000, 135000, 135180, 135387, 135402, 135500, 137000, 137885, 138000, 138100, 138507, 138507, 139321, 139672, 139818, 140000, 140000, 140000, 140000, 140000, 140000, 140000, 140000, 140000, 140000, 140000, 140000, 140000, 140000, 140000, 140000, 140000, 140000, 140000, 140000, 140000, 140000, 140000, 140306, 140306, 140700, 141750, 141960, 141960, 142000, 142000, 142200, 142376, 142600, 143220, 143790, 144000, 144000, 145000, 145000, 145000, 145000, 145000, 145000, 145000, 145000, 145534, 147000, 147046, 149000, 149000, 150000, 150000, 150000, 150000, 150000, 150000, 150000, 150000, 150000, 150000, 150000, 150000, 150000, 150000, 150000, 155000, 155000, 155000, 155000, 155000, 156000, 158270, 159484, 159484, 160000, 160000, 165000, 165000, 165000, 165000, 165000, 165360, 170000, 170000, 175000, 175000, 184000, 189000, 195000, 195000, 250000]}, {\"name\": \"2015\", \"type\": \"box\", \"y\": [47960, 47960, 70000, 90000, 90000, 96160, 114000, 130000, 130000, 131860, 5769, 45150, 46800, 46800, 50000, 50731, 50731, 54142, 55550, 57500, 57500, 58656, 59738, 60000, 60000, 60000, 60000, 60466, 62000, 62525, 62795, 62816, 63045, 63045, 63107, 63107, 63107, 63500, 65000, 65000, 65500, 65500, 66144, 67000, 68952, 68952, 70000, 70000, 70000, 70033, 70033, 70096, 70637, 71032, 71032, 71822, 72000, 72000, 72000, 72530, 73550, 73736, 74290, 74290, 74610, 75000, 75000, 75000, 75000, 75000, 75000, 75000, 75000, 75000, 75000, 76606, 76718, 77022, 77064, 78000, 78480, 79186, 80000, 80000, 80000, 80000, 80000, 80000, 80000, 80000, 80000, 80000, 80000, 80000, 80000, 80750, 81224, 81245, 82000, 82000, 82000, 82000, 82000, 84094, 85000, 85000, 85000, 85000, 85000, 85000, 85000, 85000, 85000, 85000, 85000, 85000, 85000, 85938, 85946, 85946, 85946, 86000, 86237, 86362, 86445, 86700, 87277, 87277, 87277, 87277, 87277, 87400, 88254, 88254, 88254, 89440, 89440, 90000, 90000, 90000, 90000, 90000, 90000, 90000, 90000, 90000, 90000, 90000, 90000, 90000, 90000, 90000, 90002, 91000, 91000, 91125, 91166, 92000, 92000, 92000, 92000, 92000, 93000, 93000, 93000, 93912, 93974, 93974, 93974, 94000, 94200, 94931, 95000, 95000, 95000, 95000, 95000, 95000, 95000, 95000, 95000, 95000, 95000, 95000, 95000, 95000, 95000, 95264, 97000, 97573, 98000, 98500, 99000, 99653, 100000, 100000, 100000, 100000, 100000, 100000, 100000, 100000, 100000, 100000, 100000, 100000, 100000, 100000, 100000, 100000, 100000, 100000, 100000, 100000, 100000, 100000, 100000, 100000, 100000, 100000, 100000, 100000, 100000, 100000, 100000, 100000, 100000, 100000, 100000, 100000, 100000, 100000, 100880, 101000, 101358, 101358, 102000, 102000, 102003, 102086, 102086, 102500, 103130, 103400, 103400, 105000, 105000, 105000, 105000, 105000, 105000, 105000, 105000, 105000, 105000, 105000, 105000, 105000, 105000, 105000, 105000, 105000, 105000, 105000, 105000, 105000, 105000, 105000, 105000, 105000, 105789, 105900, 106590, 106600, 107000, 107000, 107000, 107100, 107390, 107500, 107750, 108000, 108597, 108597, 108597, 108704, 109100, 110000, 110000, 110000, 110000, 110000, 110000, 110000, 110000, 110000, 110000, 110000, 110000, 110000, 110000, 110000, 110000, 110000, 110000, 110000, 110000, 110000, 110000, 110000, 110000, 110000, 110000, 110000, 110000, 110000, 110000, 110000, 110000, 110000, 110780, 111500, 111500, 112000, 112000, 112000, 112000, 112500, 112500, 112500, 112500, 112500, 114200, 114248, 114358, 115000, 115000, 115000, 115000, 115000, 115000, 115000, 115000, 115000, 115000, 115000, 115000, 115000, 115000, 115000, 115000, 115000, 115000, 115000, 115000, 115000, 115000, 115000, 115000, 115500, 115682, 115693, 116480, 116480, 116480, 117000, 117000, 117075, 117230, 117230, 117230, 117453, 117453, 117749, 118000, 118000, 118000, 118061, 118061, 119205, 119276, 119500, 120000, 120000, 120000, 120000, 120000, 120000, 120000, 120000, 120000, 120000, 120000, 120000, 120000, 120000, 120000, 120000, 120000, 120000, 120000, 120000, 120000, 120000, 120000, 120000, 120000, 120000, 120000, 120000, 120000, 120000, 120000, 120100, 120200, 120800, 121000, 121100, 122200, 123000, 123000, 123000, 123000, 123000, 123000, 123000, 123594, 124000, 124000, 124800, 125000, 125000, 125000, 125000, 125000, 125000, 125000, 125000, 125000, 125000, 125000, 125000, 125000, 125000, 125000, 125000, 125000, 125000, 125008, 126000, 126500, 126900, 127000, 127000, 128000, 129500, 129979, 130000, 130000, 130000, 130000, 130000, 130000, 130000, 130000, 130000, 130000, 130000, 130000, 130000, 130000, 130000, 130000, 130000, 130000, 130000, 130000, 130000, 130000, 130303, 130560, 131269, 131616, 132200, 133099, 133478, 133500, 133500, 133515, 133515, 133732, 134000, 134600, 134721, 135000, 135000, 135000, 135000, 135000, 135000, 135000, 135000, 135000, 135000, 135000, 135000, 135000, 135000, 135000, 135000, 135000, 135000, 135000, 136573, 138486, 138486, 138486, 140000, 140000, 140000, 140000, 140000, 140000, 140000, 140000, 140000, 140000, 140000, 140546, 145000, 145000, 145000, 145000, 145000, 145000, 145000, 145043, 148000, 149575, 150000, 150000, 150000, 150000, 150000, 150000, 155000, 155000, 157602, 159492, 160000, 160000, 160000, 160000, 165000, 169000, 170000, 175000, 175000, 183066, 185000, 205000]}, {\"name\": \"2017\", \"type\": \"box\", \"y\": [50000, 50220, 52300, 60000, 60140, 60360, 79260, 80000, 85940, 86540, 87100, 87900, 90000, 91580, 91580, 91640, 92000, 98900, 100000, 110000, 110000, 110000, 110000, 114000, 37482, 37482, 45469, 45469, 48734, 48734, 49733, 49733, 49733, 49733, 50000, 50000, 50128, 50315, 50315, 50378, 50700, 50939, 52062, 53872, 53872, 53872, 53872, 54974, 55000, 55000, 55744, 56139, 56222, 56784, 58000, 58000, 58000, 58323, 58635, 59238, 59987, 59987, 60000, 60000, 60000, 60000, 60000, 60000, 60000, 60000, 60000, 60000, 60000, 60000, 60000, 60091, 61131, 61963, 62379, 62546, 62546, 63000, 63000, 63814, 63814, 63814, 63814, 64000, 64792, 64958, 64958, 65000, 65000, 65000, 65000, 65000, 65000, 65000, 65200, 65208, 65208, 65208, 65520, 65978, 66000, 66000, 66000, 66000, 66518, 68000, 68000, 68000, 68432, 68432, 69000, 69000, 69000, 69000, 69077, 69597, 69722, 69763, 69763, 69763, 69763, 69867, 69867, 70000, 70000, 70000, 70000, 70000, 70000, 70000, 70000, 70000, 70000, 70000, 70000, 70000, 70000, 70000, 70000, 70000, 70000, 70000, 70000, 70000, 70000, 70000, 70000, 70119, 70119, 70500, 70670, 70845, 70845, 70900, 71000, 71781, 72000, 72000, 72000, 72000, 72000, 72000, 72467, 72627, 72627, 72758, 72758, 73000, 73500, 73590, 74526, 74547, 74818, 74859, 74859, 75000, 75000, 75000, 75000, 75000, 75000, 75000, 75000, 75000, 75000, 75000, 75000, 75000, 75227, 75338, 76120, 76835, 76898, 77000, 77000, 77000, 77250, 77250, 77500, 77646, 77834, 78000, 78000, 78000, 78000, 78250, 78520, 78520, 78603, 78666, 79200, 79581, 79581, 79585, 79875, 80000, 80000, 80000, 80000, 80000, 80000, 80000, 80000, 80000, 80000, 80000, 80000, 80000, 80000, 80000, 80000, 80000, 80000, 80000, 80000, 80000, 80000, 80000, 80000, 80000, 80000, 80205, 80400, 80558, 80558, 80558, 80558, 80558, 80558, 80662, 80995, 81000, 81037, 81078, 81349, 81349, 81349, 81349, 81400, 81515, 81900, 81900, 82000, 82000, 82000, 82430, 82430, 82430, 82430, 82500, 82500, 82500, 82500, 82534, 82680, 82763, 82763, 83000, 83013, 83200, 83387, 83387, 84011, 84157, 84240, 84323, 84800, 84885, 84975, 85000, 85000, 85000, 85000, 85000, 85000, 85000, 85000, 85000, 85000, 85000, 85000, 85000, 85000, 85000, 85000, 85000, 85000, 85000, 85000, 85000, 85000, 85000, 85000, 85000, 85000, 85000, 85000, 85000, 85000, 85000, 85000, 85218, 85238, 85500, 85675, 85675, 85700, 85700, 85700, 85738, 86000, 86400, 86466, 86466, 86466, 86694, 86694, 87000, 87000, 87100, 87500, 87500, 87700, 87700, 87800, 88000, 88629, 89000, 89000, 89586, 89960, 89960, 89960, 89960, 90000, 90000, 90000, 90000, 90000, 90000, 90000, 90000, 90000, 90000, 90000, 90000, 90000, 90000, 90000, 90000, 90000, 90000, 90000, 90000, 90000, 90000, 90000, 90000, 90000, 90000, 90000, 90000, 90000, 90000, 90000, 90000, 90000, 90000, 90000, 90000, 90000, 90000, 90000, 90000, 90000, 90000, 90000, 90000, 90000, 90000, 90000, 90000, 90000, 90000, 90000, 90000, 90000, 90000, 90000, 90000, 90000, 90000, 90000, 90000, 90000, 90000, 90000, 90000, 90000, 90000, 90000, 90000, 90000, 90200, 90351, 90351, 90813, 90992, 91000, 91400, 91811, 91811, 91915, 91936, 92000, 92300, 92400, 92518, 92518, 92955, 92955, 92955, 92955, 93000, 93000, 93662, 93800, 93995, 94000, 94000, 94000, 94000, 94162, 94200, 94300, 94536, 94536, 94536, 94619, 94619, 94619, 94723, 95000, 95000, 95000, 95000, 95000, 95000, 95000, 95000, 95000, 95000, 95000, 95000, 95000, 95000, 95000, 95000, 95000, 95000, 95000, 95000, 95000, 95000, 95000, 95000, 95000, 95000, 95000, 95000, 95014, 95035, 95035, 95035, 95035, 95056, 95243, 95243, 95243, 95243, 95500, 95514, 95790, 95805, 95846, 95846, 96000, 96000, 96000, 96000, 96013, 96233, 96233, 96304, 96304, 96491, 96500, 96500, 96500, 96535, 96600, 96600, 96758, 96900, 96928, 97000, 97032, 97427, 97822, 97822, 97822, 97822, 97822, 98000, 98000, 98000, 98356, 98500, 98500, 98600, 99694, 99750, 99750, 99757, 99757, 99930, 100000, 100000, 100000, 100000, 100000, 100000, 100000, 100000, 100000, 100000, 100000, 100000, 100000, 100000, 100000, 100000, 100000, 100000, 100000, 100000, 100000, 100000, 100000, 100000, 100000, 100000, 100000, 100000, 100000, 100000, 100000, 100000, 100000, 100000, 100000, 100000, 100000, 100000, 100000, 100000, 100000, 100000, 100000, 100000, 100000, 100000, 100000, 100000, 100000, 100000, 100000, 100000, 100000, 100000, 100000, 100000, 100000, 100000, 100000, 100000, 100000, 100000, 100214, 100277, 100402, 100402, 100402, 100402, 100464, 100464, 100485, 101026, 101026, 101026, 101026, 101500, 101587, 101733, 102000, 102336, 102600, 102600, 102600, 102900, 102900, 102900, 102900, 103000, 103000, 103258, 103515, 103751, 103834, 103997, 104000, 104000, 104187, 104500, 104998, 105000, 105000, 105000, 105000, 105000, 105000, 105000, 105000, 105000, 105000, 105000, 105000, 105000, 105000, 105000, 105000, 105000, 105000, 105000, 105000, 105000, 105000, 105000, 105000, 105000, 105000, 105000, 105000, 105000, 105000, 105414, 105934, 106000, 106000, 106200, 106454, 106454, 106600, 107000, 107000, 107000, 107000, 107000, 107000, 107000, 107120, 107203, 107203, 107203, 107250, 107250, 107500, 107500, 107791, 108000, 108000, 108000, 108000, 108000, 108000, 108000, 108000, 108000, 108000, 108077, 108368, 108368, 108750, 108900, 109000, 109000, 109698, 110000, 110000, 110000, 110000, 110000, 110000, 110000, 110000, 110000, 110000, 110000, 110000, 110000, 110000, 110000, 110000, 110000, 110000, 110000, 110000, 110000, 110000, 110000, 110000, 110000, 110000, 110000, 110000, 110000, 110000, 110000, 110000, 110000, 110000, 110000, 110000, 110000, 110000, 110000, 110000, 110000, 110000, 110000, 110000, 110000, 110760, 110800, 110820, 110906, 111000, 111030, 111051, 111261, 111500, 111500, 111800, 112000, 112000, 112445, 112445, 112500, 112500, 113000, 113120, 113256, 113277, 113300, 113350, 113500, 113500, 113500, 113922, 113984, 114000, 114000, 114725, 115000, 115000, 115000, 115000, 115000, 115000, 115000, 115000, 115000, 115000, 115000, 115000, 115000, 115000, 115000, 115000, 115000, 115000, 115000, 115000, 115000, 115000, 115000, 115000, 115000, 115000, 115000, 115000, 115000, 115000, 115000, 115000, 115000, 115000, 115000, 115000, 115000, 115000, 115000, 115000, 115000, 115000, 115000, 115000, 115000, 115000, 115000, 115000, 115000, 115000, 115000, 115000, 115000, 115000, 115000, 115211, 115211, 115211, 115211, 115211, 115543, 115800, 116800, 117000, 117000, 117083, 117083, 117083, 117167, 117260, 117499, 118000, 118000, 118000, 118000, 118000, 118000, 118000, 118162, 118450, 119016, 119108, 119108, 119454, 119454, 119454, 119580, 119642, 119642, 119642, 119642, 119642, 119642, 119980, 120000, 120000, 120000, 120000, 120000, 120000, 120000, 120000, 120000, 120000, 120000, 120000, 120000, 120000, 120000, 120000, 120000, 120000, 120000, 120000, 120000, 120000, 120000, 120000, 120000, 120000, 120000, 120000, 120000, 120000, 120000, 120000, 120000, 120000, 120000, 120000, 120000, 120000, 120000, 120000, 120000, 120000, 120000, 120000, 120000, 120000, 120000, 120000, 120000, 120000, 120000, 120000, 120432, 120432, 120432, 121000, 121100, 121306, 121306, 121367, 122000, 122000, 122520, 122533, 122533, 122824, 122932, 123071, 123071, 123071, 123220, 124000, 124000, 124000, 124000, 124200, 124342, 124342, 124342, 124342, 124342, 124400, 124571, 124571, 124675, 124911, 125000, 125000, 125000, 125000, 125000, 125000, 125000, 125000, 125000, 125000, 125000, 125000, 125000, 125000, 125000, 125000, 125000, 125000, 125000, 125000, 125000, 125000, 125000, 125000, 125000, 125000, 125000, 125000, 125000, 125000, 125000, 125000, 125000, 125000, 125500, 126000, 126275, 127000, 127000, 127000, 127000, 127000, 127000, 127000, 127046, 127046, 127600, 128000, 128000, 128750, 129106, 129106, 129385, 129500, 129500, 130000, 130000, 130000, 130000, 130000, 130000, 130000, 130000, 130000, 130000, 130000, 130000, 130000, 130000, 130000, 130000, 130000, 130000, 130000, 130000, 130000, 130036, 130275, 130300, 130600, 131037, 131440, 131700, 132000, 132000, 132000, 132000, 132000, 132000, 132000, 132877, 133500, 134000, 134514, 134971, 135000, 135000, 135000, 135000, 135000, 135000, 135000, 135000, 135000, 135000, 135000, 135000, 135000, 135000, 135000, 135000, 135000, 135000, 135000, 135000, 135000, 135000, 135000, 135000, 135000, 135000, 135000, 135000, 135000, 135000, 135387, 135387, 135387, 135500, 135500, 135680, 136000, 136000, 136000, 136000, 136630, 136906, 137000, 137000, 137000, 137000, 137250, 137350, 138000, 138100, 138507, 138507, 138729, 138923, 138923, 138923, 138923, 139000, 139168, 139940, 140000, 140000, 140000, 140000, 140000, 140000, 140000, 140000, 140000, 140000, 140000, 140000, 140000, 140000, 140000, 140000, 140000, 140000, 140000, 140000, 140000, 140000, 140250, 140800, 140990, 141550, 141669, 141669, 141877, 142000, 142500, 142938, 143000, 143000, 143192, 143785, 143785, 144382, 145000, 145000, 145000, 145000, 145000, 145000, 145000, 145000, 145000, 145000, 145000, 145000, 145000, 145000, 145000, 145000, 145000, 145000, 145000, 145000, 145000, 145462, 146000, 146500, 146600, 147000, 147000, 147281, 147487, 149000, 149713, 150000, 150000, 150000, 150000, 150000, 150000, 150000, 150000, 150000, 150000, 150000, 150000, 150000, 150000, 150000, 150000, 150000, 150000, 150000, 150000, 150000, 150000, 150000, 150000, 150000, 150184, 152000, 152504, 153000, 154000, 155000, 155000, 155000, 155000, 155000, 155000, 155000, 156000, 158508, 159000, 159010, 160000, 160000, 160000, 160000, 160000, 160000, 160000, 160000, 160000, 160000, 163036, 163500, 163628, 165000, 165000, 165000, 165000, 167450, 168210, 170000, 170000, 170000, 170000, 170000, 171921, 172000, 172515, 175000, 175000, 175000, 175000, 175000, 175380, 180000, 182281, 182610, 182610, 185000, 190000, 190000, 200000, 210000, 250000, 253630]}, {\"name\": \"2019\", \"type\": \"box\", \"y\": [51860, 59340, 60420, 60420, 62000, 65500, 66000, 66000, 67000, 70000, 70000, 70000, 71400, 71580, 72100, 74000, 75260, 77860, 78000, 78000, 78920, 80000, 81920, 82000, 82080, 82080, 82820, 82820, 82820, 84100, 84140, 84740, 89220, 89220, 90000, 90000, 90000, 92700, 93920, 94120, 94220, 94220, 94420, 96000, 96160, 96160, 97800, 100000, 100040, 101740, 106560, 110000, 111720, 111720, 112500, 116000, 121740, 128000, 138460, 140000, 145980, 154000, 170000, 201920, 40000, 44117, 50000, 51000, 51355, 52000, 52000, 52000, 54163, 54434, 54600, 55000, 55000, 55000, 55120, 57096, 57221, 57242, 57450, 59280, 59280, 60000, 60000, 60000, 60000, 60000, 60000, 60000, 60000, 60674, 60798, 61000, 61298, 61298, 61298, 61734, 61734, 62000, 62000, 62546, 62650, 62650, 62650, 62982, 62982, 62982, 63000, 63066, 63232, 63419, 63500, 64043, 64064, 64064, 64064, 64272, 64272, 64397, 65000, 65000, 65000, 65000, 65000, 65000, 65000, 65000, 65000, 65000, 65000, 65000, 65000, 65000, 65000, 65000, 65000, 65000, 65000, 65000, 65000, 65166, 65312, 65312, 65312, 65499, 66000, 66000, 66000, 66500, 66518, 66540, 66560, 66664, 66664, 66768, 66830, 66830, 66955, 67000, 67101, 67142, 67205, 67309, 67621, 67642, 67642, 67642, 67933, 68000, 68000, 68000, 68080, 68224, 68307, 68411, 69200, 69264, 69264, 69264, 69264, 69264, 69264, 69264, 69360, 69430, 69430, 69680, 69680, 70000, 70000, 70000, 70000, 70000, 70000, 70000, 70000, 70000, 70000, 70000, 70000, 70000, 70000, 70000, 70000, 70000, 70000, 70000, 70000, 70000, 70000, 70000, 70000, 70000, 70034, 70054, 70200, 70200, 70200, 70242, 70242, 70387, 70450, 70720, 71000, 71000, 71328, 71400, 71448, 71469, 71500, 71531, 71698, 71750, 71802, 71906, 72000, 72000, 72000, 72000, 72000, 72301, 72301, 72301, 72322, 72322, 72800, 72800, 72862, 72862, 72904, 73000, 73060, 73108, 73341, 73424, 73440, 74000, 74000, 74006, 74006, 74006, 74048, 74048, 74100, 74100, 74250, 74250, 74256, 74360, 74402, 74443, 74443, 74443, 74443, 74443, 74443, 74443, 74444, 74568, 74734, 74880, 74880, 74880, 74880, 74880, 74880, 74984, 74984, 74984, 75000, 75000, 75000, 75000, 75000, 75000, 75000, 75000, 75000, 75000, 75000, 75000, 75000, 75000, 75000, 75000, 75000, 75000, 75000, 75000, 75000, 75000, 75000, 75000, 75000, 75000, 75000, 75000, 75000, 75000, 75000, 75000, 75000, 75192, 75296, 75650, 75650, 75800, 76000, 76000, 76033, 76128, 76190, 76220, 76294, 76315, 76461, 76500, 76500, 76800, 76814, 77000, 77000, 77000, 77189, 77443, 77500, 77620, 77655, 77813, 78000, 78000, 78000, 78000, 78000, 78000, 78354, 78444, 78500, 78500, 78700, 79165, 79165, 79165, 79206, 79331, 79400, 79779, 79830, 79830, 79851, 79893, 79893, 80000, 80000, 80000, 80000, 80000, 80000, 80000, 80000, 80000, 80000, 80000, 80000, 80000, 80000, 80000, 80000, 80000, 80000, 80000, 80000, 80000, 80000, 80000, 80000, 80000, 80000, 80000, 80000, 80000, 80000, 80000, 80000, 80000, 80000, 80000, 80000, 80000, 80000, 80000, 80000, 80000, 80000, 80000, 80000, 80000, 80000, 80413, 80413, 80413, 80413, 80413, 80413, 80500, 80704, 80704, 80850, 80850, 80850, 80850, 80850, 80850, 80850, 80850, 80850, 80850, 80850, 80850, 80850, 80850, 80912, 80912, 80912, 80912, 80912, 80912, 80912, 80974, 80974, 80974, 80974, 81000, 81000, 81000, 81000, 81000, 81000, 81000, 81000, 81000, 81000, 81016, 81016, 81016, 81037, 81266, 81266, 81266, 81286, 81476, 81600, 81931, 82000, 82000, 82000, 82000, 82000, 82000, 82000, 82000, 82030, 82030, 82181, 82500, 82618, 82618, 82618, 82618, 82618, 82618, 82618, 82618, 82618, 82618, 82650, 82800, 83000, 83000, 83000, 83000, 83000, 83000, 83000, 83000, 83034, 83200, 83200, 83491, 83600, 83616, 83699, 83866, 83866, 83866, 84000, 84000, 84000, 84000, 84240, 84240, 84261, 84261, 84261, 84400, 84469, 84494, 84494, 84677, 84698, 84698, 84780, 84781, 84804, 85000, 85000, 85000, 85000, 85000, 85000, 85000, 85000, 85000, 85000, 85000, 85000, 85000, 85000, 85000, 85000, 85000, 85000, 85000, 85000, 85000, 85000, 85000, 85000, 85000, 85000, 85000, 85000, 85000, 85000, 85000, 85000, 85000, 85000, 85000, 85000, 85000, 85000, 85000, 85000, 85000, 85000, 85000, 85000, 85000, 85000, 85000, 85000, 85000, 85010, 85200, 85200, 85200, 85200, 85200, 85280, 85342, 85350, 85363, 85363, 85600, 85717, 85717, 85930, 86000, 86000, 86000, 86000, 86000, 86000, 86000, 86000, 86494, 86923, 87000, 87000, 87000, 87000, 87000, 87000, 87000, 87000, 87000, 87090, 87090, 87090, 87235, 87360, 87464, 87464, 87464, 87464, 87464, 87464, 87464, 87464, 87464, 87464, 87464, 87464, 87464, 87485, 87500, 87500, 87500, 87500, 87500, 87500, 87506, 87506, 87506, 87506, 87506, 87612, 87630, 87672, 87750, 87781, 88000, 88000, 88000, 88000, 88000, 88000, 88000, 88000, 88000, 88000, 88000, 88200, 88200, 88400, 88400, 88400, 88483, 88566, 88566, 88566, 88800, 89000, 89086, 89086, 89086, 89128, 89149, 89340, 89419, 89648, 89700, 89773, 89918, 90000, 90000, 90000, 90000, 90000, 90000, 90000, 90000, 90000, 90000, 90000, 90000, 90000, 90000, 90000, 90000, 90000, 90000, 90000, 90000, 90000, 90000, 90000, 90000, 90000, 90000, 90000, 90000, 90000, 90000, 90000, 90000, 90000, 90000, 90000, 90000, 90000, 90000, 90000, 90000, 90000, 90000, 90000, 90000, 90000, 90000, 90000, 90000, 90000, 90000, 90000, 90000, 90000, 90000, 90000, 90000, 90000, 90000, 90000, 90000, 90000, 90000, 90000, 90000, 90002, 90047, 90047, 90048, 90106, 90106, 90106, 90106, 90106, 90106, 90200, 90200, 90500, 90500, 90500, 90500, 90529, 90584, 90688, 90938, 90950, 91000, 91000, 91000, 91000, 91280, 91458, 91533, 92000, 92000, 92000, 92000, 92000, 92000, 92000, 92248, 92248, 92394, 92394, 92400, 92414, 92414, 92414, 92414, 92414, 92414, 92414, 92414, 92414, 92414, 92414, 92414, 92414, 92414, 92414, 92414, 92414, 92414, 92414, 92414, 92414, 92414, 92414, 92414, 92414, 92414, 92414, 92414, 92414, 92414, 92414, 92414, 92414, 92475, 92500, 92500, 92500, 92500, 92560, 92789, 92789, 93000, 93000, 93000, 93000, 93000, 93411, 93538, 93538, 93538, 93538, 93538, 93600, 93660, 93660, 93660, 93660, 93660, 93660, 93660, 93700, 93700, 93700, 93746, 93933, 94000, 94000, 94000, 94016, 94058, 94162, 94370, 94500, 94500, 94600, 94640, 94640, 94640, 94770, 94806, 94806, 94806, 94806, 94900, 95000, 95000, 95000, 95000, 95000, 95000, 95000, 95000, 95000, 95000, 95000, 95000, 95000, 95000, 95000, 95000, 95000, 95000, 95000, 95000, 95000, 95000, 95000, 95000, 95000, 95000, 95000, 95000, 95000, 95000, 95000, 95000, 95000, 95000, 95000, 95000, 95000, 95000, 95000, 95000, 95000, 95000, 95000, 95000, 95000, 95000, 95000, 95000, 95000, 95000, 95000, 95000, 95000, 95000, 95000, 95000, 95000, 95000, 95000, 95000, 95000, 95000, 95000, 95000, 95000, 95000, 95000, 95000, 95000, 95000, 95000, 95077, 95077, 95077, 95160, 95160, 95160, 95160, 95306, 95618, 95618, 95618, 95638, 95638, 95638, 95638, 95638, 95638, 95638, 95638, 95889, 96000, 96000, 96000, 96000, 96000, 96075, 96075, 96075, 96075, 96158, 96283, 96305, 96366, 96366, 96400, 96400, 96500, 96500, 96500, 96500, 96500, 96500, 96500, 96595, 96907, 97000, 97000, 97000, 97000, 97094, 97178, 97200, 97200, 97219, 97469, 97500, 97677, 97677, 97885, 97885, 97900, 97906, 97906, 97989, 98000, 98000, 98000, 98000, 98000, 98000, 98000, 98000, 98000, 98020, 98020, 98020, 98100, 98576, 98800, 99000, 99195, 99466, 99600, 99736, 99900, 99999, 100000, 100000, 100000, 100000, 100000, 100000, 100000, 100000, 100000, 100000, 100000, 100000, 100000, 100000, 100000, 100000, 100000, 100000, 100000, 100000, 100000, 100000, 100000, 100000, 100000, 100000, 100000, 100000, 100000, 100000, 100000, 100000, 100000, 100000, 100000, 100000, 100000, 100000, 100000, 100000, 100000, 100000, 100000, 100000, 100000, 100000, 100000, 100000, 100000, 100000, 100000, 100000, 100000, 100000, 100000, 100000, 100000, 100000, 100000, 100000, 100000, 100000, 100000, 100000, 100000, 100000, 100000, 100000, 100000, 100000, 100000, 100000, 100000, 100000, 100000, 100000, 100000, 100000, 100000, 100000, 100000, 100000, 100000, 100000, 100000, 100008, 100022, 100069, 100069, 100500, 100500, 100506, 100506, 100506, 100506, 100506, 100506, 100506, 100506, 100506, 100506, 100506, 100506, 100506, 100506, 100506, 100506, 100506, 100506, 100506, 100660, 100786, 100922, 101000, 101296, 101379, 101600, 101745, 101756, 101800, 102000, 102000, 102000, 102000, 102000, 102000, 102000, 102149, 102149, 102200, 102200, 102200, 102200, 102200, 102200, 102200, 102200, 102200, 102200, 102200, 102200, 102200, 102223, 102300, 102310, 102352, 102731, 103000, 103000, 103000, 103000, 103000, 103000, 103000, 103000, 103200, 103200, 103480, 103584, 104000, 104000, 104500, 104790, 104975, 105000, 105000, 105000, 105000, 105000, 105000, 105000, 105000, 105000, 105000, 105000, 105000, 105000, 105000, 105000, 105000, 105000, 105000, 105000, 105000, 105000, 105000, 105000, 105000, 105000, 105000, 105000, 105000, 105000, 105000, 105000, 105000, 105000, 105000, 105000, 105000, 105000, 105000, 105000, 105000, 105000, 105000, 105039, 105227, 105227, 105227, 105500, 105549, 105622, 105622, 105622, 105719, 105810, 105810, 105810, 105810, 105810, 105810, 105810, 105810, 105810, 105810, 105810, 105810, 105810, 105810, 105810, 105810, 105810, 105810, 105810, 105810, 106000, 106000, 106000, 106000, 106000, 106000, 106000, 106000, 106082, 106082, 106517, 106821, 107000, 107000, 107000, 107000, 107000, 107120, 107182, 107228, 107500, 107500, 107500, 108000, 108000, 108000, 108000, 108000, 108000, 108000, 108000, 108139, 108162, 108555, 108576, 108631, 108675, 108888, 108888, 109000, 109075, 109242, 109346, 109554, 109792, 109800, 110000, 110000, 110000, 110000, 110000, 110000, 110000, 110000, 110000, 110000, 110000, 110000, 110000, 110000, 110000, 110000, 110000, 110000, 110000, 110000, 110000, 110000, 110000, 110000, 110000, 110000, 110000, 110000, 110000, 110000, 110000, 110000, 110000, 110000, 110000, 110000, 110000, 110000, 110000, 110000, 110000, 110000, 110000, 110000, 110000, 110000, 110000, 110000, 110000, 110000, 110000, 110000, 110000, 110000, 110000, 110000, 110000, 110000, 110000, 110000, 110000, 110000, 110000, 110000, 110000, 110000, 110000, 110000, 110000, 110000, 110000, 110000, 110000, 110000, 110000, 110000, 110000, 110000, 110000, 110000, 110004, 110004, 110080, 110406, 110500, 110600, 110802, 110802, 110802, 110802, 110802, 110802, 110802, 110802, 110822, 110822, 110854, 110900, 110900, 111000, 111000, 111275, 111446, 111987, 111987, 112000, 112000, 112000, 112000, 112000, 112000, 112000, 112000, 112000, 112000, 112362, 112362, 112500, 112923, 113000, 113152, 113152, 113152, 113152, 113152, 113200, 113256, 113318, 113318, 113520, 113520, 113536, 113589, 113589, 113589, 113589, 114000, 114000, 114000, 114317, 114317, 114317, 114317, 114317, 114320, 114390, 114500, 115000, 115000, 115000, 115000, 115000, 115000, 115000, 115000, 115000, 115000, 115000, 115000, 115000, 115000, 115000, 115000, 115000, 115000, 115000, 115000, 115000, 115000, 115000, 115000, 115000, 115000, 115000, 115000, 115000, 115000, 115000, 115000, 115000, 115000, 115000, 115000, 115000, 115000, 115000, 115000, 115000, 115190, 115360, 115500, 115700, 115856, 116000, 116000, 116000, 116000, 116400, 116500, 116698, 116892, 116979, 117000, 117000, 117500, 117800, 117875, 118000, 118000, 118000, 118000, 118000, 118000, 118000, 118000, 118200, 118456, 118498, 118498, 118500, 118500, 118540, 118705, 118747, 118800, 118820, 119000, 119100, 119200, 119200, 119579, 119600, 119850, 119850, 119850, 119850, 119850, 119850, 119850, 119850, 119900, 119904, 119904, 119904, 119904, 120000, 120000, 120000, 120000, 120000, 120000, 120000, 120000, 120000, 120000, 120000, 120000, 120000, 120000, 120000, 120000, 120000, 120000, 120000, 120000, 120000, 120000, 120000, 120000, 120000, 120000, 120000, 120000, 120000, 120000, 120000, 120000, 120000, 120000, 120000, 120000, 120000, 120000, 120000, 120000, 120000, 120000, 120000, 120000, 120000, 120000, 120000, 120000, 120000, 120000, 120000, 120000, 120000, 120000, 120000, 120000, 120000, 120000, 120000, 120000, 120000, 120000, 120000, 120000, 120000, 120000, 120000, 120000, 120000, 120000, 120000, 120000, 120000, 120000, 120120, 120144, 120240, 120663, 121000, 121000, 121000, 121077, 121077, 121306, 121805, 121805, 121805, 121805, 121805, 121846, 121846, 121953, 122000, 122117, 122221, 122283, 122700, 122900, 122900, 123000, 123011, 123261, 124000, 124000, 124080, 124410, 125000, 125000, 125000, 125000, 125000, 125000, 125000, 125000, 125000, 125000, 125000, 125000, 125000, 125000, 125000, 125000, 125000, 125000, 125000, 125000, 125000, 125000, 125000, 125000, 125000, 125000, 125000, 125000, 125000, 125000, 125000, 125000, 125000, 125000, 125000, 125000, 125000, 125000, 125000, 125000, 125000, 125000, 125000, 125000, 125000, 125000, 125000, 125000, 125000, 125000, 125000, 125000, 125000, 125050, 125400, 125500, 125674, 125694, 125694, 125694, 126000, 127000, 128000, 128000, 128000, 128000, 128312, 128500, 128561, 128731, 129000, 129000, 129030, 129118, 129189, 129200, 129210, 129210, 129600, 129605, 129605, 129605, 129605, 129605, 129605, 129864, 130000, 130000, 130000, 130000, 130000, 130000, 130000, 130000, 130000, 130000, 130000, 130000, 130000, 130000, 130000, 130000, 130000, 130000, 130000, 130000, 130000, 130000, 130000, 130000, 130000, 130000, 130000, 130000, 130000, 130000, 130000, 130000, 130000, 130000, 130000, 130000, 130000, 130000, 130000, 130000, 130000, 130000, 130000, 130000, 130000, 130000, 130000, 130000, 130000, 130000, 130000, 130000, 130000, 130000, 130000, 130000, 130000, 130000, 130000, 131000, 131000, 131000, 131000, 131997, 131997, 131997, 131997, 131997, 131997, 131997, 131997, 131997, 131997, 131997, 131997, 131997, 131997, 131997, 131997, 131997, 132000, 132000, 132000, 132000, 132000, 132000, 132184, 132388, 132615, 132870, 133000, 133300, 133300, 133350, 133786, 133786, 134000, 134000, 134210, 134400, 135000, 135000, 135000, 135000, 135000, 135000, 135000, 135000, 135000, 135000, 135000, 135000, 135000, 135000, 135000, 135000, 135000, 135000, 135000, 135000, 135000, 135000, 135000, 135000, 135000, 135000, 135000, 135000, 135000, 135000, 135000, 135000, 135000, 135000, 135000, 135000, 135000, 135000, 135000, 135000, 135000, 135000, 135000, 135000, 136000, 136000, 136000, 136219, 136600, 136800, 136827, 137000, 137000, 137000, 137000, 137000, 137000, 137000, 137000, 137000, 137000, 137000, 137000, 137000, 137000, 137000, 137000, 137000, 137000, 137000, 137000, 137000, 137000, 137000, 137000, 137079, 137351, 137351, 138300, 138720, 138900, 139000, 139000, 139130, 139235, 139400, 139400, 140000, 140000, 140000, 140000, 140000, 140000, 140000, 140000, 140000, 140000, 140000, 140000, 140000, 140000, 140000, 140000, 140000, 140000, 140000, 140000, 140000, 140000, 140000, 140000, 140000, 140000, 140000, 140000, 140000, 140000, 140000, 140000, 140000, 140000, 140000, 140000, 140000, 140000, 140000, 140000, 140000, 140000, 140000, 140000, 140000, 140000, 140000, 140000, 140000, 140000, 140000, 140000, 140149, 140250, 140400, 140400, 140670, 141000, 141000, 141000, 141000, 141036, 141250, 141360, 141750, 142000, 142164, 142650, 142800, 143000, 143000, 143104, 143104, 143104, 143104, 143104, 143104, 143104, 143591, 143591, 143871, 143871, 144000, 144200, 144518, 144563, 144750, 144769, 144769, 145000, 145000, 145000, 145000, 145000, 145000, 145000, 145000, 145000, 145000, 145000, 145000, 145000, 145000, 145000, 145000, 145000, 145000, 145000, 145000, 145000, 145000, 145000, 145000, 145000, 145000, 145000, 145000, 145000, 145000, 145000, 145000, 145000, 146000, 146000, 147000, 147000, 147000, 147000, 147000, 147000, 147000, 147000, 147000, 147000, 147000, 147000, 147000, 147000, 147000, 147500, 148000, 148000, 148000, 148000, 148500, 148500, 148500, 148500, 149219, 149500, 150000, 150000, 150000, 150000, 150000, 150000, 150000, 150000, 150000, 150000, 150000, 150000, 150000, 150000, 150000, 150000, 150000, 150000, 150000, 150000, 150000, 150000, 150000, 150000, 150000, 150253, 150300, 150442, 150978, 151000, 151000, 151000, 151888, 152294, 152568, 152600, 152903, 153000, 153001, 154000, 154000, 154000, 154000, 154500, 154500, 155000, 155000, 155000, 155000, 155000, 155000, 155000, 155000, 155000, 155000, 155000, 155000, 155000, 155000, 155000, 155000, 155000, 155000, 155000, 155000, 155000, 155000, 155000, 155000, 155000, 155000, 155000, 155000, 155000, 156000, 156000, 156000, 156028, 156924, 158000, 158000, 158000, 158142, 158163, 158163, 158200, 159126, 159126, 159126, 159400, 159744, 160000, 160000, 160000, 160000, 160000, 160000, 160000, 160000, 160000, 160000, 160000, 160000, 160000, 160000, 160000, 160000, 160000, 160000, 161000, 161200, 161550, 161550, 162000, 163134, 164765, 164765, 164989, 164989, 165000, 165000, 165000, 165000, 165000, 165000, 165000, 165000, 165000, 165000, 165000, 165000, 165000, 165000, 166080, 166250, 168000, 168875, 168958, 169000, 169000, 169150, 169796, 170000, 170000, 170000, 170000, 170000, 170000, 170000, 170000, 170000, 170280, 171423, 172000, 172000, 172000, 172000, 172534, 174117, 174138, 174240, 174703, 174850, 175000, 175000, 175000, 175000, 175000, 175000, 175000, 175000, 175000, 175000, 175000, 175000, 175000, 175000, 175245, 175780, 175780, 176650, 177091, 177406, 177677, 180000, 180000, 180000, 180000, 180000, 180000, 180000, 180000, 180925, 183350, 183465, 185000, 185000, 185000, 185000, 185000, 185000, 185000, 185000, 187000, 190000, 190000, 190000, 190000, 190000, 190000, 190000, 190000, 190000, 190000, 190000, 190900, 193000, 195000, 195979, 200000, 200000, 200000, 200000, 200000, 200000, 200000, 200000, 200000, 200000, 200000, 200000, 200000, 203800, 204000, 205000, 216331, 220000, 225000, 225000, 248400, 248400, 260000, 260000]}, {\"name\": \"2018\", \"type\": \"box\", \"y\": [52000, 58920, 65500, 67300, 67300, 67300, 67380, 70000, 72000, 74000, 74000, 74000, 74880, 74880, 74880, 74880, 77600, 78020, 80000, 80000, 80000, 80000, 81620, 82000, 82000, 82860, 82860, 83520, 84000, 90000, 90320, 90720, 91340, 94100, 94400, 95000, 95000, 96000, 96160, 98000, 98000, 100000, 102000, 109880, 116640, 117500, 120000, 120000, 120000, 131860, 182700, 182700, 182700, 44574, 45614, 49088, 50170, 50440, 52000, 52000, 52000, 53768, 54579, 54579, 54579, 54600, 55000, 55000, 55000, 56493, 56597, 56597, 56700, 56880, 56880, 57000, 57554, 57554, 57554, 57928, 58219, 58219, 58450, 58864, 59675, 60000, 60000, 60000, 60000, 60000, 60000, 60000, 60000, 60000, 60000, 60000, 60000, 60029, 60133, 60133, 60133, 60500, 60923, 60923, 61000, 61263, 61651, 61797, 61800, 61800, 61838, 61838, 61838, 61984, 62000, 62000, 62000, 62000, 62213, 62213, 62400, 62500, 62587, 62587, 63000, 63024, 63066, 63500, 63500, 63523, 63731, 64168, 64355, 64626, 64626, 64626, 64650, 64813, 65000, 65000, 65000, 65000, 65000, 65000, 65000, 65000, 65000, 65000, 65000, 65000, 65000, 65000, 65000, 65000, 65000, 65000, 65000, 65000, 65229, 65229, 65229, 66000, 66394, 66700, 67000, 67000, 67000, 67000, 67000, 67000, 67000, 67000, 67000, 68000, 68000, 68037, 68307, 68411, 69000, 69000, 69000, 69000, 69243, 69243, 69243, 69243, 69472, 69701, 69867, 69992, 69992, 69992, 69992, 69992, 69992, 69992, 70000, 70000, 70000, 70000, 70000, 70000, 70000, 70000, 70000, 70000, 70000, 70000, 70000, 70000, 70000, 70000, 70000, 70000, 70000, 70000, 70000, 70000, 70000, 70000, 70000, 70000, 70000, 70000, 70000, 70000, 70000, 70000, 70200, 70346, 70678, 70678, 70678, 70750, 70928, 70990, 71000, 71074, 71099, 71365, 71578, 72000, 72000, 72000, 72000, 72000, 72000, 72000, 72000, 72000, 72000, 72000, 72000, 72000, 72000, 72000, 72000, 72000, 72000, 72000, 72000, 72000, 72000, 72000, 72000, 72100, 72450, 72450, 72500, 72600, 72779, 73070, 73070, 73500, 73942, 74000, 74000, 74277, 74339, 74339, 74381, 74506, 74734, 74880, 74880, 75000, 75000, 75000, 75000, 75000, 75000, 75000, 75000, 75000, 75000, 75000, 75000, 75000, 75000, 75000, 75000, 75000, 75000, 75000, 75000, 75000, 75000, 75000, 75000, 75000, 75000, 75000, 75000, 75000, 75000, 75000, 75000, 75000, 75000, 75000, 75000, 75200, 75213, 75317, 75317, 75650, 75650, 75733, 75733, 75733, 75800, 75982, 76000, 76000, 76000, 76000, 76100, 76100, 76492, 76500, 76586, 76600, 76752, 76794, 76918, 77000, 77000, 77000, 77000, 77000, 77000, 77000, 77000, 77043, 77050, 77106, 77500, 77626, 77700, 77854, 77854, 77854, 77854, 77854, 77854, 77854, 77854, 77854, 78000, 78000, 78000, 78000, 78000, 78000, 78000, 78000, 78000, 78000, 78083, 78374, 78374, 78500, 78582, 78666, 78666, 78666, 78700, 78720, 79206, 79206, 79997, 80000, 80000, 80000, 80000, 80000, 80000, 80000, 80000, 80000, 80000, 80000, 80000, 80000, 80000, 80000, 80000, 80000, 80000, 80000, 80000, 80000, 80000, 80000, 80000, 80000, 80000, 80000, 80000, 80000, 80000, 80000, 80000, 80000, 80000, 80000, 80000, 80000, 80000, 80000, 80234, 80234, 80413, 80850, 81000, 81037, 81037, 81037, 81037, 81037, 81037, 81037, 81037, 81037, 81037, 81037, 81120, 81162, 81266, 81500, 81661, 81786, 81900, 81931, 82000, 82000, 82000, 82000, 82000, 82000, 82000, 82000, 82181, 82200, 82285, 82334, 82500, 82500, 82500, 82560, 82560, 82576, 82618, 82763, 82909, 82909, 82909, 82909, 82909, 82909, 82909, 82909, 82909, 82909, 82909, 82909, 82909, 82909, 82909, 82909, 82909, 82909, 82921, 83000, 83000, 83000, 83230, 83262, 83366, 83720, 83720, 83782, 83782, 83970, 84000, 84000, 84000, 84000, 84000, 84500, 84739, 84739, 84744, 84760, 85000, 85000, 85000, 85000, 85000, 85000, 85000, 85000, 85000, 85000, 85000, 85000, 85000, 85000, 85000, 85000, 85000, 85000, 85000, 85000, 85000, 85000, 85000, 85000, 85000, 85000, 85000, 85000, 85000, 85000, 85000, 85000, 85000, 85000, 85000, 85000, 85000, 85000, 85155, 85155, 85200, 85200, 85200, 85200, 85342, 85342, 85342, 85342, 85426, 85426, 85717, 85800, 86000, 86000, 86154, 86200, 86200, 86611, 86612, 86614, 86653, 86666, 86700, 87000, 87000, 87000, 87000, 87000, 87000, 87000, 87000, 87000, 87000, 87173, 87500, 87500, 87500, 87526, 87526, 87526, 87526, 87550, 87550, 87550, 87797, 87797, 87859, 87859, 88000, 88000, 88000, 88000, 88000, 88000, 88026, 88026, 88026, 88088, 88317, 88483, 88858, 88858, 88858, 88900, 89000, 89000, 89000, 89000, 89024, 89024, 89024, 89024, 89024, 89024, 89024, 89024, 89024, 89024, 89024, 89024, 89024, 89100, 89250, 89336, 89565, 89565, 89898, 89939, 89960, 89960, 89960, 89960, 89960, 89960, 89960, 89960, 89960, 90000, 90000, 90000, 90000, 90000, 90000, 90000, 90000, 90000, 90000, 90000, 90000, 90000, 90000, 90000, 90000, 90000, 90000, 90000, 90000, 90000, 90000, 90000, 90000, 90000, 90000, 90000, 90000, 90000, 90000, 90000, 90000, 90000, 90000, 90000, 90000, 90000, 90000, 90000, 90000, 90000, 90000, 90000, 90000, 90000, 90000, 90000, 90000, 90000, 90000, 90000, 90000, 90000, 90000, 90000, 90000, 90000, 90000, 90000, 90000, 90000, 90002, 90085, 90500, 90500, 90506, 90646, 90742, 90917, 91000, 91000, 91000, 91000, 91000, 91000, 91374, 91374, 91440, 91440, 91915, 92000, 92000, 92000, 92000, 92019, 92019, 92310, 92394, 92414, 92500, 92768, 92768, 92955, 92955, 92955, 92955, 92955, 92955, 92955, 92955, 92955, 92955, 92997, 93000, 93000, 93000, 93000, 93000, 93000, 93000, 93000, 93000, 93000, 93000, 93000, 93000, 93000, 93000, 93000, 93000, 93000, 93000, 93000, 93000, 93150, 93309, 93309, 93451, 93600, 93600, 93600, 93725, 93742, 93765, 94000, 94000, 94000, 94000, 94000, 94078, 94120, 94203, 94203, 94266, 94300, 94300, 94536, 94536, 94557, 94744, 94744, 94744, 94770, 94774, 94900, 95000, 95000, 95000, 95000, 95000, 95000, 95000, 95000, 95000, 95000, 95000, 95000, 95000, 95000, 95000, 95000, 95000, 95000, 95000, 95000, 95000, 95000, 95000, 95000, 95000, 95000, 95000, 95000, 95000, 95000, 95000, 95000, 95000, 95000, 95000, 95000, 95000, 95000, 95000, 95000, 95000, 95014, 95065, 95400, 95472, 95555, 95638, 95826, 96000, 96000, 96000, 96000, 96075, 96075, 96075, 96117, 96117, 96117, 96325, 96325, 96325, 96500, 96500, 96500, 96600, 96697, 96767, 96900, 96900, 96900, 96900, 96928, 96928, 96928, 96990, 96990, 96990, 96990, 96990, 96990, 96990, 96990, 96990, 96990, 96990, 96990, 96990, 97000, 97000, 97000, 97100, 97219, 97219, 97365, 97375, 97375, 97510, 97656, 98000, 98000, 98000, 98020, 98020, 98070, 98256, 98262, 98262, 98262, 98363, 98500, 98633, 99154, 99400, 99861, 100000, 100000, 100000, 100000, 100000, 100000, 100000, 100000, 100000, 100000, 100000, 100000, 100000, 100000, 100000, 100000, 100000, 100000, 100000, 100000, 100000, 100000, 100000, 100000, 100000, 100000, 100000, 100000, 100000, 100000, 100000, 100000, 100000, 100000, 100000, 100000, 100000, 100000, 100000, 100000, 100000, 100000, 100000, 100000, 100000, 100000, 100000, 100000, 100000, 100000, 100000, 100000, 100000, 100000, 100000, 100000, 100000, 100000, 100000, 100000, 100000, 100000, 100000, 100000, 100000, 100000, 100000, 100050, 100090, 100250, 100402, 100402, 100485, 100506, 100506, 100506, 100506, 100800, 100800, 100880, 100880, 101000, 101587, 101591, 101711, 101711, 101711, 101800, 101960, 102000, 102000, 102000, 102000, 102000, 102107, 102253, 102274, 102274, 102300, 102336, 102500, 102500, 102600, 102600, 102669, 102669, 102801, 103000, 103000, 103000, 103024, 103201, 103334, 103542, 103771, 103771, 103771, 103771, 104000, 104000, 104104, 104500, 104900, 105000, 105000, 105000, 105000, 105000, 105000, 105000, 105000, 105000, 105000, 105000, 105000, 105000, 105000, 105000, 105000, 105000, 105000, 105000, 105000, 105000, 105000, 105000, 105000, 105000, 105000, 105000, 105000, 105000, 105000, 105000, 105000, 105000, 105000, 105000, 105000, 105000, 105000, 105000, 105000, 105000, 105000, 105000, 105000, 105000, 105040, 105227, 105227, 105227, 105300, 105300, 105300, 105435, 105872, 106000, 106000, 106090, 106600, 106861, 106897, 106954, 107000, 107000, 107000, 107000, 107000, 107000, 107000, 107000, 107000, 107100, 107203, 107349, 107370, 107500, 107730, 107920, 108000, 108000, 108000, 108000, 108000, 108000, 108000, 108000, 108000, 108000, 108000, 108100, 108118, 108118, 108118, 108118, 108139, 108139, 108400, 108400, 108450, 108638, 108638, 108638, 108638, 108638, 108675, 108784, 109000, 109000, 109000, 109000, 109000, 109000, 109117, 109117, 109990, 109990, 109990, 109992, 110000, 110000, 110000, 110000, 110000, 110000, 110000, 110000, 110000, 110000, 110000, 110000, 110000, 110000, 110000, 110000, 110000, 110000, 110000, 110000, 110000, 110000, 110000, 110000, 110000, 110000, 110000, 110000, 110000, 110000, 110000, 110000, 110000, 110000, 110000, 110000, 110000, 110000, 110000, 110000, 110000, 110000, 110000, 110000, 110000, 110000, 110000, 110000, 110000, 110000, 110000, 110000, 110109, 110236, 110236, 110365, 110365, 110659, 110802, 110802, 110802, 110864, 110864, 110864, 111000, 111000, 111000, 111000, 111000, 111000, 111000, 111000, 111000, 111000, 111000, 111000, 111030, 111030, 111030, 111030, 111030, 111030, 111030, 111030, 111030, 111051, 111509, 111509, 112000, 112000, 112000, 112000, 112000, 112500, 112549, 112642, 112694, 112750, 113000, 113000, 113000, 113256, 113400, 113740, 113740, 114000, 114000, 114000, 114000, 114000, 114163, 114317, 114317, 114317, 114400, 114400, 114400, 114400, 114400, 114400, 114440, 114440, 114600, 114712, 114754, 114754, 115000, 115000, 115000, 115000, 115000, 115000, 115000, 115000, 115000, 115000, 115000, 115000, 115000, 115000, 115000, 115000, 115000, 115000, 115000, 115000, 115000, 115000, 115000, 115000, 115000, 115000, 115000, 115000, 115000, 115000, 115000, 115000, 115000, 115000, 115000, 115000, 115000, 115000, 115000, 115000, 115000, 115000, 115000, 115000, 115000, 115000, 115000, 115000, 115000, 115000, 115000, 115000, 115000, 115000, 115000, 115000, 115000, 115000, 115000, 115000, 115000, 115000, 115050, 115060, 115060, 115060, 115060, 115060, 115060, 115060, 115060, 115060, 115482, 115600, 115748, 115800, 115814, 115887, 116000, 116000, 116000, 116000, 116000, 116042, 116230, 116230, 116376, 116400, 116400, 116600, 116600, 116720, 117000, 117000, 117026, 117200, 117476, 117476, 117686, 118000, 118000, 118000, 118000, 118000, 118000, 118000, 118000, 118000, 118000, 118300, 118750, 118820, 119000, 119184, 119184, 119300, 119380, 119850, 119900, 119900, 120000, 120000, 120000, 120000, 120000, 120000, 120000, 120000, 120000, 120000, 120000, 120000, 120000, 120000, 120000, 120000, 120000, 120000, 120000, 120000, 120000, 120000, 120000, 120000, 120000, 120000, 120000, 120000, 120000, 120000, 120000, 120000, 120000, 120000, 120000, 120000, 120000, 120000, 120000, 120000, 120000, 120000, 120000, 120000, 120000, 120000, 120000, 120000, 120000, 120000, 120000, 120000, 120000, 120000, 120000, 120000, 120000, 120000, 120000, 120000, 120000, 120000, 120000, 120000, 120000, 120000, 120000, 120000, 120000, 120000, 120000, 120000, 120000, 120000, 120000, 120000, 120432, 120432, 120432, 120432, 120510, 120928, 121000, 121000, 121085, 121306, 121306, 121306, 121306, 121306, 121306, 121306, 121306, 121310, 121400, 121400, 121547, 121620, 121805, 121805, 121807, 121894, 122000, 122000, 122130, 122158, 122158, 122158, 122158, 122158, 122158, 122158, 122158, 122158, 122158, 122158, 122158, 122158, 122158, 122158, 122158, 122200, 122200, 122429, 122760, 122824, 122824, 122824, 122824, 122824, 122824, 122824, 122824, 122824, 122824, 122824, 122824, 122886, 123000, 123000, 123011, 123614, 123614, 124000, 124000, 124800, 125000, 125000, 125000, 125000, 125000, 125000, 125000, 125000, 125000, 125000, 125000, 125000, 125000, 125000, 125000, 125000, 125000, 125000, 125000, 125000, 125000, 125000, 125000, 125000, 125000, 125000, 125000, 125000, 125000, 125000, 125000, 125000, 125000, 125000, 125000, 125000, 125000, 125000, 125004, 125050, 125050, 125050, 125112, 125310, 126000, 126000, 126000, 126000, 126027, 126100, 126298, 126298, 126298, 126298, 126500, 126610, 126880, 127000, 127000, 127000, 127254, 127500, 127500, 127500, 127816, 127900, 128000, 128000, 128000, 128000, 128377, 128500, 128536, 129000, 129106, 129106, 129106, 129106, 129106, 129106, 129106, 129106, 129106, 129106, 129106, 129112, 129210, 129579, 129605, 129715, 129880, 130000, 130000, 130000, 130000, 130000, 130000, 130000, 130000, 130000, 130000, 130000, 130000, 130000, 130000, 130000, 130000, 130000, 130000, 130000, 130000, 130000, 130000, 130000, 130000, 130000, 130000, 130000, 130000, 130000, 130000, 130000, 130000, 130000, 130000, 130000, 130000, 130000, 130000, 130000, 130000, 130000, 130000, 130000, 130000, 130000, 130000, 130000, 130000, 130000, 130000, 130000, 130000, 130000, 130001, 130001, 130001, 130001, 130150, 130250, 131000, 131000, 131000, 131000, 131000, 131000, 131000, 131000, 131200, 131303, 131411, 131518, 131888, 131997, 131997, 131997, 131997, 131997, 132000, 132000, 132080, 132100, 132100, 132500, 132877, 132877, 133000, 133000, 133000, 133012, 133141, 133146, 133146, 133555, 133769, 133786, 133808, 133850, 134000, 134000, 134014, 134730, 135000, 135000, 135000, 135000, 135000, 135000, 135000, 135000, 135000, 135000, 135000, 135000, 135000, 135000, 135000, 135000, 135000, 135000, 135000, 135000, 135000, 135000, 135000, 135000, 135000, 135000, 135000, 135000, 135000, 135000, 135000, 135000, 135000, 135000, 135000, 135000, 135000, 135000, 135000, 135000, 135000, 135000, 135000, 135000, 135000, 135037, 135037, 135250, 135283, 135450, 135500, 135975, 136000, 136000, 136350, 136370, 137000, 137000, 137000, 137000, 137300, 137800, 138000, 138000, 138000, 138000, 138000, 138000, 138327, 138327, 138389, 138500, 139495, 139495, 140000, 140000, 140000, 140000, 140000, 140000, 140000, 140000, 140000, 140000, 140000, 140000, 140000, 140000, 140000, 140000, 140000, 140000, 140000, 140000, 140000, 140000, 140000, 140000, 140000, 140000, 140000, 140000, 140000, 140000, 140000, 140000, 140000, 140000, 140000, 140000, 140000, 140000, 140000, 140000, 140000, 140000, 140000, 140000, 140000, 140000, 140250, 140270, 140300, 140400, 141000, 141000, 141200, 141200, 141550, 141665, 141877, 141877, 141877, 142000, 142300, 142500, 142600, 143000, 143000, 143104, 143104, 143200, 143404, 143529, 143785, 143850, 144000, 144000, 144000, 144197, 144200, 144244, 144750, 144787, 145000, 145000, 145000, 145000, 145000, 145000, 145000, 145000, 145000, 145000, 145000, 145000, 145000, 145000, 145000, 145000, 145000, 145000, 145000, 145000, 145903, 146000, 146000, 147000, 147248, 147300, 147347, 147347, 147400, 148000, 148003, 148150, 148500, 149000, 149191, 150000, 150000, 150000, 150000, 150000, 150000, 150000, 150000, 150000, 150000, 150000, 150000, 150000, 150000, 150000, 150000, 150000, 150000, 150000, 150000, 150000, 150000, 150000, 150000, 150000, 150000, 150000, 150000, 150000, 150000, 150000, 150000, 150000, 150000, 150000, 150000, 150000, 150000, 150000, 150000, 150000, 150000, 150000, 150000, 150000, 150000, 150000, 150184, 150773, 151311, 151590, 152407, 152420, 152850, 153000, 154000, 154000, 154998, 155000, 155000, 155000, 155000, 155000, 155000, 155000, 155000, 155000, 155000, 155000, 155000, 155000, 155000, 155000, 155000, 155000, 155000, 155000, 155000, 155000, 155000, 155000, 155000, 155000, 155000, 155000, 155000, 155000, 155000, 155000, 155000, 155000, 155000, 155000, 155250, 156000, 157000, 157000, 157000, 157500, 157500, 158000, 158163, 158163, 158163, 159266, 159411, 159800, 160000, 160000, 160000, 160000, 160000, 160000, 160000, 160000, 160000, 160000, 160000, 160000, 160000, 160000, 160000, 160000, 160000, 160000, 160000, 160000, 160000, 160000, 160000, 160000, 160000, 160058, 160475, 160930, 160930, 163000, 163134, 164000, 164000, 164000, 164000, 165000, 165000, 165000, 165000, 165000, 165000, 165000, 165000, 165000, 165000, 166020, 166250, 166385, 167500, 168000, 168000, 168000, 168875, 168875, 168875, 170000, 170000, 170000, 170000, 170000, 170000, 170000, 170000, 170000, 170000, 170000, 170000, 170000, 170000, 170000, 170000, 170000, 170000, 170328, 171000, 172000, 172000, 174117, 175000, 175000, 175000, 175000, 175000, 175000, 175000, 175000, 175000, 175000, 175000, 175000, 175000, 175723, 178541, 180000, 180000, 180000, 180000, 180000, 180000, 180000, 180000, 180000, 180000, 180000, 180000, 180000, 185000, 185000, 185000, 185000, 185000, 185000, 187000, 190000, 190000, 190000, 190000, 190000, 192000, 194835, 200000, 200000, 200000, 200000, 200000, 200000, 201925, 205000, 210000, 210000, 210000, 215000, 215000, 234000, 234000, 234000, 260000]}, {\"name\": \"2014\", \"type\": \"box\", \"y\": [170000, 71718, 73923, 74755, 82000, 87630, 89565, 90000, 90000, 90000, 90870, 91374, 95000, 100000, 100880, 102300, 103000, 105000, 105000, 105000, 105000, 105000, 107000, 108383, 110000, 110000, 110000, 110004, 112000, 114950, 115000, 115000, 115058, 115752, 118378, 118427, 118625, 120000, 120000, 120000, 120000, 120500, 121900, 122800, 127500, 130000, 130000, 130000, 130000, 130000, 130000, 135000, 135000, 136573, 136573, 138000, 138900, 140000, 140000, 140000, 140000, 148000, 150000, 150000, 150000, 150000, 150000, 150000, 155000, 160000, 163000, 170000, 175000, 175000]}],\n",
       "                        {\"template\": {\"data\": {\"bar\": [{\"error_x\": {\"color\": \"#2a3f5f\"}, \"error_y\": {\"color\": \"#2a3f5f\"}, \"marker\": {\"line\": {\"color\": \"#E5ECF6\", \"width\": 0.5}}, \"type\": \"bar\"}], \"barpolar\": [{\"marker\": {\"line\": {\"color\": \"#E5ECF6\", \"width\": 0.5}}, \"type\": \"barpolar\"}], \"carpet\": [{\"aaxis\": {\"endlinecolor\": \"#2a3f5f\", \"gridcolor\": \"white\", \"linecolor\": \"white\", \"minorgridcolor\": \"white\", \"startlinecolor\": \"#2a3f5f\"}, \"baxis\": {\"endlinecolor\": \"#2a3f5f\", \"gridcolor\": \"white\", \"linecolor\": \"white\", \"minorgridcolor\": \"white\", \"startlinecolor\": \"#2a3f5f\"}, \"type\": \"carpet\"}], \"choropleth\": [{\"colorbar\": {\"outlinewidth\": 0, \"ticks\": \"\"}, \"type\": \"choropleth\"}], \"contour\": [{\"colorbar\": {\"outlinewidth\": 0, \"ticks\": \"\"}, \"colorscale\": [[0.0, \"#0d0887\"], [0.1111111111111111, \"#46039f\"], [0.2222222222222222, \"#7201a8\"], [0.3333333333333333, \"#9c179e\"], [0.4444444444444444, \"#bd3786\"], [0.5555555555555556, \"#d8576b\"], [0.6666666666666666, \"#ed7953\"], [0.7777777777777778, \"#fb9f3a\"], [0.8888888888888888, \"#fdca26\"], [1.0, \"#f0f921\"]], \"type\": \"contour\"}], \"contourcarpet\": [{\"colorbar\": {\"outlinewidth\": 0, \"ticks\": \"\"}, \"type\": \"contourcarpet\"}], \"heatmap\": [{\"colorbar\": {\"outlinewidth\": 0, \"ticks\": \"\"}, \"colorscale\": [[0.0, \"#0d0887\"], [0.1111111111111111, \"#46039f\"], [0.2222222222222222, \"#7201a8\"], [0.3333333333333333, \"#9c179e\"], [0.4444444444444444, \"#bd3786\"], [0.5555555555555556, \"#d8576b\"], [0.6666666666666666, \"#ed7953\"], [0.7777777777777778, \"#fb9f3a\"], [0.8888888888888888, \"#fdca26\"], [1.0, \"#f0f921\"]], \"type\": \"heatmap\"}], \"heatmapgl\": [{\"colorbar\": {\"outlinewidth\": 0, \"ticks\": \"\"}, \"colorscale\": [[0.0, \"#0d0887\"], [0.1111111111111111, \"#46039f\"], [0.2222222222222222, \"#7201a8\"], [0.3333333333333333, \"#9c179e\"], [0.4444444444444444, \"#bd3786\"], [0.5555555555555556, \"#d8576b\"], [0.6666666666666666, \"#ed7953\"], [0.7777777777777778, \"#fb9f3a\"], [0.8888888888888888, \"#fdca26\"], [1.0, \"#f0f921\"]], \"type\": \"heatmapgl\"}], \"histogram\": [{\"marker\": {\"colorbar\": {\"outlinewidth\": 0, \"ticks\": \"\"}}, \"type\": \"histogram\"}], \"histogram2d\": [{\"colorbar\": {\"outlinewidth\": 0, \"ticks\": \"\"}, \"colorscale\": [[0.0, \"#0d0887\"], [0.1111111111111111, \"#46039f\"], [0.2222222222222222, \"#7201a8\"], [0.3333333333333333, \"#9c179e\"], [0.4444444444444444, \"#bd3786\"], [0.5555555555555556, \"#d8576b\"], [0.6666666666666666, \"#ed7953\"], [0.7777777777777778, \"#fb9f3a\"], [0.8888888888888888, \"#fdca26\"], [1.0, \"#f0f921\"]], \"type\": \"histogram2d\"}], \"histogram2dcontour\": [{\"colorbar\": {\"outlinewidth\": 0, \"ticks\": \"\"}, \"colorscale\": [[0.0, \"#0d0887\"], [0.1111111111111111, \"#46039f\"], [0.2222222222222222, \"#7201a8\"], [0.3333333333333333, \"#9c179e\"], [0.4444444444444444, \"#bd3786\"], [0.5555555555555556, \"#d8576b\"], [0.6666666666666666, \"#ed7953\"], [0.7777777777777778, \"#fb9f3a\"], [0.8888888888888888, \"#fdca26\"], [1.0, \"#f0f921\"]], \"type\": \"histogram2dcontour\"}], \"mesh3d\": [{\"colorbar\": {\"outlinewidth\": 0, \"ticks\": \"\"}, \"type\": \"mesh3d\"}], \"parcoords\": [{\"line\": {\"colorbar\": {\"outlinewidth\": 0, \"ticks\": \"\"}}, \"type\": \"parcoords\"}], \"pie\": [{\"automargin\": true, \"type\": \"pie\"}], \"scatter\": [{\"marker\": {\"colorbar\": {\"outlinewidth\": 0, \"ticks\": \"\"}}, \"type\": \"scatter\"}], \"scatter3d\": [{\"line\": {\"colorbar\": {\"outlinewidth\": 0, \"ticks\": \"\"}}, \"marker\": {\"colorbar\": {\"outlinewidth\": 0, \"ticks\": \"\"}}, \"type\": \"scatter3d\"}], \"scattercarpet\": [{\"marker\": {\"colorbar\": {\"outlinewidth\": 0, \"ticks\": \"\"}}, \"type\": \"scattercarpet\"}], \"scattergeo\": [{\"marker\": {\"colorbar\": {\"outlinewidth\": 0, \"ticks\": \"\"}}, \"type\": \"scattergeo\"}], \"scattergl\": [{\"marker\": {\"colorbar\": {\"outlinewidth\": 0, \"ticks\": \"\"}}, \"type\": \"scattergl\"}], \"scattermapbox\": [{\"marker\": {\"colorbar\": {\"outlinewidth\": 0, \"ticks\": \"\"}}, \"type\": \"scattermapbox\"}], \"scatterpolar\": [{\"marker\": {\"colorbar\": {\"outlinewidth\": 0, \"ticks\": \"\"}}, \"type\": \"scatterpolar\"}], \"scatterpolargl\": [{\"marker\": {\"colorbar\": {\"outlinewidth\": 0, \"ticks\": \"\"}}, \"type\": \"scatterpolargl\"}], \"scatterternary\": [{\"marker\": {\"colorbar\": {\"outlinewidth\": 0, \"ticks\": \"\"}}, \"type\": \"scatterternary\"}], \"surface\": [{\"colorbar\": {\"outlinewidth\": 0, \"ticks\": \"\"}, \"colorscale\": [[0.0, \"#0d0887\"], [0.1111111111111111, \"#46039f\"], [0.2222222222222222, \"#7201a8\"], [0.3333333333333333, \"#9c179e\"], [0.4444444444444444, \"#bd3786\"], [0.5555555555555556, \"#d8576b\"], [0.6666666666666666, \"#ed7953\"], [0.7777777777777778, \"#fb9f3a\"], [0.8888888888888888, \"#fdca26\"], [1.0, \"#f0f921\"]], \"type\": \"surface\"}], \"table\": [{\"cells\": {\"fill\": {\"color\": \"#EBF0F8\"}, \"line\": {\"color\": \"white\"}}, \"header\": {\"fill\": {\"color\": \"#C8D4E3\"}, \"line\": {\"color\": \"white\"}}, \"type\": \"table\"}]}, \"layout\": {\"annotationdefaults\": {\"arrowcolor\": \"#2a3f5f\", \"arrowhead\": 0, \"arrowwidth\": 1}, \"coloraxis\": {\"colorbar\": {\"outlinewidth\": 0, \"ticks\": \"\"}}, \"colorscale\": {\"diverging\": [[0, \"#8e0152\"], [0.1, \"#c51b7d\"], [0.2, \"#de77ae\"], [0.3, \"#f1b6da\"], [0.4, \"#fde0ef\"], [0.5, \"#f7f7f7\"], [0.6, \"#e6f5d0\"], [0.7, \"#b8e186\"], [0.8, \"#7fbc41\"], [0.9, \"#4d9221\"], [1, \"#276419\"]], \"sequential\": [[0.0, \"#0d0887\"], [0.1111111111111111, \"#46039f\"], [0.2222222222222222, \"#7201a8\"], [0.3333333333333333, \"#9c179e\"], [0.4444444444444444, \"#bd3786\"], [0.5555555555555556, \"#d8576b\"], [0.6666666666666666, \"#ed7953\"], [0.7777777777777778, \"#fb9f3a\"], [0.8888888888888888, \"#fdca26\"], [1.0, \"#f0f921\"]], \"sequentialminus\": [[0.0, \"#0d0887\"], [0.1111111111111111, \"#46039f\"], [0.2222222222222222, \"#7201a8\"], [0.3333333333333333, \"#9c179e\"], [0.4444444444444444, \"#bd3786\"], [0.5555555555555556, \"#d8576b\"], [0.6666666666666666, \"#ed7953\"], [0.7777777777777778, \"#fb9f3a\"], [0.8888888888888888, \"#fdca26\"], [1.0, \"#f0f921\"]]}, \"colorway\": [\"#636efa\", \"#EF553B\", \"#00cc96\", \"#ab63fa\", \"#FFA15A\", \"#19d3f3\", \"#FF6692\", \"#B6E880\", \"#FF97FF\", \"#FECB52\"], \"font\": {\"color\": \"#2a3f5f\"}, \"geo\": {\"bgcolor\": \"white\", \"lakecolor\": \"white\", \"landcolor\": \"#E5ECF6\", \"showlakes\": true, \"showland\": true, \"subunitcolor\": \"white\"}, \"hoverlabel\": {\"align\": \"left\"}, \"hovermode\": \"closest\", \"mapbox\": {\"style\": \"light\"}, \"paper_bgcolor\": \"white\", \"plot_bgcolor\": \"#E5ECF6\", \"polar\": {\"angularaxis\": {\"gridcolor\": \"white\", \"linecolor\": \"white\", \"ticks\": \"\"}, \"bgcolor\": \"#E5ECF6\", \"radialaxis\": {\"gridcolor\": \"white\", \"linecolor\": \"white\", \"ticks\": \"\"}}, \"scene\": {\"xaxis\": {\"backgroundcolor\": \"#E5ECF6\", \"gridcolor\": \"white\", \"gridwidth\": 2, \"linecolor\": \"white\", \"showbackground\": true, \"ticks\": \"\", \"zerolinecolor\": \"white\"}, \"yaxis\": {\"backgroundcolor\": \"#E5ECF6\", \"gridcolor\": \"white\", \"gridwidth\": 2, \"linecolor\": \"white\", \"showbackground\": true, \"ticks\": \"\", \"zerolinecolor\": \"white\"}, \"zaxis\": {\"backgroundcolor\": \"#E5ECF6\", \"gridcolor\": \"white\", \"gridwidth\": 2, \"linecolor\": \"white\", \"showbackground\": true, \"ticks\": \"\", \"zerolinecolor\": \"white\"}}, \"shapedefaults\": {\"line\": {\"color\": \"#2a3f5f\"}}, \"ternary\": {\"aaxis\": {\"gridcolor\": \"white\", \"linecolor\": \"white\", \"ticks\": \"\"}, \"baxis\": {\"gridcolor\": \"white\", \"linecolor\": \"white\", \"ticks\": \"\"}, \"bgcolor\": \"#E5ECF6\", \"caxis\": {\"gridcolor\": \"white\", \"linecolor\": \"white\", \"ticks\": \"\"}}, \"title\": {\"x\": 0.05}, \"xaxis\": {\"automargin\": true, \"gridcolor\": \"white\", \"linecolor\": \"white\", \"ticks\": \"\", \"title\": {\"standoff\": 15}, \"zerolinecolor\": \"white\", \"zerolinewidth\": 2}, \"yaxis\": {\"automargin\": true, \"gridcolor\": \"white\", \"linecolor\": \"white\", \"ticks\": \"\", \"title\": {\"standoff\": 15}, \"zerolinecolor\": \"white\", \"zerolinewidth\": 2}}}, \"title\": {\"text\": \"Salary Box Plot over Years\"}, \"xaxis\": {\"title\": {\"text\": \"Year\"}}, \"yaxis\": {\"title\": {\"text\": \"Salary in USD\"}}},\n",
       "                        {\"responsive\": true}\n",
       "                    ).then(function(){\n",
       "                            \n",
       "var gd = document.getElementById('45235c34-0ecc-4f7a-b7b6-0345f1054aa0');\n",
       "var x = new MutationObserver(function (mutations, observer) {{\n",
       "        var display = window.getComputedStyle(gd).display;\n",
       "        if (!display || display === 'none') {{\n",
       "            console.log([gd, 'removed!']);\n",
       "            Plotly.purge(gd);\n",
       "            observer.disconnect();\n",
       "        }}\n",
       "}});\n",
       "\n",
       "// Listen for the removal of the full notebook cells\n",
       "var notebookContainer = gd.closest('#notebook-container');\n",
       "if (notebookContainer) {{\n",
       "    x.observe(notebookContainer, {childList: true});\n",
       "}}\n",
       "\n",
       "// Listen for the clearing of the current output cell\n",
       "var outputEl = gd.closest('.output');\n",
       "if (outputEl) {{\n",
       "    x.observe(outputEl, {childList: true});\n",
       "}}\n",
       "\n",
       "                        })\n",
       "                };\n",
       "                });\n",
       "            </script>\n",
       "        </div>"
      ]
     },
     "metadata": {},
     "output_type": "display_data"
    }
   ],
   "source": [
    "fig = go.Figure()\n",
    "for i in data_scientists.year.unique():\n",
    "    fig.add_trace(go.Box(y = data_scientists[data_scientists.year==i]['salary'],\n",
    "                        name = str(i)))\n",
    "fig.update_layout(title = 'Salary Box Plot over Years', xaxis_title = 'Year', yaxis_title = 'Salary in USD')\n",
    "fig.show()"
   ]
  },
  {
   "cell_type": "markdown",
   "metadata": {},
   "source": [
    "## Histogram"
   ]
  },
  {
   "cell_type": "markdown",
   "metadata": {},
   "source": [
    "Let us check if the distribution of salaries approximates the famous normal distribution."
   ]
  },
  {
   "cell_type": "code",
   "execution_count": 703,
   "metadata": {},
   "outputs": [
    {
     "data": {
      "application/vnd.plotly.v1+json": {
       "config": {
        "plotlyServerURL": "https://plot.ly"
       },
       "data": [
        {
         "histnorm": "probability",
         "type": "histogram",
         "x": [
          46060,
          47960,
          47960,
          50000,
          50220,
          51860,
          52000,
          52300,
          58920,
          59340,
          60000,
          60140,
          60360,
          60420,
          60420,
          62000,
          62000,
          62060,
          63720,
          65080,
          65500,
          65500,
          66000,
          66000,
          67000,
          67300,
          67300,
          67300,
          67380,
          68380,
          70000,
          70000,
          70000,
          70000,
          70000,
          71400,
          71580,
          72000,
          72100,
          72100,
          73460,
          73460,
          74000,
          74000,
          74000,
          74000,
          74880,
          74880,
          74880,
          74880,
          75260,
          77600,
          77860,
          78000,
          78000,
          78020,
          78920,
          79260,
          80000,
          80000,
          80000,
          80000,
          80000,
          80000,
          81620,
          81920,
          82000,
          82000,
          82000,
          82080,
          82080,
          82820,
          82820,
          82820,
          82860,
          82860,
          83520,
          84000,
          84100,
          84140,
          84740,
          85940,
          86540,
          87100,
          87900,
          89220,
          89220,
          90000,
          90000,
          90000,
          90000,
          90000,
          90000,
          90000,
          90000,
          90320,
          90720,
          91200,
          91340,
          91580,
          91580,
          91640,
          92000,
          92700,
          93920,
          94100,
          94120,
          94220,
          94220,
          94400,
          94420,
          95000,
          95000,
          96000,
          96000,
          96160,
          96160,
          96160,
          96160,
          97800,
          98000,
          98000,
          98900,
          98900,
          100000,
          100000,
          100000,
          100000,
          100040,
          101740,
          102000,
          106560,
          109880,
          110000,
          110000,
          110000,
          110000,
          110000,
          111720,
          111720,
          112500,
          114000,
          114000,
          116000,
          116640,
          117500,
          120000,
          120000,
          120000,
          120000,
          120200,
          121740,
          128000,
          130000,
          130000,
          131860,
          131860,
          138460,
          140000,
          145980,
          152000,
          152000,
          154000,
          170000,
          170000,
          182700,
          182700,
          182700,
          201920,
          5769,
          29973,
          37482,
          37482,
          40000,
          42245,
          42765,
          42765,
          44117,
          44304,
          44304,
          44574,
          45150,
          45469,
          45469,
          45614,
          46800,
          46800,
          46900,
          48734,
          48734,
          49088,
          49733,
          49733,
          49733,
          49733,
          50000,
          50000,
          50000,
          50000,
          50000,
          50000,
          50000,
          50004,
          50128,
          50170,
          50315,
          50315,
          50336,
          50336,
          50378,
          50440,
          50700,
          50731,
          50731,
          50939,
          51000,
          51000,
          51355,
          52000,
          52000,
          52000,
          52000,
          52000,
          52000,
          52062,
          53768,
          53872,
          53872,
          53872,
          53872,
          53893,
          54142,
          54163,
          54434,
          54579,
          54579,
          54579,
          54600,
          54600,
          54974,
          55000,
          55000,
          55000,
          55000,
          55000,
          55000,
          55000,
          55000,
          55000,
          55000,
          55120,
          55550,
          55744,
          56072,
          56139,
          56222,
          56493,
          56597,
          56597,
          56700,
          56784,
          56880,
          56880,
          57000,
          57096,
          57221,
          57242,
          57429,
          57429,
          57450,
          57500,
          57500,
          57554,
          57554,
          57554,
          57928,
          58000,
          58000,
          58000,
          58219,
          58219,
          58323,
          58450,
          58635,
          58656,
          58864,
          59238,
          59280,
          59280,
          59675,
          59738,
          59738,
          59738,
          59987,
          59987,
          60000,
          60000,
          60000,
          60000,
          60000,
          60000,
          60000,
          60000,
          60000,
          60000,
          60000,
          60000,
          60000,
          60000,
          60000,
          60000,
          60000,
          60000,
          60000,
          60000,
          60000,
          60000,
          60000,
          60000,
          60000,
          60000,
          60000,
          60000,
          60000,
          60000,
          60000,
          60000,
          60000,
          60000,
          60000,
          60000,
          60000,
          60000,
          60000,
          60029,
          60029,
          60091,
          60133,
          60133,
          60133,
          60466,
          60486,
          60486,
          60486,
          60500,
          60674,
          60798,
          60923,
          60923,
          60986,
          61000,
          61000,
          61131,
          61131,
          61263,
          61298,
          61298,
          61298,
          61651,
          61734,
          61734,
          61797,
          61800,
          61800,
          61838,
          61838,
          61838,
          61963,
          61984,
          62000,
          62000,
          62000,
          62000,
          62000,
          62000,
          62000,
          62213,
          62213,
          62379,
          62400,
          62500,
          62525,
          62546,
          62546,
          62546,
          62587,
          62587,
          62650,
          62650,
          62650,
          62795,
          62816,
          62982,
          62982,
          62982,
          63000,
          63000,
          63000,
          63000,
          63000,
          63024,
          63045,
          63045,
          63045,
          63066,
          63066,
          63107,
          63107,
          63107,
          63232,
          63419,
          63500,
          63500,
          63500,
          63500,
          63523,
          63731,
          63814,
          63814,
          63814,
          63814,
          63814,
          64000,
          64043,
          64064,
          64064,
          64064,
          64168,
          64189,
          64272,
          64272,
          64355,
          64397,
          64596,
          64626,
          64626,
          64626,
          64641,
          64641,
          64650,
          64750,
          64792,
          64813,
          64958,
          64958,
          65000,
          65000,
          65000,
          65000,
          65000,
          65000,
          65000,
          65000,
          65000,
          65000,
          65000,
          65000,
          65000,
          65000,
          65000,
          65000,
          65000,
          65000,
          65000,
          65000,
          65000,
          65000,
          65000,
          65000,
          65000,
          65000,
          65000,
          65000,
          65000,
          65000,
          65000,
          65000,
          65000,
          65000,
          65000,
          65000,
          65000,
          65000,
          65000,
          65000,
          65000,
          65000,
          65000,
          65000,
          65000,
          65000,
          65000,
          65000,
          65000,
          65000,
          65000,
          65000,
          65166,
          65200,
          65208,
          65208,
          65208,
          65229,
          65229,
          65229,
          65312,
          65312,
          65312,
          65499,
          65500,
          65500,
          65500,
          65520,
          65978,
          66000,
          66000,
          66000,
          66000,
          66000,
          66000,
          66000,
          66000,
          66144,
          66144,
          66144,
          66394,
          66500,
          66518,
          66518,
          66540,
          66560,
          66622,
          66664,
          66664,
          66685,
          66700,
          66768,
          66830,
          66830,
          66934,
          66955,
          67000,
          67000,
          67000,
          67000,
          67000,
          67000,
          67000,
          67000,
          67000,
          67000,
          67000,
          67000,
          67101,
          67142,
          67200,
          67205,
          67309,
          67500,
          67621,
          67642,
          67642,
          67642,
          67683,
          67933,
          68000,
          68000,
          68000,
          68000,
          68000,
          68000,
          68000,
          68000,
          68037,
          68080,
          68224,
          68307,
          68307,
          68400,
          68411,
          68411,
          68432,
          68432,
          68775,
          68952,
          68952,
          69000,
          69000,
          69000,
          69000,
          69000,
          69000,
          69000,
          69000,
          69000,
          69077,
          69200,
          69243,
          69243,
          69243,
          69243,
          69264,
          69264,
          69264,
          69264,
          69264,
          69264,
          69264,
          69360,
          69410,
          69430,
          69430,
          69472,
          69529,
          69550,
          69550,
          69550,
          69550,
          69597,
          69680,
          69680,
          69701,
          69722,
          69763,
          69763,
          69763,
          69763,
          69763,
          69763,
          69867,
          69867,
          69867,
          69992,
          69992,
          69992,
          69992,
          69992,
          69992,
          69992,
          70000,
          70000,
          70000,
          70000,
          70000,
          70000,
          70000,
          70000,
          70000,
          70000,
          70000,
          70000,
          70000,
          70000,
          70000,
          70000,
          70000,
          70000,
          70000,
          70000,
          70000,
          70000,
          70000,
          70000,
          70000,
          70000,
          70000,
          70000,
          70000,
          70000,
          70000,
          70000,
          70000,
          70000,
          70000,
          70000,
          70000,
          70000,
          70000,
          70000,
          70000,
          70000,
          70000,
          70000,
          70000,
          70000,
          70000,
          70000,
          70000,
          70000,
          70000,
          70000,
          70000,
          70000,
          70000,
          70000,
          70000,
          70000,
          70000,
          70000,
          70000,
          70000,
          70000,
          70000,
          70000,
          70000,
          70000,
          70000,
          70000,
          70000,
          70000,
          70000,
          70000,
          70000,
          70000,
          70000,
          70000,
          70000,
          70000,
          70000,
          70000,
          70000,
          70000,
          70000,
          70000,
          70000,
          70000,
          70000,
          70000,
          70000,
          70000,
          70000,
          70000,
          70000,
          70000,
          70000,
          70000,
          70000,
          70000,
          70000,
          70000,
          70000,
          70000,
          70000,
          70000,
          70000,
          70000,
          70000,
          70000,
          70000,
          70000,
          70000,
          70000,
          70000,
          70000,
          70033,
          70033,
          70034,
          70054,
          70096,
          70119,
          70119,
          70200,
          70200,
          70200,
          70200,
          70242,
          70242,
          70304,
          70346,
          70387,
          70450,
          70500,
          70637,
          70670,
          70678,
          70678,
          70678,
          70720,
          70750,
          70845,
          70845,
          70886,
          70900,
          70928,
          70990,
          71000,
          71000,
          71000,
          71000,
          71032,
          71032,
          71074,
          71099,
          71328,
          71365,
          71400,
          71448,
          71469,
          71500,
          71531,
          71578,
          71698,
          71718,
          71750,
          71781,
          71802,
          71822,
          71906,
          72000,
          72000,
          72000,
          72000,
          72000,
          72000,
          72000,
          72000,
          72000,
          72000,
          72000,
          72000,
          72000,
          72000,
          72000,
          72000,
          72000,
          72000,
          72000,
          72000,
          72000,
          72000,
          72000,
          72000,
          72000,
          72000,
          72000,
          72000,
          72000,
          72000,
          72000,
          72000,
          72000,
          72000,
          72000,
          72000,
          72000,
          72000,
          72000,
          72000,
          72100,
          72300,
          72301,
          72301,
          72301,
          72322,
          72322,
          72450,
          72450,
          72467,
          72500,
          72530,
          72600,
          72627,
          72627,
          72685,
          72758,
          72758,
          72779,
          72800,
          72800,
          72862,
          72862,
          72904,
          73000,
          73000,
          73000,
          73000,
          73060,
          73070,
          73070,
          73108,
          73341,
          73424,
          73440,
          73486,
          73500,
          73500,
          73550,
          73590,
          73715,
          73736,
          73923,
          73942,
          73965,
          74000,
          74000,
          74000,
          74000,
          74000,
          74006,
          74006,
          74006,
          74048,
          74048,
          74100,
          74100,
          74250,
          74250,
          74256,
          74277,
          74290,
          74290,
          74339,
          74339,
          74360,
          74381,
          74402,
          74443,
          74443,
          74443,
          74443,
          74443,
          74443,
          74443,
          74444,
          74506,
          74526,
          74547,
          74568,
          74610,
          74734,
          74734,
          74755,
          74818,
          74838,
          74838,
          74859,
          74859,
          74880,
          74880,
          74880,
          74880,
          74880,
          74880,
          74880,
          74880,
          74900,
          74900,
          74984,
          74984,
          74984,
          75000,
          75000,
          75000,
          75000,
          75000,
          75000,
          75000,
          75000,
          75000,
          75000,
          75000,
          75000,
          75000,
          75000,
          75000,
          75000,
          75000,
          75000,
          75000,
          75000,
          75000,
          75000,
          75000,
          75000,
          75000,
          75000,
          75000,
          75000,
          75000,
          75000,
          75000,
          75000,
          75000,
          75000,
          75000,
          75000,
          75000,
          75000,
          75000,
          75000,
          75000,
          75000,
          75000,
          75000,
          75000,
          75000,
          75000,
          75000,
          75000,
          75000,
          75000,
          75000,
          75000,
          75000,
          75000,
          75000,
          75000,
          75000,
          75000,
          75000,
          75000,
          75000,
          75000,
          75000,
          75000,
          75000,
          75000,
          75000,
          75000,
          75000,
          75000,
          75000,
          75000,
          75000,
          75000,
          75000,
          75000,
          75000,
          75000,
          75000,
          75000,
          75000,
          75000,
          75000,
          75000,
          75000,
          75000,
          75000,
          75000,
          75000,
          75000,
          75000,
          75000,
          75000,
          75000,
          75000,
          75000,
          75000,
          75000,
          75000,
          75000,
          75000,
          75000,
          75000,
          75000,
          75000,
          75000,
          75000,
          75000,
          75000,
          75000,
          75000,
          75000,
          75000,
          75000,
          75000,
          75000,
          75192,
          75200,
          75213,
          75227,
          75296,
          75317,
          75317,
          75338,
          75650,
          75650,
          75650,
          75650,
          75733,
          75733,
          75733,
          75800,
          75800,
          75982,
          76000,
          76000,
          76000,
          76000,
          76000,
          76000,
          76000,
          76000,
          76000,
          76000,
          76033,
          76100,
          76100,
          76120,
          76128,
          76190,
          76220,
          76294,
          76315,
          76461,
          76492,
          76500,
          76500,
          76500,
          76586,
          76600,
          76606,
          76718,
          76752,
          76794,
          76800,
          76814,
          76835,
          76898,
          76918,
          76918,
          77000,
          77000,
          77000,
          77000,
          77000,
          77000,
          77000,
          77000,
          77000,
          77000,
          77000,
          77000,
          77000,
          77000,
          77000,
          77000,
          77000,
          77022,
          77043,
          77050,
          77064,
          77106,
          77189,
          77250,
          77250,
          77443,
          77500,
          77500,
          77500,
          77500,
          77620,
          77626,
          77646,
          77655,
          77667,
          77700,
          77813,
          77834,
          77854,
          77854,
          77854,
          77854,
          77854,
          77854,
          77854,
          77854,
          77854,
          78000,
          78000,
          78000,
          78000,
          78000,
          78000,
          78000,
          78000,
          78000,
          78000,
          78000,
          78000,
          78000,
          78000,
          78000,
          78000,
          78000,
          78000,
          78000,
          78000,
          78000,
          78000,
          78000,
          78083,
          78250,
          78312,
          78312,
          78354,
          78374,
          78374,
          78444,
          78480,
          78500,
          78500,
          78500,
          78520,
          78520,
          78582,
          78603,
          78666,
          78666,
          78666,
          78666,
          78700,
          78700,
          78720,
          78811,
          79165,
          79165,
          79165,
          79186,
          79200,
          79206,
          79206,
          79206,
          79227,
          79331,
          79400,
          79498,
          79498,
          79498,
          79581,
          79581,
          79585,
          79779,
          79830,
          79830,
          79851,
          79875,
          79893,
          79893,
          79997,
          79999,
          79999,
          79999,
          80000,
          80000,
          80000,
          80000,
          80000,
          80000,
          80000,
          80000,
          80000,
          80000,
          80000,
          80000,
          80000,
          80000,
          80000,
          80000,
          80000,
          80000,
          80000,
          80000,
          80000,
          80000,
          80000,
          80000,
          80000,
          80000,
          80000,
          80000,
          80000,
          80000,
          80000,
          80000,
          80000,
          80000,
          80000,
          80000,
          80000,
          80000,
          80000,
          80000,
          80000,
          80000,
          80000,
          80000,
          80000,
          80000,
          80000,
          80000,
          80000,
          80000,
          80000,
          80000,
          80000,
          80000,
          80000,
          80000,
          80000,
          80000,
          80000,
          80000,
          80000,
          80000,
          80000,
          80000,
          80000,
          80000,
          80000,
          80000,
          80000,
          80000,
          80000,
          80000,
          80000,
          80000,
          80000,
          80000,
          80000,
          80000,
          80000,
          80000,
          80000,
          80000,
          80000,
          80000,
          80000,
          80000,
          80000,
          80000,
          80000,
          80000,
          80000,
          80000,
          80000,
          80000,
          80000,
          80000,
          80000,
          80000,
          80000,
          80000,
          80000,
          80000,
          80000,
          80000,
          80000,
          80000,
          80000,
          80000,
          80000,
          80000,
          80000,
          80000,
          80000,
          80000,
          80000,
          80000,
          80000,
          80000,
          80000,
          80000,
          80000,
          80000,
          80000,
          80000,
          80000,
          80000,
          80000,
          80000,
          80000,
          80000,
          80000,
          80000,
          80000,
          80000,
          80000,
          80000,
          80000,
          80000,
          80000,
          80000,
          80000,
          80000,
          80000,
          80000,
          80000,
          80000,
          80000,
          80000,
          80000,
          80000,
          80000,
          80205,
          80234,
          80234,
          80400,
          80413,
          80413,
          80413,
          80413,
          80413,
          80413,
          80413,
          80500,
          80558,
          80558,
          80558,
          80558,
          80558,
          80558,
          80662,
          80704,
          80704,
          80750,
          80850,
          80850,
          80850,
          80850,
          80850,
          80850,
          80850,
          80850,
          80850,
          80850,
          80850,
          80850,
          80850,
          80850,
          80850,
          80912,
          80912,
          80912,
          80912,
          80912,
          80912,
          80912,
          80974,
          80974,
          80974,
          80974,
          80995,
          80995,
          81000,
          81000,
          81000,
          81000,
          81000,
          81000,
          81000,
          81000,
          81000,
          81000,
          81000,
          81000,
          81000,
          81016,
          81016,
          81016,
          81037,
          81037,
          81037,
          81037,
          81037,
          81037,
          81037,
          81037,
          81037,
          81037,
          81037,
          81037,
          81037,
          81078,
          81078,
          81099,
          81120,
          81120,
          81162,
          81224,
          81245,
          81266,
          81266,
          81266,
          81266,
          81286,
          81349,
          81349,
          81349,
          81349,
          81385,
          81400,
          81476,
          81500,
          81515,
          81515,
          81600,
          81661,
          81786,
          81848,
          81900,
          81900,
          81900,
          81900,
          81931,
          81931,
          82000,
          82000,
          82000,
          82000,
          82000,
          82000,
          82000,
          82000,
          82000,
          82000,
          82000,
          82000,
          82000,
          82000,
          82000,
          82000,
          82000,
          82000,
          82000,
          82000,
          82000,
          82000,
          82000,
          82000,
          82000,
          82000,
          82030,
          82030,
          82181,
          82181,
          82200,
          82285,
          82334,
          82349,
          82430,
          82430,
          82430,
          82430,
          82500,
          82500,
          82500,
          82500,
          82500,
          82500,
          82500,
          82500,
          82500,
          82534,
          82560,
          82560,
          82574,
          82574,
          82576,
          82618,
          82618,
          82618,
          82618,
          82618,
          82618,
          82618,
          82618,
          82618,
          82618,
          82618,
          82650,
          82680,
          82763,
          82763,
          82763,
          82800,
          82909,
          82909,
          82909,
          82909,
          82909,
          82909,
          82909,
          82909,
          82909,
          82909,
          82909,
          82909,
          82909,
          82909,
          82909,
          82909,
          82909,
          82909,
          82921,
          83000,
          83000,
          83000,
          83000,
          83000,
          83000,
          83000,
          83000,
          83000,
          83000,
          83000,
          83000,
          83000,
          83000,
          83013,
          83034,
          83200,
          83200,
          83200,
          83230,
          83262,
          83366,
          83387,
          83387,
          83491,
          83500,
          83600,
          83616,
          83699,
          83720,
          83720,
          83782,
          83782,
          83866,
          83866,
          83866,
          83970,
          84000,
          84000,
          84000,
          84000,
          84000,
          84000,
          84000,
          84000,
          84000,
          84000,
          84011,
          84094,
          84157,
          84240,
          84240,
          84240,
          84261,
          84261,
          84261,
          84323,
          84400,
          84448,
          84469,
          84494,
          84494,
          84500,
          84677,
          84698,
          84698,
          84739,
          84739,
          84739,
          84744,
          84760,
          84780,
          84781,
          84800,
          84804,
          84885,
          84975,
          85000,
          85000,
          85000,
          85000,
          85000,
          85000,
          85000,
          85000,
          85000,
          85000,
          85000,
          85000,
          85000,
          85000,
          85000,
          85000,
          85000,
          85000,
          85000,
          85000,
          85000,
          85000,
          85000,
          85000,
          85000,
          85000,
          85000,
          85000,
          85000,
          85000,
          85000,
          85000,
          85000,
          85000,
          85000,
          85000,
          85000,
          85000,
          85000,
          85000,
          85000,
          85000,
          85000,
          85000,
          85000,
          85000,
          85000,
          85000,
          85000,
          85000,
          85000,
          85000,
          85000,
          85000,
          85000,
          85000,
          85000,
          85000,
          85000,
          85000,
          85000,
          85000,
          85000,
          85000,
          85000,
          85000,
          85000,
          85000,
          85000,
          85000,
          85000,
          85000,
          85000,
          85000,
          85000,
          85000,
          85000,
          85000,
          85000,
          85000,
          85000,
          85000,
          85000,
          85000,
          85000,
          85000,
          85000,
          85000,
          85000,
          85000,
          85000,
          85000,
          85000,
          85000,
          85000,
          85000,
          85000,
          85000,
          85000,
          85000,
          85000,
          85000,
          85000,
          85000,
          85000,
          85000,
          85000,
          85000,
          85000,
          85000,
          85000,
          85000,
          85000,
          85000,
          85000,
          85000,
          85000,
          85000,
          85000,
          85000,
          85000,
          85000,
          85000,
          85000,
          85000,
          85000,
          85000,
          85000,
          85000,
          85000,
          85000,
          85000,
          85000,
          85000,
          85000,
          85000,
          85000,
          85000,
          85000,
          85000,
          85000,
          85000,
          85000,
          85000,
          85000,
          85000,
          85000,
          85000,
          85000,
          85000,
          85000,
          85000,
          85010,
          85020,
          85035,
          85155,
          85155,
          85200,
          85200,
          85200,
          85200,
          85200,
          85200,
          85200,
          85200,
          85200,
          85218,
          85238,
          85280,
          85280,
          85342,
          85342,
          85342,
          85342,
          85342,
          85350,
          85363,
          85363,
          85426,
          85426,
          85500,
          85500,
          85600,
          85600,
          85613,
          85675,
          85675,
          85696,
          85700,
          85700,
          85700,
          85717,
          85717,
          85717,
          85738,
          85800,
          85862,
          85862,
          85862,
          85869,
          85930,
          85938,
          85946,
          85946,
          85946,
          86000,
          86000,
          86000,
          86000,
          86000,
          86000,
          86000,
          86000,
          86000,
          86000,
          86000,
          86000,
          86000,
          86000,
          86000,
          86000,
          86100,
          86154,
          86200,
          86200,
          86237,
          86362,
          86400,
          86445,
          86466,
          86466,
          86466,
          86494,
          86500,
          86500,
          86611,
          86612,
          86614,
          86653,
          86666,
          86694,
          86694,
          86700,
          86700,
          86923,
          87000,
          87000,
          87000,
          87000,
          87000,
          87000,
          87000,
          87000,
          87000,
          87000,
          87000,
          87000,
          87000,
          87000,
          87000,
          87000,
          87000,
          87000,
          87000,
          87000,
          87000,
          87000,
          87000,
          87090,
          87090,
          87090,
          87100,
          87100,
          87173,
          87235,
          87277,
          87277,
          87277,
          87277,
          87277,
          87360,
          87400,
          87402,
          87413,
          87464,
          87464,
          87464,
          87464,
          87464,
          87464,
          87464,
          87464,
          87464,
          87464,
          87464,
          87464,
          87464,
          87485,
          87500,
          87500,
          87500,
          87500,
          87500,
          87500,
          87500,
          87500,
          87500,
          87500,
          87500,
          87500,
          87506,
          87506,
          87506,
          87506,
          87506,
          87526,
          87526,
          87526,
          87526,
          87550,
          87550,
          87550,
          87612,
          87630,
          87630,
          87672,
          87700,
          87700,
          87750,
          87781,
          87797,
          87797,
          87800,
          87807,
          87859,
          87859,
          88000,
          88000,
          88000,
          88000,
          88000,
          88000,
          88000,
          88000,
          88000,
          88000,
          88000,
          88000,
          88000,
          88000,
          88000,
          88000,
          88000,
          88000,
          88000,
          88000,
          88000,
          88000,
          88026,
          88026,
          88026,
          88088,
          88200,
          88200,
          88234,
          88254,
          88254,
          88254,
          88317,
          88400,
          88400,
          88400,
          88421,
          88426,
          88483,
          88483,
          88566,
          88566,
          88566,
          88629,
          88629,
          88800,
          88858,
          88858,
          88858,
          88900,
          89000,
          89000,
          89000,
          89000,
          89000,
          89000,
          89000,
          89024,
          89024,
          89024,
          89024,
          89024,
          89024,
          89024,
          89024,
          89024,
          89024,
          89024,
          89024,
          89024,
          89024,
          89024,
          89086,
          89086,
          89086,
          89100,
          89128,
          89149,
          89250,
          89336,
          89340,
          89419,
          89440,
          89440,
          89440,
          89440,
          89440,
          89440,
          89440,
          89440,
          89440,
          89440,
          89565,
          89565,
          89565,
          89586,
          89648,
          89700,
          89773,
          89898,
          89918,
          89939,
          89960,
          89960,
          89960,
          89960,
          89960,
          89960,
          89960,
          89960,
          89960,
          89960,
          89960,
          89960,
          89960,
          90000,
          90000,
          90000,
          90000,
          90000,
          90000,
          90000,
          90000,
          90000,
          90000,
          90000,
          90000,
          90000,
          90000,
          90000,
          90000,
          90000,
          90000,
          90000,
          90000,
          90000,
          90000,
          90000,
          90000,
          90000,
          90000,
          90000,
          90000,
          90000,
          90000,
          90000,
          90000,
          90000,
          90000,
          90000,
          90000,
          90000,
          90000,
          90000,
          90000,
          90000,
          90000,
          90000,
          90000,
          90000,
          90000,
          90000,
          90000,
          90000,
          90000,
          90000,
          90000,
          90000,
          90000,
          90000,
          90000,
          90000,
          90000,
          90000,
          90000,
          90000,
          90000,
          90000,
          90000,
          90000,
          90000,
          90000,
          90000,
          90000,
          90000,
          90000,
          90000,
          90000,
          90000,
          90000,
          90000,
          90000,
          90000,
          90000,
          90000,
          90000,
          90000,
          90000,
          90000,
          90000,
          90000,
          90000,
          90000,
          90000,
          90000,
          90000,
          90000,
          90000,
          90000,
          90000,
          90000,
          90000,
          90000,
          90000,
          90000,
          90000,
          90000,
          90000,
          90000,
          90000,
          90000,
          90000,
          90000,
          90000,
          90000,
          90000,
          90000,
          90000,
          90000,
          90000,
          90000,
          90000,
          90000,
          90000,
          90000,
          90000,
          90000,
          90000,
          90000,
          90000,
          90000,
          90000,
          90000,
          90000,
          90000,
          90000,
          90000,
          90000,
          90000,
          90000,
          90000,
          90000,
          90000,
          90000,
          90000,
          90000,
          90000,
          90000,
          90000,
          90000,
          90000,
          90000,
          90000,
          90000,
          90000,
          90000,
          90000,
          90000,
          90000,
          90000,
          90000,
          90000,
          90000,
          90000,
          90000,
          90000,
          90000,
          90000,
          90000,
          90000,
          90000,
          90000,
          90000,
          90000,
          90000,
          90000,
          90000,
          90000,
          90000,
          90000,
          90000,
          90000,
          90000,
          90000,
          90000,
          90000,
          90000,
          90000,
          90000,
          90000,
          90000,
          90000,
          90000,
          90000,
          90000,
          90000,
          90000,
          90000,
          90000,
          90000,
          90000,
          90000,
          90000,
          90000,
          90000,
          90000,
          90000,
          90000,
          90000,
          90000,
          90000,
          90000,
          90000,
          90000,
          90000,
          90000,
          90000,
          90000,
          90000,
          90000,
          90000,
          90000,
          90000,
          90000,
          90000,
          90000,
          90000,
          90000,
          90000,
          90000,
          90000,
          90000,
          90000,
          90000,
          90000,
          90000,
          90000,
          90000,
          90000,
          90000,
          90000,
          90000,
          90000,
          90000,
          90000,
          90000,
          90000,
          90000,
          90000,
          90002,
          90002,
          90002,
          90047,
          90047,
          90048,
          90085,
          90106,
          90106,
          90106,
          90106,
          90106,
          90106,
          90200,
          90200,
          90200,
          90293,
          90293,
          90293,
          90293,
          90293,
          90351,
          90351,
          90500,
          90500,
          90500,
          90500,
          90500,
          90500,
          90506,
          90522,
          90529,
          90584,
          90646,
          90688,
          90742,
          90813,
          90870,
          90917,
          90938,
          90950,
          90992,
          91000,
          91000,
          91000,
          91000,
          91000,
          91000,
          91000,
          91000,
          91000,
          91000,
          91000,
          91000,
          91000,
          91000,
          91062,
          91125,
          91166,
          91166,
          91166,
          91166,
          91166,
          91166,
          91280,
          91374,
          91374,
          91374,
          91400,
          91440,
          91440,
          91458,
          91500,
          91533,
          91646,
          91646,
          91811,
          91811,
          91915,
          91915,
          91936,
          92000,
          92000,
          92000,
          92000,
          92000,
          92000,
          92000,
          92000,
          92000,
          92000,
          92000,
          92000,
          92000,
          92000,
          92000,
          92000,
          92000,
          92000,
          92000,
          92000,
          92000,
          92019,
          92019,
          92248,
          92248,
          92290,
          92300,
          92310,
          92394,
          92394,
          92394,
          92400,
          92400,
          92414,
          92414,
          92414,
          92414,
          92414,
          92414,
          92414,
          92414,
          92414,
          92414,
          92414,
          92414,
          92414,
          92414,
          92414,
          92414,
          92414,
          92414,
          92414,
          92414,
          92414,
          92414,
          92414,
          92414,
          92414,
          92414,
          92414,
          92414,
          92414,
          92414,
          92414,
          92414,
          92414,
          92414,
          92475,
          92500,
          92500,
          92500,
          92500,
          92500,
          92500,
          92500,
          92518,
          92518,
          92560,
          92700,
          92768,
          92768,
          92789,
          92789,
          92955,
          92955,
          92955,
          92955,
          92955,
          92955,
          92955,
          92955,
          92955,
          92955,
          92955,
          92955,
          92955,
          92955,
          92997,
          93000,
          93000,
          93000,
          93000,
          93000,
          93000,
          93000,
          93000,
          93000,
          93000,
          93000,
          93000,
          93000,
          93000,
          93000,
          93000,
          93000,
          93000,
          93000,
          93000,
          93000,
          93000,
          93000,
          93000,
          93000,
          93000,
          93000,
          93000,
          93000,
          93000,
          93000,
          93000,
          93000,
          93000,
          93150,
          93309,
          93309,
          93411,
          93451,
          93517,
          93517,
          93538,
          93538,
          93538,
          93538,
          93538,
          93600,
          93600,
          93600,
          93600,
          93660,
          93660,
          93660,
          93660,
          93660,
          93660,
          93660,
          93662,
          93662,
          93662,
          93662,
          93700,
          93700,
          93700,
          93725,
          93742,
          93746,
          93765,
          93800,
          93912,
          93933,
          93974,
          93974,
          93974,
          93995,
          94000,
          94000,
          94000,
          94000,
          94000,
          94000,
          94000,
          94000,
          94000,
          94000,
          94000,
          94000,
          94000,
          94000,
          94000,
          94016,
          94058,
          94078,
          94120,
          94162,
          94162,
          94200,
          94200,
          94203,
          94203,
          94266,
          94300,
          94300,
          94300,
          94328,
          94370,
          94500,
          94500,
          94536,
          94536,
          94536,
          94536,
          94536,
          94557,
          94600,
          94619,
          94619,
          94619,
          94640,
          94640,
          94640,
          94723,
          94744,
          94744,
          94744,
          94770,
          94770,
          94774,
          94806,
          94806,
          94806,
          94806,
          94900,
          94900,
          94931,
          95000,
          95000,
          95000,
          95000,
          95000,
          95000,
          95000,
          95000,
          95000,
          95000,
          95000,
          95000,
          95000,
          95000,
          95000,
          95000,
          95000,
          95000,
          95000,
          95000,
          95000,
          95000,
          95000,
          95000,
          95000,
          95000,
          95000,
          95000,
          95000,
          95000,
          95000,
          95000,
          95000,
          95000,
          95000,
          95000,
          95000,
          95000,
          95000,
          95000,
          95000,
          95000,
          95000,
          95000,
          95000,
          95000,
          95000,
          95000,
          95000,
          95000,
          95000,
          95000,
          95000,
          95000,
          95000,
          95000,
          95000,
          95000,
          95000,
          95000,
          95000,
          95000,
          95000,
          95000,
          95000,
          95000,
          95000,
          95000,
          95000,
          95000,
          95000,
          95000,
          95000,
          95000,
          95000,
          95000,
          95000,
          95000,
          95000,
          95000,
          95000,
          95000,
          95000,
          95000,
          95000,
          95000,
          95000,
          95000,
          95000,
          95000,
          95000,
          95000,
          95000,
          95000,
          95000,
          95000,
          95000,
          95000,
          95000,
          95000,
          95000,
          95000,
          95000,
          95000,
          95000,
          95000,
          95000,
          95000,
          95000,
          95000,
          95000,
          95000,
          95000,
          95000,
          95000,
          95000,
          95000,
          95000,
          95000,
          95000,
          95000,
          95000,
          95000,
          95000,
          95000,
          95000,
          95000,
          95000,
          95000,
          95000,
          95000,
          95000,
          95000,
          95000,
          95000,
          95000,
          95000,
          95000,
          95000,
          95000,
          95000,
          95000,
          95000,
          95000,
          95000,
          95000,
          95000,
          95000,
          95000,
          95000,
          95000,
          95000,
          95000,
          95000,
          95000,
          95000,
          95000,
          95000,
          95000,
          95000,
          95000,
          95000,
          95000,
          95000,
          95000,
          95000,
          95000,
          95000,
          95000,
          95000,
          95000,
          95000,
          95000,
          95000,
          95000,
          95000,
          95000,
          95000,
          95000,
          95014,
          95014,
          95035,
          95035,
          95035,
          95035,
          95056,
          95056,
          95065,
          95077,
          95077,
          95077,
          95160,
          95160,
          95160,
          95160,
          95243,
          95243,
          95243,
          95243,
          95243,
          95264,
          95264,
          95264,
          95306,
          95306,
          95306,
          95400,
          95472,
          95500,
          95514,
          95555,
          95618,
          95618,
          95618,
          95638,
          95638,
          95638,
          95638,
          95638,
          95638,
          95638,
          95638,
          95638,
          95790,
          95805,
          95826,
          95846,
          95846,
          95889,
          96000,
          96000,
          96000,
          96000,
          96000,
          96000,
          96000,
          96000,
          96000,
          96000,
          96000,
          96000,
          96000,
          96000,
          96000,
          96000,
          96013,
          96075,
          96075,
          96075,
          96075,
          96075,
          96075,
          96075,
          96117,
          96117,
          96117,
          96158,
          96233,
          96233,
          96283,
          96304,
          96304,
          96305,
          96325,
          96325,
          96325,
          96366,
          96366,
          96400,
          96400,
          96491,
          96500,
          96500,
          96500,
          96500,
          96500,
          96500,
          96500,
          96500,
          96500,
          96500,
          96500,
          96500,
          96500,
          96535,
          96595,
          96600,
          96600,
          96600,
          96652,
          96697,
          96758,
          96767,
          96900,
          96900,
          96900,
          96900,
          96900,
          96907,
          96928,
          96928,
          96928,
          96928,
          96990,
          96990,
          96990,
          96990,
          96990,
          96990,
          96990,
          96990,
          96990,
          96990,
          96990,
          96990,
          96990,
          97000,
          97000,
          97000,
          97000,
          97000,
          97000,
          97000,
          97000,
          97000,
          97032,
          97032,
          97032,
          97032,
          97094,
          97100,
          97178,
          97200,
          97200,
          97219,
          97219,
          97219,
          97365,
          97375,
          97375,
          97427,
          97469,
          97500,
          97500,
          97510,
          97573,
          97573,
          97656,
          97677,
          97677,
          97822,
          97822,
          97822,
          97822,
          97822,
          97822,
          97885,
          97885,
          97900,
          97906,
          97906,
          97989,
          98000,
          98000,
          98000,
          98000,
          98000,
          98000,
          98000,
          98000,
          98000,
          98000,
          98000,
          98000,
          98000,
          98000,
          98000,
          98000,
          98000,
          98000,
          98000,
          98000,
          98000,
          98020,
          98020,
          98020,
          98020,
          98020,
          98070,
          98100,
          98256,
          98262,
          98262,
          98262,
          98356,
          98363,
          98500,
          98500,
          98500,
          98500,
          98500,
          98576,
          98600,
          98633,
          98800,
          99000,
          99000,
          99154,
          99195,
          99400,
          99466,
          99600,
          99653,
          99694,
          99736,
          99750,
          99750,
          99757,
          99757,
          99861,
          99900,
          99930,
          99999,
          100000,
          100000,
          100000,
          100000,
          100000,
          100000,
          100000,
          100000,
          100000,
          100000,
          100000,
          100000,
          100000,
          100000,
          100000,
          100000,
          100000,
          100000,
          100000,
          100000,
          100000,
          100000,
          100000,
          100000,
          100000,
          100000,
          100000,
          100000,
          100000,
          100000,
          100000,
          100000,
          100000,
          100000,
          100000,
          100000,
          100000,
          100000,
          100000,
          100000,
          100000,
          100000,
          100000,
          100000,
          100000,
          100000,
          100000,
          100000,
          100000,
          100000,
          100000,
          100000,
          100000,
          100000,
          100000,
          100000,
          100000,
          100000,
          100000,
          100000,
          100000,
          100000,
          100000,
          100000,
          100000,
          100000,
          100000,
          100000,
          100000,
          100000,
          100000,
          100000,
          100000,
          100000,
          100000,
          100000,
          100000,
          100000,
          100000,
          100000,
          100000,
          100000,
          100000,
          100000,
          100000,
          100000,
          100000,
          100000,
          100000,
          100000,
          100000,
          100000,
          100000,
          100000,
          100000,
          100000,
          100000,
          100000,
          100000,
          100000,
          100000,
          100000,
          100000,
          100000,
          100000,
          100000,
          100000,
          100000,
          100000,
          100000,
          100000,
          100000,
          100000,
          100000,
          100000,
          100000,
          100000,
          100000,
          100000,
          100000,
          100000,
          100000,
          100000,
          100000,
          100000,
          100000,
          100000,
          100000,
          100000,
          100000,
          100000,
          100000,
          100000,
          100000,
          100000,
          100000,
          100000,
          100000,
          100000,
          100000,
          100000,
          100000,
          100000,
          100000,
          100000,
          100000,
          100000,
          100000,
          100000,
          100000,
          100000,
          100000,
          100000,
          100000,
          100000,
          100000,
          100000,
          100000,
          100000,
          100000,
          100000,
          100000,
          100000,
          100000,
          100000,
          100000,
          100000,
          100000,
          100000,
          100000,
          100000,
          100000,
          100000,
          100000,
          100000,
          100000,
          100000,
          100000,
          100000,
          100000,
          100000,
          100000,
          100000,
          100000,
          100000,
          100000,
          100000,
          100000,
          100000,
          100000,
          100000,
          100000,
          100000,
          100000,
          100000,
          100000,
          100000,
          100000,
          100000,
          100000,
          100000,
          100000,
          100000,
          100000,
          100000,
          100000,
          100000,
          100000,
          100000,
          100000,
          100000,
          100000,
          100000,
          100000,
          100000,
          100000,
          100000,
          100000,
          100000,
          100000,
          100000,
          100000,
          100000,
          100000,
          100000,
          100000,
          100000,
          100000,
          100000,
          100000,
          100000,
          100000,
          100000,
          100000,
          100000,
          100000,
          100000,
          100000,
          100000,
          100000,
          100000,
          100000,
          100000,
          100000,
          100000,
          100000,
          100000,
          100000,
          100000,
          100000,
          100000,
          100000,
          100000,
          100000,
          100000,
          100000,
          100000,
          100000,
          100000,
          100000,
          100000,
          100000,
          100000,
          100000,
          100000,
          100000,
          100000,
          100000,
          100000,
          100000,
          100000,
          100000,
          100000,
          100000,
          100000,
          100000,
          100000,
          100000,
          100000,
          100000,
          100000,
          100000,
          100008,
          100022,
          100050,
          100069,
          100069,
          100090,
          100214,
          100235,
          100235,
          100235,
          100250,
          100277,
          100402,
          100402,
          100402,
          100402,
          100402,
          100402,
          100402,
          100402,
          100402,
          100464,
          100464,
          100485,
          100485,
          100500,
          100500,
          100506,
          100506,
          100506,
          100506,
          100506,
          100506,
          100506,
          100506,
          100506,
          100506,
          100506,
          100506,
          100506,
          100506,
          100506,
          100506,
          100506,
          100506,
          100506,
          100506,
          100506,
          100506,
          100506,
          100660,
          100786,
          100800,
          100800,
          100800,
          100800,
          100800,
          100800,
          100800,
          100880,
          100880,
          100880,
          100880,
          100922,
          101000,
          101000,
          101000,
          101026,
          101026,
          101026,
          101026,
          101026,
          101026,
          101026,
          101088,
          101229,
          101296,
          101358,
          101358,
          101379,
          101500,
          101587,
          101587,
          101591,
          101600,
          101711,
          101711,
          101711,
          101733,
          101745,
          101756,
          101800,
          101800,
          101837,
          101837,
          101960,
          102000,
          102000,
          102000,
          102000,
          102000,
          102000,
          102000,
          102000,
          102000,
          102000,
          102000,
          102000,
          102000,
          102000,
          102000,
          102000,
          102000,
          102000,
          102000,
          102000,
          102000,
          102000,
          102000,
          102003,
          102044,
          102086,
          102086,
          102107,
          102149,
          102149,
          102170,
          102200,
          102200,
          102200,
          102200,
          102200,
          102200,
          102200,
          102200,
          102200,
          102200,
          102200,
          102200,
          102200,
          102223,
          102253,
          102274,
          102274,
          102300,
          102300,
          102300,
          102310,
          102336,
          102336,
          102352,
          102357,
          102390,
          102400,
          102500,
          102500,
          102500,
          102544,
          102600,
          102600,
          102600,
          102600,
          102600,
          102669,
          102669,
          102731,
          102801,
          102900,
          102900,
          102900,
          102900,
          103000,
          103000,
          103000,
          103000,
          103000,
          103000,
          103000,
          103000,
          103000,
          103000,
          103000,
          103000,
          103000,
          103000,
          103024,
          103130,
          103200,
          103200,
          103201,
          103258,
          103334,
          103400,
          103400,
          103480,
          103515,
          103542,
          103584,
          103751,
          103771,
          103771,
          103771,
          103771,
          103834,
          103997,
          104000,
          104000,
          104000,
          104000,
          104000,
          104000,
          104000,
          104000,
          104000,
          104021,
          104064,
          104104,
          104187,
          104500,
          104500,
          104500,
          104790,
          104900,
          104975,
          104998,
          105000,
          105000,
          105000,
          105000,
          105000,
          105000,
          105000,
          105000,
          105000,
          105000,
          105000,
          105000,
          105000,
          105000,
          105000,
          105000,
          105000,
          105000,
          105000,
          105000,
          105000,
          105000,
          105000,
          105000,
          105000,
          105000,
          105000,
          105000,
          105000,
          105000,
          105000,
          105000,
          105000,
          105000,
          105000,
          105000,
          105000,
          105000,
          105000,
          105000,
          105000,
          105000,
          105000,
          105000,
          105000,
          105000,
          105000,
          105000,
          105000,
          105000,
          105000,
          105000,
          105000,
          105000,
          105000,
          105000,
          105000,
          105000,
          105000,
          105000,
          105000,
          105000,
          105000,
          105000,
          105000,
          105000,
          105000,
          105000,
          105000,
          105000,
          105000,
          105000,
          105000,
          105000,
          105000,
          105000,
          105000,
          105000,
          105000,
          105000,
          105000,
          105000,
          105000,
          105000,
          105000,
          105000,
          105000,
          105000,
          105000,
          105000,
          105000,
          105000,
          105000,
          105000,
          105000,
          105000,
          105000,
          105000,
          105000,
          105000,
          105000,
          105000,
          105000,
          105000,
          105000,
          105000,
          105000,
          105000,
          105000,
          105000,
          105000,
          105000,
          105000,
          105000,
          105000,
          105000,
          105000,
          105000,
          105000,
          105000,
          105000,
          105000,
          105000,
          105000,
          105000,
          105000,
          105000,
          105000,
          105000,
          105000,
          105000,
          105000,
          105000,
          105000,
          105000,
          105000,
          105000,
          105000,
          105000,
          105000,
          105000,
          105000,
          105000,
          105000,
          105000,
          105000,
          105000,
          105000,
          105000,
          105000,
          105000,
          105000,
          105000,
          105000,
          105000,
          105000,
          105000,
          105000,
          105000,
          105000,
          105000,
          105000,
          105000,
          105000,
          105039,
          105040,
          105165,
          105227,
          105227,
          105227,
          105227,
          105227,
          105227,
          105300,
          105300,
          105300,
          105414,
          105435,
          105500,
          105549,
          105622,
          105622,
          105622,
          105719,
          105789,
          105810,
          105810,
          105810,
          105810,
          105810,
          105810,
          105810,
          105810,
          105810,
          105810,
          105810,
          105810,
          105810,
          105810,
          105810,
          105810,
          105810,
          105810,
          105810,
          105810,
          105872,
          105900,
          105934,
          106000,
          106000,
          106000,
          106000,
          106000,
          106000,
          106000,
          106000,
          106000,
          106000,
          106000,
          106000,
          106000,
          106000,
          106000,
          106000,
          106000,
          106000,
          106000,
          106082,
          106082,
          106090,
          106200,
          106454,
          106454,
          106517,
          106550,
          106590,
          106600,
          106600,
          106600,
          106821,
          106861,
          106897,
          106900,
          106954,
          106995,
          107000,
          107000,
          107000,
          107000,
          107000,
          107000,
          107000,
          107000,
          107000,
          107000,
          107000,
          107000,
          107000,
          107000,
          107000,
          107000,
          107000,
          107000,
          107000,
          107000,
          107000,
          107000,
          107000,
          107000,
          107000,
          107071,
          107100,
          107100,
          107120,
          107120,
          107182,
          107203,
          107203,
          107203,
          107203,
          107228,
          107250,
          107250,
          107300,
          107300,
          107349,
          107370,
          107390,
          107390,
          107390,
          107390,
          107390,
          107390,
          107500,
          107500,
          107500,
          107500,
          107500,
          107500,
          107500,
          107730,
          107750,
          107791,
          107920,
          108000,
          108000,
          108000,
          108000,
          108000,
          108000,
          108000,
          108000,
          108000,
          108000,
          108000,
          108000,
          108000,
          108000,
          108000,
          108000,
          108000,
          108000,
          108000,
          108000,
          108000,
          108000,
          108000,
          108000,
          108000,
          108000,
          108000,
          108000,
          108000,
          108000,
          108077,
          108100,
          108118,
          108118,
          108118,
          108118,
          108139,
          108139,
          108139,
          108162,
          108368,
          108368,
          108383,
          108400,
          108400,
          108450,
          108483,
          108555,
          108576,
          108597,
          108597,
          108597,
          108631,
          108638,
          108638,
          108638,
          108638,
          108638,
          108675,
          108675,
          108704,
          108750,
          108784,
          108888,
          108888,
          108900,
          109000,
          109000,
          109000,
          109000,
          109000,
          109000,
          109000,
          109000,
          109000,
          109000,
          109075,
          109100,
          109117,
          109117,
          109200,
          109242,
          109346,
          109500,
          109554,
          109678,
          109678,
          109698,
          109792,
          109800,
          109990,
          109990,
          109990,
          109992,
          110000,
          110000,
          110000,
          110000,
          110000,
          110000,
          110000,
          110000,
          110000,
          110000,
          110000,
          110000,
          110000,
          110000,
          110000,
          110000,
          110000,
          110000,
          110000,
          110000,
          110000,
          110000,
          110000,
          110000,
          110000,
          110000,
          110000,
          110000,
          110000,
          110000,
          110000,
          110000,
          110000,
          110000,
          110000,
          110000,
          110000,
          110000,
          110000,
          110000,
          110000,
          110000,
          110000,
          110000,
          110000,
          110000,
          110000,
          110000,
          110000,
          110000,
          110000,
          110000,
          110000,
          110000,
          110000,
          110000,
          110000,
          110000,
          110000,
          110000,
          110000,
          110000,
          110000,
          110000,
          110000,
          110000,
          110000,
          110000,
          110000,
          110000,
          110000,
          110000,
          110000,
          110000,
          110000,
          110000,
          110000,
          110000,
          110000,
          110000,
          110000,
          110000,
          110000,
          110000,
          110000,
          110000,
          110000,
          110000,
          110000,
          110000,
          110000,
          110000,
          110000,
          110000,
          110000,
          110000,
          110000,
          110000,
          110000,
          110000,
          110000,
          110000,
          110000,
          110000,
          110000,
          110000,
          110000,
          110000,
          110000,
          110000,
          110000,
          110000,
          110000,
          110000,
          110000,
          110000,
          110000,
          110000,
          110000,
          110000,
          110000,
          110000,
          110000,
          110000,
          110000,
          110000,
          110000,
          110000,
          110000,
          110000,
          110000,
          110000,
          110000,
          110000,
          110000,
          110000,
          110000,
          110000,
          110000,
          110000,
          110000,
          110000,
          110000,
          110000,
          110000,
          110000,
          110000,
          110000,
          110000,
          110000,
          110000,
          110000,
          110000,
          110000,
          110000,
          110000,
          110000,
          110000,
          110000,
          110000,
          110000,
          110000,
          110000,
          110000,
          110000,
          110000,
          110000,
          110000,
          110000,
          110000,
          110000,
          110000,
          110000,
          110000,
          110000,
          110000,
          110000,
          110000,
          110000,
          110000,
          110000,
          110000,
          110000,
          110000,
          110000,
          110000,
          110000,
          110000,
          110000,
          110000,
          110000,
          110000,
          110000,
          110000,
          110000,
          110000,
          110000,
          110000,
          110000,
          110000,
          110000,
          110000,
          110000,
          110000,
          110000,
          110000,
          110000,
          110000,
          110000,
          110000,
          110000,
          110000,
          110000,
          110000,
          110000,
          110000,
          110000,
          110000,
          110000,
          110000,
          110000,
          110000,
          110000,
          110000,
          110000,
          110000,
          110000,
          110000,
          110000,
          110000,
          110000,
          110000,
          110000,
          110000,
          110000,
          110000,
          110000,
          110000,
          110000,
          110000,
          110000,
          110000,
          110000,
          110000,
          110000,
          110000,
          110000,
          110000,
          110000,
          110000,
          110000,
          110000,
          110000,
          110000,
          110000,
          110000,
          110004,
          110004,
          110004,
          110080,
          110109,
          110236,
          110236,
          110365,
          110365,
          110406,
          110500,
          110600,
          110659,
          110760,
          110760,
          110780,
          110800,
          110802,
          110802,
          110802,
          110802,
          110802,
          110802,
          110802,
          110802,
          110802,
          110802,
          110802,
          110820,
          110822,
          110822,
          110854,
          110864,
          110864,
          110864,
          110900,
          110900,
          110906,
          111000,
          111000,
          111000,
          111000,
          111000,
          111000,
          111000,
          111000,
          111000,
          111000,
          111000,
          111000,
          111000,
          111000,
          111000,
          111030,
          111030,
          111030,
          111030,
          111030,
          111030,
          111030,
          111030,
          111030,
          111030,
          111051,
          111051,
          111261,
          111275,
          111446,
          111500,
          111500,
          111500,
          111500,
          111500,
          111500,
          111500,
          111509,
          111509,
          111571,
          111613,
          111613,
          111800,
          111987,
          111987,
          112000,
          112000,
          112000,
          112000,
          112000,
          112000,
          112000,
          112000,
          112000,
          112000,
          112000,
          112000,
          112000,
          112000,
          112000,
          112000,
          112000,
          112000,
          112000,
          112000,
          112000,
          112000,
          112000,
          112000,
          112000,
          112200,
          112362,
          112362,
          112445,
          112445,
          112445,
          112500,
          112500,
          112500,
          112500,
          112500,
          112500,
          112500,
          112500,
          112500,
          112500,
          112549,
          112642,
          112694,
          112750,
          112923,
          113000,
          113000,
          113000,
          113000,
          113000,
          113120,
          113152,
          113152,
          113152,
          113152,
          113152,
          113200,
          113256,
          113256,
          113256,
          113277,
          113300,
          113300,
          113318,
          113318,
          113350,
          113400,
          113500,
          113500,
          113500,
          113520,
          113520,
          113536,
          113589,
          113589,
          113589,
          113589,
          113740,
          113740,
          113860,
          113922,
          113984,
          114000,
          114000,
          114000,
          114000,
          114000,
          114000,
          114000,
          114000,
          114000,
          114000,
          114000,
          114000,
          114000,
          114000,
          114000,
          114000,
          114000,
          114000,
          114000,
          114000,
          114000,
          114000,
          114000,
          114000,
          114163,
          114200,
          114248,
          114317,
          114317,
          114317,
          114317,
          114317,
          114317,
          114317,
          114317,
          114320,
          114358,
          114358,
          114358,
          114358,
          114390,
          114400,
          114400,
          114400,
          114400,
          114400,
          114400,
          114440,
          114440,
          114500,
          114600,
          114712,
          114725,
          114754,
          114754,
          114950,
          115000,
          115000,
          115000,
          115000,
          115000,
          115000,
          115000,
          115000,
          115000,
          115000,
          115000,
          115000,
          115000,
          115000,
          115000,
          115000,
          115000,
          115000,
          115000,
          115000,
          115000,
          115000,
          115000,
          115000,
          115000,
          115000,
          115000,
          115000,
          115000,
          115000,
          115000,
          115000,
          115000,
          115000,
          115000,
          115000,
          115000,
          115000,
          115000,
          115000,
          115000,
          115000,
          115000,
          115000,
          115000,
          115000,
          115000,
          115000,
          115000,
          115000,
          115000,
          115000,
          115000,
          115000,
          115000,
          115000,
          115000,
          115000,
          115000,
          115000,
          115000,
          115000,
          115000,
          115000,
          115000,
          115000,
          115000,
          115000,
          115000,
          115000,
          115000,
          115000,
          115000,
          115000,
          115000,
          115000,
          115000,
          115000,
          115000,
          115000,
          115000,
          115000,
          115000,
          115000,
          115000,
          115000,
          115000,
          115000,
          115000,
          115000,
          115000,
          115000,
          115000,
          115000,
          115000,
          115000,
          115000,
          115000,
          115000,
          115000,
          115000,
          115000,
          115000,
          115000,
          115000,
          115000,
          115000,
          115000,
          115000,
          115000,
          115000,
          115000,
          115000,
          115000,
          115000,
          115000,
          115000,
          115000,
          115000,
          115000,
          115000,
          115000,
          115000,
          115000,
          115000,
          115000,
          115000,
          115000,
          115000,
          115000,
          115000,
          115000,
          115000,
          115000,
          115000,
          115000,
          115000,
          115000,
          115000,
          115000,
          115000,
          115000,
          115000,
          115000,
          115000,
          115000,
          115000,
          115000,
          115000,
          115000,
          115000,
          115000,
          115000,
          115000,
          115000,
          115000,
          115000,
          115000,
          115000,
          115000,
          115000,
          115000,
          115000,
          115000,
          115000,
          115000,
          115000,
          115000,
          115000,
          115000,
          115000,
          115000,
          115000,
          115000,
          115000,
          115000,
          115000,
          115000,
          115000,
          115000,
          115000,
          115000,
          115000,
          115000,
          115000,
          115000,
          115000,
          115000,
          115000,
          115000,
          115000,
          115000,
          115000,
          115000,
          115000,
          115000,
          115000,
          115000,
          115000,
          115000,
          115000,
          115000,
          115000,
          115000,
          115000,
          115000,
          115000,
          115000,
          115000,
          115000,
          115000,
          115000,
          115000,
          115000,
          115000,
          115000,
          115000,
          115000,
          115000,
          115000,
          115000,
          115000,
          115000,
          115000,
          115000,
          115000,
          115000,
          115000,
          115000,
          115000,
          115000,
          115000,
          115000,
          115000,
          115000,
          115000,
          115000,
          115000,
          115000,
          115000,
          115000,
          115000,
          115000,
          115000,
          115000,
          115000,
          115000,
          115000,
          115050,
          115058,
          115060,
          115060,
          115060,
          115060,
          115060,
          115060,
          115060,
          115060,
          115060,
          115190,
          115211,
          115211,
          115211,
          115211,
          115211,
          115360,
          115400,
          115482,
          115500,
          115500,
          115543,
          115600,
          115682,
          115693,
          115700,
          115748,
          115752,
          115800,
          115800,
          115814,
          115856,
          115887,
          116000,
          116000,
          116000,
          116000,
          116000,
          116000,
          116000,
          116000,
          116000,
          116000,
          116042,
          116230,
          116230,
          116376,
          116400,
          116400,
          116400,
          116480,
          116480,
          116480,
          116500,
          116600,
          116600,
          116698,
          116720,
          116800,
          116892,
          116979,
          117000,
          117000,
          117000,
          117000,
          117000,
          117000,
          117000,
          117000,
          117000,
          117000,
          117000,
          117000,
          117026,
          117075,
          117083,
          117083,
          117083,
          117163,
          117166,
          117167,
          117200,
          117230,
          117230,
          117230,
          117260,
          117453,
          117453,
          117476,
          117476,
          117499,
          117500,
          117500,
          117686,
          117700,
          117749,
          117770,
          117800,
          117875,
          117875,
          118000,
          118000,
          118000,
          118000,
          118000,
          118000,
          118000,
          118000,
          118000,
          118000,
          118000,
          118000,
          118000,
          118000,
          118000,
          118000,
          118000,
          118000,
          118000,
          118000,
          118000,
          118000,
          118000,
          118000,
          118000,
          118000,
          118000,
          118000,
          118000,
          118000,
          118000,
          118061,
          118061,
          118162,
          118200,
          118300,
          118378,
          118427,
          118450,
          118456,
          118498,
          118498,
          118500,
          118500,
          118540,
          118625,
          118705,
          118747,
          118750,
          118800,
          118820,
          118820,
          119000,
          119000,
          119016,
          119100,
          119108,
          119108,
          119184,
          119184,
          119200,
          119200,
          119205,
          119276,
          119300,
          119380,
          119454,
          119454,
          119454,
          119500,
          119517,
          119517,
          119579,
          119580,
          119600,
          119642,
          119642,
          119642,
          119642,
          119642,
          119642,
          119642,
          119850,
          119850,
          119850,
          119850,
          119850,
          119850,
          119850,
          119850,
          119850,
          119900,
          119900,
          119900,
          119904,
          119904,
          119904,
          119904,
          119912,
          119980,
          120000,
          120000,
          120000,
          120000,
          120000,
          120000,
          120000,
          120000,
          120000,
          120000,
          120000,
          120000,
          120000,
          120000,
          120000,
          120000,
          120000,
          120000,
          120000,
          120000,
          120000,
          120000,
          120000,
          120000,
          120000,
          120000,
          120000,
          120000,
          120000,
          120000,
          120000,
          120000,
          120000,
          120000,
          120000,
          120000,
          120000,
          120000,
          120000,
          120000,
          120000,
          120000,
          120000,
          120000,
          120000,
          120000,
          120000,
          120000,
          120000,
          120000,
          120000,
          120000,
          120000,
          120000,
          120000,
          120000,
          120000,
          120000,
          120000,
          120000,
          120000,
          120000,
          120000,
          120000,
          120000,
          120000,
          120000,
          120000,
          120000,
          120000,
          120000,
          120000,
          120000,
          120000,
          120000,
          120000,
          120000,
          120000,
          120000,
          120000,
          120000,
          120000,
          120000,
          120000,
          120000,
          120000,
          120000,
          120000,
          120000,
          120000,
          120000,
          120000,
          120000,
          120000,
          120000,
          120000,
          120000,
          120000,
          120000,
          120000,
          120000,
          120000,
          120000,
          120000,
          120000,
          120000,
          120000,
          120000,
          120000,
          120000,
          120000,
          120000,
          120000,
          120000,
          120000,
          120000,
          120000,
          120000,
          120000,
          120000,
          120000,
          120000,
          120000,
          120000,
          120000,
          120000,
          120000,
          120000,
          120000,
          120000,
          120000,
          120000,
          120000,
          120000,
          120000,
          120000,
          120000,
          120000,
          120000,
          120000,
          120000,
          120000,
          120000,
          120000,
          120000,
          120000,
          120000,
          120000,
          120000,
          120000,
          120000,
          120000,
          120000,
          120000,
          120000,
          120000,
          120000,
          120000,
          120000,
          120000,
          120000,
          120000,
          120000,
          120000,
          120000,
          120000,
          120000,
          120000,
          120000,
          120000,
          120000,
          120000,
          120000,
          120000,
          120000,
          120000,
          120000,
          120000,
          120000,
          120000,
          120000,
          120000,
          120000,
          120000,
          120000,
          120000,
          120000,
          120000,
          120000,
          120000,
          120000,
          120000,
          120000,
          120000,
          120000,
          120000,
          120000,
          120000,
          120000,
          120000,
          120000,
          120000,
          120000,
          120000,
          120000,
          120000,
          120000,
          120000,
          120000,
          120000,
          120000,
          120000,
          120000,
          120000,
          120000,
          120000,
          120000,
          120000,
          120000,
          120000,
          120000,
          120000,
          120000,
          120000,
          120000,
          120000,
          120000,
          120000,
          120000,
          120000,
          120000,
          120000,
          120000,
          120000,
          120000,
          120000,
          120000,
          120000,
          120000,
          120000,
          120000,
          120000,
          120000,
          120000,
          120000,
          120000,
          120000,
          120000,
          120000,
          120000,
          120000,
          120000,
          120000,
          120000,
          120000,
          120000,
          120000,
          120000,
          120000,
          120000,
          120000,
          120000,
          120000,
          120000,
          120000,
          120000,
          120000,
          120000,
          120000,
          120000,
          120100,
          120120,
          120144,
          120200,
          120224,
          120240,
          120349,
          120390,
          120432,
          120432,
          120432,
          120432,
          120432,
          120432,
          120432,
          120500,
          120510,
          120663,
          120800,
          120928,
          121000,
          121000,
          121000,
          121000,
          121000,
          121000,
          121000,
          121077,
          121077,
          121085,
          121100,
          121100,
          121306,
          121306,
          121306,
          121306,
          121306,
          121306,
          121306,
          121306,
          121306,
          121306,
          121306,
          121310,
          121367,
          121369,
          121400,
          121400,
          121547,
          121620,
          121805,
          121805,
          121805,
          121805,
          121805,
          121805,
          121805,
          121807,
          121846,
          121846,
          121894,
          121900,
          121953,
          122000,
          122000,
          122000,
          122000,
          122000,
          122117,
          122130,
          122158,
          122158,
          122158,
          122158,
          122158,
          122158,
          122158,
          122158,
          122158,
          122158,
          122158,
          122158,
          122158,
          122158,
          122158,
          122158,
          122200,
          122200,
          122200,
          122221,
          122283,
          122429,
          122520,
          122533,
          122533,
          122700,
          122760,
          122800,
          122824,
          122824,
          122824,
          122824,
          122824,
          122824,
          122824,
          122824,
          122824,
          122824,
          122824,
          122824,
          122824,
          122886,
          122900,
          122900,
          122928,
          122932,
          123000,
          123000,
          123000,
          123000,
          123000,
          123000,
          123000,
          123000,
          123000,
          123000,
          123000,
          123000,
          123000,
          123000,
          123000,
          123000,
          123011,
          123011,
          123071,
          123071,
          123071,
          123220,
          123261,
          123505,
          123594,
          123594,
          123594,
          123594,
          123594,
          123600,
          123614,
          123614,
          123700,
          124000,
          124000,
          124000,
          124000,
          124000,
          124000,
          124000,
          124000,
          124000,
          124000,
          124000,
          124000,
          124080,
          124200,
          124342,
          124342,
          124342,
          124342,
          124342,
          124400,
          124410,
          124571,
          124571,
          124675,
          124800,
          124800,
          124911,
          125000,
          125000,
          125000,
          125000,
          125000,
          125000,
          125000,
          125000,
          125000,
          125000,
          125000,
          125000,
          125000,
          125000,
          125000,
          125000,
          125000,
          125000,
          125000,
          125000,
          125000,
          125000,
          125000,
          125000,
          125000,
          125000,
          125000,
          125000,
          125000,
          125000,
          125000,
          125000,
          125000,
          125000,
          125000,
          125000,
          125000,
          125000,
          125000,
          125000,
          125000,
          125000,
          125000,
          125000,
          125000,
          125000,
          125000,
          125000,
          125000,
          125000,
          125000,
          125000,
          125000,
          125000,
          125000,
          125000,
          125000,
          125000,
          125000,
          125000,
          125000,
          125000,
          125000,
          125000,
          125000,
          125000,
          125000,
          125000,
          125000,
          125000,
          125000,
          125000,
          125000,
          125000,
          125000,
          125000,
          125000,
          125000,
          125000,
          125000,
          125000,
          125000,
          125000,
          125000,
          125000,
          125000,
          125000,
          125000,
          125000,
          125000,
          125000,
          125000,
          125000,
          125000,
          125000,
          125000,
          125000,
          125000,
          125000,
          125000,
          125000,
          125000,
          125000,
          125000,
          125000,
          125000,
          125000,
          125000,
          125000,
          125000,
          125000,
          125000,
          125000,
          125000,
          125000,
          125000,
          125000,
          125000,
          125000,
          125000,
          125000,
          125000,
          125000,
          125000,
          125000,
          125000,
          125000,
          125000,
          125000,
          125000,
          125000,
          125000,
          125000,
          125000,
          125000,
          125000,
          125000,
          125000,
          125000,
          125000,
          125000,
          125000,
          125000,
          125000,
          125000,
          125000,
          125000,
          125000,
          125000,
          125000,
          125000,
          125000,
          125000,
          125000,
          125000,
          125000,
          125000,
          125000,
          125000,
          125000,
          125000,
          125000,
          125000,
          125000,
          125000,
          125000,
          125000,
          125000,
          125000,
          125000,
          125000,
          125004,
          125008,
          125050,
          125050,
          125050,
          125050,
          125112,
          125310,
          125400,
          125500,
          125500,
          125674,
          125694,
          125694,
          125694,
          126000,
          126000,
          126000,
          126000,
          126000,
          126000,
          126000,
          126000,
          126000,
          126027,
          126100,
          126275,
          126298,
          126298,
          126298,
          126298,
          126500,
          126500,
          126610,
          126880,
          126900,
          127000,
          127000,
          127000,
          127000,
          127000,
          127000,
          127000,
          127000,
          127000,
          127000,
          127000,
          127000,
          127000,
          127000,
          127046,
          127046,
          127254,
          127500,
          127500,
          127500,
          127500,
          127600,
          127816,
          127900,
          128000,
          128000,
          128000,
          128000,
          128000,
          128000,
          128000,
          128000,
          128000,
          128000,
          128000,
          128000,
          128312,
          128377,
          128500,
          128500,
          128500,
          128536,
          128561,
          128731,
          128750,
          129000,
          129000,
          129000,
          129000,
          129000,
          129030,
          129106,
          129106,
          129106,
          129106,
          129106,
          129106,
          129106,
          129106,
          129106,
          129106,
          129106,
          129106,
          129106,
          129112,
          129118,
          129189,
          129200,
          129210,
          129210,
          129210,
          129300,
          129385,
          129500,
          129500,
          129500,
          129579,
          129600,
          129605,
          129605,
          129605,
          129605,
          129605,
          129605,
          129605,
          129715,
          129864,
          129880,
          129979,
          130000,
          130000,
          130000,
          130000,
          130000,
          130000,
          130000,
          130000,
          130000,
          130000,
          130000,
          130000,
          130000,
          130000,
          130000,
          130000,
          130000,
          130000,
          130000,
          130000,
          130000,
          130000,
          130000,
          130000,
          130000,
          130000,
          130000,
          130000,
          130000,
          130000,
          130000,
          130000,
          130000,
          130000,
          130000,
          130000,
          130000,
          130000,
          130000,
          130000,
          130000,
          130000,
          130000,
          130000,
          130000,
          130000,
          130000,
          130000,
          130000,
          130000,
          130000,
          130000,
          130000,
          130000,
          130000,
          130000,
          130000,
          130000,
          130000,
          130000,
          130000,
          130000,
          130000,
          130000,
          130000,
          130000,
          130000,
          130000,
          130000,
          130000,
          130000,
          130000,
          130000,
          130000,
          130000,
          130000,
          130000,
          130000,
          130000,
          130000,
          130000,
          130000,
          130000,
          130000,
          130000,
          130000,
          130000,
          130000,
          130000,
          130000,
          130000,
          130000,
          130000,
          130000,
          130000,
          130000,
          130000,
          130000,
          130000,
          130000,
          130000,
          130000,
          130000,
          130000,
          130000,
          130000,
          130000,
          130000,
          130000,
          130000,
          130000,
          130000,
          130000,
          130000,
          130000,
          130000,
          130000,
          130000,
          130000,
          130000,
          130000,
          130000,
          130000,
          130000,
          130000,
          130000,
          130000,
          130000,
          130000,
          130000,
          130000,
          130000,
          130000,
          130000,
          130000,
          130000,
          130000,
          130000,
          130000,
          130000,
          130000,
          130000,
          130000,
          130000,
          130000,
          130000,
          130000,
          130000,
          130000,
          130000,
          130000,
          130000,
          130000,
          130000,
          130000,
          130000,
          130000,
          130000,
          130000,
          130000,
          130000,
          130000,
          130000,
          130000,
          130000,
          130000,
          130000,
          130000,
          130000,
          130000,
          130000,
          130000,
          130000,
          130000,
          130000,
          130000,
          130000,
          130000,
          130000,
          130000,
          130001,
          130001,
          130001,
          130001,
          130036,
          130150,
          130250,
          130275,
          130300,
          130300,
          130303,
          130560,
          130600,
          130680,
          130800,
          131000,
          131000,
          131000,
          131000,
          131000,
          131000,
          131000,
          131000,
          131000,
          131000,
          131000,
          131000,
          131037,
          131200,
          131269,
          131303,
          131411,
          131440,
          131518,
          131616,
          131700,
          131766,
          131888,
          131997,
          131997,
          131997,
          131997,
          131997,
          131997,
          131997,
          131997,
          131997,
          131997,
          131997,
          131997,
          131997,
          131997,
          131997,
          131997,
          131997,
          131997,
          131997,
          131997,
          131997,
          131997,
          132000,
          132000,
          132000,
          132000,
          132000,
          132000,
          132000,
          132000,
          132000,
          132000,
          132000,
          132000,
          132000,
          132000,
          132000,
          132000,
          132080,
          132100,
          132100,
          132184,
          132200,
          132300,
          132388,
          132500,
          132527,
          132615,
          132870,
          132877,
          132877,
          132877,
          133000,
          133000,
          133000,
          133000,
          133012,
          133099,
          133141,
          133146,
          133146,
          133300,
          133300,
          133350,
          133478,
          133500,
          133500,
          133500,
          133500,
          133500,
          133500,
          133500,
          133500,
          133500,
          133500,
          133515,
          133515,
          133555,
          133732,
          133769,
          133786,
          133786,
          133786,
          133808,
          133850,
          134000,
          134000,
          134000,
          134000,
          134000,
          134000,
          134014,
          134210,
          134400,
          134514,
          134600,
          134721,
          134730,
          134971,
          135000,
          135000,
          135000,
          135000,
          135000,
          135000,
          135000,
          135000,
          135000,
          135000,
          135000,
          135000,
          135000,
          135000,
          135000,
          135000,
          135000,
          135000,
          135000,
          135000,
          135000,
          135000,
          135000,
          135000,
          135000,
          135000,
          135000,
          135000,
          135000,
          135000,
          135000,
          135000,
          135000,
          135000,
          135000,
          135000,
          135000,
          135000,
          135000,
          135000,
          135000,
          135000,
          135000,
          135000,
          135000,
          135000,
          135000,
          135000,
          135000,
          135000,
          135000,
          135000,
          135000,
          135000,
          135000,
          135000,
          135000,
          135000,
          135000,
          135000,
          135000,
          135000,
          135000,
          135000,
          135000,
          135000,
          135000,
          135000,
          135000,
          135000,
          135000,
          135000,
          135000,
          135000,
          135000,
          135000,
          135000,
          135000,
          135000,
          135000,
          135000,
          135000,
          135000,
          135000,
          135000,
          135000,
          135000,
          135000,
          135000,
          135000,
          135000,
          135000,
          135000,
          135000,
          135000,
          135000,
          135000,
          135000,
          135000,
          135000,
          135000,
          135000,
          135000,
          135000,
          135000,
          135000,
          135000,
          135000,
          135000,
          135000,
          135000,
          135000,
          135000,
          135000,
          135000,
          135000,
          135000,
          135000,
          135000,
          135000,
          135000,
          135000,
          135000,
          135000,
          135000,
          135000,
          135000,
          135000,
          135000,
          135000,
          135000,
          135000,
          135000,
          135000,
          135000,
          135000,
          135000,
          135000,
          135000,
          135000,
          135000,
          135000,
          135000,
          135000,
          135000,
          135000,
          135000,
          135000,
          135000,
          135000,
          135000,
          135000,
          135000,
          135000,
          135000,
          135000,
          135000,
          135000,
          135000,
          135000,
          135000,
          135000,
          135037,
          135037,
          135180,
          135250,
          135283,
          135387,
          135387,
          135387,
          135387,
          135402,
          135450,
          135500,
          135500,
          135500,
          135500,
          135680,
          135975,
          136000,
          136000,
          136000,
          136000,
          136000,
          136000,
          136000,
          136000,
          136000,
          136219,
          136350,
          136370,
          136573,
          136573,
          136573,
          136600,
          136630,
          136800,
          136827,
          136906,
          137000,
          137000,
          137000,
          137000,
          137000,
          137000,
          137000,
          137000,
          137000,
          137000,
          137000,
          137000,
          137000,
          137000,
          137000,
          137000,
          137000,
          137000,
          137000,
          137000,
          137000,
          137000,
          137000,
          137000,
          137000,
          137000,
          137000,
          137000,
          137000,
          137000,
          137000,
          137000,
          137000,
          137079,
          137250,
          137300,
          137350,
          137351,
          137351,
          137800,
          137885,
          138000,
          138000,
          138000,
          138000,
          138000,
          138000,
          138000,
          138000,
          138000,
          138100,
          138100,
          138300,
          138327,
          138327,
          138389,
          138486,
          138486,
          138486,
          138500,
          138507,
          138507,
          138507,
          138507,
          138720,
          138729,
          138900,
          138900,
          138923,
          138923,
          138923,
          138923,
          139000,
          139000,
          139000,
          139130,
          139168,
          139235,
          139321,
          139400,
          139400,
          139495,
          139495,
          139672,
          139818,
          139940,
          140000,
          140000,
          140000,
          140000,
          140000,
          140000,
          140000,
          140000,
          140000,
          140000,
          140000,
          140000,
          140000,
          140000,
          140000,
          140000,
          140000,
          140000,
          140000,
          140000,
          140000,
          140000,
          140000,
          140000,
          140000,
          140000,
          140000,
          140000,
          140000,
          140000,
          140000,
          140000,
          140000,
          140000,
          140000,
          140000,
          140000,
          140000,
          140000,
          140000,
          140000,
          140000,
          140000,
          140000,
          140000,
          140000,
          140000,
          140000,
          140000,
          140000,
          140000,
          140000,
          140000,
          140000,
          140000,
          140000,
          140000,
          140000,
          140000,
          140000,
          140000,
          140000,
          140000,
          140000,
          140000,
          140000,
          140000,
          140000,
          140000,
          140000,
          140000,
          140000,
          140000,
          140000,
          140000,
          140000,
          140000,
          140000,
          140000,
          140000,
          140000,
          140000,
          140000,
          140000,
          140000,
          140000,
          140000,
          140000,
          140000,
          140000,
          140000,
          140000,
          140000,
          140000,
          140000,
          140000,
          140000,
          140000,
          140000,
          140000,
          140000,
          140000,
          140000,
          140000,
          140000,
          140000,
          140000,
          140000,
          140000,
          140000,
          140000,
          140000,
          140000,
          140000,
          140000,
          140000,
          140000,
          140000,
          140000,
          140000,
          140000,
          140000,
          140000,
          140000,
          140000,
          140000,
          140000,
          140000,
          140000,
          140000,
          140000,
          140000,
          140000,
          140000,
          140000,
          140000,
          140000,
          140000,
          140000,
          140000,
          140000,
          140000,
          140000,
          140000,
          140000,
          140000,
          140000,
          140000,
          140000,
          140000,
          140000,
          140000,
          140000,
          140000,
          140000,
          140000,
          140000,
          140000,
          140149,
          140250,
          140250,
          140250,
          140270,
          140300,
          140306,
          140306,
          140400,
          140400,
          140400,
          140546,
          140670,
          140700,
          140800,
          140990,
          141000,
          141000,
          141000,
          141000,
          141000,
          141000,
          141036,
          141200,
          141200,
          141250,
          141360,
          141550,
          141550,
          141665,
          141669,
          141669,
          141750,
          141750,
          141877,
          141877,
          141877,
          141877,
          141960,
          141960,
          142000,
          142000,
          142000,
          142000,
          142000,
          142164,
          142200,
          142300,
          142376,
          142500,
          142500,
          142600,
          142600,
          142650,
          142800,
          142938,
          143000,
          143000,
          143000,
          143000,
          143000,
          143000,
          143104,
          143104,
          143104,
          143104,
          143104,
          143104,
          143104,
          143104,
          143104,
          143192,
          143200,
          143220,
          143404,
          143529,
          143591,
          143591,
          143785,
          143785,
          143785,
          143790,
          143850,
          143871,
          143871,
          144000,
          144000,
          144000,
          144000,
          144000,
          144000,
          144197,
          144200,
          144200,
          144244,
          144382,
          144518,
          144563,
          144750,
          144750,
          144769,
          144769,
          144787,
          145000,
          145000,
          145000,
          145000,
          145000,
          145000,
          145000,
          145000,
          145000,
          145000,
          145000,
          145000,
          145000,
          145000,
          145000,
          145000,
          145000,
          145000,
          145000,
          145000,
          145000,
          145000,
          145000,
          145000,
          145000,
          145000,
          145000,
          145000,
          145000,
          145000,
          145000,
          145000,
          145000,
          145000,
          145000,
          145000,
          145000,
          145000,
          145000,
          145000,
          145000,
          145000,
          145000,
          145000,
          145000,
          145000,
          145000,
          145000,
          145000,
          145000,
          145000,
          145000,
          145000,
          145000,
          145000,
          145000,
          145000,
          145000,
          145000,
          145000,
          145000,
          145000,
          145000,
          145000,
          145000,
          145000,
          145000,
          145000,
          145000,
          145000,
          145000,
          145000,
          145000,
          145000,
          145000,
          145000,
          145000,
          145000,
          145000,
          145000,
          145000,
          145000,
          145000,
          145000,
          145000,
          145000,
          145000,
          145000,
          145000,
          145043,
          145462,
          145534,
          145903,
          146000,
          146000,
          146000,
          146000,
          146000,
          146500,
          146600,
          147000,
          147000,
          147000,
          147000,
          147000,
          147000,
          147000,
          147000,
          147000,
          147000,
          147000,
          147000,
          147000,
          147000,
          147000,
          147000,
          147000,
          147000,
          147000,
          147046,
          147248,
          147281,
          147300,
          147347,
          147347,
          147400,
          147487,
          147500,
          148000,
          148000,
          148000,
          148000,
          148000,
          148000,
          148000,
          148003,
          148150,
          148500,
          148500,
          148500,
          148500,
          148500,
          149000,
          149000,
          149000,
          149000,
          149191,
          149219,
          149500,
          149575,
          149713,
          150000,
          150000,
          150000,
          150000,
          150000,
          150000,
          150000,
          150000,
          150000,
          150000,
          150000,
          150000,
          150000,
          150000,
          150000,
          150000,
          150000,
          150000,
          150000,
          150000,
          150000,
          150000,
          150000,
          150000,
          150000,
          150000,
          150000,
          150000,
          150000,
          150000,
          150000,
          150000,
          150000,
          150000,
          150000,
          150000,
          150000,
          150000,
          150000,
          150000,
          150000,
          150000,
          150000,
          150000,
          150000,
          150000,
          150000,
          150000,
          150000,
          150000,
          150000,
          150000,
          150000,
          150000,
          150000,
          150000,
          150000,
          150000,
          150000,
          150000,
          150000,
          150000,
          150000,
          150000,
          150000,
          150000,
          150000,
          150000,
          150000,
          150000,
          150000,
          150000,
          150000,
          150000,
          150000,
          150000,
          150000,
          150000,
          150000,
          150000,
          150000,
          150000,
          150000,
          150000,
          150000,
          150000,
          150000,
          150000,
          150000,
          150000,
          150000,
          150000,
          150000,
          150000,
          150000,
          150000,
          150000,
          150000,
          150000,
          150000,
          150000,
          150000,
          150000,
          150000,
          150000,
          150000,
          150000,
          150000,
          150000,
          150000,
          150000,
          150000,
          150000,
          150000,
          150000,
          150000,
          150000,
          150000,
          150000,
          150000,
          150000,
          150000,
          150000,
          150000,
          150184,
          150184,
          150253,
          150300,
          150442,
          150773,
          150978,
          151000,
          151000,
          151000,
          151311,
          151590,
          151888,
          152000,
          152294,
          152407,
          152420,
          152504,
          152568,
          152600,
          152850,
          152903,
          153000,
          153000,
          153000,
          153001,
          154000,
          154000,
          154000,
          154000,
          154000,
          154000,
          154000,
          154500,
          154500,
          154998,
          155000,
          155000,
          155000,
          155000,
          155000,
          155000,
          155000,
          155000,
          155000,
          155000,
          155000,
          155000,
          155000,
          155000,
          155000,
          155000,
          155000,
          155000,
          155000,
          155000,
          155000,
          155000,
          155000,
          155000,
          155000,
          155000,
          155000,
          155000,
          155000,
          155000,
          155000,
          155000,
          155000,
          155000,
          155000,
          155000,
          155000,
          155000,
          155000,
          155000,
          155000,
          155000,
          155000,
          155000,
          155000,
          155000,
          155000,
          155000,
          155000,
          155000,
          155000,
          155000,
          155000,
          155000,
          155000,
          155000,
          155000,
          155000,
          155000,
          155000,
          155000,
          155000,
          155000,
          155000,
          155000,
          155000,
          155000,
          155000,
          155000,
          155000,
          155000,
          155000,
          155000,
          155000,
          155000,
          155000,
          155000,
          155000,
          155000,
          155250,
          156000,
          156000,
          156000,
          156000,
          156000,
          156000,
          156028,
          156924,
          157000,
          157000,
          157000,
          157500,
          157500,
          157602,
          158000,
          158000,
          158000,
          158000,
          158142,
          158163,
          158163,
          158163,
          158163,
          158163,
          158200,
          158270,
          158508,
          159000,
          159010,
          159126,
          159126,
          159126,
          159266,
          159400,
          159411,
          159484,
          159484,
          159492,
          159744,
          159800,
          160000,
          160000,
          160000,
          160000,
          160000,
          160000,
          160000,
          160000,
          160000,
          160000,
          160000,
          160000,
          160000,
          160000,
          160000,
          160000,
          160000,
          160000,
          160000,
          160000,
          160000,
          160000,
          160000,
          160000,
          160000,
          160000,
          160000,
          160000,
          160000,
          160000,
          160000,
          160000,
          160000,
          160000,
          160000,
          160000,
          160000,
          160000,
          160000,
          160000,
          160000,
          160000,
          160000,
          160000,
          160000,
          160000,
          160000,
          160000,
          160000,
          160000,
          160000,
          160000,
          160000,
          160000,
          160000,
          160000,
          160000,
          160000,
          160000,
          160000,
          160058,
          160475,
          160930,
          160930,
          161000,
          161200,
          161550,
          161550,
          162000,
          163000,
          163000,
          163036,
          163134,
          163134,
          163500,
          163628,
          164000,
          164000,
          164000,
          164000,
          164765,
          164765,
          164989,
          164989,
          165000,
          165000,
          165000,
          165000,
          165000,
          165000,
          165000,
          165000,
          165000,
          165000,
          165000,
          165000,
          165000,
          165000,
          165000,
          165000,
          165000,
          165000,
          165000,
          165000,
          165000,
          165000,
          165000,
          165000,
          165000,
          165000,
          165000,
          165000,
          165000,
          165000,
          165000,
          165000,
          165000,
          165000,
          165360,
          166020,
          166080,
          166250,
          166250,
          166385,
          167450,
          167500,
          168000,
          168000,
          168000,
          168000,
          168210,
          168875,
          168875,
          168875,
          168875,
          168958,
          169000,
          169000,
          169000,
          169150,
          169796,
          170000,
          170000,
          170000,
          170000,
          170000,
          170000,
          170000,
          170000,
          170000,
          170000,
          170000,
          170000,
          170000,
          170000,
          170000,
          170000,
          170000,
          170000,
          170000,
          170000,
          170000,
          170000,
          170000,
          170000,
          170000,
          170000,
          170000,
          170000,
          170000,
          170000,
          170000,
          170000,
          170000,
          170000,
          170000,
          170000,
          170280,
          170328,
          171000,
          171423,
          171921,
          172000,
          172000,
          172000,
          172000,
          172000,
          172000,
          172000,
          172515,
          172534,
          174117,
          174117,
          174138,
          174240,
          174703,
          174850,
          175000,
          175000,
          175000,
          175000,
          175000,
          175000,
          175000,
          175000,
          175000,
          175000,
          175000,
          175000,
          175000,
          175000,
          175000,
          175000,
          175000,
          175000,
          175000,
          175000,
          175000,
          175000,
          175000,
          175000,
          175000,
          175000,
          175000,
          175000,
          175000,
          175000,
          175000,
          175000,
          175000,
          175000,
          175000,
          175000,
          175000,
          175000,
          175245,
          175380,
          175723,
          175780,
          175780,
          176650,
          177091,
          177406,
          177677,
          178541,
          180000,
          180000,
          180000,
          180000,
          180000,
          180000,
          180000,
          180000,
          180000,
          180000,
          180000,
          180000,
          180000,
          180000,
          180000,
          180000,
          180000,
          180000,
          180000,
          180000,
          180000,
          180000,
          180925,
          182281,
          182610,
          182610,
          183066,
          183350,
          183465,
          184000,
          185000,
          185000,
          185000,
          185000,
          185000,
          185000,
          185000,
          185000,
          185000,
          185000,
          185000,
          185000,
          185000,
          185000,
          185000,
          185000,
          187000,
          187000,
          189000,
          190000,
          190000,
          190000,
          190000,
          190000,
          190000,
          190000,
          190000,
          190000,
          190000,
          190000,
          190000,
          190000,
          190000,
          190000,
          190000,
          190000,
          190000,
          190900,
          192000,
          193000,
          194835,
          195000,
          195000,
          195000,
          195979,
          200000,
          200000,
          200000,
          200000,
          200000,
          200000,
          200000,
          200000,
          200000,
          200000,
          200000,
          200000,
          200000,
          200000,
          200000,
          200000,
          200000,
          200000,
          200000,
          200000,
          201925,
          203800,
          204000,
          205000,
          205000,
          205000,
          210000,
          210000,
          210000,
          210000,
          215000,
          215000,
          216331,
          220000,
          225000,
          225000,
          234000,
          234000,
          234000,
          248400,
          248400,
          250000,
          250000,
          253630,
          260000,
          260000,
          260000
         ]
        }
       ],
       "layout": {
        "template": {
         "data": {
          "bar": [
           {
            "error_x": {
             "color": "#2a3f5f"
            },
            "error_y": {
             "color": "#2a3f5f"
            },
            "marker": {
             "line": {
              "color": "#E5ECF6",
              "width": 0.5
             }
            },
            "type": "bar"
           }
          ],
          "barpolar": [
           {
            "marker": {
             "line": {
              "color": "#E5ECF6",
              "width": 0.5
             }
            },
            "type": "barpolar"
           }
          ],
          "carpet": [
           {
            "aaxis": {
             "endlinecolor": "#2a3f5f",
             "gridcolor": "white",
             "linecolor": "white",
             "minorgridcolor": "white",
             "startlinecolor": "#2a3f5f"
            },
            "baxis": {
             "endlinecolor": "#2a3f5f",
             "gridcolor": "white",
             "linecolor": "white",
             "minorgridcolor": "white",
             "startlinecolor": "#2a3f5f"
            },
            "type": "carpet"
           }
          ],
          "choropleth": [
           {
            "colorbar": {
             "outlinewidth": 0,
             "ticks": ""
            },
            "type": "choropleth"
           }
          ],
          "contour": [
           {
            "colorbar": {
             "outlinewidth": 0,
             "ticks": ""
            },
            "colorscale": [
             [
              0,
              "#0d0887"
             ],
             [
              0.1111111111111111,
              "#46039f"
             ],
             [
              0.2222222222222222,
              "#7201a8"
             ],
             [
              0.3333333333333333,
              "#9c179e"
             ],
             [
              0.4444444444444444,
              "#bd3786"
             ],
             [
              0.5555555555555556,
              "#d8576b"
             ],
             [
              0.6666666666666666,
              "#ed7953"
             ],
             [
              0.7777777777777778,
              "#fb9f3a"
             ],
             [
              0.8888888888888888,
              "#fdca26"
             ],
             [
              1,
              "#f0f921"
             ]
            ],
            "type": "contour"
           }
          ],
          "contourcarpet": [
           {
            "colorbar": {
             "outlinewidth": 0,
             "ticks": ""
            },
            "type": "contourcarpet"
           }
          ],
          "heatmap": [
           {
            "colorbar": {
             "outlinewidth": 0,
             "ticks": ""
            },
            "colorscale": [
             [
              0,
              "#0d0887"
             ],
             [
              0.1111111111111111,
              "#46039f"
             ],
             [
              0.2222222222222222,
              "#7201a8"
             ],
             [
              0.3333333333333333,
              "#9c179e"
             ],
             [
              0.4444444444444444,
              "#bd3786"
             ],
             [
              0.5555555555555556,
              "#d8576b"
             ],
             [
              0.6666666666666666,
              "#ed7953"
             ],
             [
              0.7777777777777778,
              "#fb9f3a"
             ],
             [
              0.8888888888888888,
              "#fdca26"
             ],
             [
              1,
              "#f0f921"
             ]
            ],
            "type": "heatmap"
           }
          ],
          "heatmapgl": [
           {
            "colorbar": {
             "outlinewidth": 0,
             "ticks": ""
            },
            "colorscale": [
             [
              0,
              "#0d0887"
             ],
             [
              0.1111111111111111,
              "#46039f"
             ],
             [
              0.2222222222222222,
              "#7201a8"
             ],
             [
              0.3333333333333333,
              "#9c179e"
             ],
             [
              0.4444444444444444,
              "#bd3786"
             ],
             [
              0.5555555555555556,
              "#d8576b"
             ],
             [
              0.6666666666666666,
              "#ed7953"
             ],
             [
              0.7777777777777778,
              "#fb9f3a"
             ],
             [
              0.8888888888888888,
              "#fdca26"
             ],
             [
              1,
              "#f0f921"
             ]
            ],
            "type": "heatmapgl"
           }
          ],
          "histogram": [
           {
            "marker": {
             "colorbar": {
              "outlinewidth": 0,
              "ticks": ""
             }
            },
            "type": "histogram"
           }
          ],
          "histogram2d": [
           {
            "colorbar": {
             "outlinewidth": 0,
             "ticks": ""
            },
            "colorscale": [
             [
              0,
              "#0d0887"
             ],
             [
              0.1111111111111111,
              "#46039f"
             ],
             [
              0.2222222222222222,
              "#7201a8"
             ],
             [
              0.3333333333333333,
              "#9c179e"
             ],
             [
              0.4444444444444444,
              "#bd3786"
             ],
             [
              0.5555555555555556,
              "#d8576b"
             ],
             [
              0.6666666666666666,
              "#ed7953"
             ],
             [
              0.7777777777777778,
              "#fb9f3a"
             ],
             [
              0.8888888888888888,
              "#fdca26"
             ],
             [
              1,
              "#f0f921"
             ]
            ],
            "type": "histogram2d"
           }
          ],
          "histogram2dcontour": [
           {
            "colorbar": {
             "outlinewidth": 0,
             "ticks": ""
            },
            "colorscale": [
             [
              0,
              "#0d0887"
             ],
             [
              0.1111111111111111,
              "#46039f"
             ],
             [
              0.2222222222222222,
              "#7201a8"
             ],
             [
              0.3333333333333333,
              "#9c179e"
             ],
             [
              0.4444444444444444,
              "#bd3786"
             ],
             [
              0.5555555555555556,
              "#d8576b"
             ],
             [
              0.6666666666666666,
              "#ed7953"
             ],
             [
              0.7777777777777778,
              "#fb9f3a"
             ],
             [
              0.8888888888888888,
              "#fdca26"
             ],
             [
              1,
              "#f0f921"
             ]
            ],
            "type": "histogram2dcontour"
           }
          ],
          "mesh3d": [
           {
            "colorbar": {
             "outlinewidth": 0,
             "ticks": ""
            },
            "type": "mesh3d"
           }
          ],
          "parcoords": [
           {
            "line": {
             "colorbar": {
              "outlinewidth": 0,
              "ticks": ""
             }
            },
            "type": "parcoords"
           }
          ],
          "pie": [
           {
            "automargin": true,
            "type": "pie"
           }
          ],
          "scatter": [
           {
            "marker": {
             "colorbar": {
              "outlinewidth": 0,
              "ticks": ""
             }
            },
            "type": "scatter"
           }
          ],
          "scatter3d": [
           {
            "line": {
             "colorbar": {
              "outlinewidth": 0,
              "ticks": ""
             }
            },
            "marker": {
             "colorbar": {
              "outlinewidth": 0,
              "ticks": ""
             }
            },
            "type": "scatter3d"
           }
          ],
          "scattercarpet": [
           {
            "marker": {
             "colorbar": {
              "outlinewidth": 0,
              "ticks": ""
             }
            },
            "type": "scattercarpet"
           }
          ],
          "scattergeo": [
           {
            "marker": {
             "colorbar": {
              "outlinewidth": 0,
              "ticks": ""
             }
            },
            "type": "scattergeo"
           }
          ],
          "scattergl": [
           {
            "marker": {
             "colorbar": {
              "outlinewidth": 0,
              "ticks": ""
             }
            },
            "type": "scattergl"
           }
          ],
          "scattermapbox": [
           {
            "marker": {
             "colorbar": {
              "outlinewidth": 0,
              "ticks": ""
             }
            },
            "type": "scattermapbox"
           }
          ],
          "scatterpolar": [
           {
            "marker": {
             "colorbar": {
              "outlinewidth": 0,
              "ticks": ""
             }
            },
            "type": "scatterpolar"
           }
          ],
          "scatterpolargl": [
           {
            "marker": {
             "colorbar": {
              "outlinewidth": 0,
              "ticks": ""
             }
            },
            "type": "scatterpolargl"
           }
          ],
          "scatterternary": [
           {
            "marker": {
             "colorbar": {
              "outlinewidth": 0,
              "ticks": ""
             }
            },
            "type": "scatterternary"
           }
          ],
          "surface": [
           {
            "colorbar": {
             "outlinewidth": 0,
             "ticks": ""
            },
            "colorscale": [
             [
              0,
              "#0d0887"
             ],
             [
              0.1111111111111111,
              "#46039f"
             ],
             [
              0.2222222222222222,
              "#7201a8"
             ],
             [
              0.3333333333333333,
              "#9c179e"
             ],
             [
              0.4444444444444444,
              "#bd3786"
             ],
             [
              0.5555555555555556,
              "#d8576b"
             ],
             [
              0.6666666666666666,
              "#ed7953"
             ],
             [
              0.7777777777777778,
              "#fb9f3a"
             ],
             [
              0.8888888888888888,
              "#fdca26"
             ],
             [
              1,
              "#f0f921"
             ]
            ],
            "type": "surface"
           }
          ],
          "table": [
           {
            "cells": {
             "fill": {
              "color": "#EBF0F8"
             },
             "line": {
              "color": "white"
             }
            },
            "header": {
             "fill": {
              "color": "#C8D4E3"
             },
             "line": {
              "color": "white"
             }
            },
            "type": "table"
           }
          ]
         },
         "layout": {
          "annotationdefaults": {
           "arrowcolor": "#2a3f5f",
           "arrowhead": 0,
           "arrowwidth": 1
          },
          "coloraxis": {
           "colorbar": {
            "outlinewidth": 0,
            "ticks": ""
           }
          },
          "colorscale": {
           "diverging": [
            [
             0,
             "#8e0152"
            ],
            [
             0.1,
             "#c51b7d"
            ],
            [
             0.2,
             "#de77ae"
            ],
            [
             0.3,
             "#f1b6da"
            ],
            [
             0.4,
             "#fde0ef"
            ],
            [
             0.5,
             "#f7f7f7"
            ],
            [
             0.6,
             "#e6f5d0"
            ],
            [
             0.7,
             "#b8e186"
            ],
            [
             0.8,
             "#7fbc41"
            ],
            [
             0.9,
             "#4d9221"
            ],
            [
             1,
             "#276419"
            ]
           ],
           "sequential": [
            [
             0,
             "#0d0887"
            ],
            [
             0.1111111111111111,
             "#46039f"
            ],
            [
             0.2222222222222222,
             "#7201a8"
            ],
            [
             0.3333333333333333,
             "#9c179e"
            ],
            [
             0.4444444444444444,
             "#bd3786"
            ],
            [
             0.5555555555555556,
             "#d8576b"
            ],
            [
             0.6666666666666666,
             "#ed7953"
            ],
            [
             0.7777777777777778,
             "#fb9f3a"
            ],
            [
             0.8888888888888888,
             "#fdca26"
            ],
            [
             1,
             "#f0f921"
            ]
           ],
           "sequentialminus": [
            [
             0,
             "#0d0887"
            ],
            [
             0.1111111111111111,
             "#46039f"
            ],
            [
             0.2222222222222222,
             "#7201a8"
            ],
            [
             0.3333333333333333,
             "#9c179e"
            ],
            [
             0.4444444444444444,
             "#bd3786"
            ],
            [
             0.5555555555555556,
             "#d8576b"
            ],
            [
             0.6666666666666666,
             "#ed7953"
            ],
            [
             0.7777777777777778,
             "#fb9f3a"
            ],
            [
             0.8888888888888888,
             "#fdca26"
            ],
            [
             1,
             "#f0f921"
            ]
           ]
          },
          "colorway": [
           "#636efa",
           "#EF553B",
           "#00cc96",
           "#ab63fa",
           "#FFA15A",
           "#19d3f3",
           "#FF6692",
           "#B6E880",
           "#FF97FF",
           "#FECB52"
          ],
          "font": {
           "color": "#2a3f5f"
          },
          "geo": {
           "bgcolor": "white",
           "lakecolor": "white",
           "landcolor": "#E5ECF6",
           "showlakes": true,
           "showland": true,
           "subunitcolor": "white"
          },
          "hoverlabel": {
           "align": "left"
          },
          "hovermode": "closest",
          "mapbox": {
           "style": "light"
          },
          "paper_bgcolor": "white",
          "plot_bgcolor": "#E5ECF6",
          "polar": {
           "angularaxis": {
            "gridcolor": "white",
            "linecolor": "white",
            "ticks": ""
           },
           "bgcolor": "#E5ECF6",
           "radialaxis": {
            "gridcolor": "white",
            "linecolor": "white",
            "ticks": ""
           }
          },
          "scene": {
           "xaxis": {
            "backgroundcolor": "#E5ECF6",
            "gridcolor": "white",
            "gridwidth": 2,
            "linecolor": "white",
            "showbackground": true,
            "ticks": "",
            "zerolinecolor": "white"
           },
           "yaxis": {
            "backgroundcolor": "#E5ECF6",
            "gridcolor": "white",
            "gridwidth": 2,
            "linecolor": "white",
            "showbackground": true,
            "ticks": "",
            "zerolinecolor": "white"
           },
           "zaxis": {
            "backgroundcolor": "#E5ECF6",
            "gridcolor": "white",
            "gridwidth": 2,
            "linecolor": "white",
            "showbackground": true,
            "ticks": "",
            "zerolinecolor": "white"
           }
          },
          "shapedefaults": {
           "line": {
            "color": "#2a3f5f"
           }
          },
          "ternary": {
           "aaxis": {
            "gridcolor": "white",
            "linecolor": "white",
            "ticks": ""
           },
           "baxis": {
            "gridcolor": "white",
            "linecolor": "white",
            "ticks": ""
           },
           "bgcolor": "#E5ECF6",
           "caxis": {
            "gridcolor": "white",
            "linecolor": "white",
            "ticks": ""
           }
          },
          "title": {
           "x": 0.05
          },
          "xaxis": {
           "automargin": true,
           "gridcolor": "white",
           "linecolor": "white",
           "ticks": "",
           "title": {
            "standoff": 15
           },
           "zerolinecolor": "white",
           "zerolinewidth": 2
          },
          "yaxis": {
           "automargin": true,
           "gridcolor": "white",
           "linecolor": "white",
           "ticks": "",
           "title": {
            "standoff": 15
           },
           "zerolinecolor": "white",
           "zerolinewidth": 2
          }
         }
        },
        "title": {
         "text": "Salary Histogram"
        },
        "xaxis": {
         "title": {
          "text": "Salary Range in USD"
         }
        },
        "yaxis": {
         "title": {
          "text": "Count"
         }
        }
       }
      },
      "text/html": [
       "<div>\n",
       "        \n",
       "        \n",
       "            <div id=\"6b183157-006e-45a5-99f2-4420b6be3d2f\" class=\"plotly-graph-div\" style=\"height:525px; width:100%;\"></div>\n",
       "            <script type=\"text/javascript\">\n",
       "                require([\"plotly\"], function(Plotly) {\n",
       "                    window.PLOTLYENV=window.PLOTLYENV || {};\n",
       "                    \n",
       "                if (document.getElementById(\"6b183157-006e-45a5-99f2-4420b6be3d2f\")) {\n",
       "                    Plotly.newPlot(\n",
       "                        '6b183157-006e-45a5-99f2-4420b6be3d2f',\n",
       "                        [{\"histnorm\": \"probability\", \"type\": \"histogram\", \"x\": [46060, 47960, 47960, 50000, 50220, 51860, 52000, 52300, 58920, 59340, 60000, 60140, 60360, 60420, 60420, 62000, 62000, 62060, 63720, 65080, 65500, 65500, 66000, 66000, 67000, 67300, 67300, 67300, 67380, 68380, 70000, 70000, 70000, 70000, 70000, 71400, 71580, 72000, 72100, 72100, 73460, 73460, 74000, 74000, 74000, 74000, 74880, 74880, 74880, 74880, 75260, 77600, 77860, 78000, 78000, 78020, 78920, 79260, 80000, 80000, 80000, 80000, 80000, 80000, 81620, 81920, 82000, 82000, 82000, 82080, 82080, 82820, 82820, 82820, 82860, 82860, 83520, 84000, 84100, 84140, 84740, 85940, 86540, 87100, 87900, 89220, 89220, 90000, 90000, 90000, 90000, 90000, 90000, 90000, 90000, 90320, 90720, 91200, 91340, 91580, 91580, 91640, 92000, 92700, 93920, 94100, 94120, 94220, 94220, 94400, 94420, 95000, 95000, 96000, 96000, 96160, 96160, 96160, 96160, 97800, 98000, 98000, 98900, 98900, 100000, 100000, 100000, 100000, 100040, 101740, 102000, 106560, 109880, 110000, 110000, 110000, 110000, 110000, 111720, 111720, 112500, 114000, 114000, 116000, 116640, 117500, 120000, 120000, 120000, 120000, 120200, 121740, 128000, 130000, 130000, 131860, 131860, 138460, 140000, 145980, 152000, 152000, 154000, 170000, 170000, 182700, 182700, 182700, 201920, 5769, 29973, 37482, 37482, 40000, 42245, 42765, 42765, 44117, 44304, 44304, 44574, 45150, 45469, 45469, 45614, 46800, 46800, 46900, 48734, 48734, 49088, 49733, 49733, 49733, 49733, 50000, 50000, 50000, 50000, 50000, 50000, 50000, 50004, 50128, 50170, 50315, 50315, 50336, 50336, 50378, 50440, 50700, 50731, 50731, 50939, 51000, 51000, 51355, 52000, 52000, 52000, 52000, 52000, 52000, 52062, 53768, 53872, 53872, 53872, 53872, 53893, 54142, 54163, 54434, 54579, 54579, 54579, 54600, 54600, 54974, 55000, 55000, 55000, 55000, 55000, 55000, 55000, 55000, 55000, 55000, 55120, 55550, 55744, 56072, 56139, 56222, 56493, 56597, 56597, 56700, 56784, 56880, 56880, 57000, 57096, 57221, 57242, 57429, 57429, 57450, 57500, 57500, 57554, 57554, 57554, 57928, 58000, 58000, 58000, 58219, 58219, 58323, 58450, 58635, 58656, 58864, 59238, 59280, 59280, 59675, 59738, 59738, 59738, 59987, 59987, 60000, 60000, 60000, 60000, 60000, 60000, 60000, 60000, 60000, 60000, 60000, 60000, 60000, 60000, 60000, 60000, 60000, 60000, 60000, 60000, 60000, 60000, 60000, 60000, 60000, 60000, 60000, 60000, 60000, 60000, 60000, 60000, 60000, 60000, 60000, 60000, 60000, 60000, 60000, 60029, 60029, 60091, 60133, 60133, 60133, 60466, 60486, 60486, 60486, 60500, 60674, 60798, 60923, 60923, 60986, 61000, 61000, 61131, 61131, 61263, 61298, 61298, 61298, 61651, 61734, 61734, 61797, 61800, 61800, 61838, 61838, 61838, 61963, 61984, 62000, 62000, 62000, 62000, 62000, 62000, 62000, 62213, 62213, 62379, 62400, 62500, 62525, 62546, 62546, 62546, 62587, 62587, 62650, 62650, 62650, 62795, 62816, 62982, 62982, 62982, 63000, 63000, 63000, 63000, 63000, 63024, 63045, 63045, 63045, 63066, 63066, 63107, 63107, 63107, 63232, 63419, 63500, 63500, 63500, 63500, 63523, 63731, 63814, 63814, 63814, 63814, 63814, 64000, 64043, 64064, 64064, 64064, 64168, 64189, 64272, 64272, 64355, 64397, 64596, 64626, 64626, 64626, 64641, 64641, 64650, 64750, 64792, 64813, 64958, 64958, 65000, 65000, 65000, 65000, 65000, 65000, 65000, 65000, 65000, 65000, 65000, 65000, 65000, 65000, 65000, 65000, 65000, 65000, 65000, 65000, 65000, 65000, 65000, 65000, 65000, 65000, 65000, 65000, 65000, 65000, 65000, 65000, 65000, 65000, 65000, 65000, 65000, 65000, 65000, 65000, 65000, 65000, 65000, 65000, 65000, 65000, 65000, 65000, 65000, 65000, 65000, 65000, 65166, 65200, 65208, 65208, 65208, 65229, 65229, 65229, 65312, 65312, 65312, 65499, 65500, 65500, 65500, 65520, 65978, 66000, 66000, 66000, 66000, 66000, 66000, 66000, 66000, 66144, 66144, 66144, 66394, 66500, 66518, 66518, 66540, 66560, 66622, 66664, 66664, 66685, 66700, 66768, 66830, 66830, 66934, 66955, 67000, 67000, 67000, 67000, 67000, 67000, 67000, 67000, 67000, 67000, 67000, 67000, 67101, 67142, 67200, 67205, 67309, 67500, 67621, 67642, 67642, 67642, 67683, 67933, 68000, 68000, 68000, 68000, 68000, 68000, 68000, 68000, 68037, 68080, 68224, 68307, 68307, 68400, 68411, 68411, 68432, 68432, 68775, 68952, 68952, 69000, 69000, 69000, 69000, 69000, 69000, 69000, 69000, 69000, 69077, 69200, 69243, 69243, 69243, 69243, 69264, 69264, 69264, 69264, 69264, 69264, 69264, 69360, 69410, 69430, 69430, 69472, 69529, 69550, 69550, 69550, 69550, 69597, 69680, 69680, 69701, 69722, 69763, 69763, 69763, 69763, 69763, 69763, 69867, 69867, 69867, 69992, 69992, 69992, 69992, 69992, 69992, 69992, 70000, 70000, 70000, 70000, 70000, 70000, 70000, 70000, 70000, 70000, 70000, 70000, 70000, 70000, 70000, 70000, 70000, 70000, 70000, 70000, 70000, 70000, 70000, 70000, 70000, 70000, 70000, 70000, 70000, 70000, 70000, 70000, 70000, 70000, 70000, 70000, 70000, 70000, 70000, 70000, 70000, 70000, 70000, 70000, 70000, 70000, 70000, 70000, 70000, 70000, 70000, 70000, 70000, 70000, 70000, 70000, 70000, 70000, 70000, 70000, 70000, 70000, 70000, 70000, 70000, 70000, 70000, 70000, 70000, 70000, 70000, 70000, 70000, 70000, 70000, 70000, 70000, 70000, 70000, 70000, 70000, 70000, 70000, 70000, 70000, 70000, 70000, 70000, 70000, 70000, 70000, 70000, 70000, 70000, 70000, 70000, 70000, 70000, 70000, 70000, 70000, 70000, 70000, 70000, 70000, 70000, 70000, 70000, 70000, 70000, 70000, 70000, 70000, 70000, 70000, 70033, 70033, 70034, 70054, 70096, 70119, 70119, 70200, 70200, 70200, 70200, 70242, 70242, 70304, 70346, 70387, 70450, 70500, 70637, 70670, 70678, 70678, 70678, 70720, 70750, 70845, 70845, 70886, 70900, 70928, 70990, 71000, 71000, 71000, 71000, 71032, 71032, 71074, 71099, 71328, 71365, 71400, 71448, 71469, 71500, 71531, 71578, 71698, 71718, 71750, 71781, 71802, 71822, 71906, 72000, 72000, 72000, 72000, 72000, 72000, 72000, 72000, 72000, 72000, 72000, 72000, 72000, 72000, 72000, 72000, 72000, 72000, 72000, 72000, 72000, 72000, 72000, 72000, 72000, 72000, 72000, 72000, 72000, 72000, 72000, 72000, 72000, 72000, 72000, 72000, 72000, 72000, 72000, 72000, 72100, 72300, 72301, 72301, 72301, 72322, 72322, 72450, 72450, 72467, 72500, 72530, 72600, 72627, 72627, 72685, 72758, 72758, 72779, 72800, 72800, 72862, 72862, 72904, 73000, 73000, 73000, 73000, 73060, 73070, 73070, 73108, 73341, 73424, 73440, 73486, 73500, 73500, 73550, 73590, 73715, 73736, 73923, 73942, 73965, 74000, 74000, 74000, 74000, 74000, 74006, 74006, 74006, 74048, 74048, 74100, 74100, 74250, 74250, 74256, 74277, 74290, 74290, 74339, 74339, 74360, 74381, 74402, 74443, 74443, 74443, 74443, 74443, 74443, 74443, 74444, 74506, 74526, 74547, 74568, 74610, 74734, 74734, 74755, 74818, 74838, 74838, 74859, 74859, 74880, 74880, 74880, 74880, 74880, 74880, 74880, 74880, 74900, 74900, 74984, 74984, 74984, 75000, 75000, 75000, 75000, 75000, 75000, 75000, 75000, 75000, 75000, 75000, 75000, 75000, 75000, 75000, 75000, 75000, 75000, 75000, 75000, 75000, 75000, 75000, 75000, 75000, 75000, 75000, 75000, 75000, 75000, 75000, 75000, 75000, 75000, 75000, 75000, 75000, 75000, 75000, 75000, 75000, 75000, 75000, 75000, 75000, 75000, 75000, 75000, 75000, 75000, 75000, 75000, 75000, 75000, 75000, 75000, 75000, 75000, 75000, 75000, 75000, 75000, 75000, 75000, 75000, 75000, 75000, 75000, 75000, 75000, 75000, 75000, 75000, 75000, 75000, 75000, 75000, 75000, 75000, 75000, 75000, 75000, 75000, 75000, 75000, 75000, 75000, 75000, 75000, 75000, 75000, 75000, 75000, 75000, 75000, 75000, 75000, 75000, 75000, 75000, 75000, 75000, 75000, 75000, 75000, 75000, 75000, 75000, 75000, 75000, 75000, 75000, 75000, 75000, 75000, 75000, 75000, 75192, 75200, 75213, 75227, 75296, 75317, 75317, 75338, 75650, 75650, 75650, 75650, 75733, 75733, 75733, 75800, 75800, 75982, 76000, 76000, 76000, 76000, 76000, 76000, 76000, 76000, 76000, 76000, 76033, 76100, 76100, 76120, 76128, 76190, 76220, 76294, 76315, 76461, 76492, 76500, 76500, 76500, 76586, 76600, 76606, 76718, 76752, 76794, 76800, 76814, 76835, 76898, 76918, 76918, 77000, 77000, 77000, 77000, 77000, 77000, 77000, 77000, 77000, 77000, 77000, 77000, 77000, 77000, 77000, 77000, 77000, 77022, 77043, 77050, 77064, 77106, 77189, 77250, 77250, 77443, 77500, 77500, 77500, 77500, 77620, 77626, 77646, 77655, 77667, 77700, 77813, 77834, 77854, 77854, 77854, 77854, 77854, 77854, 77854, 77854, 77854, 78000, 78000, 78000, 78000, 78000, 78000, 78000, 78000, 78000, 78000, 78000, 78000, 78000, 78000, 78000, 78000, 78000, 78000, 78000, 78000, 78000, 78000, 78000, 78083, 78250, 78312, 78312, 78354, 78374, 78374, 78444, 78480, 78500, 78500, 78500, 78520, 78520, 78582, 78603, 78666, 78666, 78666, 78666, 78700, 78700, 78720, 78811, 79165, 79165, 79165, 79186, 79200, 79206, 79206, 79206, 79227, 79331, 79400, 79498, 79498, 79498, 79581, 79581, 79585, 79779, 79830, 79830, 79851, 79875, 79893, 79893, 79997, 79999, 79999, 79999, 80000, 80000, 80000, 80000, 80000, 80000, 80000, 80000, 80000, 80000, 80000, 80000, 80000, 80000, 80000, 80000, 80000, 80000, 80000, 80000, 80000, 80000, 80000, 80000, 80000, 80000, 80000, 80000, 80000, 80000, 80000, 80000, 80000, 80000, 80000, 80000, 80000, 80000, 80000, 80000, 80000, 80000, 80000, 80000, 80000, 80000, 80000, 80000, 80000, 80000, 80000, 80000, 80000, 80000, 80000, 80000, 80000, 80000, 80000, 80000, 80000, 80000, 80000, 80000, 80000, 80000, 80000, 80000, 80000, 80000, 80000, 80000, 80000, 80000, 80000, 80000, 80000, 80000, 80000, 80000, 80000, 80000, 80000, 80000, 80000, 80000, 80000, 80000, 80000, 80000, 80000, 80000, 80000, 80000, 80000, 80000, 80000, 80000, 80000, 80000, 80000, 80000, 80000, 80000, 80000, 80000, 80000, 80000, 80000, 80000, 80000, 80000, 80000, 80000, 80000, 80000, 80000, 80000, 80000, 80000, 80000, 80000, 80000, 80000, 80000, 80000, 80000, 80000, 80000, 80000, 80000, 80000, 80000, 80000, 80000, 80000, 80000, 80000, 80000, 80000, 80000, 80000, 80000, 80000, 80000, 80000, 80000, 80000, 80000, 80000, 80000, 80205, 80234, 80234, 80400, 80413, 80413, 80413, 80413, 80413, 80413, 80413, 80500, 80558, 80558, 80558, 80558, 80558, 80558, 80662, 80704, 80704, 80750, 80850, 80850, 80850, 80850, 80850, 80850, 80850, 80850, 80850, 80850, 80850, 80850, 80850, 80850, 80850, 80912, 80912, 80912, 80912, 80912, 80912, 80912, 80974, 80974, 80974, 80974, 80995, 80995, 81000, 81000, 81000, 81000, 81000, 81000, 81000, 81000, 81000, 81000, 81000, 81000, 81000, 81016, 81016, 81016, 81037, 81037, 81037, 81037, 81037, 81037, 81037, 81037, 81037, 81037, 81037, 81037, 81037, 81078, 81078, 81099, 81120, 81120, 81162, 81224, 81245, 81266, 81266, 81266, 81266, 81286, 81349, 81349, 81349, 81349, 81385, 81400, 81476, 81500, 81515, 81515, 81600, 81661, 81786, 81848, 81900, 81900, 81900, 81900, 81931, 81931, 82000, 82000, 82000, 82000, 82000, 82000, 82000, 82000, 82000, 82000, 82000, 82000, 82000, 82000, 82000, 82000, 82000, 82000, 82000, 82000, 82000, 82000, 82000, 82000, 82000, 82000, 82030, 82030, 82181, 82181, 82200, 82285, 82334, 82349, 82430, 82430, 82430, 82430, 82500, 82500, 82500, 82500, 82500, 82500, 82500, 82500, 82500, 82534, 82560, 82560, 82574, 82574, 82576, 82618, 82618, 82618, 82618, 82618, 82618, 82618, 82618, 82618, 82618, 82618, 82650, 82680, 82763, 82763, 82763, 82800, 82909, 82909, 82909, 82909, 82909, 82909, 82909, 82909, 82909, 82909, 82909, 82909, 82909, 82909, 82909, 82909, 82909, 82909, 82921, 83000, 83000, 83000, 83000, 83000, 83000, 83000, 83000, 83000, 83000, 83000, 83000, 83000, 83000, 83013, 83034, 83200, 83200, 83200, 83230, 83262, 83366, 83387, 83387, 83491, 83500, 83600, 83616, 83699, 83720, 83720, 83782, 83782, 83866, 83866, 83866, 83970, 84000, 84000, 84000, 84000, 84000, 84000, 84000, 84000, 84000, 84000, 84011, 84094, 84157, 84240, 84240, 84240, 84261, 84261, 84261, 84323, 84400, 84448, 84469, 84494, 84494, 84500, 84677, 84698, 84698, 84739, 84739, 84739, 84744, 84760, 84780, 84781, 84800, 84804, 84885, 84975, 85000, 85000, 85000, 85000, 85000, 85000, 85000, 85000, 85000, 85000, 85000, 85000, 85000, 85000, 85000, 85000, 85000, 85000, 85000, 85000, 85000, 85000, 85000, 85000, 85000, 85000, 85000, 85000, 85000, 85000, 85000, 85000, 85000, 85000, 85000, 85000, 85000, 85000, 85000, 85000, 85000, 85000, 85000, 85000, 85000, 85000, 85000, 85000, 85000, 85000, 85000, 85000, 85000, 85000, 85000, 85000, 85000, 85000, 85000, 85000, 85000, 85000, 85000, 85000, 85000, 85000, 85000, 85000, 85000, 85000, 85000, 85000, 85000, 85000, 85000, 85000, 85000, 85000, 85000, 85000, 85000, 85000, 85000, 85000, 85000, 85000, 85000, 85000, 85000, 85000, 85000, 85000, 85000, 85000, 85000, 85000, 85000, 85000, 85000, 85000, 85000, 85000, 85000, 85000, 85000, 85000, 85000, 85000, 85000, 85000, 85000, 85000, 85000, 85000, 85000, 85000, 85000, 85000, 85000, 85000, 85000, 85000, 85000, 85000, 85000, 85000, 85000, 85000, 85000, 85000, 85000, 85000, 85000, 85000, 85000, 85000, 85000, 85000, 85000, 85000, 85000, 85000, 85000, 85000, 85000, 85000, 85000, 85000, 85000, 85000, 85000, 85000, 85010, 85020, 85035, 85155, 85155, 85200, 85200, 85200, 85200, 85200, 85200, 85200, 85200, 85200, 85218, 85238, 85280, 85280, 85342, 85342, 85342, 85342, 85342, 85350, 85363, 85363, 85426, 85426, 85500, 85500, 85600, 85600, 85613, 85675, 85675, 85696, 85700, 85700, 85700, 85717, 85717, 85717, 85738, 85800, 85862, 85862, 85862, 85869, 85930, 85938, 85946, 85946, 85946, 86000, 86000, 86000, 86000, 86000, 86000, 86000, 86000, 86000, 86000, 86000, 86000, 86000, 86000, 86000, 86000, 86100, 86154, 86200, 86200, 86237, 86362, 86400, 86445, 86466, 86466, 86466, 86494, 86500, 86500, 86611, 86612, 86614, 86653, 86666, 86694, 86694, 86700, 86700, 86923, 87000, 87000, 87000, 87000, 87000, 87000, 87000, 87000, 87000, 87000, 87000, 87000, 87000, 87000, 87000, 87000, 87000, 87000, 87000, 87000, 87000, 87000, 87000, 87090, 87090, 87090, 87100, 87100, 87173, 87235, 87277, 87277, 87277, 87277, 87277, 87360, 87400, 87402, 87413, 87464, 87464, 87464, 87464, 87464, 87464, 87464, 87464, 87464, 87464, 87464, 87464, 87464, 87485, 87500, 87500, 87500, 87500, 87500, 87500, 87500, 87500, 87500, 87500, 87500, 87500, 87506, 87506, 87506, 87506, 87506, 87526, 87526, 87526, 87526, 87550, 87550, 87550, 87612, 87630, 87630, 87672, 87700, 87700, 87750, 87781, 87797, 87797, 87800, 87807, 87859, 87859, 88000, 88000, 88000, 88000, 88000, 88000, 88000, 88000, 88000, 88000, 88000, 88000, 88000, 88000, 88000, 88000, 88000, 88000, 88000, 88000, 88000, 88000, 88026, 88026, 88026, 88088, 88200, 88200, 88234, 88254, 88254, 88254, 88317, 88400, 88400, 88400, 88421, 88426, 88483, 88483, 88566, 88566, 88566, 88629, 88629, 88800, 88858, 88858, 88858, 88900, 89000, 89000, 89000, 89000, 89000, 89000, 89000, 89024, 89024, 89024, 89024, 89024, 89024, 89024, 89024, 89024, 89024, 89024, 89024, 89024, 89024, 89024, 89086, 89086, 89086, 89100, 89128, 89149, 89250, 89336, 89340, 89419, 89440, 89440, 89440, 89440, 89440, 89440, 89440, 89440, 89440, 89440, 89565, 89565, 89565, 89586, 89648, 89700, 89773, 89898, 89918, 89939, 89960, 89960, 89960, 89960, 89960, 89960, 89960, 89960, 89960, 89960, 89960, 89960, 89960, 90000, 90000, 90000, 90000, 90000, 90000, 90000, 90000, 90000, 90000, 90000, 90000, 90000, 90000, 90000, 90000, 90000, 90000, 90000, 90000, 90000, 90000, 90000, 90000, 90000, 90000, 90000, 90000, 90000, 90000, 90000, 90000, 90000, 90000, 90000, 90000, 90000, 90000, 90000, 90000, 90000, 90000, 90000, 90000, 90000, 90000, 90000, 90000, 90000, 90000, 90000, 90000, 90000, 90000, 90000, 90000, 90000, 90000, 90000, 90000, 90000, 90000, 90000, 90000, 90000, 90000, 90000, 90000, 90000, 90000, 90000, 90000, 90000, 90000, 90000, 90000, 90000, 90000, 90000, 90000, 90000, 90000, 90000, 90000, 90000, 90000, 90000, 90000, 90000, 90000, 90000, 90000, 90000, 90000, 90000, 90000, 90000, 90000, 90000, 90000, 90000, 90000, 90000, 90000, 90000, 90000, 90000, 90000, 90000, 90000, 90000, 90000, 90000, 90000, 90000, 90000, 90000, 90000, 90000, 90000, 90000, 90000, 90000, 90000, 90000, 90000, 90000, 90000, 90000, 90000, 90000, 90000, 90000, 90000, 90000, 90000, 90000, 90000, 90000, 90000, 90000, 90000, 90000, 90000, 90000, 90000, 90000, 90000, 90000, 90000, 90000, 90000, 90000, 90000, 90000, 90000, 90000, 90000, 90000, 90000, 90000, 90000, 90000, 90000, 90000, 90000, 90000, 90000, 90000, 90000, 90000, 90000, 90000, 90000, 90000, 90000, 90000, 90000, 90000, 90000, 90000, 90000, 90000, 90000, 90000, 90000, 90000, 90000, 90000, 90000, 90000, 90000, 90000, 90000, 90000, 90000, 90000, 90000, 90000, 90000, 90000, 90000, 90000, 90000, 90000, 90000, 90000, 90000, 90000, 90000, 90000, 90000, 90000, 90000, 90000, 90000, 90000, 90000, 90000, 90000, 90000, 90000, 90000, 90000, 90000, 90000, 90000, 90000, 90000, 90000, 90000, 90000, 90000, 90000, 90000, 90000, 90000, 90000, 90000, 90000, 90000, 90000, 90000, 90000, 90002, 90002, 90002, 90047, 90047, 90048, 90085, 90106, 90106, 90106, 90106, 90106, 90106, 90200, 90200, 90200, 90293, 90293, 90293, 90293, 90293, 90351, 90351, 90500, 90500, 90500, 90500, 90500, 90500, 90506, 90522, 90529, 90584, 90646, 90688, 90742, 90813, 90870, 90917, 90938, 90950, 90992, 91000, 91000, 91000, 91000, 91000, 91000, 91000, 91000, 91000, 91000, 91000, 91000, 91000, 91000, 91062, 91125, 91166, 91166, 91166, 91166, 91166, 91166, 91280, 91374, 91374, 91374, 91400, 91440, 91440, 91458, 91500, 91533, 91646, 91646, 91811, 91811, 91915, 91915, 91936, 92000, 92000, 92000, 92000, 92000, 92000, 92000, 92000, 92000, 92000, 92000, 92000, 92000, 92000, 92000, 92000, 92000, 92000, 92000, 92000, 92000, 92019, 92019, 92248, 92248, 92290, 92300, 92310, 92394, 92394, 92394, 92400, 92400, 92414, 92414, 92414, 92414, 92414, 92414, 92414, 92414, 92414, 92414, 92414, 92414, 92414, 92414, 92414, 92414, 92414, 92414, 92414, 92414, 92414, 92414, 92414, 92414, 92414, 92414, 92414, 92414, 92414, 92414, 92414, 92414, 92414, 92414, 92475, 92500, 92500, 92500, 92500, 92500, 92500, 92500, 92518, 92518, 92560, 92700, 92768, 92768, 92789, 92789, 92955, 92955, 92955, 92955, 92955, 92955, 92955, 92955, 92955, 92955, 92955, 92955, 92955, 92955, 92997, 93000, 93000, 93000, 93000, 93000, 93000, 93000, 93000, 93000, 93000, 93000, 93000, 93000, 93000, 93000, 93000, 93000, 93000, 93000, 93000, 93000, 93000, 93000, 93000, 93000, 93000, 93000, 93000, 93000, 93000, 93000, 93000, 93000, 93000, 93150, 93309, 93309, 93411, 93451, 93517, 93517, 93538, 93538, 93538, 93538, 93538, 93600, 93600, 93600, 93600, 93660, 93660, 93660, 93660, 93660, 93660, 93660, 93662, 93662, 93662, 93662, 93700, 93700, 93700, 93725, 93742, 93746, 93765, 93800, 93912, 93933, 93974, 93974, 93974, 93995, 94000, 94000, 94000, 94000, 94000, 94000, 94000, 94000, 94000, 94000, 94000, 94000, 94000, 94000, 94000, 94016, 94058, 94078, 94120, 94162, 94162, 94200, 94200, 94203, 94203, 94266, 94300, 94300, 94300, 94328, 94370, 94500, 94500, 94536, 94536, 94536, 94536, 94536, 94557, 94600, 94619, 94619, 94619, 94640, 94640, 94640, 94723, 94744, 94744, 94744, 94770, 94770, 94774, 94806, 94806, 94806, 94806, 94900, 94900, 94931, 95000, 95000, 95000, 95000, 95000, 95000, 95000, 95000, 95000, 95000, 95000, 95000, 95000, 95000, 95000, 95000, 95000, 95000, 95000, 95000, 95000, 95000, 95000, 95000, 95000, 95000, 95000, 95000, 95000, 95000, 95000, 95000, 95000, 95000, 95000, 95000, 95000, 95000, 95000, 95000, 95000, 95000, 95000, 95000, 95000, 95000, 95000, 95000, 95000, 95000, 95000, 95000, 95000, 95000, 95000, 95000, 95000, 95000, 95000, 95000, 95000, 95000, 95000, 95000, 95000, 95000, 95000, 95000, 95000, 95000, 95000, 95000, 95000, 95000, 95000, 95000, 95000, 95000, 95000, 95000, 95000, 95000, 95000, 95000, 95000, 95000, 95000, 95000, 95000, 95000, 95000, 95000, 95000, 95000, 95000, 95000, 95000, 95000, 95000, 95000, 95000, 95000, 95000, 95000, 95000, 95000, 95000, 95000, 95000, 95000, 95000, 95000, 95000, 95000, 95000, 95000, 95000, 95000, 95000, 95000, 95000, 95000, 95000, 95000, 95000, 95000, 95000, 95000, 95000, 95000, 95000, 95000, 95000, 95000, 95000, 95000, 95000, 95000, 95000, 95000, 95000, 95000, 95000, 95000, 95000, 95000, 95000, 95000, 95000, 95000, 95000, 95000, 95000, 95000, 95000, 95000, 95000, 95000, 95000, 95000, 95000, 95000, 95000, 95000, 95000, 95000, 95000, 95000, 95000, 95000, 95000, 95000, 95000, 95000, 95000, 95000, 95000, 95000, 95000, 95014, 95014, 95035, 95035, 95035, 95035, 95056, 95056, 95065, 95077, 95077, 95077, 95160, 95160, 95160, 95160, 95243, 95243, 95243, 95243, 95243, 95264, 95264, 95264, 95306, 95306, 95306, 95400, 95472, 95500, 95514, 95555, 95618, 95618, 95618, 95638, 95638, 95638, 95638, 95638, 95638, 95638, 95638, 95638, 95790, 95805, 95826, 95846, 95846, 95889, 96000, 96000, 96000, 96000, 96000, 96000, 96000, 96000, 96000, 96000, 96000, 96000, 96000, 96000, 96000, 96000, 96013, 96075, 96075, 96075, 96075, 96075, 96075, 96075, 96117, 96117, 96117, 96158, 96233, 96233, 96283, 96304, 96304, 96305, 96325, 96325, 96325, 96366, 96366, 96400, 96400, 96491, 96500, 96500, 96500, 96500, 96500, 96500, 96500, 96500, 96500, 96500, 96500, 96500, 96500, 96535, 96595, 96600, 96600, 96600, 96652, 96697, 96758, 96767, 96900, 96900, 96900, 96900, 96900, 96907, 96928, 96928, 96928, 96928, 96990, 96990, 96990, 96990, 96990, 96990, 96990, 96990, 96990, 96990, 96990, 96990, 96990, 97000, 97000, 97000, 97000, 97000, 97000, 97000, 97000, 97000, 97032, 97032, 97032, 97032, 97094, 97100, 97178, 97200, 97200, 97219, 97219, 97219, 97365, 97375, 97375, 97427, 97469, 97500, 97500, 97510, 97573, 97573, 97656, 97677, 97677, 97822, 97822, 97822, 97822, 97822, 97822, 97885, 97885, 97900, 97906, 97906, 97989, 98000, 98000, 98000, 98000, 98000, 98000, 98000, 98000, 98000, 98000, 98000, 98000, 98000, 98000, 98000, 98000, 98000, 98000, 98000, 98000, 98000, 98020, 98020, 98020, 98020, 98020, 98070, 98100, 98256, 98262, 98262, 98262, 98356, 98363, 98500, 98500, 98500, 98500, 98500, 98576, 98600, 98633, 98800, 99000, 99000, 99154, 99195, 99400, 99466, 99600, 99653, 99694, 99736, 99750, 99750, 99757, 99757, 99861, 99900, 99930, 99999, 100000, 100000, 100000, 100000, 100000, 100000, 100000, 100000, 100000, 100000, 100000, 100000, 100000, 100000, 100000, 100000, 100000, 100000, 100000, 100000, 100000, 100000, 100000, 100000, 100000, 100000, 100000, 100000, 100000, 100000, 100000, 100000, 100000, 100000, 100000, 100000, 100000, 100000, 100000, 100000, 100000, 100000, 100000, 100000, 100000, 100000, 100000, 100000, 100000, 100000, 100000, 100000, 100000, 100000, 100000, 100000, 100000, 100000, 100000, 100000, 100000, 100000, 100000, 100000, 100000, 100000, 100000, 100000, 100000, 100000, 100000, 100000, 100000, 100000, 100000, 100000, 100000, 100000, 100000, 100000, 100000, 100000, 100000, 100000, 100000, 100000, 100000, 100000, 100000, 100000, 100000, 100000, 100000, 100000, 100000, 100000, 100000, 100000, 100000, 100000, 100000, 100000, 100000, 100000, 100000, 100000, 100000, 100000, 100000, 100000, 100000, 100000, 100000, 100000, 100000, 100000, 100000, 100000, 100000, 100000, 100000, 100000, 100000, 100000, 100000, 100000, 100000, 100000, 100000, 100000, 100000, 100000, 100000, 100000, 100000, 100000, 100000, 100000, 100000, 100000, 100000, 100000, 100000, 100000, 100000, 100000, 100000, 100000, 100000, 100000, 100000, 100000, 100000, 100000, 100000, 100000, 100000, 100000, 100000, 100000, 100000, 100000, 100000, 100000, 100000, 100000, 100000, 100000, 100000, 100000, 100000, 100000, 100000, 100000, 100000, 100000, 100000, 100000, 100000, 100000, 100000, 100000, 100000, 100000, 100000, 100000, 100000, 100000, 100000, 100000, 100000, 100000, 100000, 100000, 100000, 100000, 100000, 100000, 100000, 100000, 100000, 100000, 100000, 100000, 100000, 100000, 100000, 100000, 100000, 100000, 100000, 100000, 100000, 100000, 100000, 100000, 100000, 100000, 100000, 100000, 100000, 100000, 100000, 100000, 100000, 100000, 100000, 100000, 100000, 100000, 100000, 100000, 100000, 100000, 100000, 100000, 100000, 100000, 100000, 100000, 100000, 100000, 100000, 100000, 100000, 100000, 100000, 100000, 100000, 100000, 100000, 100000, 100000, 100000, 100000, 100000, 100000, 100000, 100000, 100000, 100000, 100000, 100000, 100000, 100000, 100000, 100000, 100000, 100000, 100000, 100000, 100000, 100000, 100000, 100000, 100000, 100000, 100000, 100000, 100000, 100000, 100000, 100008, 100022, 100050, 100069, 100069, 100090, 100214, 100235, 100235, 100235, 100250, 100277, 100402, 100402, 100402, 100402, 100402, 100402, 100402, 100402, 100402, 100464, 100464, 100485, 100485, 100500, 100500, 100506, 100506, 100506, 100506, 100506, 100506, 100506, 100506, 100506, 100506, 100506, 100506, 100506, 100506, 100506, 100506, 100506, 100506, 100506, 100506, 100506, 100506, 100506, 100660, 100786, 100800, 100800, 100800, 100800, 100800, 100800, 100800, 100880, 100880, 100880, 100880, 100922, 101000, 101000, 101000, 101026, 101026, 101026, 101026, 101026, 101026, 101026, 101088, 101229, 101296, 101358, 101358, 101379, 101500, 101587, 101587, 101591, 101600, 101711, 101711, 101711, 101733, 101745, 101756, 101800, 101800, 101837, 101837, 101960, 102000, 102000, 102000, 102000, 102000, 102000, 102000, 102000, 102000, 102000, 102000, 102000, 102000, 102000, 102000, 102000, 102000, 102000, 102000, 102000, 102000, 102000, 102000, 102003, 102044, 102086, 102086, 102107, 102149, 102149, 102170, 102200, 102200, 102200, 102200, 102200, 102200, 102200, 102200, 102200, 102200, 102200, 102200, 102200, 102223, 102253, 102274, 102274, 102300, 102300, 102300, 102310, 102336, 102336, 102352, 102357, 102390, 102400, 102500, 102500, 102500, 102544, 102600, 102600, 102600, 102600, 102600, 102669, 102669, 102731, 102801, 102900, 102900, 102900, 102900, 103000, 103000, 103000, 103000, 103000, 103000, 103000, 103000, 103000, 103000, 103000, 103000, 103000, 103000, 103024, 103130, 103200, 103200, 103201, 103258, 103334, 103400, 103400, 103480, 103515, 103542, 103584, 103751, 103771, 103771, 103771, 103771, 103834, 103997, 104000, 104000, 104000, 104000, 104000, 104000, 104000, 104000, 104000, 104021, 104064, 104104, 104187, 104500, 104500, 104500, 104790, 104900, 104975, 104998, 105000, 105000, 105000, 105000, 105000, 105000, 105000, 105000, 105000, 105000, 105000, 105000, 105000, 105000, 105000, 105000, 105000, 105000, 105000, 105000, 105000, 105000, 105000, 105000, 105000, 105000, 105000, 105000, 105000, 105000, 105000, 105000, 105000, 105000, 105000, 105000, 105000, 105000, 105000, 105000, 105000, 105000, 105000, 105000, 105000, 105000, 105000, 105000, 105000, 105000, 105000, 105000, 105000, 105000, 105000, 105000, 105000, 105000, 105000, 105000, 105000, 105000, 105000, 105000, 105000, 105000, 105000, 105000, 105000, 105000, 105000, 105000, 105000, 105000, 105000, 105000, 105000, 105000, 105000, 105000, 105000, 105000, 105000, 105000, 105000, 105000, 105000, 105000, 105000, 105000, 105000, 105000, 105000, 105000, 105000, 105000, 105000, 105000, 105000, 105000, 105000, 105000, 105000, 105000, 105000, 105000, 105000, 105000, 105000, 105000, 105000, 105000, 105000, 105000, 105000, 105000, 105000, 105000, 105000, 105000, 105000, 105000, 105000, 105000, 105000, 105000, 105000, 105000, 105000, 105000, 105000, 105000, 105000, 105000, 105000, 105000, 105000, 105000, 105000, 105000, 105000, 105000, 105000, 105000, 105000, 105000, 105000, 105000, 105000, 105000, 105000, 105000, 105000, 105000, 105000, 105000, 105000, 105000, 105000, 105000, 105000, 105000, 105000, 105000, 105039, 105040, 105165, 105227, 105227, 105227, 105227, 105227, 105227, 105300, 105300, 105300, 105414, 105435, 105500, 105549, 105622, 105622, 105622, 105719, 105789, 105810, 105810, 105810, 105810, 105810, 105810, 105810, 105810, 105810, 105810, 105810, 105810, 105810, 105810, 105810, 105810, 105810, 105810, 105810, 105810, 105872, 105900, 105934, 106000, 106000, 106000, 106000, 106000, 106000, 106000, 106000, 106000, 106000, 106000, 106000, 106000, 106000, 106000, 106000, 106000, 106000, 106000, 106082, 106082, 106090, 106200, 106454, 106454, 106517, 106550, 106590, 106600, 106600, 106600, 106821, 106861, 106897, 106900, 106954, 106995, 107000, 107000, 107000, 107000, 107000, 107000, 107000, 107000, 107000, 107000, 107000, 107000, 107000, 107000, 107000, 107000, 107000, 107000, 107000, 107000, 107000, 107000, 107000, 107000, 107000, 107071, 107100, 107100, 107120, 107120, 107182, 107203, 107203, 107203, 107203, 107228, 107250, 107250, 107300, 107300, 107349, 107370, 107390, 107390, 107390, 107390, 107390, 107390, 107500, 107500, 107500, 107500, 107500, 107500, 107500, 107730, 107750, 107791, 107920, 108000, 108000, 108000, 108000, 108000, 108000, 108000, 108000, 108000, 108000, 108000, 108000, 108000, 108000, 108000, 108000, 108000, 108000, 108000, 108000, 108000, 108000, 108000, 108000, 108000, 108000, 108000, 108000, 108000, 108000, 108077, 108100, 108118, 108118, 108118, 108118, 108139, 108139, 108139, 108162, 108368, 108368, 108383, 108400, 108400, 108450, 108483, 108555, 108576, 108597, 108597, 108597, 108631, 108638, 108638, 108638, 108638, 108638, 108675, 108675, 108704, 108750, 108784, 108888, 108888, 108900, 109000, 109000, 109000, 109000, 109000, 109000, 109000, 109000, 109000, 109000, 109075, 109100, 109117, 109117, 109200, 109242, 109346, 109500, 109554, 109678, 109678, 109698, 109792, 109800, 109990, 109990, 109990, 109992, 110000, 110000, 110000, 110000, 110000, 110000, 110000, 110000, 110000, 110000, 110000, 110000, 110000, 110000, 110000, 110000, 110000, 110000, 110000, 110000, 110000, 110000, 110000, 110000, 110000, 110000, 110000, 110000, 110000, 110000, 110000, 110000, 110000, 110000, 110000, 110000, 110000, 110000, 110000, 110000, 110000, 110000, 110000, 110000, 110000, 110000, 110000, 110000, 110000, 110000, 110000, 110000, 110000, 110000, 110000, 110000, 110000, 110000, 110000, 110000, 110000, 110000, 110000, 110000, 110000, 110000, 110000, 110000, 110000, 110000, 110000, 110000, 110000, 110000, 110000, 110000, 110000, 110000, 110000, 110000, 110000, 110000, 110000, 110000, 110000, 110000, 110000, 110000, 110000, 110000, 110000, 110000, 110000, 110000, 110000, 110000, 110000, 110000, 110000, 110000, 110000, 110000, 110000, 110000, 110000, 110000, 110000, 110000, 110000, 110000, 110000, 110000, 110000, 110000, 110000, 110000, 110000, 110000, 110000, 110000, 110000, 110000, 110000, 110000, 110000, 110000, 110000, 110000, 110000, 110000, 110000, 110000, 110000, 110000, 110000, 110000, 110000, 110000, 110000, 110000, 110000, 110000, 110000, 110000, 110000, 110000, 110000, 110000, 110000, 110000, 110000, 110000, 110000, 110000, 110000, 110000, 110000, 110000, 110000, 110000, 110000, 110000, 110000, 110000, 110000, 110000, 110000, 110000, 110000, 110000, 110000, 110000, 110000, 110000, 110000, 110000, 110000, 110000, 110000, 110000, 110000, 110000, 110000, 110000, 110000, 110000, 110000, 110000, 110000, 110000, 110000, 110000, 110000, 110000, 110000, 110000, 110000, 110000, 110000, 110000, 110000, 110000, 110000, 110000, 110000, 110000, 110000, 110000, 110000, 110000, 110000, 110000, 110000, 110000, 110000, 110000, 110000, 110000, 110000, 110000, 110000, 110000, 110000, 110000, 110000, 110000, 110000, 110000, 110000, 110000, 110000, 110000, 110000, 110000, 110000, 110000, 110000, 110000, 110000, 110000, 110000, 110000, 110000, 110000, 110000, 110000, 110000, 110000, 110000, 110000, 110000, 110000, 110000, 110000, 110000, 110000, 110004, 110004, 110004, 110080, 110109, 110236, 110236, 110365, 110365, 110406, 110500, 110600, 110659, 110760, 110760, 110780, 110800, 110802, 110802, 110802, 110802, 110802, 110802, 110802, 110802, 110802, 110802, 110802, 110820, 110822, 110822, 110854, 110864, 110864, 110864, 110900, 110900, 110906, 111000, 111000, 111000, 111000, 111000, 111000, 111000, 111000, 111000, 111000, 111000, 111000, 111000, 111000, 111000, 111030, 111030, 111030, 111030, 111030, 111030, 111030, 111030, 111030, 111030, 111051, 111051, 111261, 111275, 111446, 111500, 111500, 111500, 111500, 111500, 111500, 111500, 111509, 111509, 111571, 111613, 111613, 111800, 111987, 111987, 112000, 112000, 112000, 112000, 112000, 112000, 112000, 112000, 112000, 112000, 112000, 112000, 112000, 112000, 112000, 112000, 112000, 112000, 112000, 112000, 112000, 112000, 112000, 112000, 112000, 112200, 112362, 112362, 112445, 112445, 112445, 112500, 112500, 112500, 112500, 112500, 112500, 112500, 112500, 112500, 112500, 112549, 112642, 112694, 112750, 112923, 113000, 113000, 113000, 113000, 113000, 113120, 113152, 113152, 113152, 113152, 113152, 113200, 113256, 113256, 113256, 113277, 113300, 113300, 113318, 113318, 113350, 113400, 113500, 113500, 113500, 113520, 113520, 113536, 113589, 113589, 113589, 113589, 113740, 113740, 113860, 113922, 113984, 114000, 114000, 114000, 114000, 114000, 114000, 114000, 114000, 114000, 114000, 114000, 114000, 114000, 114000, 114000, 114000, 114000, 114000, 114000, 114000, 114000, 114000, 114000, 114000, 114163, 114200, 114248, 114317, 114317, 114317, 114317, 114317, 114317, 114317, 114317, 114320, 114358, 114358, 114358, 114358, 114390, 114400, 114400, 114400, 114400, 114400, 114400, 114440, 114440, 114500, 114600, 114712, 114725, 114754, 114754, 114950, 115000, 115000, 115000, 115000, 115000, 115000, 115000, 115000, 115000, 115000, 115000, 115000, 115000, 115000, 115000, 115000, 115000, 115000, 115000, 115000, 115000, 115000, 115000, 115000, 115000, 115000, 115000, 115000, 115000, 115000, 115000, 115000, 115000, 115000, 115000, 115000, 115000, 115000, 115000, 115000, 115000, 115000, 115000, 115000, 115000, 115000, 115000, 115000, 115000, 115000, 115000, 115000, 115000, 115000, 115000, 115000, 115000, 115000, 115000, 115000, 115000, 115000, 115000, 115000, 115000, 115000, 115000, 115000, 115000, 115000, 115000, 115000, 115000, 115000, 115000, 115000, 115000, 115000, 115000, 115000, 115000, 115000, 115000, 115000, 115000, 115000, 115000, 115000, 115000, 115000, 115000, 115000, 115000, 115000, 115000, 115000, 115000, 115000, 115000, 115000, 115000, 115000, 115000, 115000, 115000, 115000, 115000, 115000, 115000, 115000, 115000, 115000, 115000, 115000, 115000, 115000, 115000, 115000, 115000, 115000, 115000, 115000, 115000, 115000, 115000, 115000, 115000, 115000, 115000, 115000, 115000, 115000, 115000, 115000, 115000, 115000, 115000, 115000, 115000, 115000, 115000, 115000, 115000, 115000, 115000, 115000, 115000, 115000, 115000, 115000, 115000, 115000, 115000, 115000, 115000, 115000, 115000, 115000, 115000, 115000, 115000, 115000, 115000, 115000, 115000, 115000, 115000, 115000, 115000, 115000, 115000, 115000, 115000, 115000, 115000, 115000, 115000, 115000, 115000, 115000, 115000, 115000, 115000, 115000, 115000, 115000, 115000, 115000, 115000, 115000, 115000, 115000, 115000, 115000, 115000, 115000, 115000, 115000, 115000, 115000, 115000, 115000, 115000, 115000, 115000, 115000, 115000, 115000, 115000, 115000, 115000, 115000, 115000, 115000, 115000, 115000, 115000, 115000, 115000, 115000, 115000, 115000, 115000, 115000, 115000, 115000, 115000, 115000, 115000, 115000, 115000, 115000, 115000, 115000, 115000, 115000, 115000, 115000, 115000, 115000, 115000, 115000, 115000, 115000, 115000, 115000, 115000, 115000, 115050, 115058, 115060, 115060, 115060, 115060, 115060, 115060, 115060, 115060, 115060, 115190, 115211, 115211, 115211, 115211, 115211, 115360, 115400, 115482, 115500, 115500, 115543, 115600, 115682, 115693, 115700, 115748, 115752, 115800, 115800, 115814, 115856, 115887, 116000, 116000, 116000, 116000, 116000, 116000, 116000, 116000, 116000, 116000, 116042, 116230, 116230, 116376, 116400, 116400, 116400, 116480, 116480, 116480, 116500, 116600, 116600, 116698, 116720, 116800, 116892, 116979, 117000, 117000, 117000, 117000, 117000, 117000, 117000, 117000, 117000, 117000, 117000, 117000, 117026, 117075, 117083, 117083, 117083, 117163, 117166, 117167, 117200, 117230, 117230, 117230, 117260, 117453, 117453, 117476, 117476, 117499, 117500, 117500, 117686, 117700, 117749, 117770, 117800, 117875, 117875, 118000, 118000, 118000, 118000, 118000, 118000, 118000, 118000, 118000, 118000, 118000, 118000, 118000, 118000, 118000, 118000, 118000, 118000, 118000, 118000, 118000, 118000, 118000, 118000, 118000, 118000, 118000, 118000, 118000, 118000, 118000, 118061, 118061, 118162, 118200, 118300, 118378, 118427, 118450, 118456, 118498, 118498, 118500, 118500, 118540, 118625, 118705, 118747, 118750, 118800, 118820, 118820, 119000, 119000, 119016, 119100, 119108, 119108, 119184, 119184, 119200, 119200, 119205, 119276, 119300, 119380, 119454, 119454, 119454, 119500, 119517, 119517, 119579, 119580, 119600, 119642, 119642, 119642, 119642, 119642, 119642, 119642, 119850, 119850, 119850, 119850, 119850, 119850, 119850, 119850, 119850, 119900, 119900, 119900, 119904, 119904, 119904, 119904, 119912, 119980, 120000, 120000, 120000, 120000, 120000, 120000, 120000, 120000, 120000, 120000, 120000, 120000, 120000, 120000, 120000, 120000, 120000, 120000, 120000, 120000, 120000, 120000, 120000, 120000, 120000, 120000, 120000, 120000, 120000, 120000, 120000, 120000, 120000, 120000, 120000, 120000, 120000, 120000, 120000, 120000, 120000, 120000, 120000, 120000, 120000, 120000, 120000, 120000, 120000, 120000, 120000, 120000, 120000, 120000, 120000, 120000, 120000, 120000, 120000, 120000, 120000, 120000, 120000, 120000, 120000, 120000, 120000, 120000, 120000, 120000, 120000, 120000, 120000, 120000, 120000, 120000, 120000, 120000, 120000, 120000, 120000, 120000, 120000, 120000, 120000, 120000, 120000, 120000, 120000, 120000, 120000, 120000, 120000, 120000, 120000, 120000, 120000, 120000, 120000, 120000, 120000, 120000, 120000, 120000, 120000, 120000, 120000, 120000, 120000, 120000, 120000, 120000, 120000, 120000, 120000, 120000, 120000, 120000, 120000, 120000, 120000, 120000, 120000, 120000, 120000, 120000, 120000, 120000, 120000, 120000, 120000, 120000, 120000, 120000, 120000, 120000, 120000, 120000, 120000, 120000, 120000, 120000, 120000, 120000, 120000, 120000, 120000, 120000, 120000, 120000, 120000, 120000, 120000, 120000, 120000, 120000, 120000, 120000, 120000, 120000, 120000, 120000, 120000, 120000, 120000, 120000, 120000, 120000, 120000, 120000, 120000, 120000, 120000, 120000, 120000, 120000, 120000, 120000, 120000, 120000, 120000, 120000, 120000, 120000, 120000, 120000, 120000, 120000, 120000, 120000, 120000, 120000, 120000, 120000, 120000, 120000, 120000, 120000, 120000, 120000, 120000, 120000, 120000, 120000, 120000, 120000, 120000, 120000, 120000, 120000, 120000, 120000, 120000, 120000, 120000, 120000, 120000, 120000, 120000, 120000, 120000, 120000, 120000, 120000, 120000, 120000, 120000, 120000, 120000, 120000, 120000, 120000, 120000, 120000, 120000, 120000, 120000, 120000, 120000, 120000, 120000, 120000, 120000, 120000, 120000, 120000, 120000, 120000, 120000, 120000, 120000, 120000, 120000, 120000, 120000, 120000, 120000, 120000, 120000, 120000, 120000, 120000, 120000, 120000, 120000, 120000, 120000, 120000, 120000, 120000, 120100, 120120, 120144, 120200, 120224, 120240, 120349, 120390, 120432, 120432, 120432, 120432, 120432, 120432, 120432, 120500, 120510, 120663, 120800, 120928, 121000, 121000, 121000, 121000, 121000, 121000, 121000, 121077, 121077, 121085, 121100, 121100, 121306, 121306, 121306, 121306, 121306, 121306, 121306, 121306, 121306, 121306, 121306, 121310, 121367, 121369, 121400, 121400, 121547, 121620, 121805, 121805, 121805, 121805, 121805, 121805, 121805, 121807, 121846, 121846, 121894, 121900, 121953, 122000, 122000, 122000, 122000, 122000, 122117, 122130, 122158, 122158, 122158, 122158, 122158, 122158, 122158, 122158, 122158, 122158, 122158, 122158, 122158, 122158, 122158, 122158, 122200, 122200, 122200, 122221, 122283, 122429, 122520, 122533, 122533, 122700, 122760, 122800, 122824, 122824, 122824, 122824, 122824, 122824, 122824, 122824, 122824, 122824, 122824, 122824, 122824, 122886, 122900, 122900, 122928, 122932, 123000, 123000, 123000, 123000, 123000, 123000, 123000, 123000, 123000, 123000, 123000, 123000, 123000, 123000, 123000, 123000, 123011, 123011, 123071, 123071, 123071, 123220, 123261, 123505, 123594, 123594, 123594, 123594, 123594, 123600, 123614, 123614, 123700, 124000, 124000, 124000, 124000, 124000, 124000, 124000, 124000, 124000, 124000, 124000, 124000, 124080, 124200, 124342, 124342, 124342, 124342, 124342, 124400, 124410, 124571, 124571, 124675, 124800, 124800, 124911, 125000, 125000, 125000, 125000, 125000, 125000, 125000, 125000, 125000, 125000, 125000, 125000, 125000, 125000, 125000, 125000, 125000, 125000, 125000, 125000, 125000, 125000, 125000, 125000, 125000, 125000, 125000, 125000, 125000, 125000, 125000, 125000, 125000, 125000, 125000, 125000, 125000, 125000, 125000, 125000, 125000, 125000, 125000, 125000, 125000, 125000, 125000, 125000, 125000, 125000, 125000, 125000, 125000, 125000, 125000, 125000, 125000, 125000, 125000, 125000, 125000, 125000, 125000, 125000, 125000, 125000, 125000, 125000, 125000, 125000, 125000, 125000, 125000, 125000, 125000, 125000, 125000, 125000, 125000, 125000, 125000, 125000, 125000, 125000, 125000, 125000, 125000, 125000, 125000, 125000, 125000, 125000, 125000, 125000, 125000, 125000, 125000, 125000, 125000, 125000, 125000, 125000, 125000, 125000, 125000, 125000, 125000, 125000, 125000, 125000, 125000, 125000, 125000, 125000, 125000, 125000, 125000, 125000, 125000, 125000, 125000, 125000, 125000, 125000, 125000, 125000, 125000, 125000, 125000, 125000, 125000, 125000, 125000, 125000, 125000, 125000, 125000, 125000, 125000, 125000, 125000, 125000, 125000, 125000, 125000, 125000, 125000, 125000, 125000, 125000, 125000, 125000, 125000, 125000, 125000, 125000, 125000, 125000, 125000, 125000, 125000, 125000, 125000, 125000, 125000, 125000, 125000, 125000, 125000, 125000, 125000, 125004, 125008, 125050, 125050, 125050, 125050, 125112, 125310, 125400, 125500, 125500, 125674, 125694, 125694, 125694, 126000, 126000, 126000, 126000, 126000, 126000, 126000, 126000, 126000, 126027, 126100, 126275, 126298, 126298, 126298, 126298, 126500, 126500, 126610, 126880, 126900, 127000, 127000, 127000, 127000, 127000, 127000, 127000, 127000, 127000, 127000, 127000, 127000, 127000, 127000, 127046, 127046, 127254, 127500, 127500, 127500, 127500, 127600, 127816, 127900, 128000, 128000, 128000, 128000, 128000, 128000, 128000, 128000, 128000, 128000, 128000, 128000, 128312, 128377, 128500, 128500, 128500, 128536, 128561, 128731, 128750, 129000, 129000, 129000, 129000, 129000, 129030, 129106, 129106, 129106, 129106, 129106, 129106, 129106, 129106, 129106, 129106, 129106, 129106, 129106, 129112, 129118, 129189, 129200, 129210, 129210, 129210, 129300, 129385, 129500, 129500, 129500, 129579, 129600, 129605, 129605, 129605, 129605, 129605, 129605, 129605, 129715, 129864, 129880, 129979, 130000, 130000, 130000, 130000, 130000, 130000, 130000, 130000, 130000, 130000, 130000, 130000, 130000, 130000, 130000, 130000, 130000, 130000, 130000, 130000, 130000, 130000, 130000, 130000, 130000, 130000, 130000, 130000, 130000, 130000, 130000, 130000, 130000, 130000, 130000, 130000, 130000, 130000, 130000, 130000, 130000, 130000, 130000, 130000, 130000, 130000, 130000, 130000, 130000, 130000, 130000, 130000, 130000, 130000, 130000, 130000, 130000, 130000, 130000, 130000, 130000, 130000, 130000, 130000, 130000, 130000, 130000, 130000, 130000, 130000, 130000, 130000, 130000, 130000, 130000, 130000, 130000, 130000, 130000, 130000, 130000, 130000, 130000, 130000, 130000, 130000, 130000, 130000, 130000, 130000, 130000, 130000, 130000, 130000, 130000, 130000, 130000, 130000, 130000, 130000, 130000, 130000, 130000, 130000, 130000, 130000, 130000, 130000, 130000, 130000, 130000, 130000, 130000, 130000, 130000, 130000, 130000, 130000, 130000, 130000, 130000, 130000, 130000, 130000, 130000, 130000, 130000, 130000, 130000, 130000, 130000, 130000, 130000, 130000, 130000, 130000, 130000, 130000, 130000, 130000, 130000, 130000, 130000, 130000, 130000, 130000, 130000, 130000, 130000, 130000, 130000, 130000, 130000, 130000, 130000, 130000, 130000, 130000, 130000, 130000, 130000, 130000, 130000, 130000, 130000, 130000, 130000, 130000, 130000, 130000, 130000, 130000, 130000, 130000, 130000, 130000, 130000, 130000, 130000, 130000, 130001, 130001, 130001, 130001, 130036, 130150, 130250, 130275, 130300, 130300, 130303, 130560, 130600, 130680, 130800, 131000, 131000, 131000, 131000, 131000, 131000, 131000, 131000, 131000, 131000, 131000, 131000, 131037, 131200, 131269, 131303, 131411, 131440, 131518, 131616, 131700, 131766, 131888, 131997, 131997, 131997, 131997, 131997, 131997, 131997, 131997, 131997, 131997, 131997, 131997, 131997, 131997, 131997, 131997, 131997, 131997, 131997, 131997, 131997, 131997, 132000, 132000, 132000, 132000, 132000, 132000, 132000, 132000, 132000, 132000, 132000, 132000, 132000, 132000, 132000, 132000, 132080, 132100, 132100, 132184, 132200, 132300, 132388, 132500, 132527, 132615, 132870, 132877, 132877, 132877, 133000, 133000, 133000, 133000, 133012, 133099, 133141, 133146, 133146, 133300, 133300, 133350, 133478, 133500, 133500, 133500, 133500, 133500, 133500, 133500, 133500, 133500, 133500, 133515, 133515, 133555, 133732, 133769, 133786, 133786, 133786, 133808, 133850, 134000, 134000, 134000, 134000, 134000, 134000, 134014, 134210, 134400, 134514, 134600, 134721, 134730, 134971, 135000, 135000, 135000, 135000, 135000, 135000, 135000, 135000, 135000, 135000, 135000, 135000, 135000, 135000, 135000, 135000, 135000, 135000, 135000, 135000, 135000, 135000, 135000, 135000, 135000, 135000, 135000, 135000, 135000, 135000, 135000, 135000, 135000, 135000, 135000, 135000, 135000, 135000, 135000, 135000, 135000, 135000, 135000, 135000, 135000, 135000, 135000, 135000, 135000, 135000, 135000, 135000, 135000, 135000, 135000, 135000, 135000, 135000, 135000, 135000, 135000, 135000, 135000, 135000, 135000, 135000, 135000, 135000, 135000, 135000, 135000, 135000, 135000, 135000, 135000, 135000, 135000, 135000, 135000, 135000, 135000, 135000, 135000, 135000, 135000, 135000, 135000, 135000, 135000, 135000, 135000, 135000, 135000, 135000, 135000, 135000, 135000, 135000, 135000, 135000, 135000, 135000, 135000, 135000, 135000, 135000, 135000, 135000, 135000, 135000, 135000, 135000, 135000, 135000, 135000, 135000, 135000, 135000, 135000, 135000, 135000, 135000, 135000, 135000, 135000, 135000, 135000, 135000, 135000, 135000, 135000, 135000, 135000, 135000, 135000, 135000, 135000, 135000, 135000, 135000, 135000, 135000, 135000, 135000, 135000, 135000, 135000, 135000, 135000, 135000, 135000, 135000, 135000, 135000, 135000, 135000, 135000, 135000, 135000, 135000, 135000, 135000, 135037, 135037, 135180, 135250, 135283, 135387, 135387, 135387, 135387, 135402, 135450, 135500, 135500, 135500, 135500, 135680, 135975, 136000, 136000, 136000, 136000, 136000, 136000, 136000, 136000, 136000, 136219, 136350, 136370, 136573, 136573, 136573, 136600, 136630, 136800, 136827, 136906, 137000, 137000, 137000, 137000, 137000, 137000, 137000, 137000, 137000, 137000, 137000, 137000, 137000, 137000, 137000, 137000, 137000, 137000, 137000, 137000, 137000, 137000, 137000, 137000, 137000, 137000, 137000, 137000, 137000, 137000, 137000, 137000, 137000, 137079, 137250, 137300, 137350, 137351, 137351, 137800, 137885, 138000, 138000, 138000, 138000, 138000, 138000, 138000, 138000, 138000, 138100, 138100, 138300, 138327, 138327, 138389, 138486, 138486, 138486, 138500, 138507, 138507, 138507, 138507, 138720, 138729, 138900, 138900, 138923, 138923, 138923, 138923, 139000, 139000, 139000, 139130, 139168, 139235, 139321, 139400, 139400, 139495, 139495, 139672, 139818, 139940, 140000, 140000, 140000, 140000, 140000, 140000, 140000, 140000, 140000, 140000, 140000, 140000, 140000, 140000, 140000, 140000, 140000, 140000, 140000, 140000, 140000, 140000, 140000, 140000, 140000, 140000, 140000, 140000, 140000, 140000, 140000, 140000, 140000, 140000, 140000, 140000, 140000, 140000, 140000, 140000, 140000, 140000, 140000, 140000, 140000, 140000, 140000, 140000, 140000, 140000, 140000, 140000, 140000, 140000, 140000, 140000, 140000, 140000, 140000, 140000, 140000, 140000, 140000, 140000, 140000, 140000, 140000, 140000, 140000, 140000, 140000, 140000, 140000, 140000, 140000, 140000, 140000, 140000, 140000, 140000, 140000, 140000, 140000, 140000, 140000, 140000, 140000, 140000, 140000, 140000, 140000, 140000, 140000, 140000, 140000, 140000, 140000, 140000, 140000, 140000, 140000, 140000, 140000, 140000, 140000, 140000, 140000, 140000, 140000, 140000, 140000, 140000, 140000, 140000, 140000, 140000, 140000, 140000, 140000, 140000, 140000, 140000, 140000, 140000, 140000, 140000, 140000, 140000, 140000, 140000, 140000, 140000, 140000, 140000, 140000, 140000, 140000, 140000, 140000, 140000, 140000, 140000, 140000, 140000, 140000, 140000, 140000, 140000, 140000, 140000, 140000, 140000, 140000, 140000, 140000, 140000, 140000, 140000, 140149, 140250, 140250, 140250, 140270, 140300, 140306, 140306, 140400, 140400, 140400, 140546, 140670, 140700, 140800, 140990, 141000, 141000, 141000, 141000, 141000, 141000, 141036, 141200, 141200, 141250, 141360, 141550, 141550, 141665, 141669, 141669, 141750, 141750, 141877, 141877, 141877, 141877, 141960, 141960, 142000, 142000, 142000, 142000, 142000, 142164, 142200, 142300, 142376, 142500, 142500, 142600, 142600, 142650, 142800, 142938, 143000, 143000, 143000, 143000, 143000, 143000, 143104, 143104, 143104, 143104, 143104, 143104, 143104, 143104, 143104, 143192, 143200, 143220, 143404, 143529, 143591, 143591, 143785, 143785, 143785, 143790, 143850, 143871, 143871, 144000, 144000, 144000, 144000, 144000, 144000, 144197, 144200, 144200, 144244, 144382, 144518, 144563, 144750, 144750, 144769, 144769, 144787, 145000, 145000, 145000, 145000, 145000, 145000, 145000, 145000, 145000, 145000, 145000, 145000, 145000, 145000, 145000, 145000, 145000, 145000, 145000, 145000, 145000, 145000, 145000, 145000, 145000, 145000, 145000, 145000, 145000, 145000, 145000, 145000, 145000, 145000, 145000, 145000, 145000, 145000, 145000, 145000, 145000, 145000, 145000, 145000, 145000, 145000, 145000, 145000, 145000, 145000, 145000, 145000, 145000, 145000, 145000, 145000, 145000, 145000, 145000, 145000, 145000, 145000, 145000, 145000, 145000, 145000, 145000, 145000, 145000, 145000, 145000, 145000, 145000, 145000, 145000, 145000, 145000, 145000, 145000, 145000, 145000, 145000, 145000, 145000, 145000, 145000, 145000, 145000, 145000, 145043, 145462, 145534, 145903, 146000, 146000, 146000, 146000, 146000, 146500, 146600, 147000, 147000, 147000, 147000, 147000, 147000, 147000, 147000, 147000, 147000, 147000, 147000, 147000, 147000, 147000, 147000, 147000, 147000, 147000, 147046, 147248, 147281, 147300, 147347, 147347, 147400, 147487, 147500, 148000, 148000, 148000, 148000, 148000, 148000, 148000, 148003, 148150, 148500, 148500, 148500, 148500, 148500, 149000, 149000, 149000, 149000, 149191, 149219, 149500, 149575, 149713, 150000, 150000, 150000, 150000, 150000, 150000, 150000, 150000, 150000, 150000, 150000, 150000, 150000, 150000, 150000, 150000, 150000, 150000, 150000, 150000, 150000, 150000, 150000, 150000, 150000, 150000, 150000, 150000, 150000, 150000, 150000, 150000, 150000, 150000, 150000, 150000, 150000, 150000, 150000, 150000, 150000, 150000, 150000, 150000, 150000, 150000, 150000, 150000, 150000, 150000, 150000, 150000, 150000, 150000, 150000, 150000, 150000, 150000, 150000, 150000, 150000, 150000, 150000, 150000, 150000, 150000, 150000, 150000, 150000, 150000, 150000, 150000, 150000, 150000, 150000, 150000, 150000, 150000, 150000, 150000, 150000, 150000, 150000, 150000, 150000, 150000, 150000, 150000, 150000, 150000, 150000, 150000, 150000, 150000, 150000, 150000, 150000, 150000, 150000, 150000, 150000, 150000, 150000, 150000, 150000, 150000, 150000, 150000, 150000, 150000, 150000, 150000, 150000, 150000, 150000, 150000, 150000, 150000, 150000, 150000, 150000, 150000, 150000, 150000, 150184, 150184, 150253, 150300, 150442, 150773, 150978, 151000, 151000, 151000, 151311, 151590, 151888, 152000, 152294, 152407, 152420, 152504, 152568, 152600, 152850, 152903, 153000, 153000, 153000, 153001, 154000, 154000, 154000, 154000, 154000, 154000, 154000, 154500, 154500, 154998, 155000, 155000, 155000, 155000, 155000, 155000, 155000, 155000, 155000, 155000, 155000, 155000, 155000, 155000, 155000, 155000, 155000, 155000, 155000, 155000, 155000, 155000, 155000, 155000, 155000, 155000, 155000, 155000, 155000, 155000, 155000, 155000, 155000, 155000, 155000, 155000, 155000, 155000, 155000, 155000, 155000, 155000, 155000, 155000, 155000, 155000, 155000, 155000, 155000, 155000, 155000, 155000, 155000, 155000, 155000, 155000, 155000, 155000, 155000, 155000, 155000, 155000, 155000, 155000, 155000, 155000, 155000, 155000, 155000, 155000, 155000, 155000, 155000, 155000, 155000, 155000, 155000, 155000, 155000, 155250, 156000, 156000, 156000, 156000, 156000, 156000, 156028, 156924, 157000, 157000, 157000, 157500, 157500, 157602, 158000, 158000, 158000, 158000, 158142, 158163, 158163, 158163, 158163, 158163, 158200, 158270, 158508, 159000, 159010, 159126, 159126, 159126, 159266, 159400, 159411, 159484, 159484, 159492, 159744, 159800, 160000, 160000, 160000, 160000, 160000, 160000, 160000, 160000, 160000, 160000, 160000, 160000, 160000, 160000, 160000, 160000, 160000, 160000, 160000, 160000, 160000, 160000, 160000, 160000, 160000, 160000, 160000, 160000, 160000, 160000, 160000, 160000, 160000, 160000, 160000, 160000, 160000, 160000, 160000, 160000, 160000, 160000, 160000, 160000, 160000, 160000, 160000, 160000, 160000, 160000, 160000, 160000, 160000, 160000, 160000, 160000, 160000, 160000, 160000, 160000, 160058, 160475, 160930, 160930, 161000, 161200, 161550, 161550, 162000, 163000, 163000, 163036, 163134, 163134, 163500, 163628, 164000, 164000, 164000, 164000, 164765, 164765, 164989, 164989, 165000, 165000, 165000, 165000, 165000, 165000, 165000, 165000, 165000, 165000, 165000, 165000, 165000, 165000, 165000, 165000, 165000, 165000, 165000, 165000, 165000, 165000, 165000, 165000, 165000, 165000, 165000, 165000, 165000, 165000, 165000, 165000, 165000, 165000, 165360, 166020, 166080, 166250, 166250, 166385, 167450, 167500, 168000, 168000, 168000, 168000, 168210, 168875, 168875, 168875, 168875, 168958, 169000, 169000, 169000, 169150, 169796, 170000, 170000, 170000, 170000, 170000, 170000, 170000, 170000, 170000, 170000, 170000, 170000, 170000, 170000, 170000, 170000, 170000, 170000, 170000, 170000, 170000, 170000, 170000, 170000, 170000, 170000, 170000, 170000, 170000, 170000, 170000, 170000, 170000, 170000, 170000, 170000, 170280, 170328, 171000, 171423, 171921, 172000, 172000, 172000, 172000, 172000, 172000, 172000, 172515, 172534, 174117, 174117, 174138, 174240, 174703, 174850, 175000, 175000, 175000, 175000, 175000, 175000, 175000, 175000, 175000, 175000, 175000, 175000, 175000, 175000, 175000, 175000, 175000, 175000, 175000, 175000, 175000, 175000, 175000, 175000, 175000, 175000, 175000, 175000, 175000, 175000, 175000, 175000, 175000, 175000, 175000, 175000, 175000, 175000, 175245, 175380, 175723, 175780, 175780, 176650, 177091, 177406, 177677, 178541, 180000, 180000, 180000, 180000, 180000, 180000, 180000, 180000, 180000, 180000, 180000, 180000, 180000, 180000, 180000, 180000, 180000, 180000, 180000, 180000, 180000, 180000, 180925, 182281, 182610, 182610, 183066, 183350, 183465, 184000, 185000, 185000, 185000, 185000, 185000, 185000, 185000, 185000, 185000, 185000, 185000, 185000, 185000, 185000, 185000, 185000, 187000, 187000, 189000, 190000, 190000, 190000, 190000, 190000, 190000, 190000, 190000, 190000, 190000, 190000, 190000, 190000, 190000, 190000, 190000, 190000, 190000, 190900, 192000, 193000, 194835, 195000, 195000, 195000, 195979, 200000, 200000, 200000, 200000, 200000, 200000, 200000, 200000, 200000, 200000, 200000, 200000, 200000, 200000, 200000, 200000, 200000, 200000, 200000, 200000, 201925, 203800, 204000, 205000, 205000, 205000, 210000, 210000, 210000, 210000, 215000, 215000, 216331, 220000, 225000, 225000, 234000, 234000, 234000, 248400, 248400, 250000, 250000, 253630, 260000, 260000, 260000]}],\n",
       "                        {\"template\": {\"data\": {\"bar\": [{\"error_x\": {\"color\": \"#2a3f5f\"}, \"error_y\": {\"color\": \"#2a3f5f\"}, \"marker\": {\"line\": {\"color\": \"#E5ECF6\", \"width\": 0.5}}, \"type\": \"bar\"}], \"barpolar\": [{\"marker\": {\"line\": {\"color\": \"#E5ECF6\", \"width\": 0.5}}, \"type\": \"barpolar\"}], \"carpet\": [{\"aaxis\": {\"endlinecolor\": \"#2a3f5f\", \"gridcolor\": \"white\", \"linecolor\": \"white\", \"minorgridcolor\": \"white\", \"startlinecolor\": \"#2a3f5f\"}, \"baxis\": {\"endlinecolor\": \"#2a3f5f\", \"gridcolor\": \"white\", \"linecolor\": \"white\", \"minorgridcolor\": \"white\", \"startlinecolor\": \"#2a3f5f\"}, \"type\": \"carpet\"}], \"choropleth\": [{\"colorbar\": {\"outlinewidth\": 0, \"ticks\": \"\"}, \"type\": \"choropleth\"}], \"contour\": [{\"colorbar\": {\"outlinewidth\": 0, \"ticks\": \"\"}, \"colorscale\": [[0.0, \"#0d0887\"], [0.1111111111111111, \"#46039f\"], [0.2222222222222222, \"#7201a8\"], [0.3333333333333333, \"#9c179e\"], [0.4444444444444444, \"#bd3786\"], [0.5555555555555556, \"#d8576b\"], [0.6666666666666666, \"#ed7953\"], [0.7777777777777778, \"#fb9f3a\"], [0.8888888888888888, \"#fdca26\"], [1.0, \"#f0f921\"]], \"type\": \"contour\"}], \"contourcarpet\": [{\"colorbar\": {\"outlinewidth\": 0, \"ticks\": \"\"}, \"type\": \"contourcarpet\"}], \"heatmap\": [{\"colorbar\": {\"outlinewidth\": 0, \"ticks\": \"\"}, \"colorscale\": [[0.0, \"#0d0887\"], [0.1111111111111111, \"#46039f\"], [0.2222222222222222, \"#7201a8\"], [0.3333333333333333, \"#9c179e\"], [0.4444444444444444, \"#bd3786\"], [0.5555555555555556, \"#d8576b\"], [0.6666666666666666, \"#ed7953\"], [0.7777777777777778, \"#fb9f3a\"], [0.8888888888888888, \"#fdca26\"], [1.0, \"#f0f921\"]], \"type\": \"heatmap\"}], \"heatmapgl\": [{\"colorbar\": {\"outlinewidth\": 0, \"ticks\": \"\"}, \"colorscale\": [[0.0, \"#0d0887\"], [0.1111111111111111, \"#46039f\"], [0.2222222222222222, \"#7201a8\"], [0.3333333333333333, \"#9c179e\"], [0.4444444444444444, \"#bd3786\"], [0.5555555555555556, \"#d8576b\"], [0.6666666666666666, \"#ed7953\"], [0.7777777777777778, \"#fb9f3a\"], [0.8888888888888888, \"#fdca26\"], [1.0, \"#f0f921\"]], \"type\": \"heatmapgl\"}], \"histogram\": [{\"marker\": {\"colorbar\": {\"outlinewidth\": 0, \"ticks\": \"\"}}, \"type\": \"histogram\"}], \"histogram2d\": [{\"colorbar\": {\"outlinewidth\": 0, \"ticks\": \"\"}, \"colorscale\": [[0.0, \"#0d0887\"], [0.1111111111111111, \"#46039f\"], [0.2222222222222222, \"#7201a8\"], [0.3333333333333333, \"#9c179e\"], [0.4444444444444444, \"#bd3786\"], [0.5555555555555556, \"#d8576b\"], [0.6666666666666666, \"#ed7953\"], [0.7777777777777778, \"#fb9f3a\"], [0.8888888888888888, \"#fdca26\"], [1.0, \"#f0f921\"]], \"type\": \"histogram2d\"}], \"histogram2dcontour\": [{\"colorbar\": {\"outlinewidth\": 0, \"ticks\": \"\"}, \"colorscale\": [[0.0, \"#0d0887\"], [0.1111111111111111, \"#46039f\"], [0.2222222222222222, \"#7201a8\"], [0.3333333333333333, \"#9c179e\"], [0.4444444444444444, \"#bd3786\"], [0.5555555555555556, \"#d8576b\"], [0.6666666666666666, \"#ed7953\"], [0.7777777777777778, \"#fb9f3a\"], [0.8888888888888888, \"#fdca26\"], [1.0, \"#f0f921\"]], \"type\": \"histogram2dcontour\"}], \"mesh3d\": [{\"colorbar\": {\"outlinewidth\": 0, \"ticks\": \"\"}, \"type\": \"mesh3d\"}], \"parcoords\": [{\"line\": {\"colorbar\": {\"outlinewidth\": 0, \"ticks\": \"\"}}, \"type\": \"parcoords\"}], \"pie\": [{\"automargin\": true, \"type\": \"pie\"}], \"scatter\": [{\"marker\": {\"colorbar\": {\"outlinewidth\": 0, \"ticks\": \"\"}}, \"type\": \"scatter\"}], \"scatter3d\": [{\"line\": {\"colorbar\": {\"outlinewidth\": 0, \"ticks\": \"\"}}, \"marker\": {\"colorbar\": {\"outlinewidth\": 0, \"ticks\": \"\"}}, \"type\": \"scatter3d\"}], \"scattercarpet\": [{\"marker\": {\"colorbar\": {\"outlinewidth\": 0, \"ticks\": \"\"}}, \"type\": \"scattercarpet\"}], \"scattergeo\": [{\"marker\": {\"colorbar\": {\"outlinewidth\": 0, \"ticks\": \"\"}}, \"type\": \"scattergeo\"}], \"scattergl\": [{\"marker\": {\"colorbar\": {\"outlinewidth\": 0, \"ticks\": \"\"}}, \"type\": \"scattergl\"}], \"scattermapbox\": [{\"marker\": {\"colorbar\": {\"outlinewidth\": 0, \"ticks\": \"\"}}, \"type\": \"scattermapbox\"}], \"scatterpolar\": [{\"marker\": {\"colorbar\": {\"outlinewidth\": 0, \"ticks\": \"\"}}, \"type\": \"scatterpolar\"}], \"scatterpolargl\": [{\"marker\": {\"colorbar\": {\"outlinewidth\": 0, \"ticks\": \"\"}}, \"type\": \"scatterpolargl\"}], \"scatterternary\": [{\"marker\": {\"colorbar\": {\"outlinewidth\": 0, \"ticks\": \"\"}}, \"type\": \"scatterternary\"}], \"surface\": [{\"colorbar\": {\"outlinewidth\": 0, \"ticks\": \"\"}, \"colorscale\": [[0.0, \"#0d0887\"], [0.1111111111111111, \"#46039f\"], [0.2222222222222222, \"#7201a8\"], [0.3333333333333333, \"#9c179e\"], [0.4444444444444444, \"#bd3786\"], [0.5555555555555556, \"#d8576b\"], [0.6666666666666666, \"#ed7953\"], [0.7777777777777778, \"#fb9f3a\"], [0.8888888888888888, \"#fdca26\"], [1.0, \"#f0f921\"]], \"type\": \"surface\"}], \"table\": [{\"cells\": {\"fill\": {\"color\": \"#EBF0F8\"}, \"line\": {\"color\": \"white\"}}, \"header\": {\"fill\": {\"color\": \"#C8D4E3\"}, \"line\": {\"color\": \"white\"}}, \"type\": \"table\"}]}, \"layout\": {\"annotationdefaults\": {\"arrowcolor\": \"#2a3f5f\", \"arrowhead\": 0, \"arrowwidth\": 1}, \"coloraxis\": {\"colorbar\": {\"outlinewidth\": 0, \"ticks\": \"\"}}, \"colorscale\": {\"diverging\": [[0, \"#8e0152\"], [0.1, \"#c51b7d\"], [0.2, \"#de77ae\"], [0.3, \"#f1b6da\"], [0.4, \"#fde0ef\"], [0.5, \"#f7f7f7\"], [0.6, \"#e6f5d0\"], [0.7, \"#b8e186\"], [0.8, \"#7fbc41\"], [0.9, \"#4d9221\"], [1, \"#276419\"]], \"sequential\": [[0.0, \"#0d0887\"], [0.1111111111111111, \"#46039f\"], [0.2222222222222222, \"#7201a8\"], [0.3333333333333333, \"#9c179e\"], [0.4444444444444444, \"#bd3786\"], [0.5555555555555556, \"#d8576b\"], [0.6666666666666666, \"#ed7953\"], [0.7777777777777778, \"#fb9f3a\"], [0.8888888888888888, \"#fdca26\"], [1.0, \"#f0f921\"]], \"sequentialminus\": [[0.0, \"#0d0887\"], [0.1111111111111111, \"#46039f\"], [0.2222222222222222, \"#7201a8\"], [0.3333333333333333, \"#9c179e\"], [0.4444444444444444, \"#bd3786\"], [0.5555555555555556, \"#d8576b\"], [0.6666666666666666, \"#ed7953\"], [0.7777777777777778, \"#fb9f3a\"], [0.8888888888888888, \"#fdca26\"], [1.0, \"#f0f921\"]]}, \"colorway\": [\"#636efa\", \"#EF553B\", \"#00cc96\", \"#ab63fa\", \"#FFA15A\", \"#19d3f3\", \"#FF6692\", \"#B6E880\", \"#FF97FF\", \"#FECB52\"], \"font\": {\"color\": \"#2a3f5f\"}, \"geo\": {\"bgcolor\": \"white\", \"lakecolor\": \"white\", \"landcolor\": \"#E5ECF6\", \"showlakes\": true, \"showland\": true, \"subunitcolor\": \"white\"}, \"hoverlabel\": {\"align\": \"left\"}, \"hovermode\": \"closest\", \"mapbox\": {\"style\": \"light\"}, \"paper_bgcolor\": \"white\", \"plot_bgcolor\": \"#E5ECF6\", \"polar\": {\"angularaxis\": {\"gridcolor\": \"white\", \"linecolor\": \"white\", \"ticks\": \"\"}, \"bgcolor\": \"#E5ECF6\", \"radialaxis\": {\"gridcolor\": \"white\", \"linecolor\": \"white\", \"ticks\": \"\"}}, \"scene\": {\"xaxis\": {\"backgroundcolor\": \"#E5ECF6\", \"gridcolor\": \"white\", \"gridwidth\": 2, \"linecolor\": \"white\", \"showbackground\": true, \"ticks\": \"\", \"zerolinecolor\": \"white\"}, \"yaxis\": {\"backgroundcolor\": \"#E5ECF6\", \"gridcolor\": \"white\", \"gridwidth\": 2, \"linecolor\": \"white\", \"showbackground\": true, \"ticks\": \"\", \"zerolinecolor\": \"white\"}, \"zaxis\": {\"backgroundcolor\": \"#E5ECF6\", \"gridcolor\": \"white\", \"gridwidth\": 2, \"linecolor\": \"white\", \"showbackground\": true, \"ticks\": \"\", \"zerolinecolor\": \"white\"}}, \"shapedefaults\": {\"line\": {\"color\": \"#2a3f5f\"}}, \"ternary\": {\"aaxis\": {\"gridcolor\": \"white\", \"linecolor\": \"white\", \"ticks\": \"\"}, \"baxis\": {\"gridcolor\": \"white\", \"linecolor\": \"white\", \"ticks\": \"\"}, \"bgcolor\": \"#E5ECF6\", \"caxis\": {\"gridcolor\": \"white\", \"linecolor\": \"white\", \"ticks\": \"\"}}, \"title\": {\"x\": 0.05}, \"xaxis\": {\"automargin\": true, \"gridcolor\": \"white\", \"linecolor\": \"white\", \"ticks\": \"\", \"title\": {\"standoff\": 15}, \"zerolinecolor\": \"white\", \"zerolinewidth\": 2}, \"yaxis\": {\"automargin\": true, \"gridcolor\": \"white\", \"linecolor\": \"white\", \"ticks\": \"\", \"title\": {\"standoff\": 15}, \"zerolinecolor\": \"white\", \"zerolinewidth\": 2}}}, \"title\": {\"text\": \"Salary Histogram\"}, \"xaxis\": {\"title\": {\"text\": \"Salary Range in USD\"}}, \"yaxis\": {\"title\": {\"text\": \"Count\"}}},\n",
       "                        {\"responsive\": true}\n",
       "                    ).then(function(){\n",
       "                            \n",
       "var gd = document.getElementById('6b183157-006e-45a5-99f2-4420b6be3d2f');\n",
       "var x = new MutationObserver(function (mutations, observer) {{\n",
       "        var display = window.getComputedStyle(gd).display;\n",
       "        if (!display || display === 'none') {{\n",
       "            console.log([gd, 'removed!']);\n",
       "            Plotly.purge(gd);\n",
       "            observer.disconnect();\n",
       "        }}\n",
       "}});\n",
       "\n",
       "// Listen for the removal of the full notebook cells\n",
       "var notebookContainer = gd.closest('#notebook-container');\n",
       "if (notebookContainer) {{\n",
       "    x.observe(notebookContainer, {childList: true});\n",
       "}}\n",
       "\n",
       "// Listen for the clearing of the current output cell\n",
       "var outputEl = gd.closest('.output');\n",
       "if (outputEl) {{\n",
       "    x.observe(outputEl, {childList: true});\n",
       "}}\n",
       "\n",
       "                        })\n",
       "                };\n",
       "                });\n",
       "            </script>\n",
       "        </div>"
      ]
     },
     "metadata": {},
     "output_type": "display_data"
    }
   ],
   "source": [
    "fig = go.Figure(data=[go.Histogram(x=data_scientists['salary'], histnorm='probability')])\n",
    "fig.update_layout(title = 'Salary Histogram', xaxis_title = 'Salary Range in USD', yaxis_title = 'Count')\n",
    "fig.show()"
   ]
  },
  {
   "cell_type": "markdown",
   "metadata": {},
   "source": [
    "## Comparing Companies"
   ]
  },
  {
   "cell_type": "code",
   "execution_count": 721,
   "metadata": {},
   "outputs": [
    {
     "name": "stdout",
     "output_type": "stream",
     "text": [
      "<class 'pandas.core.frame.DataFrame'>\n",
      "Index: 70 entries, ADOBE INC to ZILLOW INC\n",
      "Data columns (total 5 columns):\n",
      "salary_mean      70 non-null float64\n",
      "salary_median    70 non-null float64\n",
      "salary_min       70 non-null int32\n",
      "salary_max       70 non-null int32\n",
      "salary_count     70 non-null int64\n",
      "dtypes: float64(2), int32(2), int64(1)\n",
      "memory usage: 2.7+ KB\n"
     ]
    }
   ],
   "source": [
    "companies = data_scientists.groupby('employer').agg({'salary': ['mean', 'median', 'min', 'max', 'count']})\n",
    "companies.columns = [\"_\".join(x) for x in companies.columns.ravel()]\n",
    "companies = companies[companies['salary_count'] > 10]\n",
    "companies = companies.round({'salary_mean': 0})\n",
    "companies.info()"
   ]
  },
  {
   "cell_type": "code",
   "execution_count": 719,
   "metadata": {},
   "outputs": [
    {
     "data": {
      "application/vnd.plotly.v1+json": {
       "config": {
        "plotlyServerURL": "https://plot.ly"
       },
       "data": [
        {
         "orientation": "h",
         "text": [
          161550,
          160000,
          155000,
          150000,
          147000,
          145000,
          138000,
          137000,
          135000,
          135000,
          131997,
          130000,
          130000,
          129605,
          129106,
          126900,
          125000,
          123000,
          122824,
          122158,
          120000,
          120000,
          119900,
          119000,
          118268.5,
          117500,
          115060,
          113152,
          112000,
          111030,
          110500,
          109000,
          108499.5,
          106500,
          105500,
          105000,
          105000,
          104905,
          103979.5,
          103372.5,
          102600,
          100253,
          100022,
          100000,
          100000,
          100000,
          96990,
          96928,
          96500,
          96213.5,
          95080,
          95000,
          93660,
          93600,
          93000,
          92414,
          90000,
          87526,
          86000,
          85467.5,
          85065,
          85000,
          82000,
          81000,
          77854,
          75000,
          75000,
          74550,
          70100,
          69992
         ],
         "textfont": {
          "family": "sans serif",
          "size": 100
         },
         "textposition": "inside",
         "type": "bar",
         "x": [
          161550,
          160000,
          155000,
          150000,
          147000,
          145000,
          138000,
          137000,
          135000,
          135000,
          131997,
          130000,
          130000,
          129605,
          129106,
          126900,
          125000,
          123000,
          122824,
          122158,
          120000,
          120000,
          119900,
          119000,
          118268.5,
          117500,
          115060,
          113152,
          112000,
          111030,
          110500,
          109000,
          108499.5,
          106500,
          105500,
          105000,
          105000,
          104905,
          103979.5,
          103372.5,
          102600,
          100253,
          100022,
          100000,
          100000,
          100000,
          96990,
          96928,
          96500,
          96213.5,
          95080,
          95000,
          93660,
          93600,
          93000,
          92414,
          90000,
          87526,
          86000,
          85467.5,
          85065,
          85000,
          82000,
          81000,
          77854,
          75000,
          75000,
          74550,
          70100,
          69992
         ],
         "y": [
          "AIRBNB INC",
          "AMAZON WEB SERVICES INC",
          "LYFT INC",
          "STITCH FIX INC",
          "FACEBOOK INC",
          "APPLE INC",
          "PAYPAL INC",
          "GOOGLE LLC",
          "WAL-MART ASSOCIATES INC",
          "SIMPLEBET INC",
          "ADOBE SYSTEMS INCORPORATED",
          "SPOTIFY USA INC",
          "EBAY INC",
          "ADOBE INC",
          "CONTEXTLOGIC INC",
          "PINTEREST INC",
          "ANCESTRYCOM OPERATIONS INC",
          "MICROSOFT CORPORATION",
          "ELECTRONIC ARTS INC",
          "INTUIT INC",
          "GODADDYCOM LLC",
          "CHEGG INC",
          "GROUPON INC",
          "JPMORGAN CHASE & CO",
          "SALESFORCECOM INC",
          "C3 IOT INC",
          "LINKEDIN CORPORATION",
          "INDEED INC",
          "MONSANTO COMPANY",
          "UBER TECHNOLOGIES INC",
          "ZESTFINANCE INC",
          "SAP LABS LLC",
          "ORACLE AMERICA INC",
          "AMERICAN EXPRESS COMPANY",
          "ADS ALLIANCE DATA SYSTEMS INC",
          "UPTAKE TECHNOLOGIES INC",
          "TRIPADVISOR LLC",
          "SQUARE INC",
          "OATH HOLDINGS INC",
          "AKAMAI TECHNOLOGIES INC",
          "HOMEAWAYCOM INC",
          "ZILLOW INC",
          "SCHLUMBERGER TECHNOLOGY CORPORATION",
          "THE BOSTON CONSULTING GROUP INC",
          "SUPSTAT INC",
          "MCKINSEY & COMPANY INC UNITED STATES",
          "SCRY ANALYTICS INC",
          "IBM CORPORATION",
          "VISA USA INC",
          "OPEX ANALYTICS LLC",
          "EXPEDIA INC",
          "AGILONE INC",
          "ERICSSON INC",
          "AETNA RESOURCES LLC",
          "HONEYWELL INTERNATIONAL INC",
          "QUORA INC",
          "COX AUTOMOTIVE CORPORATE SERVICES LLC",
          "FEEDZAI INC",
          "RANG TECHNOLOGIES INC",
          "CYBER INFOTECH LLC",
          "INTEL CORPORATION",
          "THE NIELSEN COMPANY (US) LLC",
          "SPARKCOGNITION INC",
          "MOUNTAIN IT SOLUTIONS LLC",
          "WAYFAIR LLC",
          "MAXIMA CONSULTING INC",
          "KAIZEN ANALYTIX LLC",
          "FUZZY LOGIX INC",
          "FORD MOTOR COMPANY",
          "CCC INFORMATION SERVICES INC"
         ]
        }
       ],
       "layout": {
        "autosize": false,
        "height": 1700,
        "template": {
         "data": {
          "bar": [
           {
            "error_x": {
             "color": "#2a3f5f"
            },
            "error_y": {
             "color": "#2a3f5f"
            },
            "marker": {
             "line": {
              "color": "#E5ECF6",
              "width": 0.5
             }
            },
            "type": "bar"
           }
          ],
          "barpolar": [
           {
            "marker": {
             "line": {
              "color": "#E5ECF6",
              "width": 0.5
             }
            },
            "type": "barpolar"
           }
          ],
          "carpet": [
           {
            "aaxis": {
             "endlinecolor": "#2a3f5f",
             "gridcolor": "white",
             "linecolor": "white",
             "minorgridcolor": "white",
             "startlinecolor": "#2a3f5f"
            },
            "baxis": {
             "endlinecolor": "#2a3f5f",
             "gridcolor": "white",
             "linecolor": "white",
             "minorgridcolor": "white",
             "startlinecolor": "#2a3f5f"
            },
            "type": "carpet"
           }
          ],
          "choropleth": [
           {
            "colorbar": {
             "outlinewidth": 0,
             "ticks": ""
            },
            "type": "choropleth"
           }
          ],
          "contour": [
           {
            "colorbar": {
             "outlinewidth": 0,
             "ticks": ""
            },
            "colorscale": [
             [
              0,
              "#0d0887"
             ],
             [
              0.1111111111111111,
              "#46039f"
             ],
             [
              0.2222222222222222,
              "#7201a8"
             ],
             [
              0.3333333333333333,
              "#9c179e"
             ],
             [
              0.4444444444444444,
              "#bd3786"
             ],
             [
              0.5555555555555556,
              "#d8576b"
             ],
             [
              0.6666666666666666,
              "#ed7953"
             ],
             [
              0.7777777777777778,
              "#fb9f3a"
             ],
             [
              0.8888888888888888,
              "#fdca26"
             ],
             [
              1,
              "#f0f921"
             ]
            ],
            "type": "contour"
           }
          ],
          "contourcarpet": [
           {
            "colorbar": {
             "outlinewidth": 0,
             "ticks": ""
            },
            "type": "contourcarpet"
           }
          ],
          "heatmap": [
           {
            "colorbar": {
             "outlinewidth": 0,
             "ticks": ""
            },
            "colorscale": [
             [
              0,
              "#0d0887"
             ],
             [
              0.1111111111111111,
              "#46039f"
             ],
             [
              0.2222222222222222,
              "#7201a8"
             ],
             [
              0.3333333333333333,
              "#9c179e"
             ],
             [
              0.4444444444444444,
              "#bd3786"
             ],
             [
              0.5555555555555556,
              "#d8576b"
             ],
             [
              0.6666666666666666,
              "#ed7953"
             ],
             [
              0.7777777777777778,
              "#fb9f3a"
             ],
             [
              0.8888888888888888,
              "#fdca26"
             ],
             [
              1,
              "#f0f921"
             ]
            ],
            "type": "heatmap"
           }
          ],
          "heatmapgl": [
           {
            "colorbar": {
             "outlinewidth": 0,
             "ticks": ""
            },
            "colorscale": [
             [
              0,
              "#0d0887"
             ],
             [
              0.1111111111111111,
              "#46039f"
             ],
             [
              0.2222222222222222,
              "#7201a8"
             ],
             [
              0.3333333333333333,
              "#9c179e"
             ],
             [
              0.4444444444444444,
              "#bd3786"
             ],
             [
              0.5555555555555556,
              "#d8576b"
             ],
             [
              0.6666666666666666,
              "#ed7953"
             ],
             [
              0.7777777777777778,
              "#fb9f3a"
             ],
             [
              0.8888888888888888,
              "#fdca26"
             ],
             [
              1,
              "#f0f921"
             ]
            ],
            "type": "heatmapgl"
           }
          ],
          "histogram": [
           {
            "marker": {
             "colorbar": {
              "outlinewidth": 0,
              "ticks": ""
             }
            },
            "type": "histogram"
           }
          ],
          "histogram2d": [
           {
            "colorbar": {
             "outlinewidth": 0,
             "ticks": ""
            },
            "colorscale": [
             [
              0,
              "#0d0887"
             ],
             [
              0.1111111111111111,
              "#46039f"
             ],
             [
              0.2222222222222222,
              "#7201a8"
             ],
             [
              0.3333333333333333,
              "#9c179e"
             ],
             [
              0.4444444444444444,
              "#bd3786"
             ],
             [
              0.5555555555555556,
              "#d8576b"
             ],
             [
              0.6666666666666666,
              "#ed7953"
             ],
             [
              0.7777777777777778,
              "#fb9f3a"
             ],
             [
              0.8888888888888888,
              "#fdca26"
             ],
             [
              1,
              "#f0f921"
             ]
            ],
            "type": "histogram2d"
           }
          ],
          "histogram2dcontour": [
           {
            "colorbar": {
             "outlinewidth": 0,
             "ticks": ""
            },
            "colorscale": [
             [
              0,
              "#0d0887"
             ],
             [
              0.1111111111111111,
              "#46039f"
             ],
             [
              0.2222222222222222,
              "#7201a8"
             ],
             [
              0.3333333333333333,
              "#9c179e"
             ],
             [
              0.4444444444444444,
              "#bd3786"
             ],
             [
              0.5555555555555556,
              "#d8576b"
             ],
             [
              0.6666666666666666,
              "#ed7953"
             ],
             [
              0.7777777777777778,
              "#fb9f3a"
             ],
             [
              0.8888888888888888,
              "#fdca26"
             ],
             [
              1,
              "#f0f921"
             ]
            ],
            "type": "histogram2dcontour"
           }
          ],
          "mesh3d": [
           {
            "colorbar": {
             "outlinewidth": 0,
             "ticks": ""
            },
            "type": "mesh3d"
           }
          ],
          "parcoords": [
           {
            "line": {
             "colorbar": {
              "outlinewidth": 0,
              "ticks": ""
             }
            },
            "type": "parcoords"
           }
          ],
          "pie": [
           {
            "automargin": true,
            "type": "pie"
           }
          ],
          "scatter": [
           {
            "marker": {
             "colorbar": {
              "outlinewidth": 0,
              "ticks": ""
             }
            },
            "type": "scatter"
           }
          ],
          "scatter3d": [
           {
            "line": {
             "colorbar": {
              "outlinewidth": 0,
              "ticks": ""
             }
            },
            "marker": {
             "colorbar": {
              "outlinewidth": 0,
              "ticks": ""
             }
            },
            "type": "scatter3d"
           }
          ],
          "scattercarpet": [
           {
            "marker": {
             "colorbar": {
              "outlinewidth": 0,
              "ticks": ""
             }
            },
            "type": "scattercarpet"
           }
          ],
          "scattergeo": [
           {
            "marker": {
             "colorbar": {
              "outlinewidth": 0,
              "ticks": ""
             }
            },
            "type": "scattergeo"
           }
          ],
          "scattergl": [
           {
            "marker": {
             "colorbar": {
              "outlinewidth": 0,
              "ticks": ""
             }
            },
            "type": "scattergl"
           }
          ],
          "scattermapbox": [
           {
            "marker": {
             "colorbar": {
              "outlinewidth": 0,
              "ticks": ""
             }
            },
            "type": "scattermapbox"
           }
          ],
          "scatterpolar": [
           {
            "marker": {
             "colorbar": {
              "outlinewidth": 0,
              "ticks": ""
             }
            },
            "type": "scatterpolar"
           }
          ],
          "scatterpolargl": [
           {
            "marker": {
             "colorbar": {
              "outlinewidth": 0,
              "ticks": ""
             }
            },
            "type": "scatterpolargl"
           }
          ],
          "scatterternary": [
           {
            "marker": {
             "colorbar": {
              "outlinewidth": 0,
              "ticks": ""
             }
            },
            "type": "scatterternary"
           }
          ],
          "surface": [
           {
            "colorbar": {
             "outlinewidth": 0,
             "ticks": ""
            },
            "colorscale": [
             [
              0,
              "#0d0887"
             ],
             [
              0.1111111111111111,
              "#46039f"
             ],
             [
              0.2222222222222222,
              "#7201a8"
             ],
             [
              0.3333333333333333,
              "#9c179e"
             ],
             [
              0.4444444444444444,
              "#bd3786"
             ],
             [
              0.5555555555555556,
              "#d8576b"
             ],
             [
              0.6666666666666666,
              "#ed7953"
             ],
             [
              0.7777777777777778,
              "#fb9f3a"
             ],
             [
              0.8888888888888888,
              "#fdca26"
             ],
             [
              1,
              "#f0f921"
             ]
            ],
            "type": "surface"
           }
          ],
          "table": [
           {
            "cells": {
             "fill": {
              "color": "#EBF0F8"
             },
             "line": {
              "color": "white"
             }
            },
            "header": {
             "fill": {
              "color": "#C8D4E3"
             },
             "line": {
              "color": "white"
             }
            },
            "type": "table"
           }
          ]
         },
         "layout": {
          "annotationdefaults": {
           "arrowcolor": "#2a3f5f",
           "arrowhead": 0,
           "arrowwidth": 1
          },
          "coloraxis": {
           "colorbar": {
            "outlinewidth": 0,
            "ticks": ""
           }
          },
          "colorscale": {
           "diverging": [
            [
             0,
             "#8e0152"
            ],
            [
             0.1,
             "#c51b7d"
            ],
            [
             0.2,
             "#de77ae"
            ],
            [
             0.3,
             "#f1b6da"
            ],
            [
             0.4,
             "#fde0ef"
            ],
            [
             0.5,
             "#f7f7f7"
            ],
            [
             0.6,
             "#e6f5d0"
            ],
            [
             0.7,
             "#b8e186"
            ],
            [
             0.8,
             "#7fbc41"
            ],
            [
             0.9,
             "#4d9221"
            ],
            [
             1,
             "#276419"
            ]
           ],
           "sequential": [
            [
             0,
             "#0d0887"
            ],
            [
             0.1111111111111111,
             "#46039f"
            ],
            [
             0.2222222222222222,
             "#7201a8"
            ],
            [
             0.3333333333333333,
             "#9c179e"
            ],
            [
             0.4444444444444444,
             "#bd3786"
            ],
            [
             0.5555555555555556,
             "#d8576b"
            ],
            [
             0.6666666666666666,
             "#ed7953"
            ],
            [
             0.7777777777777778,
             "#fb9f3a"
            ],
            [
             0.8888888888888888,
             "#fdca26"
            ],
            [
             1,
             "#f0f921"
            ]
           ],
           "sequentialminus": [
            [
             0,
             "#0d0887"
            ],
            [
             0.1111111111111111,
             "#46039f"
            ],
            [
             0.2222222222222222,
             "#7201a8"
            ],
            [
             0.3333333333333333,
             "#9c179e"
            ],
            [
             0.4444444444444444,
             "#bd3786"
            ],
            [
             0.5555555555555556,
             "#d8576b"
            ],
            [
             0.6666666666666666,
             "#ed7953"
            ],
            [
             0.7777777777777778,
             "#fb9f3a"
            ],
            [
             0.8888888888888888,
             "#fdca26"
            ],
            [
             1,
             "#f0f921"
            ]
           ]
          },
          "colorway": [
           "#636efa",
           "#EF553B",
           "#00cc96",
           "#ab63fa",
           "#FFA15A",
           "#19d3f3",
           "#FF6692",
           "#B6E880",
           "#FF97FF",
           "#FECB52"
          ],
          "font": {
           "color": "#2a3f5f"
          },
          "geo": {
           "bgcolor": "white",
           "lakecolor": "white",
           "landcolor": "#E5ECF6",
           "showlakes": true,
           "showland": true,
           "subunitcolor": "white"
          },
          "hoverlabel": {
           "align": "left"
          },
          "hovermode": "closest",
          "mapbox": {
           "style": "light"
          },
          "paper_bgcolor": "white",
          "plot_bgcolor": "#E5ECF6",
          "polar": {
           "angularaxis": {
            "gridcolor": "white",
            "linecolor": "white",
            "ticks": ""
           },
           "bgcolor": "#E5ECF6",
           "radialaxis": {
            "gridcolor": "white",
            "linecolor": "white",
            "ticks": ""
           }
          },
          "scene": {
           "xaxis": {
            "backgroundcolor": "#E5ECF6",
            "gridcolor": "white",
            "gridwidth": 2,
            "linecolor": "white",
            "showbackground": true,
            "ticks": "",
            "zerolinecolor": "white"
           },
           "yaxis": {
            "backgroundcolor": "#E5ECF6",
            "gridcolor": "white",
            "gridwidth": 2,
            "linecolor": "white",
            "showbackground": true,
            "ticks": "",
            "zerolinecolor": "white"
           },
           "zaxis": {
            "backgroundcolor": "#E5ECF6",
            "gridcolor": "white",
            "gridwidth": 2,
            "linecolor": "white",
            "showbackground": true,
            "ticks": "",
            "zerolinecolor": "white"
           }
          },
          "shapedefaults": {
           "line": {
            "color": "#2a3f5f"
           }
          },
          "ternary": {
           "aaxis": {
            "gridcolor": "white",
            "linecolor": "white",
            "ticks": ""
           },
           "baxis": {
            "gridcolor": "white",
            "linecolor": "white",
            "ticks": ""
           },
           "bgcolor": "#E5ECF6",
           "caxis": {
            "gridcolor": "white",
            "linecolor": "white",
            "ticks": ""
           }
          },
          "title": {
           "x": 0.05
          },
          "xaxis": {
           "automargin": true,
           "gridcolor": "white",
           "linecolor": "white",
           "ticks": "",
           "title": {
            "standoff": 15
           },
           "zerolinecolor": "white",
           "zerolinewidth": 2
          },
          "yaxis": {
           "automargin": true,
           "gridcolor": "white",
           "linecolor": "white",
           "ticks": "",
           "title": {
            "standoff": 15
           },
           "zerolinecolor": "white",
           "zerolinewidth": 2
          }
         }
        },
        "title": {
         "text": "Median Salary by Company"
        },
        "width": 1000,
        "xaxis": {
         "title": {
          "text": "Salary in USD"
         }
        },
        "yaxis": {
         "dtick": 1
        }
       }
      },
      "text/html": [
       "<div>\n",
       "        \n",
       "        \n",
       "            <div id=\"56c40afc-8ff7-48bb-9725-abf545b86991\" class=\"plotly-graph-div\" style=\"height:1700px; width:1000px;\"></div>\n",
       "            <script type=\"text/javascript\">\n",
       "                require([\"plotly\"], function(Plotly) {\n",
       "                    window.PLOTLYENV=window.PLOTLYENV || {};\n",
       "                    \n",
       "                if (document.getElementById(\"56c40afc-8ff7-48bb-9725-abf545b86991\")) {\n",
       "                    Plotly.newPlot(\n",
       "                        '56c40afc-8ff7-48bb-9725-abf545b86991',\n",
       "                        [{\"orientation\": \"h\", \"text\": [161550.0, 160000.0, 155000.0, 150000.0, 147000.0, 145000.0, 138000.0, 137000.0, 135000.0, 135000.0, 131997.0, 130000.0, 130000.0, 129605.0, 129106.0, 126900.0, 125000.0, 123000.0, 122824.0, 122158.0, 120000.0, 120000.0, 119900.0, 119000.0, 118268.5, 117500.0, 115060.0, 113152.0, 112000.0, 111030.0, 110500.0, 109000.0, 108499.5, 106500.0, 105500.0, 105000.0, 105000.0, 104905.0, 103979.5, 103372.5, 102600.0, 100253.0, 100022.0, 100000.0, 100000.0, 100000.0, 96990.0, 96928.0, 96500.0, 96213.5, 95080.0, 95000.0, 93660.0, 93600.0, 93000.0, 92414.0, 90000.0, 87526.0, 86000.0, 85467.5, 85065.0, 85000.0, 82000.0, 81000.0, 77854.0, 75000.0, 75000.0, 74550.0, 70100.0, 69992.0], \"textfont\": {\"family\": \"sans serif\", \"size\": 100}, \"textposition\": \"inside\", \"type\": \"bar\", \"x\": [161550.0, 160000.0, 155000.0, 150000.0, 147000.0, 145000.0, 138000.0, 137000.0, 135000.0, 135000.0, 131997.0, 130000.0, 130000.0, 129605.0, 129106.0, 126900.0, 125000.0, 123000.0, 122824.0, 122158.0, 120000.0, 120000.0, 119900.0, 119000.0, 118268.5, 117500.0, 115060.0, 113152.0, 112000.0, 111030.0, 110500.0, 109000.0, 108499.5, 106500.0, 105500.0, 105000.0, 105000.0, 104905.0, 103979.5, 103372.5, 102600.0, 100253.0, 100022.0, 100000.0, 100000.0, 100000.0, 96990.0, 96928.0, 96500.0, 96213.5, 95080.0, 95000.0, 93660.0, 93600.0, 93000.0, 92414.0, 90000.0, 87526.0, 86000.0, 85467.5, 85065.0, 85000.0, 82000.0, 81000.0, 77854.0, 75000.0, 75000.0, 74550.0, 70100.0, 69992.0], \"y\": [\"AIRBNB INC\", \"AMAZON WEB SERVICES INC\", \"LYFT INC\", \"STITCH FIX INC\", \"FACEBOOK INC\", \"APPLE INC\", \"PAYPAL INC\", \"GOOGLE LLC\", \"WAL-MART ASSOCIATES INC\", \"SIMPLEBET INC\", \"ADOBE SYSTEMS INCORPORATED\", \"SPOTIFY USA INC\", \"EBAY INC\", \"ADOBE INC\", \"CONTEXTLOGIC INC\", \"PINTEREST INC\", \"ANCESTRYCOM OPERATIONS INC\", \"MICROSOFT CORPORATION\", \"ELECTRONIC ARTS INC\", \"INTUIT INC\", \"GODADDYCOM LLC\", \"CHEGG INC\", \"GROUPON INC\", \"JPMORGAN CHASE & CO\", \"SALESFORCECOM INC\", \"C3 IOT INC\", \"LINKEDIN CORPORATION\", \"INDEED INC\", \"MONSANTO COMPANY\", \"UBER TECHNOLOGIES INC\", \"ZESTFINANCE INC\", \"SAP LABS LLC\", \"ORACLE AMERICA INC\", \"AMERICAN EXPRESS COMPANY\", \"ADS ALLIANCE DATA SYSTEMS INC\", \"UPTAKE TECHNOLOGIES INC\", \"TRIPADVISOR LLC\", \"SQUARE INC\", \"OATH HOLDINGS INC\", \"AKAMAI TECHNOLOGIES INC\", \"HOMEAWAYCOM INC\", \"ZILLOW INC\", \"SCHLUMBERGER TECHNOLOGY CORPORATION\", \"THE BOSTON CONSULTING GROUP INC\", \"SUPSTAT INC\", \"MCKINSEY & COMPANY INC UNITED STATES\", \"SCRY ANALYTICS INC\", \"IBM CORPORATION\", \"VISA USA INC\", \"OPEX ANALYTICS LLC\", \"EXPEDIA INC\", \"AGILONE INC\", \"ERICSSON INC\", \"AETNA RESOURCES LLC\", \"HONEYWELL INTERNATIONAL INC\", \"QUORA INC\", \"COX AUTOMOTIVE CORPORATE SERVICES LLC\", \"FEEDZAI INC\", \"RANG TECHNOLOGIES INC\", \"CYBER INFOTECH LLC\", \"INTEL CORPORATION\", \"THE NIELSEN COMPANY (US) LLC\", \"SPARKCOGNITION INC\", \"MOUNTAIN IT SOLUTIONS LLC\", \"WAYFAIR LLC\", \"MAXIMA CONSULTING INC\", \"KAIZEN ANALYTIX LLC\", \"FUZZY LOGIX INC\", \"FORD MOTOR COMPANY\", \"CCC INFORMATION SERVICES INC\"]}],\n",
       "                        {\"autosize\": false, \"height\": 1700, \"template\": {\"data\": {\"bar\": [{\"error_x\": {\"color\": \"#2a3f5f\"}, \"error_y\": {\"color\": \"#2a3f5f\"}, \"marker\": {\"line\": {\"color\": \"#E5ECF6\", \"width\": 0.5}}, \"type\": \"bar\"}], \"barpolar\": [{\"marker\": {\"line\": {\"color\": \"#E5ECF6\", \"width\": 0.5}}, \"type\": \"barpolar\"}], \"carpet\": [{\"aaxis\": {\"endlinecolor\": \"#2a3f5f\", \"gridcolor\": \"white\", \"linecolor\": \"white\", \"minorgridcolor\": \"white\", \"startlinecolor\": \"#2a3f5f\"}, \"baxis\": {\"endlinecolor\": \"#2a3f5f\", \"gridcolor\": \"white\", \"linecolor\": \"white\", \"minorgridcolor\": \"white\", \"startlinecolor\": \"#2a3f5f\"}, \"type\": \"carpet\"}], \"choropleth\": [{\"colorbar\": {\"outlinewidth\": 0, \"ticks\": \"\"}, \"type\": \"choropleth\"}], \"contour\": [{\"colorbar\": {\"outlinewidth\": 0, \"ticks\": \"\"}, \"colorscale\": [[0.0, \"#0d0887\"], [0.1111111111111111, \"#46039f\"], [0.2222222222222222, \"#7201a8\"], [0.3333333333333333, \"#9c179e\"], [0.4444444444444444, \"#bd3786\"], [0.5555555555555556, \"#d8576b\"], [0.6666666666666666, \"#ed7953\"], [0.7777777777777778, \"#fb9f3a\"], [0.8888888888888888, \"#fdca26\"], [1.0, \"#f0f921\"]], \"type\": \"contour\"}], \"contourcarpet\": [{\"colorbar\": {\"outlinewidth\": 0, \"ticks\": \"\"}, \"type\": \"contourcarpet\"}], \"heatmap\": [{\"colorbar\": {\"outlinewidth\": 0, \"ticks\": \"\"}, \"colorscale\": [[0.0, \"#0d0887\"], [0.1111111111111111, \"#46039f\"], [0.2222222222222222, \"#7201a8\"], [0.3333333333333333, \"#9c179e\"], [0.4444444444444444, \"#bd3786\"], [0.5555555555555556, \"#d8576b\"], [0.6666666666666666, \"#ed7953\"], [0.7777777777777778, \"#fb9f3a\"], [0.8888888888888888, \"#fdca26\"], [1.0, \"#f0f921\"]], \"type\": \"heatmap\"}], \"heatmapgl\": [{\"colorbar\": {\"outlinewidth\": 0, \"ticks\": \"\"}, \"colorscale\": [[0.0, \"#0d0887\"], [0.1111111111111111, \"#46039f\"], [0.2222222222222222, \"#7201a8\"], [0.3333333333333333, \"#9c179e\"], [0.4444444444444444, \"#bd3786\"], [0.5555555555555556, \"#d8576b\"], [0.6666666666666666, \"#ed7953\"], [0.7777777777777778, \"#fb9f3a\"], [0.8888888888888888, \"#fdca26\"], [1.0, \"#f0f921\"]], \"type\": \"heatmapgl\"}], \"histogram\": [{\"marker\": {\"colorbar\": {\"outlinewidth\": 0, \"ticks\": \"\"}}, \"type\": \"histogram\"}], \"histogram2d\": [{\"colorbar\": {\"outlinewidth\": 0, \"ticks\": \"\"}, \"colorscale\": [[0.0, \"#0d0887\"], [0.1111111111111111, \"#46039f\"], [0.2222222222222222, \"#7201a8\"], [0.3333333333333333, \"#9c179e\"], [0.4444444444444444, \"#bd3786\"], [0.5555555555555556, \"#d8576b\"], [0.6666666666666666, \"#ed7953\"], [0.7777777777777778, \"#fb9f3a\"], [0.8888888888888888, \"#fdca26\"], [1.0, \"#f0f921\"]], \"type\": \"histogram2d\"}], \"histogram2dcontour\": [{\"colorbar\": {\"outlinewidth\": 0, \"ticks\": \"\"}, \"colorscale\": [[0.0, \"#0d0887\"], [0.1111111111111111, \"#46039f\"], [0.2222222222222222, \"#7201a8\"], [0.3333333333333333, \"#9c179e\"], [0.4444444444444444, \"#bd3786\"], [0.5555555555555556, \"#d8576b\"], [0.6666666666666666, \"#ed7953\"], [0.7777777777777778, \"#fb9f3a\"], [0.8888888888888888, \"#fdca26\"], [1.0, \"#f0f921\"]], \"type\": \"histogram2dcontour\"}], \"mesh3d\": [{\"colorbar\": {\"outlinewidth\": 0, \"ticks\": \"\"}, \"type\": \"mesh3d\"}], \"parcoords\": [{\"line\": {\"colorbar\": {\"outlinewidth\": 0, \"ticks\": \"\"}}, \"type\": \"parcoords\"}], \"pie\": [{\"automargin\": true, \"type\": \"pie\"}], \"scatter\": [{\"marker\": {\"colorbar\": {\"outlinewidth\": 0, \"ticks\": \"\"}}, \"type\": \"scatter\"}], \"scatter3d\": [{\"line\": {\"colorbar\": {\"outlinewidth\": 0, \"ticks\": \"\"}}, \"marker\": {\"colorbar\": {\"outlinewidth\": 0, \"ticks\": \"\"}}, \"type\": \"scatter3d\"}], \"scattercarpet\": [{\"marker\": {\"colorbar\": {\"outlinewidth\": 0, \"ticks\": \"\"}}, \"type\": \"scattercarpet\"}], \"scattergeo\": [{\"marker\": {\"colorbar\": {\"outlinewidth\": 0, \"ticks\": \"\"}}, \"type\": \"scattergeo\"}], \"scattergl\": [{\"marker\": {\"colorbar\": {\"outlinewidth\": 0, \"ticks\": \"\"}}, \"type\": \"scattergl\"}], \"scattermapbox\": [{\"marker\": {\"colorbar\": {\"outlinewidth\": 0, \"ticks\": \"\"}}, \"type\": \"scattermapbox\"}], \"scatterpolar\": [{\"marker\": {\"colorbar\": {\"outlinewidth\": 0, \"ticks\": \"\"}}, \"type\": \"scatterpolar\"}], \"scatterpolargl\": [{\"marker\": {\"colorbar\": {\"outlinewidth\": 0, \"ticks\": \"\"}}, \"type\": \"scatterpolargl\"}], \"scatterternary\": [{\"marker\": {\"colorbar\": {\"outlinewidth\": 0, \"ticks\": \"\"}}, \"type\": \"scatterternary\"}], \"surface\": [{\"colorbar\": {\"outlinewidth\": 0, \"ticks\": \"\"}, \"colorscale\": [[0.0, \"#0d0887\"], [0.1111111111111111, \"#46039f\"], [0.2222222222222222, \"#7201a8\"], [0.3333333333333333, \"#9c179e\"], [0.4444444444444444, \"#bd3786\"], [0.5555555555555556, \"#d8576b\"], [0.6666666666666666, \"#ed7953\"], [0.7777777777777778, \"#fb9f3a\"], [0.8888888888888888, \"#fdca26\"], [1.0, \"#f0f921\"]], \"type\": \"surface\"}], \"table\": [{\"cells\": {\"fill\": {\"color\": \"#EBF0F8\"}, \"line\": {\"color\": \"white\"}}, \"header\": {\"fill\": {\"color\": \"#C8D4E3\"}, \"line\": {\"color\": \"white\"}}, \"type\": \"table\"}]}, \"layout\": {\"annotationdefaults\": {\"arrowcolor\": \"#2a3f5f\", \"arrowhead\": 0, \"arrowwidth\": 1}, \"coloraxis\": {\"colorbar\": {\"outlinewidth\": 0, \"ticks\": \"\"}}, \"colorscale\": {\"diverging\": [[0, \"#8e0152\"], [0.1, \"#c51b7d\"], [0.2, \"#de77ae\"], [0.3, \"#f1b6da\"], [0.4, \"#fde0ef\"], [0.5, \"#f7f7f7\"], [0.6, \"#e6f5d0\"], [0.7, \"#b8e186\"], [0.8, \"#7fbc41\"], [0.9, \"#4d9221\"], [1, \"#276419\"]], \"sequential\": [[0.0, \"#0d0887\"], [0.1111111111111111, \"#46039f\"], [0.2222222222222222, \"#7201a8\"], [0.3333333333333333, \"#9c179e\"], [0.4444444444444444, \"#bd3786\"], [0.5555555555555556, \"#d8576b\"], [0.6666666666666666, \"#ed7953\"], [0.7777777777777778, \"#fb9f3a\"], [0.8888888888888888, \"#fdca26\"], [1.0, \"#f0f921\"]], \"sequentialminus\": [[0.0, \"#0d0887\"], [0.1111111111111111, \"#46039f\"], [0.2222222222222222, \"#7201a8\"], [0.3333333333333333, \"#9c179e\"], [0.4444444444444444, \"#bd3786\"], [0.5555555555555556, \"#d8576b\"], [0.6666666666666666, \"#ed7953\"], [0.7777777777777778, \"#fb9f3a\"], [0.8888888888888888, \"#fdca26\"], [1.0, \"#f0f921\"]]}, \"colorway\": [\"#636efa\", \"#EF553B\", \"#00cc96\", \"#ab63fa\", \"#FFA15A\", \"#19d3f3\", \"#FF6692\", \"#B6E880\", \"#FF97FF\", \"#FECB52\"], \"font\": {\"color\": \"#2a3f5f\"}, \"geo\": {\"bgcolor\": \"white\", \"lakecolor\": \"white\", \"landcolor\": \"#E5ECF6\", \"showlakes\": true, \"showland\": true, \"subunitcolor\": \"white\"}, \"hoverlabel\": {\"align\": \"left\"}, \"hovermode\": \"closest\", \"mapbox\": {\"style\": \"light\"}, \"paper_bgcolor\": \"white\", \"plot_bgcolor\": \"#E5ECF6\", \"polar\": {\"angularaxis\": {\"gridcolor\": \"white\", \"linecolor\": \"white\", \"ticks\": \"\"}, \"bgcolor\": \"#E5ECF6\", \"radialaxis\": {\"gridcolor\": \"white\", \"linecolor\": \"white\", \"ticks\": \"\"}}, \"scene\": {\"xaxis\": {\"backgroundcolor\": \"#E5ECF6\", \"gridcolor\": \"white\", \"gridwidth\": 2, \"linecolor\": \"white\", \"showbackground\": true, \"ticks\": \"\", \"zerolinecolor\": \"white\"}, \"yaxis\": {\"backgroundcolor\": \"#E5ECF6\", \"gridcolor\": \"white\", \"gridwidth\": 2, \"linecolor\": \"white\", \"showbackground\": true, \"ticks\": \"\", \"zerolinecolor\": \"white\"}, \"zaxis\": {\"backgroundcolor\": \"#E5ECF6\", \"gridcolor\": \"white\", \"gridwidth\": 2, \"linecolor\": \"white\", \"showbackground\": true, \"ticks\": \"\", \"zerolinecolor\": \"white\"}}, \"shapedefaults\": {\"line\": {\"color\": \"#2a3f5f\"}}, \"ternary\": {\"aaxis\": {\"gridcolor\": \"white\", \"linecolor\": \"white\", \"ticks\": \"\"}, \"baxis\": {\"gridcolor\": \"white\", \"linecolor\": \"white\", \"ticks\": \"\"}, \"bgcolor\": \"#E5ECF6\", \"caxis\": {\"gridcolor\": \"white\", \"linecolor\": \"white\", \"ticks\": \"\"}}, \"title\": {\"x\": 0.05}, \"xaxis\": {\"automargin\": true, \"gridcolor\": \"white\", \"linecolor\": \"white\", \"ticks\": \"\", \"title\": {\"standoff\": 15}, \"zerolinecolor\": \"white\", \"zerolinewidth\": 2}, \"yaxis\": {\"automargin\": true, \"gridcolor\": \"white\", \"linecolor\": \"white\", \"ticks\": \"\", \"title\": {\"standoff\": 15}, \"zerolinecolor\": \"white\", \"zerolinewidth\": 2}}}, \"title\": {\"text\": \"Median Salary by Company\"}, \"width\": 1000, \"xaxis\": {\"title\": {\"text\": \"Salary in USD\"}}, \"yaxis\": {\"dtick\": 1}},\n",
       "                        {\"responsive\": true}\n",
       "                    ).then(function(){\n",
       "                            \n",
       "var gd = document.getElementById('56c40afc-8ff7-48bb-9725-abf545b86991');\n",
       "var x = new MutationObserver(function (mutations, observer) {{\n",
       "        var display = window.getComputedStyle(gd).display;\n",
       "        if (!display || display === 'none') {{\n",
       "            console.log([gd, 'removed!']);\n",
       "            Plotly.purge(gd);\n",
       "            observer.disconnect();\n",
       "        }}\n",
       "}});\n",
       "\n",
       "// Listen for the removal of the full notebook cells\n",
       "var notebookContainer = gd.closest('#notebook-container');\n",
       "if (notebookContainer) {{\n",
       "    x.observe(notebookContainer, {childList: true});\n",
       "}}\n",
       "\n",
       "// Listen for the clearing of the current output cell\n",
       "var outputEl = gd.closest('.output');\n",
       "if (outputEl) {{\n",
       "    x.observe(outputEl, {childList: true});\n",
       "}}\n",
       "\n",
       "                        })\n",
       "                };\n",
       "                });\n",
       "            </script>\n",
       "        </div>"
      ]
     },
     "metadata": {},
     "output_type": "display_data"
    }
   ],
   "source": [
    "companies = companies.sort_values(by='salary_median', ascending=False)\n",
    "\n",
    "data = [go.Bar(\n",
    "    y=companies.index, \n",
    "    x=companies.salary_median, \n",
    "    text=companies.salary_median, \n",
    "    textposition='inside',\n",
    "        textfont=dict(\n",
    "        family=\"sans serif\",\n",
    "        size=100    ),\n",
    "    orientation='h')]\n",
    "\n",
    "layout = go.Layout(\n",
    "    autosize=False,\n",
    "    width=1000,\n",
    "    height=1700\n",
    ")\n",
    "\n",
    "fig = go.Figure(data=data, layout=layout)\n",
    "fig.update_layout(\n",
    "    title = 'Median Salary by Company', \n",
    "    xaxis_title = 'Salary in USD',\n",
    "    yaxis_dtick = 1\n",
    ")\n",
    "fig.show()"
   ]
  },
  {
   "cell_type": "code",
   "execution_count": 457,
   "metadata": {},
   "outputs": [],
   "source": []
  },
  {
   "cell_type": "code",
   "execution_count": 722,
   "metadata": {},
   "outputs": [
    {
     "data": {
      "application/vnd.plotly.v1+json": {
       "config": {
        "plotlyServerURL": "https://plot.ly"
       },
       "data": [
        {
         "orientation": "h",
         "text": [
          164687,
          163653,
          154933,
          151618,
          146497,
          143432,
          140490,
          135490,
          133247,
          132255,
          130187,
          128750,
          127970,
          127733,
          126454,
          126353,
          126127,
          125682,
          123561,
          123163,
          120171,
          119500,
          118056,
          117412,
          116131,
          115171,
          114608,
          113988,
          112324,
          112105,
          109117,
          108969,
          107883,
          107053,
          106584,
          105591,
          104730,
          104229,
          103660,
          102612,
          102304,
          101874,
          100940,
          100740,
          100723,
          100633,
          100182,
          99048,
          98810,
          98395,
          97657,
          96846,
          96595,
          96067,
          95667,
          94378,
          92824,
          90994,
          89126,
          86645,
          85900,
          85898,
          83989,
          82220,
          80830,
          78846,
          77846,
          76233,
          74850,
          66280
         ],
         "textfont": {
          "family": "sans serif",
          "size": 100
         },
         "textposition": "inside",
         "type": "bar",
         "x": [
          164687,
          163653,
          154933,
          151618,
          146497,
          143432,
          140490,
          135490,
          133247,
          132255,
          130187,
          128750,
          127970,
          127733,
          126454,
          126353,
          126127,
          125682,
          123561,
          123163,
          120171,
          119500,
          118056,
          117412,
          116131,
          115171,
          114608,
          113988,
          112324,
          112105,
          109117,
          108969,
          107883,
          107053,
          106584,
          105591,
          104730,
          104229,
          103660,
          102612,
          102304,
          101874,
          100940,
          100740,
          100723,
          100633,
          100182,
          99048,
          98810,
          98395,
          97657,
          96846,
          96595,
          96067,
          95667,
          94378,
          92824,
          90994,
          89126,
          86645,
          85900,
          85898,
          83989,
          82220,
          80830,
          78846,
          77846,
          76233,
          74850,
          66280
         ],
         "y": [
          "STITCH FIX INC",
          "AIRBNB INC",
          "AMAZON WEB SERVICES INC",
          "LYFT INC",
          "FACEBOOK INC",
          "GOOGLE LLC",
          "APPLE INC",
          "PAYPAL INC",
          "CONTEXTLOGIC INC",
          "SPOTIFY USA INC",
          "ADOBE INC",
          "SIMPLEBET INC",
          "EBAY INC",
          "CHEGG INC",
          "ADOBE SYSTEMS INCORPORATED",
          "WAL-MART ASSOCIATES INC",
          "ELECTRONIC ARTS INC",
          "GODADDYCOM LLC",
          "MICROSOFT CORPORATION",
          "ANCESTRYCOM OPERATIONS INC",
          "PINTEREST INC",
          "C3 IOT INC",
          "INTUIT INC",
          "JPMORGAN CHASE & CO",
          "INDEED INC",
          "LINKEDIN CORPORATION",
          "SALESFORCECOM INC",
          "GROUPON INC",
          "ZESTFINANCE INC",
          "SQUARE INC",
          "AMERICAN EXPRESS COMPANY",
          "MCKINSEY & COMPANY INC UNITED STATES",
          "MONSANTO COMPANY",
          "SAP LABS LLC",
          "ORACLE AMERICA INC",
          "UBER TECHNOLOGIES INC",
          "ZILLOW INC",
          "OATH HOLDINGS INC",
          "HOMEAWAYCOM INC",
          "AETNA RESOURCES LLC",
          "ERICSSON INC",
          "AKAMAI TECHNOLOGIES INC",
          "SCHLUMBERGER TECHNOLOGY CORPORATION",
          "QUORA INC",
          "THE BOSTON CONSULTING GROUP INC",
          "IBM CORPORATION",
          "TRIPADVISOR LLC",
          "SUPSTAT INC",
          "UPTAKE TECHNOLOGIES INC",
          "SCRY ANALYTICS INC",
          "HONEYWELL INTERNATIONAL INC",
          "OPEX ANALYTICS LLC",
          "AGILONE INC",
          "ADS ALLIANCE DATA SYSTEMS INC",
          "EXPEDIA INC",
          "VISA USA INC",
          "COX AUTOMOTIVE CORPORATE SERVICES LLC",
          "INTEL CORPORATION",
          "FEEDZAI INC",
          "MOUNTAIN IT SOLUTIONS LLC",
          "CYBER INFOTECH LLC",
          "THE NIELSEN COMPANY (US) LLC",
          "RANG TECHNOLOGIES INC",
          "WAYFAIR LLC",
          "SPARKCOGNITION INC",
          "KAIZEN ANALYTIX LLC",
          "MAXIMA CONSULTING INC",
          "FORD MOTOR COMPANY",
          "FUZZY LOGIX INC",
          "CCC INFORMATION SERVICES INC"
         ]
        }
       ],
       "layout": {
        "autosize": false,
        "height": 1700,
        "template": {
         "data": {
          "bar": [
           {
            "error_x": {
             "color": "#2a3f5f"
            },
            "error_y": {
             "color": "#2a3f5f"
            },
            "marker": {
             "line": {
              "color": "#E5ECF6",
              "width": 0.5
             }
            },
            "type": "bar"
           }
          ],
          "barpolar": [
           {
            "marker": {
             "line": {
              "color": "#E5ECF6",
              "width": 0.5
             }
            },
            "type": "barpolar"
           }
          ],
          "carpet": [
           {
            "aaxis": {
             "endlinecolor": "#2a3f5f",
             "gridcolor": "white",
             "linecolor": "white",
             "minorgridcolor": "white",
             "startlinecolor": "#2a3f5f"
            },
            "baxis": {
             "endlinecolor": "#2a3f5f",
             "gridcolor": "white",
             "linecolor": "white",
             "minorgridcolor": "white",
             "startlinecolor": "#2a3f5f"
            },
            "type": "carpet"
           }
          ],
          "choropleth": [
           {
            "colorbar": {
             "outlinewidth": 0,
             "ticks": ""
            },
            "type": "choropleth"
           }
          ],
          "contour": [
           {
            "colorbar": {
             "outlinewidth": 0,
             "ticks": ""
            },
            "colorscale": [
             [
              0,
              "#0d0887"
             ],
             [
              0.1111111111111111,
              "#46039f"
             ],
             [
              0.2222222222222222,
              "#7201a8"
             ],
             [
              0.3333333333333333,
              "#9c179e"
             ],
             [
              0.4444444444444444,
              "#bd3786"
             ],
             [
              0.5555555555555556,
              "#d8576b"
             ],
             [
              0.6666666666666666,
              "#ed7953"
             ],
             [
              0.7777777777777778,
              "#fb9f3a"
             ],
             [
              0.8888888888888888,
              "#fdca26"
             ],
             [
              1,
              "#f0f921"
             ]
            ],
            "type": "contour"
           }
          ],
          "contourcarpet": [
           {
            "colorbar": {
             "outlinewidth": 0,
             "ticks": ""
            },
            "type": "contourcarpet"
           }
          ],
          "heatmap": [
           {
            "colorbar": {
             "outlinewidth": 0,
             "ticks": ""
            },
            "colorscale": [
             [
              0,
              "#0d0887"
             ],
             [
              0.1111111111111111,
              "#46039f"
             ],
             [
              0.2222222222222222,
              "#7201a8"
             ],
             [
              0.3333333333333333,
              "#9c179e"
             ],
             [
              0.4444444444444444,
              "#bd3786"
             ],
             [
              0.5555555555555556,
              "#d8576b"
             ],
             [
              0.6666666666666666,
              "#ed7953"
             ],
             [
              0.7777777777777778,
              "#fb9f3a"
             ],
             [
              0.8888888888888888,
              "#fdca26"
             ],
             [
              1,
              "#f0f921"
             ]
            ],
            "type": "heatmap"
           }
          ],
          "heatmapgl": [
           {
            "colorbar": {
             "outlinewidth": 0,
             "ticks": ""
            },
            "colorscale": [
             [
              0,
              "#0d0887"
             ],
             [
              0.1111111111111111,
              "#46039f"
             ],
             [
              0.2222222222222222,
              "#7201a8"
             ],
             [
              0.3333333333333333,
              "#9c179e"
             ],
             [
              0.4444444444444444,
              "#bd3786"
             ],
             [
              0.5555555555555556,
              "#d8576b"
             ],
             [
              0.6666666666666666,
              "#ed7953"
             ],
             [
              0.7777777777777778,
              "#fb9f3a"
             ],
             [
              0.8888888888888888,
              "#fdca26"
             ],
             [
              1,
              "#f0f921"
             ]
            ],
            "type": "heatmapgl"
           }
          ],
          "histogram": [
           {
            "marker": {
             "colorbar": {
              "outlinewidth": 0,
              "ticks": ""
             }
            },
            "type": "histogram"
           }
          ],
          "histogram2d": [
           {
            "colorbar": {
             "outlinewidth": 0,
             "ticks": ""
            },
            "colorscale": [
             [
              0,
              "#0d0887"
             ],
             [
              0.1111111111111111,
              "#46039f"
             ],
             [
              0.2222222222222222,
              "#7201a8"
             ],
             [
              0.3333333333333333,
              "#9c179e"
             ],
             [
              0.4444444444444444,
              "#bd3786"
             ],
             [
              0.5555555555555556,
              "#d8576b"
             ],
             [
              0.6666666666666666,
              "#ed7953"
             ],
             [
              0.7777777777777778,
              "#fb9f3a"
             ],
             [
              0.8888888888888888,
              "#fdca26"
             ],
             [
              1,
              "#f0f921"
             ]
            ],
            "type": "histogram2d"
           }
          ],
          "histogram2dcontour": [
           {
            "colorbar": {
             "outlinewidth": 0,
             "ticks": ""
            },
            "colorscale": [
             [
              0,
              "#0d0887"
             ],
             [
              0.1111111111111111,
              "#46039f"
             ],
             [
              0.2222222222222222,
              "#7201a8"
             ],
             [
              0.3333333333333333,
              "#9c179e"
             ],
             [
              0.4444444444444444,
              "#bd3786"
             ],
             [
              0.5555555555555556,
              "#d8576b"
             ],
             [
              0.6666666666666666,
              "#ed7953"
             ],
             [
              0.7777777777777778,
              "#fb9f3a"
             ],
             [
              0.8888888888888888,
              "#fdca26"
             ],
             [
              1,
              "#f0f921"
             ]
            ],
            "type": "histogram2dcontour"
           }
          ],
          "mesh3d": [
           {
            "colorbar": {
             "outlinewidth": 0,
             "ticks": ""
            },
            "type": "mesh3d"
           }
          ],
          "parcoords": [
           {
            "line": {
             "colorbar": {
              "outlinewidth": 0,
              "ticks": ""
             }
            },
            "type": "parcoords"
           }
          ],
          "pie": [
           {
            "automargin": true,
            "type": "pie"
           }
          ],
          "scatter": [
           {
            "marker": {
             "colorbar": {
              "outlinewidth": 0,
              "ticks": ""
             }
            },
            "type": "scatter"
           }
          ],
          "scatter3d": [
           {
            "line": {
             "colorbar": {
              "outlinewidth": 0,
              "ticks": ""
             }
            },
            "marker": {
             "colorbar": {
              "outlinewidth": 0,
              "ticks": ""
             }
            },
            "type": "scatter3d"
           }
          ],
          "scattercarpet": [
           {
            "marker": {
             "colorbar": {
              "outlinewidth": 0,
              "ticks": ""
             }
            },
            "type": "scattercarpet"
           }
          ],
          "scattergeo": [
           {
            "marker": {
             "colorbar": {
              "outlinewidth": 0,
              "ticks": ""
             }
            },
            "type": "scattergeo"
           }
          ],
          "scattergl": [
           {
            "marker": {
             "colorbar": {
              "outlinewidth": 0,
              "ticks": ""
             }
            },
            "type": "scattergl"
           }
          ],
          "scattermapbox": [
           {
            "marker": {
             "colorbar": {
              "outlinewidth": 0,
              "ticks": ""
             }
            },
            "type": "scattermapbox"
           }
          ],
          "scatterpolar": [
           {
            "marker": {
             "colorbar": {
              "outlinewidth": 0,
              "ticks": ""
             }
            },
            "type": "scatterpolar"
           }
          ],
          "scatterpolargl": [
           {
            "marker": {
             "colorbar": {
              "outlinewidth": 0,
              "ticks": ""
             }
            },
            "type": "scatterpolargl"
           }
          ],
          "scatterternary": [
           {
            "marker": {
             "colorbar": {
              "outlinewidth": 0,
              "ticks": ""
             }
            },
            "type": "scatterternary"
           }
          ],
          "surface": [
           {
            "colorbar": {
             "outlinewidth": 0,
             "ticks": ""
            },
            "colorscale": [
             [
              0,
              "#0d0887"
             ],
             [
              0.1111111111111111,
              "#46039f"
             ],
             [
              0.2222222222222222,
              "#7201a8"
             ],
             [
              0.3333333333333333,
              "#9c179e"
             ],
             [
              0.4444444444444444,
              "#bd3786"
             ],
             [
              0.5555555555555556,
              "#d8576b"
             ],
             [
              0.6666666666666666,
              "#ed7953"
             ],
             [
              0.7777777777777778,
              "#fb9f3a"
             ],
             [
              0.8888888888888888,
              "#fdca26"
             ],
             [
              1,
              "#f0f921"
             ]
            ],
            "type": "surface"
           }
          ],
          "table": [
           {
            "cells": {
             "fill": {
              "color": "#EBF0F8"
             },
             "line": {
              "color": "white"
             }
            },
            "header": {
             "fill": {
              "color": "#C8D4E3"
             },
             "line": {
              "color": "white"
             }
            },
            "type": "table"
           }
          ]
         },
         "layout": {
          "annotationdefaults": {
           "arrowcolor": "#2a3f5f",
           "arrowhead": 0,
           "arrowwidth": 1
          },
          "coloraxis": {
           "colorbar": {
            "outlinewidth": 0,
            "ticks": ""
           }
          },
          "colorscale": {
           "diverging": [
            [
             0,
             "#8e0152"
            ],
            [
             0.1,
             "#c51b7d"
            ],
            [
             0.2,
             "#de77ae"
            ],
            [
             0.3,
             "#f1b6da"
            ],
            [
             0.4,
             "#fde0ef"
            ],
            [
             0.5,
             "#f7f7f7"
            ],
            [
             0.6,
             "#e6f5d0"
            ],
            [
             0.7,
             "#b8e186"
            ],
            [
             0.8,
             "#7fbc41"
            ],
            [
             0.9,
             "#4d9221"
            ],
            [
             1,
             "#276419"
            ]
           ],
           "sequential": [
            [
             0,
             "#0d0887"
            ],
            [
             0.1111111111111111,
             "#46039f"
            ],
            [
             0.2222222222222222,
             "#7201a8"
            ],
            [
             0.3333333333333333,
             "#9c179e"
            ],
            [
             0.4444444444444444,
             "#bd3786"
            ],
            [
             0.5555555555555556,
             "#d8576b"
            ],
            [
             0.6666666666666666,
             "#ed7953"
            ],
            [
             0.7777777777777778,
             "#fb9f3a"
            ],
            [
             0.8888888888888888,
             "#fdca26"
            ],
            [
             1,
             "#f0f921"
            ]
           ],
           "sequentialminus": [
            [
             0,
             "#0d0887"
            ],
            [
             0.1111111111111111,
             "#46039f"
            ],
            [
             0.2222222222222222,
             "#7201a8"
            ],
            [
             0.3333333333333333,
             "#9c179e"
            ],
            [
             0.4444444444444444,
             "#bd3786"
            ],
            [
             0.5555555555555556,
             "#d8576b"
            ],
            [
             0.6666666666666666,
             "#ed7953"
            ],
            [
             0.7777777777777778,
             "#fb9f3a"
            ],
            [
             0.8888888888888888,
             "#fdca26"
            ],
            [
             1,
             "#f0f921"
            ]
           ]
          },
          "colorway": [
           "#636efa",
           "#EF553B",
           "#00cc96",
           "#ab63fa",
           "#FFA15A",
           "#19d3f3",
           "#FF6692",
           "#B6E880",
           "#FF97FF",
           "#FECB52"
          ],
          "font": {
           "color": "#2a3f5f"
          },
          "geo": {
           "bgcolor": "white",
           "lakecolor": "white",
           "landcolor": "#E5ECF6",
           "showlakes": true,
           "showland": true,
           "subunitcolor": "white"
          },
          "hoverlabel": {
           "align": "left"
          },
          "hovermode": "closest",
          "mapbox": {
           "style": "light"
          },
          "paper_bgcolor": "white",
          "plot_bgcolor": "#E5ECF6",
          "polar": {
           "angularaxis": {
            "gridcolor": "white",
            "linecolor": "white",
            "ticks": ""
           },
           "bgcolor": "#E5ECF6",
           "radialaxis": {
            "gridcolor": "white",
            "linecolor": "white",
            "ticks": ""
           }
          },
          "scene": {
           "xaxis": {
            "backgroundcolor": "#E5ECF6",
            "gridcolor": "white",
            "gridwidth": 2,
            "linecolor": "white",
            "showbackground": true,
            "ticks": "",
            "zerolinecolor": "white"
           },
           "yaxis": {
            "backgroundcolor": "#E5ECF6",
            "gridcolor": "white",
            "gridwidth": 2,
            "linecolor": "white",
            "showbackground": true,
            "ticks": "",
            "zerolinecolor": "white"
           },
           "zaxis": {
            "backgroundcolor": "#E5ECF6",
            "gridcolor": "white",
            "gridwidth": 2,
            "linecolor": "white",
            "showbackground": true,
            "ticks": "",
            "zerolinecolor": "white"
           }
          },
          "shapedefaults": {
           "line": {
            "color": "#2a3f5f"
           }
          },
          "ternary": {
           "aaxis": {
            "gridcolor": "white",
            "linecolor": "white",
            "ticks": ""
           },
           "baxis": {
            "gridcolor": "white",
            "linecolor": "white",
            "ticks": ""
           },
           "bgcolor": "#E5ECF6",
           "caxis": {
            "gridcolor": "white",
            "linecolor": "white",
            "ticks": ""
           }
          },
          "title": {
           "x": 0.05
          },
          "xaxis": {
           "automargin": true,
           "gridcolor": "white",
           "linecolor": "white",
           "ticks": "",
           "title": {
            "standoff": 15
           },
           "zerolinecolor": "white",
           "zerolinewidth": 2
          },
          "yaxis": {
           "automargin": true,
           "gridcolor": "white",
           "linecolor": "white",
           "ticks": "",
           "title": {
            "standoff": 15
           },
           "zerolinecolor": "white",
           "zerolinewidth": 2
          }
         }
        },
        "title": {
         "text": "Mean Salary by Company"
        },
        "width": 1000,
        "xaxis": {
         "title": {
          "text": "Salary in USD"
         }
        },
        "yaxis": {
         "dtick": 1
        }
       }
      },
      "text/html": [
       "<div>\n",
       "        \n",
       "        \n",
       "            <div id=\"18374eb7-5cbd-4bb8-acb1-e215d318aed6\" class=\"plotly-graph-div\" style=\"height:1700px; width:1000px;\"></div>\n",
       "            <script type=\"text/javascript\">\n",
       "                require([\"plotly\"], function(Plotly) {\n",
       "                    window.PLOTLYENV=window.PLOTLYENV || {};\n",
       "                    \n",
       "                if (document.getElementById(\"18374eb7-5cbd-4bb8-acb1-e215d318aed6\")) {\n",
       "                    Plotly.newPlot(\n",
       "                        '18374eb7-5cbd-4bb8-acb1-e215d318aed6',\n",
       "                        [{\"orientation\": \"h\", \"text\": [164687.0, 163653.0, 154933.0, 151618.0, 146497.0, 143432.0, 140490.0, 135490.0, 133247.0, 132255.0, 130187.0, 128750.0, 127970.0, 127733.0, 126454.0, 126353.0, 126127.0, 125682.0, 123561.0, 123163.0, 120171.0, 119500.0, 118056.0, 117412.0, 116131.0, 115171.0, 114608.0, 113988.0, 112324.0, 112105.0, 109117.0, 108969.0, 107883.0, 107053.0, 106584.0, 105591.0, 104730.0, 104229.0, 103660.0, 102612.0, 102304.0, 101874.0, 100940.0, 100740.0, 100723.0, 100633.0, 100182.0, 99048.0, 98810.0, 98395.0, 97657.0, 96846.0, 96595.0, 96067.0, 95667.0, 94378.0, 92824.0, 90994.0, 89126.0, 86645.0, 85900.0, 85898.0, 83989.0, 82220.0, 80830.0, 78846.0, 77846.0, 76233.0, 74850.0, 66280.0], \"textfont\": {\"family\": \"sans serif\", \"size\": 100}, \"textposition\": \"inside\", \"type\": \"bar\", \"x\": [164687.0, 163653.0, 154933.0, 151618.0, 146497.0, 143432.0, 140490.0, 135490.0, 133247.0, 132255.0, 130187.0, 128750.0, 127970.0, 127733.0, 126454.0, 126353.0, 126127.0, 125682.0, 123561.0, 123163.0, 120171.0, 119500.0, 118056.0, 117412.0, 116131.0, 115171.0, 114608.0, 113988.0, 112324.0, 112105.0, 109117.0, 108969.0, 107883.0, 107053.0, 106584.0, 105591.0, 104730.0, 104229.0, 103660.0, 102612.0, 102304.0, 101874.0, 100940.0, 100740.0, 100723.0, 100633.0, 100182.0, 99048.0, 98810.0, 98395.0, 97657.0, 96846.0, 96595.0, 96067.0, 95667.0, 94378.0, 92824.0, 90994.0, 89126.0, 86645.0, 85900.0, 85898.0, 83989.0, 82220.0, 80830.0, 78846.0, 77846.0, 76233.0, 74850.0, 66280.0], \"y\": [\"STITCH FIX INC\", \"AIRBNB INC\", \"AMAZON WEB SERVICES INC\", \"LYFT INC\", \"FACEBOOK INC\", \"GOOGLE LLC\", \"APPLE INC\", \"PAYPAL INC\", \"CONTEXTLOGIC INC\", \"SPOTIFY USA INC\", \"ADOBE INC\", \"SIMPLEBET INC\", \"EBAY INC\", \"CHEGG INC\", \"ADOBE SYSTEMS INCORPORATED\", \"WAL-MART ASSOCIATES INC\", \"ELECTRONIC ARTS INC\", \"GODADDYCOM LLC\", \"MICROSOFT CORPORATION\", \"ANCESTRYCOM OPERATIONS INC\", \"PINTEREST INC\", \"C3 IOT INC\", \"INTUIT INC\", \"JPMORGAN CHASE & CO\", \"INDEED INC\", \"LINKEDIN CORPORATION\", \"SALESFORCECOM INC\", \"GROUPON INC\", \"ZESTFINANCE INC\", \"SQUARE INC\", \"AMERICAN EXPRESS COMPANY\", \"MCKINSEY & COMPANY INC UNITED STATES\", \"MONSANTO COMPANY\", \"SAP LABS LLC\", \"ORACLE AMERICA INC\", \"UBER TECHNOLOGIES INC\", \"ZILLOW INC\", \"OATH HOLDINGS INC\", \"HOMEAWAYCOM INC\", \"AETNA RESOURCES LLC\", \"ERICSSON INC\", \"AKAMAI TECHNOLOGIES INC\", \"SCHLUMBERGER TECHNOLOGY CORPORATION\", \"QUORA INC\", \"THE BOSTON CONSULTING GROUP INC\", \"IBM CORPORATION\", \"TRIPADVISOR LLC\", \"SUPSTAT INC\", \"UPTAKE TECHNOLOGIES INC\", \"SCRY ANALYTICS INC\", \"HONEYWELL INTERNATIONAL INC\", \"OPEX ANALYTICS LLC\", \"AGILONE INC\", \"ADS ALLIANCE DATA SYSTEMS INC\", \"EXPEDIA INC\", \"VISA USA INC\", \"COX AUTOMOTIVE CORPORATE SERVICES LLC\", \"INTEL CORPORATION\", \"FEEDZAI INC\", \"MOUNTAIN IT SOLUTIONS LLC\", \"CYBER INFOTECH LLC\", \"THE NIELSEN COMPANY (US) LLC\", \"RANG TECHNOLOGIES INC\", \"WAYFAIR LLC\", \"SPARKCOGNITION INC\", \"KAIZEN ANALYTIX LLC\", \"MAXIMA CONSULTING INC\", \"FORD MOTOR COMPANY\", \"FUZZY LOGIX INC\", \"CCC INFORMATION SERVICES INC\"]}],\n",
       "                        {\"autosize\": false, \"height\": 1700, \"template\": {\"data\": {\"bar\": [{\"error_x\": {\"color\": \"#2a3f5f\"}, \"error_y\": {\"color\": \"#2a3f5f\"}, \"marker\": {\"line\": {\"color\": \"#E5ECF6\", \"width\": 0.5}}, \"type\": \"bar\"}], \"barpolar\": [{\"marker\": {\"line\": {\"color\": \"#E5ECF6\", \"width\": 0.5}}, \"type\": \"barpolar\"}], \"carpet\": [{\"aaxis\": {\"endlinecolor\": \"#2a3f5f\", \"gridcolor\": \"white\", \"linecolor\": \"white\", \"minorgridcolor\": \"white\", \"startlinecolor\": \"#2a3f5f\"}, \"baxis\": {\"endlinecolor\": \"#2a3f5f\", \"gridcolor\": \"white\", \"linecolor\": \"white\", \"minorgridcolor\": \"white\", \"startlinecolor\": \"#2a3f5f\"}, \"type\": \"carpet\"}], \"choropleth\": [{\"colorbar\": {\"outlinewidth\": 0, \"ticks\": \"\"}, \"type\": \"choropleth\"}], \"contour\": [{\"colorbar\": {\"outlinewidth\": 0, \"ticks\": \"\"}, \"colorscale\": [[0.0, \"#0d0887\"], [0.1111111111111111, \"#46039f\"], [0.2222222222222222, \"#7201a8\"], [0.3333333333333333, \"#9c179e\"], [0.4444444444444444, \"#bd3786\"], [0.5555555555555556, \"#d8576b\"], [0.6666666666666666, \"#ed7953\"], [0.7777777777777778, \"#fb9f3a\"], [0.8888888888888888, \"#fdca26\"], [1.0, \"#f0f921\"]], \"type\": \"contour\"}], \"contourcarpet\": [{\"colorbar\": {\"outlinewidth\": 0, \"ticks\": \"\"}, \"type\": \"contourcarpet\"}], \"heatmap\": [{\"colorbar\": {\"outlinewidth\": 0, \"ticks\": \"\"}, \"colorscale\": [[0.0, \"#0d0887\"], [0.1111111111111111, \"#46039f\"], [0.2222222222222222, \"#7201a8\"], [0.3333333333333333, \"#9c179e\"], [0.4444444444444444, \"#bd3786\"], [0.5555555555555556, \"#d8576b\"], [0.6666666666666666, \"#ed7953\"], [0.7777777777777778, \"#fb9f3a\"], [0.8888888888888888, \"#fdca26\"], [1.0, \"#f0f921\"]], \"type\": \"heatmap\"}], \"heatmapgl\": [{\"colorbar\": {\"outlinewidth\": 0, \"ticks\": \"\"}, \"colorscale\": [[0.0, \"#0d0887\"], [0.1111111111111111, \"#46039f\"], [0.2222222222222222, \"#7201a8\"], [0.3333333333333333, \"#9c179e\"], [0.4444444444444444, \"#bd3786\"], [0.5555555555555556, \"#d8576b\"], [0.6666666666666666, \"#ed7953\"], [0.7777777777777778, \"#fb9f3a\"], [0.8888888888888888, \"#fdca26\"], [1.0, \"#f0f921\"]], \"type\": \"heatmapgl\"}], \"histogram\": [{\"marker\": {\"colorbar\": {\"outlinewidth\": 0, \"ticks\": \"\"}}, \"type\": \"histogram\"}], \"histogram2d\": [{\"colorbar\": {\"outlinewidth\": 0, \"ticks\": \"\"}, \"colorscale\": [[0.0, \"#0d0887\"], [0.1111111111111111, \"#46039f\"], [0.2222222222222222, \"#7201a8\"], [0.3333333333333333, \"#9c179e\"], [0.4444444444444444, \"#bd3786\"], [0.5555555555555556, \"#d8576b\"], [0.6666666666666666, \"#ed7953\"], [0.7777777777777778, \"#fb9f3a\"], [0.8888888888888888, \"#fdca26\"], [1.0, \"#f0f921\"]], \"type\": \"histogram2d\"}], \"histogram2dcontour\": [{\"colorbar\": {\"outlinewidth\": 0, \"ticks\": \"\"}, \"colorscale\": [[0.0, \"#0d0887\"], [0.1111111111111111, \"#46039f\"], [0.2222222222222222, \"#7201a8\"], [0.3333333333333333, \"#9c179e\"], [0.4444444444444444, \"#bd3786\"], [0.5555555555555556, \"#d8576b\"], [0.6666666666666666, \"#ed7953\"], [0.7777777777777778, \"#fb9f3a\"], [0.8888888888888888, \"#fdca26\"], [1.0, \"#f0f921\"]], \"type\": \"histogram2dcontour\"}], \"mesh3d\": [{\"colorbar\": {\"outlinewidth\": 0, \"ticks\": \"\"}, \"type\": \"mesh3d\"}], \"parcoords\": [{\"line\": {\"colorbar\": {\"outlinewidth\": 0, \"ticks\": \"\"}}, \"type\": \"parcoords\"}], \"pie\": [{\"automargin\": true, \"type\": \"pie\"}], \"scatter\": [{\"marker\": {\"colorbar\": {\"outlinewidth\": 0, \"ticks\": \"\"}}, \"type\": \"scatter\"}], \"scatter3d\": [{\"line\": {\"colorbar\": {\"outlinewidth\": 0, \"ticks\": \"\"}}, \"marker\": {\"colorbar\": {\"outlinewidth\": 0, \"ticks\": \"\"}}, \"type\": \"scatter3d\"}], \"scattercarpet\": [{\"marker\": {\"colorbar\": {\"outlinewidth\": 0, \"ticks\": \"\"}}, \"type\": \"scattercarpet\"}], \"scattergeo\": [{\"marker\": {\"colorbar\": {\"outlinewidth\": 0, \"ticks\": \"\"}}, \"type\": \"scattergeo\"}], \"scattergl\": [{\"marker\": {\"colorbar\": {\"outlinewidth\": 0, \"ticks\": \"\"}}, \"type\": \"scattergl\"}], \"scattermapbox\": [{\"marker\": {\"colorbar\": {\"outlinewidth\": 0, \"ticks\": \"\"}}, \"type\": \"scattermapbox\"}], \"scatterpolar\": [{\"marker\": {\"colorbar\": {\"outlinewidth\": 0, \"ticks\": \"\"}}, \"type\": \"scatterpolar\"}], \"scatterpolargl\": [{\"marker\": {\"colorbar\": {\"outlinewidth\": 0, \"ticks\": \"\"}}, \"type\": \"scatterpolargl\"}], \"scatterternary\": [{\"marker\": {\"colorbar\": {\"outlinewidth\": 0, \"ticks\": \"\"}}, \"type\": \"scatterternary\"}], \"surface\": [{\"colorbar\": {\"outlinewidth\": 0, \"ticks\": \"\"}, \"colorscale\": [[0.0, \"#0d0887\"], [0.1111111111111111, \"#46039f\"], [0.2222222222222222, \"#7201a8\"], [0.3333333333333333, \"#9c179e\"], [0.4444444444444444, \"#bd3786\"], [0.5555555555555556, \"#d8576b\"], [0.6666666666666666, \"#ed7953\"], [0.7777777777777778, \"#fb9f3a\"], [0.8888888888888888, \"#fdca26\"], [1.0, \"#f0f921\"]], \"type\": \"surface\"}], \"table\": [{\"cells\": {\"fill\": {\"color\": \"#EBF0F8\"}, \"line\": {\"color\": \"white\"}}, \"header\": {\"fill\": {\"color\": \"#C8D4E3\"}, \"line\": {\"color\": \"white\"}}, \"type\": \"table\"}]}, \"layout\": {\"annotationdefaults\": {\"arrowcolor\": \"#2a3f5f\", \"arrowhead\": 0, \"arrowwidth\": 1}, \"coloraxis\": {\"colorbar\": {\"outlinewidth\": 0, \"ticks\": \"\"}}, \"colorscale\": {\"diverging\": [[0, \"#8e0152\"], [0.1, \"#c51b7d\"], [0.2, \"#de77ae\"], [0.3, \"#f1b6da\"], [0.4, \"#fde0ef\"], [0.5, \"#f7f7f7\"], [0.6, \"#e6f5d0\"], [0.7, \"#b8e186\"], [0.8, \"#7fbc41\"], [0.9, \"#4d9221\"], [1, \"#276419\"]], \"sequential\": [[0.0, \"#0d0887\"], [0.1111111111111111, \"#46039f\"], [0.2222222222222222, \"#7201a8\"], [0.3333333333333333, \"#9c179e\"], [0.4444444444444444, \"#bd3786\"], [0.5555555555555556, \"#d8576b\"], [0.6666666666666666, \"#ed7953\"], [0.7777777777777778, \"#fb9f3a\"], [0.8888888888888888, \"#fdca26\"], [1.0, \"#f0f921\"]], \"sequentialminus\": [[0.0, \"#0d0887\"], [0.1111111111111111, \"#46039f\"], [0.2222222222222222, \"#7201a8\"], [0.3333333333333333, \"#9c179e\"], [0.4444444444444444, \"#bd3786\"], [0.5555555555555556, \"#d8576b\"], [0.6666666666666666, \"#ed7953\"], [0.7777777777777778, \"#fb9f3a\"], [0.8888888888888888, \"#fdca26\"], [1.0, \"#f0f921\"]]}, \"colorway\": [\"#636efa\", \"#EF553B\", \"#00cc96\", \"#ab63fa\", \"#FFA15A\", \"#19d3f3\", \"#FF6692\", \"#B6E880\", \"#FF97FF\", \"#FECB52\"], \"font\": {\"color\": \"#2a3f5f\"}, \"geo\": {\"bgcolor\": \"white\", \"lakecolor\": \"white\", \"landcolor\": \"#E5ECF6\", \"showlakes\": true, \"showland\": true, \"subunitcolor\": \"white\"}, \"hoverlabel\": {\"align\": \"left\"}, \"hovermode\": \"closest\", \"mapbox\": {\"style\": \"light\"}, \"paper_bgcolor\": \"white\", \"plot_bgcolor\": \"#E5ECF6\", \"polar\": {\"angularaxis\": {\"gridcolor\": \"white\", \"linecolor\": \"white\", \"ticks\": \"\"}, \"bgcolor\": \"#E5ECF6\", \"radialaxis\": {\"gridcolor\": \"white\", \"linecolor\": \"white\", \"ticks\": \"\"}}, \"scene\": {\"xaxis\": {\"backgroundcolor\": \"#E5ECF6\", \"gridcolor\": \"white\", \"gridwidth\": 2, \"linecolor\": \"white\", \"showbackground\": true, \"ticks\": \"\", \"zerolinecolor\": \"white\"}, \"yaxis\": {\"backgroundcolor\": \"#E5ECF6\", \"gridcolor\": \"white\", \"gridwidth\": 2, \"linecolor\": \"white\", \"showbackground\": true, \"ticks\": \"\", \"zerolinecolor\": \"white\"}, \"zaxis\": {\"backgroundcolor\": \"#E5ECF6\", \"gridcolor\": \"white\", \"gridwidth\": 2, \"linecolor\": \"white\", \"showbackground\": true, \"ticks\": \"\", \"zerolinecolor\": \"white\"}}, \"shapedefaults\": {\"line\": {\"color\": \"#2a3f5f\"}}, \"ternary\": {\"aaxis\": {\"gridcolor\": \"white\", \"linecolor\": \"white\", \"ticks\": \"\"}, \"baxis\": {\"gridcolor\": \"white\", \"linecolor\": \"white\", \"ticks\": \"\"}, \"bgcolor\": \"#E5ECF6\", \"caxis\": {\"gridcolor\": \"white\", \"linecolor\": \"white\", \"ticks\": \"\"}}, \"title\": {\"x\": 0.05}, \"xaxis\": {\"automargin\": true, \"gridcolor\": \"white\", \"linecolor\": \"white\", \"ticks\": \"\", \"title\": {\"standoff\": 15}, \"zerolinecolor\": \"white\", \"zerolinewidth\": 2}, \"yaxis\": {\"automargin\": true, \"gridcolor\": \"white\", \"linecolor\": \"white\", \"ticks\": \"\", \"title\": {\"standoff\": 15}, \"zerolinecolor\": \"white\", \"zerolinewidth\": 2}}}, \"title\": {\"text\": \"Mean Salary by Company\"}, \"width\": 1000, \"xaxis\": {\"title\": {\"text\": \"Salary in USD\"}}, \"yaxis\": {\"dtick\": 1}},\n",
       "                        {\"responsive\": true}\n",
       "                    ).then(function(){\n",
       "                            \n",
       "var gd = document.getElementById('18374eb7-5cbd-4bb8-acb1-e215d318aed6');\n",
       "var x = new MutationObserver(function (mutations, observer) {{\n",
       "        var display = window.getComputedStyle(gd).display;\n",
       "        if (!display || display === 'none') {{\n",
       "            console.log([gd, 'removed!']);\n",
       "            Plotly.purge(gd);\n",
       "            observer.disconnect();\n",
       "        }}\n",
       "}});\n",
       "\n",
       "// Listen for the removal of the full notebook cells\n",
       "var notebookContainer = gd.closest('#notebook-container');\n",
       "if (notebookContainer) {{\n",
       "    x.observe(notebookContainer, {childList: true});\n",
       "}}\n",
       "\n",
       "// Listen for the clearing of the current output cell\n",
       "var outputEl = gd.closest('.output');\n",
       "if (outputEl) {{\n",
       "    x.observe(outputEl, {childList: true});\n",
       "}}\n",
       "\n",
       "                        })\n",
       "                };\n",
       "                });\n",
       "            </script>\n",
       "        </div>"
      ]
     },
     "metadata": {},
     "output_type": "display_data"
    }
   ],
   "source": [
    "companies = companies.sort_values(by='salary_mean', ascending=False)\n",
    "data = [go.Bar(\n",
    "    y=companies.index, \n",
    "    x=companies.salary_mean, \n",
    "    text=companies.salary_mean, \n",
    "    textposition='inside',\n",
    "        textfont=dict(\n",
    "        family=\"sans serif\",\n",
    "        size=100    ),\n",
    "    orientation='h')]\n",
    "\n",
    "layout = go.Layout(\n",
    "    autosize=False,\n",
    "    width=1000,\n",
    "    height=1700\n",
    ")\n",
    "\n",
    "fig = go.Figure(data=data, layout=layout)\n",
    "fig.update_layout(\n",
    "    title = 'Mean Salary by Company', \n",
    "    xaxis_title = 'Salary in USD',\n",
    "    yaxis_dtick = 1\n",
    ")\n",
    "fig.show()"
   ]
  },
  {
   "cell_type": "markdown",
   "metadata": {},
   "source": [
    "## Trend of Salaries by Company"
   ]
  },
  {
   "cell_type": "code",
   "execution_count": 725,
   "metadata": {},
   "outputs": [],
   "source": [
    "all_emps = []\n",
    "for i in data_scientists.employer.unique():\n",
    "    temp = data_scientists[data_scientists['employer'] == i].groupby('year').agg({'salary': ['mean', 'median', 'min', 'max','count']})\n",
    "    temp['employer'] = i\n",
    "    all_emps.append(temp)"
   ]
  },
  {
   "cell_type": "code",
   "execution_count": 779,
   "metadata": {},
   "outputs": [
    {
     "name": "stdout",
     "output_type": "stream",
     "text": [
      "time: 2.98 s\n"
     ]
    }
   ],
   "source": [
    "employers = pd.concat(all_emps)"
   ]
  },
  {
   "cell_type": "code",
   "execution_count": 780,
   "metadata": {},
   "outputs": [
    {
     "name": "stdout",
     "output_type": "stream",
     "text": [
      "time: 13 ms\n"
     ]
    }
   ],
   "source": [
    "employers.columns = [\"_\".join(x) for x in employers.columns.ravel()]\n",
    "employers = employers.rename(columns={'employer_':'employer'})"
   ]
  },
  {
   "cell_type": "code",
   "execution_count": 813,
   "metadata": {},
   "outputs": [
    {
     "data": {
      "application/vnd.plotly.v1+json": {
       "config": {
        "plotlyServerURL": "https://plot.ly"
       },
       "data": [
        {
         "name": "STITCH FIX INC",
         "type": "scatter",
         "x": [
          2014,
          2015,
          2016,
          2017,
          2018,
          2019
         ],
         "y": [
          150000,
          127102.5,
          119292.4,
          127458.5,
          171623.16666666666,
          212500
         ]
        },
        {
         "name": "AIRBNB INC",
         "type": "scatter",
         "x": [
          2014,
          2015,
          2016,
          2017,
          2018,
          2019
         ],
         "y": [
          160000,
          133111.11111111112,
          134666.66666666666,
          159810.4705882353,
          167584.91428571427,
          172494.48837209304
         ]
        },
        {
         "name": "AMAZON WEB SERVICES INC",
         "type": "scatter",
         "x": [
          2017,
          2018,
          2019
         ],
         "y": [
          145000,
          159900,
          145000
         ]
        },
        {
         "name": "LYFT INC",
         "type": "scatter",
         "x": [
          2015,
          2016,
          2017,
          2018,
          2019
         ],
         "y": [
          145000,
          147000,
          148142.85714285713,
          152173.91304347827,
          156595.83333333334
         ]
        },
        {
         "name": "FACEBOOK INC",
         "type": "scatter",
         "x": [
          2014,
          2015,
          2016,
          2017,
          2018,
          2019
         ],
         "y": [
          135895.33333333334,
          124959.46428571429,
          135364.56756756757,
          141272.26666666666,
          148471.9597315436,
          158911.72527472526
         ]
        },
        {
         "name": "GOOGLE LLC",
         "type": "scatter",
         "x": [
          2018,
          2019
         ],
         "y": [
          145590,
          142440
         ]
        },
        {
         "name": "APPLE INC",
         "type": "scatter",
         "x": [
          2015,
          2016,
          2017,
          2018,
          2019
         ],
         "y": [
          136666.66666666666,
          142500,
          143016,
          135171.8260869565,
          149110.6923076923
         ]
        },
        {
         "name": "PAYPAL INC",
         "type": "scatter",
         "x": [
          2014,
          2015,
          2016,
          2017,
          2018,
          2019
         ],
         "y": [
          115000,
          125280,
          127000,
          119957,
          140400,
          146111.11111111112
         ]
        },
        {
         "name": "CONTEXTLOGIC INC",
         "type": "scatter",
         "x": [
          2017,
          2018,
          2019
         ],
         "y": [
          120000,
          132090.85714285713,
          150538.5
         ]
        },
        {
         "name": "SPOTIFY USA INC",
         "type": "scatter",
         "x": [
          2017,
          2018,
          2019
         ],
         "y": [
          135000,
          131741.42857142858,
          131782.5
         ]
        },
        {
         "name": "ADOBE INC",
         "type": "scatter",
         "x": [
          2019
         ],
         "y": [
          130187.07692307692
         ]
        },
        {
         "name": "SIMPLEBET INC",
         "type": "scatter",
         "x": [
          2019
         ],
         "y": [
          128750
         ]
        },
        {
         "name": "EBAY INC",
         "type": "scatter",
         "x": [
          2015,
          2016,
          2017,
          2018,
          2019
         ],
         "y": [
          130000,
          117457.5,
          134947.75,
          125966.54545454546,
          131250
         ]
        },
        {
         "name": "CHEGG INC",
         "type": "scatter",
         "x": [
          2014,
          2015,
          2016,
          2018,
          2019
         ],
         "y": [
          120000,
          150000,
          117500,
          128333.33333333333,
          128200
         ]
        },
        {
         "name": "ADOBE SYSTEMS INCORPORATED",
         "type": "scatter",
         "x": [
          2015,
          2016,
          2017,
          2018
         ],
         "y": [
          158082.5,
          143523,
          106735,
          121185.54545454546
         ]
        },
        {
         "name": "WAL-MART ASSOCIATES INC",
         "type": "scatter",
         "x": [
          2014,
          2015,
          2016,
          2017,
          2018,
          2019
         ],
         "y": [
          140000,
          132567.66666666666,
          142055,
          121386.57142857143,
          144354.16666666666,
          120497.25
         ]
        },
        {
         "name": "ELECTRONIC ARTS INC",
         "type": "scatter",
         "x": [
          2015,
          2016,
          2017,
          2018,
          2019
         ],
         "y": [
          110000,
          135000,
          122000,
          130162,
          140000
         ]
        },
        {
         "name": "GODADDYCOM LLC",
         "type": "scatter",
         "x": [
          2016,
          2017,
          2018,
          2019
         ],
         "y": [
          132500,
          137166.66666666666,
          115333.33333333333,
          120000
         ]
        },
        {
         "name": "MICROSOFT CORPORATION",
         "type": "scatter",
         "x": [
          2014,
          2015,
          2016,
          2017,
          2018,
          2019
         ],
         "y": [
          116261,
          116953.75438596492,
          123168.96808510639,
          125850.33333333333,
          126948.66666666667,
          131231.4
         ]
        },
        {
         "name": "ANCESTRYCOM OPERATIONS INC",
         "type": "scatter",
         "x": [
          2015,
          2016,
          2017,
          2018,
          2019
         ],
         "y": [
          136250,
          136500,
          112573,
          116412,
          100000
         ]
        },
        {
         "name": "PINTEREST INC",
         "type": "scatter",
         "x": [
          2015,
          2016,
          2017,
          2018,
          2019
         ],
         "y": [
          125628.66666666667,
          103833.33333333333,
          117898,
          122545.33333333333,
          143104
         ]
        },
        {
         "name": "C3 IOT INC",
         "type": "scatter",
         "x": [
          2019
         ],
         "y": [
          119500
         ]
        },
        {
         "name": "INTUIT INC",
         "type": "scatter",
         "x": [
          2014,
          2015,
          2016,
          2017,
          2018,
          2019
         ],
         "y": [
          175000,
          70033,
          113290.66666666667,
          138923,
          119122.25,
          125123.75
         ]
        },
        {
         "name": "JPMORGAN CHASE & CO",
         "type": "scatter",
         "x": [
          2015,
          2016,
          2017,
          2018,
          2019
         ],
         "y": [
          118333.33333333333,
          95000,
          112000,
          135000,
          125100
         ]
        },
        {
         "name": "INDEED INC",
         "type": "scatter",
         "x": [
          2015,
          2016,
          2017,
          2018,
          2019
         ],
         "y": [
          120000,
          84739,
          104741.66666666667,
          118984,
          118560.125
         ]
        },
        {
         "name": "LINKEDIN CORPORATION",
         "type": "scatter",
         "x": [
          2015,
          2016,
          2017,
          2018,
          2019
         ],
         "y": [
          98339.5,
          103059.66666666667,
          115133.71428571429,
          118071.36363636363,
          123665
         ]
        },
        {
         "name": "SALESFORCECOM INC",
         "type": "scatter",
         "x": [
          2016,
          2017,
          2019
         ],
         "y": [
          119896.5,
          106326.16666666667,
          134165.5
         ]
        },
        {
         "name": "GROUPON INC",
         "type": "scatter",
         "x": [
          2014,
          2015,
          2016,
          2017,
          2018,
          2019
         ],
         "y": [
          105000,
          105800,
          136500,
          106000,
          111177.77777777778,
          129525
         ]
        },
        {
         "name": "ZESTFINANCE INC",
         "type": "scatter",
         "x": [
          2016,
          2017,
          2018,
          2019
         ],
         "y": [
          113333.33333333333,
          111571.42857142857,
          107733.33333333333,
          116325
         ]
        },
        {
         "name": "SQUARE INC",
         "type": "scatter",
         "x": [
          2014,
          2015,
          2016,
          2017,
          2018,
          2019
         ],
         "y": [
          100880,
          103334.5,
          108229.66666666667,
          87572,
          122408,
          143235
         ]
        },
        {
         "name": "AMERICAN EXPRESS COMPANY",
         "type": "scatter",
         "x": [
          2015,
          2016,
          2017,
          2018,
          2019
         ],
         "y": [
          105000,
          105400,
          117362.5,
          96750,
          121077.6
         ]
        },
        {
         "name": "MCKINSEY & COMPANY INC UNITED STATES",
         "type": "scatter",
         "x": [
          2015,
          2016,
          2017,
          2018,
          2019
         ],
         "y": [
          131860,
          98900,
          87900,
          97800,
          117320
         ]
        },
        {
         "name": "MONSANTO COMPANY",
         "type": "scatter",
         "x": [
          2016,
          2017,
          2018,
          2019
         ],
         "y": [
          104064,
          100056.25,
          110606.28571428571,
          110560
         ]
        },
        {
         "name": "SAP LABS LLC",
         "type": "scatter",
         "x": [
          2017,
          2018,
          2019
         ],
         "y": [
          116875,
          106614.3,
          104872.78571428571
         ]
        },
        {
         "name": "ORACLE AMERICA INC",
         "type": "scatter",
         "x": [
          2015,
          2016,
          2017,
          2018,
          2019
         ],
         "y": [
          55778.666666666664,
          62786.666666666664,
          98625.4,
          119224.76470588235,
          115317.88235294117
         ]
        },
        {
         "name": "UBER TECHNOLOGIES INC",
         "type": "scatter",
         "x": [
          2015,
          2016,
          2017,
          2018,
          2019
         ],
         "y": [
          107000,
          106046.89361702128,
          99622.17283950618,
          104330.86046511628,
          125174.65384615384
         ]
        },
        {
         "name": "ZILLOW INC",
         "type": "scatter",
         "x": [
          2015,
          2016,
          2017,
          2018
         ],
         "y": [
          106796.66666666667,
          95264,
          95100,
          107091.73333333334
         ]
        },
        {
         "name": "OATH HOLDINGS INC",
         "type": "scatter",
         "x": [
          2018,
          2019
         ],
         "y": [
          107385.25,
          102966
         ]
        },
        {
         "name": "HOMEAWAYCOM INC",
         "type": "scatter",
         "x": [
          2017,
          2018,
          2019
         ],
         "y": [
          102600,
          99885.25,
          108231
         ]
        },
        {
         "name": "AETNA RESOURCES LLC",
         "type": "scatter",
         "x": [
          2018,
          2019
         ],
         "y": [
          99122.35294117648,
          112500
         ]
        },
        {
         "name": "ERICSSON INC",
         "type": "scatter",
         "x": [
          2018,
          2019
         ],
         "y": [
          192000,
          97819.3
         ]
        },
        {
         "name": "AKAMAI TECHNOLOGIES INC",
         "type": "scatter",
         "x": [
          2017,
          2018,
          2019
         ],
         "y": [
          86800,
          106198,
          105729
         ]
        },
        {
         "name": "SCHLUMBERGER TECHNOLOGY CORPORATION",
         "type": "scatter",
         "x": [
          2015,
          2016,
          2017,
          2018,
          2019
         ],
         "y": [
          83470,
          91799.8,
          106428.2,
          106911.5,
          104424.1
         ]
        },
        {
         "name": "QUORA INC",
         "type": "scatter",
         "x": [
          2015,
          2016,
          2017,
          2018,
          2019
         ],
         "y": [
          105000,
          105000,
          122740,
          99039,
          92979.33333333333
         ]
        },
        {
         "name": "THE BOSTON CONSULTING GROUP INC",
         "type": "scatter",
         "x": [
          2016,
          2017,
          2018,
          2019
         ],
         "y": [
          111040,
          90385,
          104375,
          98750
         ]
        },
        {
         "name": "IBM CORPORATION",
         "type": "scatter",
         "x": [
          2015,
          2016,
          2017,
          2018,
          2019
         ],
         "y": [
          84424,
          96658.25,
          98939.09523809524,
          96779.72,
          108226.578125
         ]
        },
        {
         "name": "TRIPADVISOR LLC",
         "type": "scatter",
         "x": [
          2015,
          2016,
          2017,
          2018,
          2019
         ],
         "y": [
          90000,
          80092.4,
          102666.66666666667,
          108333.33333333333,
          113750
         ]
        },
        {
         "name": "SUPSTAT INC",
         "type": "scatter",
         "x": [
          2016,
          2017,
          2018,
          2019
         ],
         "y": [
          81612.66666666667,
          100000,
          118973,
          120000
         ]
        },
        {
         "name": "UPTAKE TECHNOLOGIES INC",
         "type": "scatter",
         "x": [
          2016,
          2017,
          2018,
          2019
         ],
         "y": [
          101000,
          96875,
          91250,
          107500
         ]
        },
        {
         "name": "SCRY ANALYTICS INC",
         "type": "scatter",
         "x": [
          2017,
          2018,
          2019
         ],
         "y": [
          96600,
          96990,
          105810
         ]
        },
        {
         "name": "HONEYWELL INTERNATIONAL INC",
         "type": "scatter",
         "x": [
          2016,
          2017,
          2018
         ],
         "y": [
          100000,
          95000,
          99220.28571428571
         ]
        },
        {
         "name": "OPEX ANALYTICS LLC",
         "type": "scatter",
         "x": [
          2015,
          2017,
          2018,
          2019
         ],
         "y": [
          86293.33333333333,
          96775.28571428571,
          105227,
          101600
         ]
        },
        {
         "name": "AGILONE INC",
         "type": "scatter",
         "x": [
          2015,
          2016,
          2017,
          2018,
          2019
         ],
         "y": [
          98424.85714285714,
          100000,
          100000,
          96666.66666666667,
          92414
         ]
        },
        {
         "name": "ADS ALLIANCE DATA SYSTEMS INC",
         "type": "scatter",
         "x": [
          2016,
          2017,
          2018,
          2019
         ],
         "y": [
          88125,
          94774.33333333333,
          101645.8,
          87931
         ]
        },
        {
         "name": "EXPEDIA INC",
         "type": "scatter",
         "x": [
          2015,
          2016,
          2017,
          2018,
          2019
         ],
         "y": [
          95000,
          87464,
          83846.5,
          100982.64285714286,
          102783
         ]
        },
        {
         "name": "VISA USA INC",
         "type": "scatter",
         "x": [
          2018,
          2019
         ],
         "y": [
          62587,
          98118.17647058824
         ]
        },
        {
         "name": "COX AUTOMOTIVE CORPORATE SERVICES LLC",
         "type": "scatter",
         "x": [
          2017,
          2018,
          2019
         ],
         "y": [
          96600,
          91417,
          92798.33333333333
         ]
        },
        {
         "name": "INTEL CORPORATION",
         "type": "scatter",
         "x": [
          2015,
          2016,
          2017,
          2018,
          2019
         ],
         "y": [
          104879.5,
          94137.33333333333,
          103160.92857142857,
          100010.3125,
          81275.46341463414
         ]
        },
        {
         "name": "FEEDZAI INC",
         "type": "scatter",
         "x": [
          2015,
          2016,
          2017,
          2018,
          2019
         ],
         "y": [
          80000,
          71666.66666666667,
          76898,
          90162,
          100724.33333333333
         ]
        },
        {
         "name": "MOUNTAIN IT SOLUTIONS LLC",
         "type": "scatter",
         "x": [
          2019
         ],
         "y": [
          86645.14285714286
         ]
        },
        {
         "name": "CYBER INFOTECH LLC",
         "type": "scatter",
         "x": [
          2018
         ],
         "y": [
          85899.96666666666
         ]
        },
        {
         "name": "THE NIELSEN COMPANY (US) LLC",
         "type": "scatter",
         "x": [
          2015,
          2016,
          2017,
          2018,
          2019
         ],
         "y": [
          85000,
          80118.18181818182,
          98425,
          87699.14285714286,
          86190.33333333333
         ]
        },
        {
         "name": "RANG TECHNOLOGIES INC",
         "type": "scatter",
         "x": [
          2016,
          2017,
          2018,
          2019
         ],
         "y": [
          80166.66666666667,
          88117.45454545454,
          81000,
          87133.33333333333
         ]
        },
        {
         "name": "WAYFAIR LLC",
         "type": "scatter",
         "x": [
          2015,
          2016,
          2017,
          2018,
          2019
         ],
         "y": [
          59738,
          42765,
          56139,
          76150,
          112571.14285714286
         ]
        },
        {
         "name": "SPARKCOGNITION INC",
         "type": "scatter",
         "x": [
          2016,
          2017,
          2018,
          2019
         ],
         "y": [
          70000,
          83750,
          82131,
          83000
         ]
        },
        {
         "name": "KAIZEN ANALYTIX LLC",
         "type": "scatter",
         "x": [
          2018,
          2019
         ],
         "y": [
          75000,
          82142.85714285714
         ]
        },
        {
         "name": "MAXIMA CONSULTING INC",
         "type": "scatter",
         "x": [
          2017,
          2018,
          2019
         ],
         "y": [
          100000,
          69400,
          80714.28571428571
         ]
        },
        {
         "name": "FORD MOTOR COMPANY",
         "type": "scatter",
         "x": [
          2016,
          2017,
          2018
         ],
         "y": [
          87000,
          80405.5,
          73182
         ]
        },
        {
         "name": "FUZZY LOGIX INC",
         "type": "scatter",
         "x": [
          2016,
          2017,
          2018,
          2019
         ],
         "y": [
          75000,
          70000,
          80000,
          74400
         ]
        },
        {
         "name": "CCC INFORMATION SERVICES INC",
         "type": "scatter",
         "x": [
          2016,
          2017,
          2018,
          2019
         ],
         "y": [
          55868.666666666664,
          53872,
          65809,
          80912
         ]
        }
       ],
       "layout": {
        "template": {
         "data": {
          "bar": [
           {
            "error_x": {
             "color": "#2a3f5f"
            },
            "error_y": {
             "color": "#2a3f5f"
            },
            "marker": {
             "line": {
              "color": "#E5ECF6",
              "width": 0.5
             }
            },
            "type": "bar"
           }
          ],
          "barpolar": [
           {
            "marker": {
             "line": {
              "color": "#E5ECF6",
              "width": 0.5
             }
            },
            "type": "barpolar"
           }
          ],
          "carpet": [
           {
            "aaxis": {
             "endlinecolor": "#2a3f5f",
             "gridcolor": "white",
             "linecolor": "white",
             "minorgridcolor": "white",
             "startlinecolor": "#2a3f5f"
            },
            "baxis": {
             "endlinecolor": "#2a3f5f",
             "gridcolor": "white",
             "linecolor": "white",
             "minorgridcolor": "white",
             "startlinecolor": "#2a3f5f"
            },
            "type": "carpet"
           }
          ],
          "choropleth": [
           {
            "colorbar": {
             "outlinewidth": 0,
             "ticks": ""
            },
            "type": "choropleth"
           }
          ],
          "contour": [
           {
            "colorbar": {
             "outlinewidth": 0,
             "ticks": ""
            },
            "colorscale": [
             [
              0,
              "#0d0887"
             ],
             [
              0.1111111111111111,
              "#46039f"
             ],
             [
              0.2222222222222222,
              "#7201a8"
             ],
             [
              0.3333333333333333,
              "#9c179e"
             ],
             [
              0.4444444444444444,
              "#bd3786"
             ],
             [
              0.5555555555555556,
              "#d8576b"
             ],
             [
              0.6666666666666666,
              "#ed7953"
             ],
             [
              0.7777777777777778,
              "#fb9f3a"
             ],
             [
              0.8888888888888888,
              "#fdca26"
             ],
             [
              1,
              "#f0f921"
             ]
            ],
            "type": "contour"
           }
          ],
          "contourcarpet": [
           {
            "colorbar": {
             "outlinewidth": 0,
             "ticks": ""
            },
            "type": "contourcarpet"
           }
          ],
          "heatmap": [
           {
            "colorbar": {
             "outlinewidth": 0,
             "ticks": ""
            },
            "colorscale": [
             [
              0,
              "#0d0887"
             ],
             [
              0.1111111111111111,
              "#46039f"
             ],
             [
              0.2222222222222222,
              "#7201a8"
             ],
             [
              0.3333333333333333,
              "#9c179e"
             ],
             [
              0.4444444444444444,
              "#bd3786"
             ],
             [
              0.5555555555555556,
              "#d8576b"
             ],
             [
              0.6666666666666666,
              "#ed7953"
             ],
             [
              0.7777777777777778,
              "#fb9f3a"
             ],
             [
              0.8888888888888888,
              "#fdca26"
             ],
             [
              1,
              "#f0f921"
             ]
            ],
            "type": "heatmap"
           }
          ],
          "heatmapgl": [
           {
            "colorbar": {
             "outlinewidth": 0,
             "ticks": ""
            },
            "colorscale": [
             [
              0,
              "#0d0887"
             ],
             [
              0.1111111111111111,
              "#46039f"
             ],
             [
              0.2222222222222222,
              "#7201a8"
             ],
             [
              0.3333333333333333,
              "#9c179e"
             ],
             [
              0.4444444444444444,
              "#bd3786"
             ],
             [
              0.5555555555555556,
              "#d8576b"
             ],
             [
              0.6666666666666666,
              "#ed7953"
             ],
             [
              0.7777777777777778,
              "#fb9f3a"
             ],
             [
              0.8888888888888888,
              "#fdca26"
             ],
             [
              1,
              "#f0f921"
             ]
            ],
            "type": "heatmapgl"
           }
          ],
          "histogram": [
           {
            "marker": {
             "colorbar": {
              "outlinewidth": 0,
              "ticks": ""
             }
            },
            "type": "histogram"
           }
          ],
          "histogram2d": [
           {
            "colorbar": {
             "outlinewidth": 0,
             "ticks": ""
            },
            "colorscale": [
             [
              0,
              "#0d0887"
             ],
             [
              0.1111111111111111,
              "#46039f"
             ],
             [
              0.2222222222222222,
              "#7201a8"
             ],
             [
              0.3333333333333333,
              "#9c179e"
             ],
             [
              0.4444444444444444,
              "#bd3786"
             ],
             [
              0.5555555555555556,
              "#d8576b"
             ],
             [
              0.6666666666666666,
              "#ed7953"
             ],
             [
              0.7777777777777778,
              "#fb9f3a"
             ],
             [
              0.8888888888888888,
              "#fdca26"
             ],
             [
              1,
              "#f0f921"
             ]
            ],
            "type": "histogram2d"
           }
          ],
          "histogram2dcontour": [
           {
            "colorbar": {
             "outlinewidth": 0,
             "ticks": ""
            },
            "colorscale": [
             [
              0,
              "#0d0887"
             ],
             [
              0.1111111111111111,
              "#46039f"
             ],
             [
              0.2222222222222222,
              "#7201a8"
             ],
             [
              0.3333333333333333,
              "#9c179e"
             ],
             [
              0.4444444444444444,
              "#bd3786"
             ],
             [
              0.5555555555555556,
              "#d8576b"
             ],
             [
              0.6666666666666666,
              "#ed7953"
             ],
             [
              0.7777777777777778,
              "#fb9f3a"
             ],
             [
              0.8888888888888888,
              "#fdca26"
             ],
             [
              1,
              "#f0f921"
             ]
            ],
            "type": "histogram2dcontour"
           }
          ],
          "mesh3d": [
           {
            "colorbar": {
             "outlinewidth": 0,
             "ticks": ""
            },
            "type": "mesh3d"
           }
          ],
          "parcoords": [
           {
            "line": {
             "colorbar": {
              "outlinewidth": 0,
              "ticks": ""
             }
            },
            "type": "parcoords"
           }
          ],
          "pie": [
           {
            "automargin": true,
            "type": "pie"
           }
          ],
          "scatter": [
           {
            "marker": {
             "colorbar": {
              "outlinewidth": 0,
              "ticks": ""
             }
            },
            "type": "scatter"
           }
          ],
          "scatter3d": [
           {
            "line": {
             "colorbar": {
              "outlinewidth": 0,
              "ticks": ""
             }
            },
            "marker": {
             "colorbar": {
              "outlinewidth": 0,
              "ticks": ""
             }
            },
            "type": "scatter3d"
           }
          ],
          "scattercarpet": [
           {
            "marker": {
             "colorbar": {
              "outlinewidth": 0,
              "ticks": ""
             }
            },
            "type": "scattercarpet"
           }
          ],
          "scattergeo": [
           {
            "marker": {
             "colorbar": {
              "outlinewidth": 0,
              "ticks": ""
             }
            },
            "type": "scattergeo"
           }
          ],
          "scattergl": [
           {
            "marker": {
             "colorbar": {
              "outlinewidth": 0,
              "ticks": ""
             }
            },
            "type": "scattergl"
           }
          ],
          "scattermapbox": [
           {
            "marker": {
             "colorbar": {
              "outlinewidth": 0,
              "ticks": ""
             }
            },
            "type": "scattermapbox"
           }
          ],
          "scatterpolar": [
           {
            "marker": {
             "colorbar": {
              "outlinewidth": 0,
              "ticks": ""
             }
            },
            "type": "scatterpolar"
           }
          ],
          "scatterpolargl": [
           {
            "marker": {
             "colorbar": {
              "outlinewidth": 0,
              "ticks": ""
             }
            },
            "type": "scatterpolargl"
           }
          ],
          "scatterternary": [
           {
            "marker": {
             "colorbar": {
              "outlinewidth": 0,
              "ticks": ""
             }
            },
            "type": "scatterternary"
           }
          ],
          "surface": [
           {
            "colorbar": {
             "outlinewidth": 0,
             "ticks": ""
            },
            "colorscale": [
             [
              0,
              "#0d0887"
             ],
             [
              0.1111111111111111,
              "#46039f"
             ],
             [
              0.2222222222222222,
              "#7201a8"
             ],
             [
              0.3333333333333333,
              "#9c179e"
             ],
             [
              0.4444444444444444,
              "#bd3786"
             ],
             [
              0.5555555555555556,
              "#d8576b"
             ],
             [
              0.6666666666666666,
              "#ed7953"
             ],
             [
              0.7777777777777778,
              "#fb9f3a"
             ],
             [
              0.8888888888888888,
              "#fdca26"
             ],
             [
              1,
              "#f0f921"
             ]
            ],
            "type": "surface"
           }
          ],
          "table": [
           {
            "cells": {
             "fill": {
              "color": "#EBF0F8"
             },
             "line": {
              "color": "white"
             }
            },
            "header": {
             "fill": {
              "color": "#C8D4E3"
             },
             "line": {
              "color": "white"
             }
            },
            "type": "table"
           }
          ]
         },
         "layout": {
          "annotationdefaults": {
           "arrowcolor": "#2a3f5f",
           "arrowhead": 0,
           "arrowwidth": 1
          },
          "coloraxis": {
           "colorbar": {
            "outlinewidth": 0,
            "ticks": ""
           }
          },
          "colorscale": {
           "diverging": [
            [
             0,
             "#8e0152"
            ],
            [
             0.1,
             "#c51b7d"
            ],
            [
             0.2,
             "#de77ae"
            ],
            [
             0.3,
             "#f1b6da"
            ],
            [
             0.4,
             "#fde0ef"
            ],
            [
             0.5,
             "#f7f7f7"
            ],
            [
             0.6,
             "#e6f5d0"
            ],
            [
             0.7,
             "#b8e186"
            ],
            [
             0.8,
             "#7fbc41"
            ],
            [
             0.9,
             "#4d9221"
            ],
            [
             1,
             "#276419"
            ]
           ],
           "sequential": [
            [
             0,
             "#0d0887"
            ],
            [
             0.1111111111111111,
             "#46039f"
            ],
            [
             0.2222222222222222,
             "#7201a8"
            ],
            [
             0.3333333333333333,
             "#9c179e"
            ],
            [
             0.4444444444444444,
             "#bd3786"
            ],
            [
             0.5555555555555556,
             "#d8576b"
            ],
            [
             0.6666666666666666,
             "#ed7953"
            ],
            [
             0.7777777777777778,
             "#fb9f3a"
            ],
            [
             0.8888888888888888,
             "#fdca26"
            ],
            [
             1,
             "#f0f921"
            ]
           ],
           "sequentialminus": [
            [
             0,
             "#0d0887"
            ],
            [
             0.1111111111111111,
             "#46039f"
            ],
            [
             0.2222222222222222,
             "#7201a8"
            ],
            [
             0.3333333333333333,
             "#9c179e"
            ],
            [
             0.4444444444444444,
             "#bd3786"
            ],
            [
             0.5555555555555556,
             "#d8576b"
            ],
            [
             0.6666666666666666,
             "#ed7953"
            ],
            [
             0.7777777777777778,
             "#fb9f3a"
            ],
            [
             0.8888888888888888,
             "#fdca26"
            ],
            [
             1,
             "#f0f921"
            ]
           ]
          },
          "colorway": [
           "#636efa",
           "#EF553B",
           "#00cc96",
           "#ab63fa",
           "#FFA15A",
           "#19d3f3",
           "#FF6692",
           "#B6E880",
           "#FF97FF",
           "#FECB52"
          ],
          "font": {
           "color": "#2a3f5f"
          },
          "geo": {
           "bgcolor": "white",
           "lakecolor": "white",
           "landcolor": "#E5ECF6",
           "showlakes": true,
           "showland": true,
           "subunitcolor": "white"
          },
          "hoverlabel": {
           "align": "left"
          },
          "hovermode": "closest",
          "mapbox": {
           "style": "light"
          },
          "paper_bgcolor": "white",
          "plot_bgcolor": "#E5ECF6",
          "polar": {
           "angularaxis": {
            "gridcolor": "white",
            "linecolor": "white",
            "ticks": ""
           },
           "bgcolor": "#E5ECF6",
           "radialaxis": {
            "gridcolor": "white",
            "linecolor": "white",
            "ticks": ""
           }
          },
          "scene": {
           "xaxis": {
            "backgroundcolor": "#E5ECF6",
            "gridcolor": "white",
            "gridwidth": 2,
            "linecolor": "white",
            "showbackground": true,
            "ticks": "",
            "zerolinecolor": "white"
           },
           "yaxis": {
            "backgroundcolor": "#E5ECF6",
            "gridcolor": "white",
            "gridwidth": 2,
            "linecolor": "white",
            "showbackground": true,
            "ticks": "",
            "zerolinecolor": "white"
           },
           "zaxis": {
            "backgroundcolor": "#E5ECF6",
            "gridcolor": "white",
            "gridwidth": 2,
            "linecolor": "white",
            "showbackground": true,
            "ticks": "",
            "zerolinecolor": "white"
           }
          },
          "shapedefaults": {
           "line": {
            "color": "#2a3f5f"
           }
          },
          "ternary": {
           "aaxis": {
            "gridcolor": "white",
            "linecolor": "white",
            "ticks": ""
           },
           "baxis": {
            "gridcolor": "white",
            "linecolor": "white",
            "ticks": ""
           },
           "bgcolor": "#E5ECF6",
           "caxis": {
            "gridcolor": "white",
            "linecolor": "white",
            "ticks": ""
           }
          },
          "title": {
           "x": 0.05
          },
          "xaxis": {
           "automargin": true,
           "gridcolor": "white",
           "linecolor": "white",
           "ticks": "",
           "title": {
            "standoff": 15
           },
           "zerolinecolor": "white",
           "zerolinewidth": 2
          },
          "yaxis": {
           "automargin": true,
           "gridcolor": "white",
           "linecolor": "white",
           "ticks": "",
           "title": {
            "standoff": 15
           },
           "zerolinecolor": "white",
           "zerolinewidth": 2
          }
         }
        }
       }
      },
      "text/html": [
       "<div>\n",
       "        \n",
       "        \n",
       "            <div id=\"eea5bb87-8645-43ba-9d21-c162dfffbd23\" class=\"plotly-graph-div\" style=\"height:525px; width:100%;\"></div>\n",
       "            <script type=\"text/javascript\">\n",
       "                require([\"plotly\"], function(Plotly) {\n",
       "                    window.PLOTLYENV=window.PLOTLYENV || {};\n",
       "                    \n",
       "                if (document.getElementById(\"eea5bb87-8645-43ba-9d21-c162dfffbd23\")) {\n",
       "                    Plotly.newPlot(\n",
       "                        'eea5bb87-8645-43ba-9d21-c162dfffbd23',\n",
       "                        [{\"name\": \"STITCH FIX INC\", \"type\": \"scatter\", \"x\": [2014, 2015, 2016, 2017, 2018, 2019], \"y\": [150000.0, 127102.5, 119292.4, 127458.5, 171623.16666666666, 212500.0]}, {\"name\": \"AIRBNB INC\", \"type\": \"scatter\", \"x\": [2014, 2015, 2016, 2017, 2018, 2019], \"y\": [160000.0, 133111.11111111112, 134666.66666666666, 159810.4705882353, 167584.91428571427, 172494.48837209304]}, {\"name\": \"AMAZON WEB SERVICES INC\", \"type\": \"scatter\", \"x\": [2017, 2018, 2019], \"y\": [145000.0, 159900.0, 145000.0]}, {\"name\": \"LYFT INC\", \"type\": \"scatter\", \"x\": [2015, 2016, 2017, 2018, 2019], \"y\": [145000.0, 147000.0, 148142.85714285713, 152173.91304347827, 156595.83333333334]}, {\"name\": \"FACEBOOK INC\", \"type\": \"scatter\", \"x\": [2014, 2015, 2016, 2017, 2018, 2019], \"y\": [135895.33333333334, 124959.46428571429, 135364.56756756757, 141272.26666666666, 148471.9597315436, 158911.72527472526]}, {\"name\": \"GOOGLE LLC\", \"type\": \"scatter\", \"x\": [2018, 2019], \"y\": [145590.0, 142440.0]}, {\"name\": \"APPLE INC\", \"type\": \"scatter\", \"x\": [2015, 2016, 2017, 2018, 2019], \"y\": [136666.66666666666, 142500.0, 143016.0, 135171.8260869565, 149110.6923076923]}, {\"name\": \"PAYPAL INC\", \"type\": \"scatter\", \"x\": [2014, 2015, 2016, 2017, 2018, 2019], \"y\": [115000.0, 125280.0, 127000.0, 119957.0, 140400.0, 146111.11111111112]}, {\"name\": \"CONTEXTLOGIC INC\", \"type\": \"scatter\", \"x\": [2017, 2018, 2019], \"y\": [120000.0, 132090.85714285713, 150538.5]}, {\"name\": \"SPOTIFY USA INC\", \"type\": \"scatter\", \"x\": [2017, 2018, 2019], \"y\": [135000.0, 131741.42857142858, 131782.5]}, {\"name\": \"ADOBE INC\", \"type\": \"scatter\", \"x\": [2019], \"y\": [130187.07692307692]}, {\"name\": \"SIMPLEBET INC\", \"type\": \"scatter\", \"x\": [2019], \"y\": [128750.0]}, {\"name\": \"EBAY INC\", \"type\": \"scatter\", \"x\": [2015, 2016, 2017, 2018, 2019], \"y\": [130000.0, 117457.5, 134947.75, 125966.54545454546, 131250.0]}, {\"name\": \"CHEGG INC\", \"type\": \"scatter\", \"x\": [2014, 2015, 2016, 2018, 2019], \"y\": [120000.0, 150000.0, 117500.0, 128333.33333333333, 128200.0]}, {\"name\": \"ADOBE SYSTEMS INCORPORATED\", \"type\": \"scatter\", \"x\": [2015, 2016, 2017, 2018], \"y\": [158082.5, 143523.0, 106735.0, 121185.54545454546]}, {\"name\": \"WAL-MART ASSOCIATES INC\", \"type\": \"scatter\", \"x\": [2014, 2015, 2016, 2017, 2018, 2019], \"y\": [140000.0, 132567.66666666666, 142055.0, 121386.57142857143, 144354.16666666666, 120497.25]}, {\"name\": \"ELECTRONIC ARTS INC\", \"type\": \"scatter\", \"x\": [2015, 2016, 2017, 2018, 2019], \"y\": [110000.0, 135000.0, 122000.0, 130162.0, 140000.0]}, {\"name\": \"GODADDYCOM LLC\", \"type\": \"scatter\", \"x\": [2016, 2017, 2018, 2019], \"y\": [132500.0, 137166.66666666666, 115333.33333333333, 120000.0]}, {\"name\": \"MICROSOFT CORPORATION\", \"type\": \"scatter\", \"x\": [2014, 2015, 2016, 2017, 2018, 2019], \"y\": [116261.0, 116953.75438596492, 123168.96808510639, 125850.33333333333, 126948.66666666667, 131231.4]}, {\"name\": \"ANCESTRYCOM OPERATIONS INC\", \"type\": \"scatter\", \"x\": [2015, 2016, 2017, 2018, 2019], \"y\": [136250.0, 136500.0, 112573.0, 116412.0, 100000.0]}, {\"name\": \"PINTEREST INC\", \"type\": \"scatter\", \"x\": [2015, 2016, 2017, 2018, 2019], \"y\": [125628.66666666667, 103833.33333333333, 117898.0, 122545.33333333333, 143104.0]}, {\"name\": \"C3 IOT INC\", \"type\": \"scatter\", \"x\": [2019], \"y\": [119500.0]}, {\"name\": \"INTUIT INC\", \"type\": \"scatter\", \"x\": [2014, 2015, 2016, 2017, 2018, 2019], \"y\": [175000.0, 70033.0, 113290.66666666667, 138923.0, 119122.25, 125123.75]}, {\"name\": \"JPMORGAN CHASE & CO\", \"type\": \"scatter\", \"x\": [2015, 2016, 2017, 2018, 2019], \"y\": [118333.33333333333, 95000.0, 112000.0, 135000.0, 125100.0]}, {\"name\": \"INDEED INC\", \"type\": \"scatter\", \"x\": [2015, 2016, 2017, 2018, 2019], \"y\": [120000.0, 84739.0, 104741.66666666667, 118984.0, 118560.125]}, {\"name\": \"LINKEDIN CORPORATION\", \"type\": \"scatter\", \"x\": [2015, 2016, 2017, 2018, 2019], \"y\": [98339.5, 103059.66666666667, 115133.71428571429, 118071.36363636363, 123665.0]}, {\"name\": \"SALESFORCECOM INC\", \"type\": \"scatter\", \"x\": [2016, 2017, 2019], \"y\": [119896.5, 106326.16666666667, 134165.5]}, {\"name\": \"GROUPON INC\", \"type\": \"scatter\", \"x\": [2014, 2015, 2016, 2017, 2018, 2019], \"y\": [105000.0, 105800.0, 136500.0, 106000.0, 111177.77777777778, 129525.0]}, {\"name\": \"ZESTFINANCE INC\", \"type\": \"scatter\", \"x\": [2016, 2017, 2018, 2019], \"y\": [113333.33333333333, 111571.42857142857, 107733.33333333333, 116325.0]}, {\"name\": \"SQUARE INC\", \"type\": \"scatter\", \"x\": [2014, 2015, 2016, 2017, 2018, 2019], \"y\": [100880.0, 103334.5, 108229.66666666667, 87572.0, 122408.0, 143235.0]}, {\"name\": \"AMERICAN EXPRESS COMPANY\", \"type\": \"scatter\", \"x\": [2015, 2016, 2017, 2018, 2019], \"y\": [105000.0, 105400.0, 117362.5, 96750.0, 121077.6]}, {\"name\": \"MCKINSEY & COMPANY INC UNITED STATES\", \"type\": \"scatter\", \"x\": [2015, 2016, 2017, 2018, 2019], \"y\": [131860.0, 98900.0, 87900.0, 97800.0, 117320.0]}, {\"name\": \"MONSANTO COMPANY\", \"type\": \"scatter\", \"x\": [2016, 2017, 2018, 2019], \"y\": [104064.0, 100056.25, 110606.28571428571, 110560.0]}, {\"name\": \"SAP LABS LLC\", \"type\": \"scatter\", \"x\": [2017, 2018, 2019], \"y\": [116875.0, 106614.3, 104872.78571428571]}, {\"name\": \"ORACLE AMERICA INC\", \"type\": \"scatter\", \"x\": [2015, 2016, 2017, 2018, 2019], \"y\": [55778.666666666664, 62786.666666666664, 98625.4, 119224.76470588235, 115317.88235294117]}, {\"name\": \"UBER TECHNOLOGIES INC\", \"type\": \"scatter\", \"x\": [2015, 2016, 2017, 2018, 2019], \"y\": [107000.0, 106046.89361702128, 99622.17283950618, 104330.86046511628, 125174.65384615384]}, {\"name\": \"ZILLOW INC\", \"type\": \"scatter\", \"x\": [2015, 2016, 2017, 2018], \"y\": [106796.66666666667, 95264.0, 95100.0, 107091.73333333334]}, {\"name\": \"OATH HOLDINGS INC\", \"type\": \"scatter\", \"x\": [2018, 2019], \"y\": [107385.25, 102966.0]}, {\"name\": \"HOMEAWAYCOM INC\", \"type\": \"scatter\", \"x\": [2017, 2018, 2019], \"y\": [102600.0, 99885.25, 108231.0]}, {\"name\": \"AETNA RESOURCES LLC\", \"type\": \"scatter\", \"x\": [2018, 2019], \"y\": [99122.35294117648, 112500.0]}, {\"name\": \"ERICSSON INC\", \"type\": \"scatter\", \"x\": [2018, 2019], \"y\": [192000.0, 97819.3]}, {\"name\": \"AKAMAI TECHNOLOGIES INC\", \"type\": \"scatter\", \"x\": [2017, 2018, 2019], \"y\": [86800.0, 106198.0, 105729.0]}, {\"name\": \"SCHLUMBERGER TECHNOLOGY CORPORATION\", \"type\": \"scatter\", \"x\": [2015, 2016, 2017, 2018, 2019], \"y\": [83470.0, 91799.8, 106428.2, 106911.5, 104424.1]}, {\"name\": \"QUORA INC\", \"type\": \"scatter\", \"x\": [2015, 2016, 2017, 2018, 2019], \"y\": [105000.0, 105000.0, 122740.0, 99039.0, 92979.33333333333]}, {\"name\": \"THE BOSTON CONSULTING GROUP INC\", \"type\": \"scatter\", \"x\": [2016, 2017, 2018, 2019], \"y\": [111040.0, 90385.0, 104375.0, 98750.0]}, {\"name\": \"IBM CORPORATION\", \"type\": \"scatter\", \"x\": [2015, 2016, 2017, 2018, 2019], \"y\": [84424.0, 96658.25, 98939.09523809524, 96779.72, 108226.578125]}, {\"name\": \"TRIPADVISOR LLC\", \"type\": \"scatter\", \"x\": [2015, 2016, 2017, 2018, 2019], \"y\": [90000.0, 80092.4, 102666.66666666667, 108333.33333333333, 113750.0]}, {\"name\": \"SUPSTAT INC\", \"type\": \"scatter\", \"x\": [2016, 2017, 2018, 2019], \"y\": [81612.66666666667, 100000.0, 118973.0, 120000.0]}, {\"name\": \"UPTAKE TECHNOLOGIES INC\", \"type\": \"scatter\", \"x\": [2016, 2017, 2018, 2019], \"y\": [101000.0, 96875.0, 91250.0, 107500.0]}, {\"name\": \"SCRY ANALYTICS INC\", \"type\": \"scatter\", \"x\": [2017, 2018, 2019], \"y\": [96600.0, 96990.0, 105810.0]}, {\"name\": \"HONEYWELL INTERNATIONAL INC\", \"type\": \"scatter\", \"x\": [2016, 2017, 2018], \"y\": [100000.0, 95000.0, 99220.28571428571]}, {\"name\": \"OPEX ANALYTICS LLC\", \"type\": \"scatter\", \"x\": [2015, 2017, 2018, 2019], \"y\": [86293.33333333333, 96775.28571428571, 105227.0, 101600.0]}, {\"name\": \"AGILONE INC\", \"type\": \"scatter\", \"x\": [2015, 2016, 2017, 2018, 2019], \"y\": [98424.85714285714, 100000.0, 100000.0, 96666.66666666667, 92414.0]}, {\"name\": \"ADS ALLIANCE DATA SYSTEMS INC\", \"type\": \"scatter\", \"x\": [2016, 2017, 2018, 2019], \"y\": [88125.0, 94774.33333333333, 101645.8, 87931.0]}, {\"name\": \"EXPEDIA INC\", \"type\": \"scatter\", \"x\": [2015, 2016, 2017, 2018, 2019], \"y\": [95000.0, 87464.0, 83846.5, 100982.64285714286, 102783.0]}, {\"name\": \"VISA USA INC\", \"type\": \"scatter\", \"x\": [2018, 2019], \"y\": [62587.0, 98118.17647058824]}, {\"name\": \"COX AUTOMOTIVE CORPORATE SERVICES LLC\", \"type\": \"scatter\", \"x\": [2017, 2018, 2019], \"y\": [96600.0, 91417.0, 92798.33333333333]}, {\"name\": \"INTEL CORPORATION\", \"type\": \"scatter\", \"x\": [2015, 2016, 2017, 2018, 2019], \"y\": [104879.5, 94137.33333333333, 103160.92857142857, 100010.3125, 81275.46341463414]}, {\"name\": \"FEEDZAI INC\", \"type\": \"scatter\", \"x\": [2015, 2016, 2017, 2018, 2019], \"y\": [80000.0, 71666.66666666667, 76898.0, 90162.0, 100724.33333333333]}, {\"name\": \"MOUNTAIN IT SOLUTIONS LLC\", \"type\": \"scatter\", \"x\": [2019], \"y\": [86645.14285714286]}, {\"name\": \"CYBER INFOTECH LLC\", \"type\": \"scatter\", \"x\": [2018], \"y\": [85899.96666666666]}, {\"name\": \"THE NIELSEN COMPANY (US) LLC\", \"type\": \"scatter\", \"x\": [2015, 2016, 2017, 2018, 2019], \"y\": [85000.0, 80118.18181818182, 98425.0, 87699.14285714286, 86190.33333333333]}, {\"name\": \"RANG TECHNOLOGIES INC\", \"type\": \"scatter\", \"x\": [2016, 2017, 2018, 2019], \"y\": [80166.66666666667, 88117.45454545454, 81000.0, 87133.33333333333]}, {\"name\": \"WAYFAIR LLC\", \"type\": \"scatter\", \"x\": [2015, 2016, 2017, 2018, 2019], \"y\": [59738.0, 42765.0, 56139.0, 76150.0, 112571.14285714286]}, {\"name\": \"SPARKCOGNITION INC\", \"type\": \"scatter\", \"x\": [2016, 2017, 2018, 2019], \"y\": [70000.0, 83750.0, 82131.0, 83000.0]}, {\"name\": \"KAIZEN ANALYTIX LLC\", \"type\": \"scatter\", \"x\": [2018, 2019], \"y\": [75000.0, 82142.85714285714]}, {\"name\": \"MAXIMA CONSULTING INC\", \"type\": \"scatter\", \"x\": [2017, 2018, 2019], \"y\": [100000.0, 69400.0, 80714.28571428571]}, {\"name\": \"FORD MOTOR COMPANY\", \"type\": \"scatter\", \"x\": [2016, 2017, 2018], \"y\": [87000.0, 80405.5, 73182.0]}, {\"name\": \"FUZZY LOGIX INC\", \"type\": \"scatter\", \"x\": [2016, 2017, 2018, 2019], \"y\": [75000.0, 70000.0, 80000.0, 74400.0]}, {\"name\": \"CCC INFORMATION SERVICES INC\", \"type\": \"scatter\", \"x\": [2016, 2017, 2018, 2019], \"y\": [55868.666666666664, 53872.0, 65809.0, 80912.0]}],\n",
       "                        {\"template\": {\"data\": {\"bar\": [{\"error_x\": {\"color\": \"#2a3f5f\"}, \"error_y\": {\"color\": \"#2a3f5f\"}, \"marker\": {\"line\": {\"color\": \"#E5ECF6\", \"width\": 0.5}}, \"type\": \"bar\"}], \"barpolar\": [{\"marker\": {\"line\": {\"color\": \"#E5ECF6\", \"width\": 0.5}}, \"type\": \"barpolar\"}], \"carpet\": [{\"aaxis\": {\"endlinecolor\": \"#2a3f5f\", \"gridcolor\": \"white\", \"linecolor\": \"white\", \"minorgridcolor\": \"white\", \"startlinecolor\": \"#2a3f5f\"}, \"baxis\": {\"endlinecolor\": \"#2a3f5f\", \"gridcolor\": \"white\", \"linecolor\": \"white\", \"minorgridcolor\": \"white\", \"startlinecolor\": \"#2a3f5f\"}, \"type\": \"carpet\"}], \"choropleth\": [{\"colorbar\": {\"outlinewidth\": 0, \"ticks\": \"\"}, \"type\": \"choropleth\"}], \"contour\": [{\"colorbar\": {\"outlinewidth\": 0, \"ticks\": \"\"}, \"colorscale\": [[0.0, \"#0d0887\"], [0.1111111111111111, \"#46039f\"], [0.2222222222222222, \"#7201a8\"], [0.3333333333333333, \"#9c179e\"], [0.4444444444444444, \"#bd3786\"], [0.5555555555555556, \"#d8576b\"], [0.6666666666666666, \"#ed7953\"], [0.7777777777777778, \"#fb9f3a\"], [0.8888888888888888, \"#fdca26\"], [1.0, \"#f0f921\"]], \"type\": \"contour\"}], \"contourcarpet\": [{\"colorbar\": {\"outlinewidth\": 0, \"ticks\": \"\"}, \"type\": \"contourcarpet\"}], \"heatmap\": [{\"colorbar\": {\"outlinewidth\": 0, \"ticks\": \"\"}, \"colorscale\": [[0.0, \"#0d0887\"], [0.1111111111111111, \"#46039f\"], [0.2222222222222222, \"#7201a8\"], [0.3333333333333333, \"#9c179e\"], [0.4444444444444444, \"#bd3786\"], [0.5555555555555556, \"#d8576b\"], [0.6666666666666666, \"#ed7953\"], [0.7777777777777778, \"#fb9f3a\"], [0.8888888888888888, \"#fdca26\"], [1.0, \"#f0f921\"]], \"type\": \"heatmap\"}], \"heatmapgl\": [{\"colorbar\": {\"outlinewidth\": 0, \"ticks\": \"\"}, \"colorscale\": [[0.0, \"#0d0887\"], [0.1111111111111111, \"#46039f\"], [0.2222222222222222, \"#7201a8\"], [0.3333333333333333, \"#9c179e\"], [0.4444444444444444, \"#bd3786\"], [0.5555555555555556, \"#d8576b\"], [0.6666666666666666, \"#ed7953\"], [0.7777777777777778, \"#fb9f3a\"], [0.8888888888888888, \"#fdca26\"], [1.0, \"#f0f921\"]], \"type\": \"heatmapgl\"}], \"histogram\": [{\"marker\": {\"colorbar\": {\"outlinewidth\": 0, \"ticks\": \"\"}}, \"type\": \"histogram\"}], \"histogram2d\": [{\"colorbar\": {\"outlinewidth\": 0, \"ticks\": \"\"}, \"colorscale\": [[0.0, \"#0d0887\"], [0.1111111111111111, \"#46039f\"], [0.2222222222222222, \"#7201a8\"], [0.3333333333333333, \"#9c179e\"], [0.4444444444444444, \"#bd3786\"], [0.5555555555555556, \"#d8576b\"], [0.6666666666666666, \"#ed7953\"], [0.7777777777777778, \"#fb9f3a\"], [0.8888888888888888, \"#fdca26\"], [1.0, \"#f0f921\"]], \"type\": \"histogram2d\"}], \"histogram2dcontour\": [{\"colorbar\": {\"outlinewidth\": 0, \"ticks\": \"\"}, \"colorscale\": [[0.0, \"#0d0887\"], [0.1111111111111111, \"#46039f\"], [0.2222222222222222, \"#7201a8\"], [0.3333333333333333, \"#9c179e\"], [0.4444444444444444, \"#bd3786\"], [0.5555555555555556, \"#d8576b\"], [0.6666666666666666, \"#ed7953\"], [0.7777777777777778, \"#fb9f3a\"], [0.8888888888888888, \"#fdca26\"], [1.0, \"#f0f921\"]], \"type\": \"histogram2dcontour\"}], \"mesh3d\": [{\"colorbar\": {\"outlinewidth\": 0, \"ticks\": \"\"}, \"type\": \"mesh3d\"}], \"parcoords\": [{\"line\": {\"colorbar\": {\"outlinewidth\": 0, \"ticks\": \"\"}}, \"type\": \"parcoords\"}], \"pie\": [{\"automargin\": true, \"type\": \"pie\"}], \"scatter\": [{\"marker\": {\"colorbar\": {\"outlinewidth\": 0, \"ticks\": \"\"}}, \"type\": \"scatter\"}], \"scatter3d\": [{\"line\": {\"colorbar\": {\"outlinewidth\": 0, \"ticks\": \"\"}}, \"marker\": {\"colorbar\": {\"outlinewidth\": 0, \"ticks\": \"\"}}, \"type\": \"scatter3d\"}], \"scattercarpet\": [{\"marker\": {\"colorbar\": {\"outlinewidth\": 0, \"ticks\": \"\"}}, \"type\": \"scattercarpet\"}], \"scattergeo\": [{\"marker\": {\"colorbar\": {\"outlinewidth\": 0, \"ticks\": \"\"}}, \"type\": \"scattergeo\"}], \"scattergl\": [{\"marker\": {\"colorbar\": {\"outlinewidth\": 0, \"ticks\": \"\"}}, \"type\": \"scattergl\"}], \"scattermapbox\": [{\"marker\": {\"colorbar\": {\"outlinewidth\": 0, \"ticks\": \"\"}}, \"type\": \"scattermapbox\"}], \"scatterpolar\": [{\"marker\": {\"colorbar\": {\"outlinewidth\": 0, \"ticks\": \"\"}}, \"type\": \"scatterpolar\"}], \"scatterpolargl\": [{\"marker\": {\"colorbar\": {\"outlinewidth\": 0, \"ticks\": \"\"}}, \"type\": \"scatterpolargl\"}], \"scatterternary\": [{\"marker\": {\"colorbar\": {\"outlinewidth\": 0, \"ticks\": \"\"}}, \"type\": \"scatterternary\"}], \"surface\": [{\"colorbar\": {\"outlinewidth\": 0, \"ticks\": \"\"}, \"colorscale\": [[0.0, \"#0d0887\"], [0.1111111111111111, \"#46039f\"], [0.2222222222222222, \"#7201a8\"], [0.3333333333333333, \"#9c179e\"], [0.4444444444444444, \"#bd3786\"], [0.5555555555555556, \"#d8576b\"], [0.6666666666666666, \"#ed7953\"], [0.7777777777777778, \"#fb9f3a\"], [0.8888888888888888, \"#fdca26\"], [1.0, \"#f0f921\"]], \"type\": \"surface\"}], \"table\": [{\"cells\": {\"fill\": {\"color\": \"#EBF0F8\"}, \"line\": {\"color\": \"white\"}}, \"header\": {\"fill\": {\"color\": \"#C8D4E3\"}, \"line\": {\"color\": \"white\"}}, \"type\": \"table\"}]}, \"layout\": {\"annotationdefaults\": {\"arrowcolor\": \"#2a3f5f\", \"arrowhead\": 0, \"arrowwidth\": 1}, \"coloraxis\": {\"colorbar\": {\"outlinewidth\": 0, \"ticks\": \"\"}}, \"colorscale\": {\"diverging\": [[0, \"#8e0152\"], [0.1, \"#c51b7d\"], [0.2, \"#de77ae\"], [0.3, \"#f1b6da\"], [0.4, \"#fde0ef\"], [0.5, \"#f7f7f7\"], [0.6, \"#e6f5d0\"], [0.7, \"#b8e186\"], [0.8, \"#7fbc41\"], [0.9, \"#4d9221\"], [1, \"#276419\"]], \"sequential\": [[0.0, \"#0d0887\"], [0.1111111111111111, \"#46039f\"], [0.2222222222222222, \"#7201a8\"], [0.3333333333333333, \"#9c179e\"], [0.4444444444444444, \"#bd3786\"], [0.5555555555555556, \"#d8576b\"], [0.6666666666666666, \"#ed7953\"], [0.7777777777777778, \"#fb9f3a\"], [0.8888888888888888, \"#fdca26\"], [1.0, \"#f0f921\"]], \"sequentialminus\": [[0.0, \"#0d0887\"], [0.1111111111111111, \"#46039f\"], [0.2222222222222222, \"#7201a8\"], [0.3333333333333333, \"#9c179e\"], [0.4444444444444444, \"#bd3786\"], [0.5555555555555556, \"#d8576b\"], [0.6666666666666666, \"#ed7953\"], [0.7777777777777778, \"#fb9f3a\"], [0.8888888888888888, \"#fdca26\"], [1.0, \"#f0f921\"]]}, \"colorway\": [\"#636efa\", \"#EF553B\", \"#00cc96\", \"#ab63fa\", \"#FFA15A\", \"#19d3f3\", \"#FF6692\", \"#B6E880\", \"#FF97FF\", \"#FECB52\"], \"font\": {\"color\": \"#2a3f5f\"}, \"geo\": {\"bgcolor\": \"white\", \"lakecolor\": \"white\", \"landcolor\": \"#E5ECF6\", \"showlakes\": true, \"showland\": true, \"subunitcolor\": \"white\"}, \"hoverlabel\": {\"align\": \"left\"}, \"hovermode\": \"closest\", \"mapbox\": {\"style\": \"light\"}, \"paper_bgcolor\": \"white\", \"plot_bgcolor\": \"#E5ECF6\", \"polar\": {\"angularaxis\": {\"gridcolor\": \"white\", \"linecolor\": \"white\", \"ticks\": \"\"}, \"bgcolor\": \"#E5ECF6\", \"radialaxis\": {\"gridcolor\": \"white\", \"linecolor\": \"white\", \"ticks\": \"\"}}, \"scene\": {\"xaxis\": {\"backgroundcolor\": \"#E5ECF6\", \"gridcolor\": \"white\", \"gridwidth\": 2, \"linecolor\": \"white\", \"showbackground\": true, \"ticks\": \"\", \"zerolinecolor\": \"white\"}, \"yaxis\": {\"backgroundcolor\": \"#E5ECF6\", \"gridcolor\": \"white\", \"gridwidth\": 2, \"linecolor\": \"white\", \"showbackground\": true, \"ticks\": \"\", \"zerolinecolor\": \"white\"}, \"zaxis\": {\"backgroundcolor\": \"#E5ECF6\", \"gridcolor\": \"white\", \"gridwidth\": 2, \"linecolor\": \"white\", \"showbackground\": true, \"ticks\": \"\", \"zerolinecolor\": \"white\"}}, \"shapedefaults\": {\"line\": {\"color\": \"#2a3f5f\"}}, \"ternary\": {\"aaxis\": {\"gridcolor\": \"white\", \"linecolor\": \"white\", \"ticks\": \"\"}, \"baxis\": {\"gridcolor\": \"white\", \"linecolor\": \"white\", \"ticks\": \"\"}, \"bgcolor\": \"#E5ECF6\", \"caxis\": {\"gridcolor\": \"white\", \"linecolor\": \"white\", \"ticks\": \"\"}}, \"title\": {\"x\": 0.05}, \"xaxis\": {\"automargin\": true, \"gridcolor\": \"white\", \"linecolor\": \"white\", \"ticks\": \"\", \"title\": {\"standoff\": 15}, \"zerolinecolor\": \"white\", \"zerolinewidth\": 2}, \"yaxis\": {\"automargin\": true, \"gridcolor\": \"white\", \"linecolor\": \"white\", \"ticks\": \"\", \"title\": {\"standoff\": 15}, \"zerolinecolor\": \"white\", \"zerolinewidth\": 2}}}},\n",
       "                        {\"responsive\": true}\n",
       "                    ).then(function(){\n",
       "                            \n",
       "var gd = document.getElementById('eea5bb87-8645-43ba-9d21-c162dfffbd23');\n",
       "var x = new MutationObserver(function (mutations, observer) {{\n",
       "        var display = window.getComputedStyle(gd).display;\n",
       "        if (!display || display === 'none') {{\n",
       "            console.log([gd, 'removed!']);\n",
       "            Plotly.purge(gd);\n",
       "            observer.disconnect();\n",
       "        }}\n",
       "}});\n",
       "\n",
       "// Listen for the removal of the full notebook cells\n",
       "var notebookContainer = gd.closest('#notebook-container');\n",
       "if (notebookContainer) {{\n",
       "    x.observe(notebookContainer, {childList: true});\n",
       "}}\n",
       "\n",
       "// Listen for the clearing of the current output cell\n",
       "var outputEl = gd.closest('.output');\n",
       "if (outputEl) {{\n",
       "    x.observe(outputEl, {childList: true});\n",
       "}}\n",
       "\n",
       "                        })\n",
       "                };\n",
       "                });\n",
       "            </script>\n",
       "        </div>"
      ]
     },
     "metadata": {},
     "output_type": "display_data"
    },
    {
     "name": "stdout",
     "output_type": "stream",
     "text": [
      "time: 1.29 s\n"
     ]
    }
   ],
   "source": [
    "fig = go.Figure()\n",
    "for i in companies.index.unique():\n",
    "    temp = employers[employers['employer'] == i]\n",
    "    fig.add_trace(go.Scatter(x=temp.index, y=temp['salary_mean'], name=i))\n",
    "fig.show()"
   ]
  },
  {
   "cell_type": "markdown",
   "metadata": {},
   "source": [
    "## Location-based Analytics"
   ]
  },
  {
   "cell_type": "markdown",
   "metadata": {},
   "source": [
    "### Comparing Cities"
   ]
  },
  {
   "cell_type": "code",
   "execution_count": 826,
   "metadata": {},
   "outputs": [
    {
     "name": "stdout",
     "output_type": "stream",
     "text": [
      "<class 'pandas.core.frame.DataFrame'>\n",
      "Index: 44 entries, ALPHARETTA, GA to WASHINGTON, DC\n",
      "Data columns (total 3 columns):\n",
      "salary_median    44 non-null float64\n",
      "salary_mean      44 non-null float64\n",
      "salary_count     44 non-null int64\n",
      "dtypes: float64(2), int64(1)\n",
      "memory usage: 1.4+ KB\n",
      "time: 41 ms\n"
     ]
    }
   ],
   "source": [
    "loc_salaries = data_scientists.groupby('location').agg({'salary': ['median', 'mean', 'count']})\n",
    "loc_salaries.columns = [\"_\".join(x) for x in loc_salaries.columns.ravel()]\n",
    "loc_salaries = loc_salaries[loc_salaries['salary_count'] > 20]\n",
    "loc_salaries.info()"
   ]
  },
  {
   "cell_type": "code",
   "execution_count": 830,
   "metadata": {},
   "outputs": [
    {
     "data": {
      "application/vnd.plotly.v1+json": {
       "config": {
        "plotlyServerURL": "https://plot.ly"
       },
       "data": [
        {
         "orientation": "h",
         "text": [
          145000,
          145000,
          130000,
          126000,
          123000,
          122824,
          120120,
          120000,
          119228,
          113500,
          113300,
          113256,
          110802,
          110000,
          108400,
          108139,
          108000,
          105810,
          105000,
          105000,
          100506,
          100000,
          100000,
          94861.5,
          94000,
          91000,
          91000,
          90351,
          90106,
          90085,
          90000,
          90000,
          88400,
          85651.5,
          85000,
          83657.5,
          82909,
          82500,
          80850,
          80487,
          80000,
          78250,
          72000,
          69264
         ],
         "textfont": {
          "family": "sans serif",
          "size": 100
         },
         "textposition": "inside",
         "type": "bar",
         "x": [
          145000,
          145000,
          130000,
          126000,
          123000,
          122824,
          120120,
          120000,
          119228,
          113500,
          113300,
          113256,
          110802,
          110000,
          108400,
          108139,
          108000,
          105810,
          105000,
          105000,
          100506,
          100000,
          100000,
          94861.5,
          94000,
          91000,
          91000,
          90351,
          90106,
          90085,
          90000,
          90000,
          88400,
          85651.5,
          85000,
          83657.5,
          82909,
          82500,
          80850,
          80487,
          80000,
          78250,
          72000,
          69264
         ],
         "y": [
          "CUPERTINO, CA",
          "MENLO PARK, CA",
          "MOUNTAIN VIEW, CA",
          "SUNNYVALE, CA",
          "SAN JOSE, CA",
          "SAN FRANCISCO, CA",
          "REDMOND, WA",
          "REDWOOD CITY, CA",
          "SAN MATEO, CA",
          "BELLEVUE, WA",
          "PALO ALTO, CA",
          "SEATTLE, WA",
          "SANTA CLARA, CA",
          "PASADENA, CA",
          "CAMBRIDGE, MA",
          "SAN DIEGO, CA",
          "NEW YORK, NY",
          "MILPITAS, CA",
          "JERSEY CITY, NJ",
          "NEEDHAM, MA",
          "FOSTER CITY, CA",
          "SANTA MONICA, CA",
          "LOS ANGELES, CA",
          "HOUSTON, TX",
          "WASHINGTON, DC",
          "MCLEAN, VA",
          "BENTONVILLE, AR",
          "BOSTON, MA",
          "ATLANTA, GA",
          "CHICAGO, IL",
          "ARLINGTON, VA",
          "AUSTIN, TX",
          "PLANO, TX",
          "DEARBORN, MI",
          "TAMPA, FL",
          "DURHAM, NC",
          "ALPHARETTA, GA",
          "PITTSBURGH, PA",
          "HILLSBORO, OR",
          "DALLAS, TX",
          "CHARLOTTE, NC",
          "CHANDLER, AZ",
          "ANN ARBOR, MI",
          "INDIANAPOLIS, IN"
         ]
        }
       ],
       "layout": {
        "autosize": false,
        "height": 1200,
        "template": {
         "data": {
          "bar": [
           {
            "error_x": {
             "color": "#2a3f5f"
            },
            "error_y": {
             "color": "#2a3f5f"
            },
            "marker": {
             "line": {
              "color": "#E5ECF6",
              "width": 0.5
             }
            },
            "type": "bar"
           }
          ],
          "barpolar": [
           {
            "marker": {
             "line": {
              "color": "#E5ECF6",
              "width": 0.5
             }
            },
            "type": "barpolar"
           }
          ],
          "carpet": [
           {
            "aaxis": {
             "endlinecolor": "#2a3f5f",
             "gridcolor": "white",
             "linecolor": "white",
             "minorgridcolor": "white",
             "startlinecolor": "#2a3f5f"
            },
            "baxis": {
             "endlinecolor": "#2a3f5f",
             "gridcolor": "white",
             "linecolor": "white",
             "minorgridcolor": "white",
             "startlinecolor": "#2a3f5f"
            },
            "type": "carpet"
           }
          ],
          "choropleth": [
           {
            "colorbar": {
             "outlinewidth": 0,
             "ticks": ""
            },
            "type": "choropleth"
           }
          ],
          "contour": [
           {
            "colorbar": {
             "outlinewidth": 0,
             "ticks": ""
            },
            "colorscale": [
             [
              0,
              "#0d0887"
             ],
             [
              0.1111111111111111,
              "#46039f"
             ],
             [
              0.2222222222222222,
              "#7201a8"
             ],
             [
              0.3333333333333333,
              "#9c179e"
             ],
             [
              0.4444444444444444,
              "#bd3786"
             ],
             [
              0.5555555555555556,
              "#d8576b"
             ],
             [
              0.6666666666666666,
              "#ed7953"
             ],
             [
              0.7777777777777778,
              "#fb9f3a"
             ],
             [
              0.8888888888888888,
              "#fdca26"
             ],
             [
              1,
              "#f0f921"
             ]
            ],
            "type": "contour"
           }
          ],
          "contourcarpet": [
           {
            "colorbar": {
             "outlinewidth": 0,
             "ticks": ""
            },
            "type": "contourcarpet"
           }
          ],
          "heatmap": [
           {
            "colorbar": {
             "outlinewidth": 0,
             "ticks": ""
            },
            "colorscale": [
             [
              0,
              "#0d0887"
             ],
             [
              0.1111111111111111,
              "#46039f"
             ],
             [
              0.2222222222222222,
              "#7201a8"
             ],
             [
              0.3333333333333333,
              "#9c179e"
             ],
             [
              0.4444444444444444,
              "#bd3786"
             ],
             [
              0.5555555555555556,
              "#d8576b"
             ],
             [
              0.6666666666666666,
              "#ed7953"
             ],
             [
              0.7777777777777778,
              "#fb9f3a"
             ],
             [
              0.8888888888888888,
              "#fdca26"
             ],
             [
              1,
              "#f0f921"
             ]
            ],
            "type": "heatmap"
           }
          ],
          "heatmapgl": [
           {
            "colorbar": {
             "outlinewidth": 0,
             "ticks": ""
            },
            "colorscale": [
             [
              0,
              "#0d0887"
             ],
             [
              0.1111111111111111,
              "#46039f"
             ],
             [
              0.2222222222222222,
              "#7201a8"
             ],
             [
              0.3333333333333333,
              "#9c179e"
             ],
             [
              0.4444444444444444,
              "#bd3786"
             ],
             [
              0.5555555555555556,
              "#d8576b"
             ],
             [
              0.6666666666666666,
              "#ed7953"
             ],
             [
              0.7777777777777778,
              "#fb9f3a"
             ],
             [
              0.8888888888888888,
              "#fdca26"
             ],
             [
              1,
              "#f0f921"
             ]
            ],
            "type": "heatmapgl"
           }
          ],
          "histogram": [
           {
            "marker": {
             "colorbar": {
              "outlinewidth": 0,
              "ticks": ""
             }
            },
            "type": "histogram"
           }
          ],
          "histogram2d": [
           {
            "colorbar": {
             "outlinewidth": 0,
             "ticks": ""
            },
            "colorscale": [
             [
              0,
              "#0d0887"
             ],
             [
              0.1111111111111111,
              "#46039f"
             ],
             [
              0.2222222222222222,
              "#7201a8"
             ],
             [
              0.3333333333333333,
              "#9c179e"
             ],
             [
              0.4444444444444444,
              "#bd3786"
             ],
             [
              0.5555555555555556,
              "#d8576b"
             ],
             [
              0.6666666666666666,
              "#ed7953"
             ],
             [
              0.7777777777777778,
              "#fb9f3a"
             ],
             [
              0.8888888888888888,
              "#fdca26"
             ],
             [
              1,
              "#f0f921"
             ]
            ],
            "type": "histogram2d"
           }
          ],
          "histogram2dcontour": [
           {
            "colorbar": {
             "outlinewidth": 0,
             "ticks": ""
            },
            "colorscale": [
             [
              0,
              "#0d0887"
             ],
             [
              0.1111111111111111,
              "#46039f"
             ],
             [
              0.2222222222222222,
              "#7201a8"
             ],
             [
              0.3333333333333333,
              "#9c179e"
             ],
             [
              0.4444444444444444,
              "#bd3786"
             ],
             [
              0.5555555555555556,
              "#d8576b"
             ],
             [
              0.6666666666666666,
              "#ed7953"
             ],
             [
              0.7777777777777778,
              "#fb9f3a"
             ],
             [
              0.8888888888888888,
              "#fdca26"
             ],
             [
              1,
              "#f0f921"
             ]
            ],
            "type": "histogram2dcontour"
           }
          ],
          "mesh3d": [
           {
            "colorbar": {
             "outlinewidth": 0,
             "ticks": ""
            },
            "type": "mesh3d"
           }
          ],
          "parcoords": [
           {
            "line": {
             "colorbar": {
              "outlinewidth": 0,
              "ticks": ""
             }
            },
            "type": "parcoords"
           }
          ],
          "pie": [
           {
            "automargin": true,
            "type": "pie"
           }
          ],
          "scatter": [
           {
            "marker": {
             "colorbar": {
              "outlinewidth": 0,
              "ticks": ""
             }
            },
            "type": "scatter"
           }
          ],
          "scatter3d": [
           {
            "line": {
             "colorbar": {
              "outlinewidth": 0,
              "ticks": ""
             }
            },
            "marker": {
             "colorbar": {
              "outlinewidth": 0,
              "ticks": ""
             }
            },
            "type": "scatter3d"
           }
          ],
          "scattercarpet": [
           {
            "marker": {
             "colorbar": {
              "outlinewidth": 0,
              "ticks": ""
             }
            },
            "type": "scattercarpet"
           }
          ],
          "scattergeo": [
           {
            "marker": {
             "colorbar": {
              "outlinewidth": 0,
              "ticks": ""
             }
            },
            "type": "scattergeo"
           }
          ],
          "scattergl": [
           {
            "marker": {
             "colorbar": {
              "outlinewidth": 0,
              "ticks": ""
             }
            },
            "type": "scattergl"
           }
          ],
          "scattermapbox": [
           {
            "marker": {
             "colorbar": {
              "outlinewidth": 0,
              "ticks": ""
             }
            },
            "type": "scattermapbox"
           }
          ],
          "scatterpolar": [
           {
            "marker": {
             "colorbar": {
              "outlinewidth": 0,
              "ticks": ""
             }
            },
            "type": "scatterpolar"
           }
          ],
          "scatterpolargl": [
           {
            "marker": {
             "colorbar": {
              "outlinewidth": 0,
              "ticks": ""
             }
            },
            "type": "scatterpolargl"
           }
          ],
          "scatterternary": [
           {
            "marker": {
             "colorbar": {
              "outlinewidth": 0,
              "ticks": ""
             }
            },
            "type": "scatterternary"
           }
          ],
          "surface": [
           {
            "colorbar": {
             "outlinewidth": 0,
             "ticks": ""
            },
            "colorscale": [
             [
              0,
              "#0d0887"
             ],
             [
              0.1111111111111111,
              "#46039f"
             ],
             [
              0.2222222222222222,
              "#7201a8"
             ],
             [
              0.3333333333333333,
              "#9c179e"
             ],
             [
              0.4444444444444444,
              "#bd3786"
             ],
             [
              0.5555555555555556,
              "#d8576b"
             ],
             [
              0.6666666666666666,
              "#ed7953"
             ],
             [
              0.7777777777777778,
              "#fb9f3a"
             ],
             [
              0.8888888888888888,
              "#fdca26"
             ],
             [
              1,
              "#f0f921"
             ]
            ],
            "type": "surface"
           }
          ],
          "table": [
           {
            "cells": {
             "fill": {
              "color": "#EBF0F8"
             },
             "line": {
              "color": "white"
             }
            },
            "header": {
             "fill": {
              "color": "#C8D4E3"
             },
             "line": {
              "color": "white"
             }
            },
            "type": "table"
           }
          ]
         },
         "layout": {
          "annotationdefaults": {
           "arrowcolor": "#2a3f5f",
           "arrowhead": 0,
           "arrowwidth": 1
          },
          "coloraxis": {
           "colorbar": {
            "outlinewidth": 0,
            "ticks": ""
           }
          },
          "colorscale": {
           "diverging": [
            [
             0,
             "#8e0152"
            ],
            [
             0.1,
             "#c51b7d"
            ],
            [
             0.2,
             "#de77ae"
            ],
            [
             0.3,
             "#f1b6da"
            ],
            [
             0.4,
             "#fde0ef"
            ],
            [
             0.5,
             "#f7f7f7"
            ],
            [
             0.6,
             "#e6f5d0"
            ],
            [
             0.7,
             "#b8e186"
            ],
            [
             0.8,
             "#7fbc41"
            ],
            [
             0.9,
             "#4d9221"
            ],
            [
             1,
             "#276419"
            ]
           ],
           "sequential": [
            [
             0,
             "#0d0887"
            ],
            [
             0.1111111111111111,
             "#46039f"
            ],
            [
             0.2222222222222222,
             "#7201a8"
            ],
            [
             0.3333333333333333,
             "#9c179e"
            ],
            [
             0.4444444444444444,
             "#bd3786"
            ],
            [
             0.5555555555555556,
             "#d8576b"
            ],
            [
             0.6666666666666666,
             "#ed7953"
            ],
            [
             0.7777777777777778,
             "#fb9f3a"
            ],
            [
             0.8888888888888888,
             "#fdca26"
            ],
            [
             1,
             "#f0f921"
            ]
           ],
           "sequentialminus": [
            [
             0,
             "#0d0887"
            ],
            [
             0.1111111111111111,
             "#46039f"
            ],
            [
             0.2222222222222222,
             "#7201a8"
            ],
            [
             0.3333333333333333,
             "#9c179e"
            ],
            [
             0.4444444444444444,
             "#bd3786"
            ],
            [
             0.5555555555555556,
             "#d8576b"
            ],
            [
             0.6666666666666666,
             "#ed7953"
            ],
            [
             0.7777777777777778,
             "#fb9f3a"
            ],
            [
             0.8888888888888888,
             "#fdca26"
            ],
            [
             1,
             "#f0f921"
            ]
           ]
          },
          "colorway": [
           "#636efa",
           "#EF553B",
           "#00cc96",
           "#ab63fa",
           "#FFA15A",
           "#19d3f3",
           "#FF6692",
           "#B6E880",
           "#FF97FF",
           "#FECB52"
          ],
          "font": {
           "color": "#2a3f5f"
          },
          "geo": {
           "bgcolor": "white",
           "lakecolor": "white",
           "landcolor": "#E5ECF6",
           "showlakes": true,
           "showland": true,
           "subunitcolor": "white"
          },
          "hoverlabel": {
           "align": "left"
          },
          "hovermode": "closest",
          "mapbox": {
           "style": "light"
          },
          "paper_bgcolor": "white",
          "plot_bgcolor": "#E5ECF6",
          "polar": {
           "angularaxis": {
            "gridcolor": "white",
            "linecolor": "white",
            "ticks": ""
           },
           "bgcolor": "#E5ECF6",
           "radialaxis": {
            "gridcolor": "white",
            "linecolor": "white",
            "ticks": ""
           }
          },
          "scene": {
           "xaxis": {
            "backgroundcolor": "#E5ECF6",
            "gridcolor": "white",
            "gridwidth": 2,
            "linecolor": "white",
            "showbackground": true,
            "ticks": "",
            "zerolinecolor": "white"
           },
           "yaxis": {
            "backgroundcolor": "#E5ECF6",
            "gridcolor": "white",
            "gridwidth": 2,
            "linecolor": "white",
            "showbackground": true,
            "ticks": "",
            "zerolinecolor": "white"
           },
           "zaxis": {
            "backgroundcolor": "#E5ECF6",
            "gridcolor": "white",
            "gridwidth": 2,
            "linecolor": "white",
            "showbackground": true,
            "ticks": "",
            "zerolinecolor": "white"
           }
          },
          "shapedefaults": {
           "line": {
            "color": "#2a3f5f"
           }
          },
          "ternary": {
           "aaxis": {
            "gridcolor": "white",
            "linecolor": "white",
            "ticks": ""
           },
           "baxis": {
            "gridcolor": "white",
            "linecolor": "white",
            "ticks": ""
           },
           "bgcolor": "#E5ECF6",
           "caxis": {
            "gridcolor": "white",
            "linecolor": "white",
            "ticks": ""
           }
          },
          "title": {
           "x": 0.05
          },
          "xaxis": {
           "automargin": true,
           "gridcolor": "white",
           "linecolor": "white",
           "ticks": "",
           "title": {
            "standoff": 15
           },
           "zerolinecolor": "white",
           "zerolinewidth": 2
          },
          "yaxis": {
           "automargin": true,
           "gridcolor": "white",
           "linecolor": "white",
           "ticks": "",
           "title": {
            "standoff": 15
           },
           "zerolinecolor": "white",
           "zerolinewidth": 2
          }
         }
        },
        "title": {
         "text": "Median Salary by Location"
        },
        "width": 1000,
        "xaxis": {
         "title": {
          "text": "Salary in USD"
         }
        },
        "yaxis": {
         "dtick": 1
        }
       }
      },
      "text/html": [
       "<div>\n",
       "        \n",
       "        \n",
       "            <div id=\"d99fedd3-24a6-46e7-82db-d76bf90d56b6\" class=\"plotly-graph-div\" style=\"height:1200px; width:1000px;\"></div>\n",
       "            <script type=\"text/javascript\">\n",
       "                require([\"plotly\"], function(Plotly) {\n",
       "                    window.PLOTLYENV=window.PLOTLYENV || {};\n",
       "                    \n",
       "                if (document.getElementById(\"d99fedd3-24a6-46e7-82db-d76bf90d56b6\")) {\n",
       "                    Plotly.newPlot(\n",
       "                        'd99fedd3-24a6-46e7-82db-d76bf90d56b6',\n",
       "                        [{\"orientation\": \"h\", \"text\": [145000.0, 145000.0, 130000.0, 126000.0, 123000.0, 122824.0, 120120.0, 120000.0, 119228.0, 113500.0, 113300.0, 113256.0, 110802.0, 110000.0, 108400.0, 108139.0, 108000.0, 105810.0, 105000.0, 105000.0, 100506.0, 100000.0, 100000.0, 94861.5, 94000.0, 91000.0, 91000.0, 90351.0, 90106.0, 90085.0, 90000.0, 90000.0, 88400.0, 85651.5, 85000.0, 83657.5, 82909.0, 82500.0, 80850.0, 80487.0, 80000.0, 78250.0, 72000.0, 69264.0], \"textfont\": {\"family\": \"sans serif\", \"size\": 100}, \"textposition\": \"inside\", \"type\": \"bar\", \"x\": [145000.0, 145000.0, 130000.0, 126000.0, 123000.0, 122824.0, 120120.0, 120000.0, 119228.0, 113500.0, 113300.0, 113256.0, 110802.0, 110000.0, 108400.0, 108139.0, 108000.0, 105810.0, 105000.0, 105000.0, 100506.0, 100000.0, 100000.0, 94861.5, 94000.0, 91000.0, 91000.0, 90351.0, 90106.0, 90085.0, 90000.0, 90000.0, 88400.0, 85651.5, 85000.0, 83657.5, 82909.0, 82500.0, 80850.0, 80487.0, 80000.0, 78250.0, 72000.0, 69264.0], \"y\": [\"CUPERTINO, CA\", \"MENLO PARK, CA\", \"MOUNTAIN VIEW, CA\", \"SUNNYVALE, CA\", \"SAN JOSE, CA\", \"SAN FRANCISCO, CA\", \"REDMOND, WA\", \"REDWOOD CITY, CA\", \"SAN MATEO, CA\", \"BELLEVUE, WA\", \"PALO ALTO, CA\", \"SEATTLE, WA\", \"SANTA CLARA, CA\", \"PASADENA, CA\", \"CAMBRIDGE, MA\", \"SAN DIEGO, CA\", \"NEW YORK, NY\", \"MILPITAS, CA\", \"JERSEY CITY, NJ\", \"NEEDHAM, MA\", \"FOSTER CITY, CA\", \"SANTA MONICA, CA\", \"LOS ANGELES, CA\", \"HOUSTON, TX\", \"WASHINGTON, DC\", \"MCLEAN, VA\", \"BENTONVILLE, AR\", \"BOSTON, MA\", \"ATLANTA, GA\", \"CHICAGO, IL\", \"ARLINGTON, VA\", \"AUSTIN, TX\", \"PLANO, TX\", \"DEARBORN, MI\", \"TAMPA, FL\", \"DURHAM, NC\", \"ALPHARETTA, GA\", \"PITTSBURGH, PA\", \"HILLSBORO, OR\", \"DALLAS, TX\", \"CHARLOTTE, NC\", \"CHANDLER, AZ\", \"ANN ARBOR, MI\", \"INDIANAPOLIS, IN\"]}],\n",
       "                        {\"autosize\": false, \"height\": 1200, \"template\": {\"data\": {\"bar\": [{\"error_x\": {\"color\": \"#2a3f5f\"}, \"error_y\": {\"color\": \"#2a3f5f\"}, \"marker\": {\"line\": {\"color\": \"#E5ECF6\", \"width\": 0.5}}, \"type\": \"bar\"}], \"barpolar\": [{\"marker\": {\"line\": {\"color\": \"#E5ECF6\", \"width\": 0.5}}, \"type\": \"barpolar\"}], \"carpet\": [{\"aaxis\": {\"endlinecolor\": \"#2a3f5f\", \"gridcolor\": \"white\", \"linecolor\": \"white\", \"minorgridcolor\": \"white\", \"startlinecolor\": \"#2a3f5f\"}, \"baxis\": {\"endlinecolor\": \"#2a3f5f\", \"gridcolor\": \"white\", \"linecolor\": \"white\", \"minorgridcolor\": \"white\", \"startlinecolor\": \"#2a3f5f\"}, \"type\": \"carpet\"}], \"choropleth\": [{\"colorbar\": {\"outlinewidth\": 0, \"ticks\": \"\"}, \"type\": \"choropleth\"}], \"contour\": [{\"colorbar\": {\"outlinewidth\": 0, \"ticks\": \"\"}, \"colorscale\": [[0.0, \"#0d0887\"], [0.1111111111111111, \"#46039f\"], [0.2222222222222222, \"#7201a8\"], [0.3333333333333333, \"#9c179e\"], [0.4444444444444444, \"#bd3786\"], [0.5555555555555556, \"#d8576b\"], [0.6666666666666666, \"#ed7953\"], [0.7777777777777778, \"#fb9f3a\"], [0.8888888888888888, \"#fdca26\"], [1.0, \"#f0f921\"]], \"type\": \"contour\"}], \"contourcarpet\": [{\"colorbar\": {\"outlinewidth\": 0, \"ticks\": \"\"}, \"type\": \"contourcarpet\"}], \"heatmap\": [{\"colorbar\": {\"outlinewidth\": 0, \"ticks\": \"\"}, \"colorscale\": [[0.0, \"#0d0887\"], [0.1111111111111111, \"#46039f\"], [0.2222222222222222, \"#7201a8\"], [0.3333333333333333, \"#9c179e\"], [0.4444444444444444, \"#bd3786\"], [0.5555555555555556, \"#d8576b\"], [0.6666666666666666, \"#ed7953\"], [0.7777777777777778, \"#fb9f3a\"], [0.8888888888888888, \"#fdca26\"], [1.0, \"#f0f921\"]], \"type\": \"heatmap\"}], \"heatmapgl\": [{\"colorbar\": {\"outlinewidth\": 0, \"ticks\": \"\"}, \"colorscale\": [[0.0, \"#0d0887\"], [0.1111111111111111, \"#46039f\"], [0.2222222222222222, \"#7201a8\"], [0.3333333333333333, \"#9c179e\"], [0.4444444444444444, \"#bd3786\"], [0.5555555555555556, \"#d8576b\"], [0.6666666666666666, \"#ed7953\"], [0.7777777777777778, \"#fb9f3a\"], [0.8888888888888888, \"#fdca26\"], [1.0, \"#f0f921\"]], \"type\": \"heatmapgl\"}], \"histogram\": [{\"marker\": {\"colorbar\": {\"outlinewidth\": 0, \"ticks\": \"\"}}, \"type\": \"histogram\"}], \"histogram2d\": [{\"colorbar\": {\"outlinewidth\": 0, \"ticks\": \"\"}, \"colorscale\": [[0.0, \"#0d0887\"], [0.1111111111111111, \"#46039f\"], [0.2222222222222222, \"#7201a8\"], [0.3333333333333333, \"#9c179e\"], [0.4444444444444444, \"#bd3786\"], [0.5555555555555556, \"#d8576b\"], [0.6666666666666666, \"#ed7953\"], [0.7777777777777778, \"#fb9f3a\"], [0.8888888888888888, \"#fdca26\"], [1.0, \"#f0f921\"]], \"type\": \"histogram2d\"}], \"histogram2dcontour\": [{\"colorbar\": {\"outlinewidth\": 0, \"ticks\": \"\"}, \"colorscale\": [[0.0, \"#0d0887\"], [0.1111111111111111, \"#46039f\"], [0.2222222222222222, \"#7201a8\"], [0.3333333333333333, \"#9c179e\"], [0.4444444444444444, \"#bd3786\"], [0.5555555555555556, \"#d8576b\"], [0.6666666666666666, \"#ed7953\"], [0.7777777777777778, \"#fb9f3a\"], [0.8888888888888888, \"#fdca26\"], [1.0, \"#f0f921\"]], \"type\": \"histogram2dcontour\"}], \"mesh3d\": [{\"colorbar\": {\"outlinewidth\": 0, \"ticks\": \"\"}, \"type\": \"mesh3d\"}], \"parcoords\": [{\"line\": {\"colorbar\": {\"outlinewidth\": 0, \"ticks\": \"\"}}, \"type\": \"parcoords\"}], \"pie\": [{\"automargin\": true, \"type\": \"pie\"}], \"scatter\": [{\"marker\": {\"colorbar\": {\"outlinewidth\": 0, \"ticks\": \"\"}}, \"type\": \"scatter\"}], \"scatter3d\": [{\"line\": {\"colorbar\": {\"outlinewidth\": 0, \"ticks\": \"\"}}, \"marker\": {\"colorbar\": {\"outlinewidth\": 0, \"ticks\": \"\"}}, \"type\": \"scatter3d\"}], \"scattercarpet\": [{\"marker\": {\"colorbar\": {\"outlinewidth\": 0, \"ticks\": \"\"}}, \"type\": \"scattercarpet\"}], \"scattergeo\": [{\"marker\": {\"colorbar\": {\"outlinewidth\": 0, \"ticks\": \"\"}}, \"type\": \"scattergeo\"}], \"scattergl\": [{\"marker\": {\"colorbar\": {\"outlinewidth\": 0, \"ticks\": \"\"}}, \"type\": \"scattergl\"}], \"scattermapbox\": [{\"marker\": {\"colorbar\": {\"outlinewidth\": 0, \"ticks\": \"\"}}, \"type\": \"scattermapbox\"}], \"scatterpolar\": [{\"marker\": {\"colorbar\": {\"outlinewidth\": 0, \"ticks\": \"\"}}, \"type\": \"scatterpolar\"}], \"scatterpolargl\": [{\"marker\": {\"colorbar\": {\"outlinewidth\": 0, \"ticks\": \"\"}}, \"type\": \"scatterpolargl\"}], \"scatterternary\": [{\"marker\": {\"colorbar\": {\"outlinewidth\": 0, \"ticks\": \"\"}}, \"type\": \"scatterternary\"}], \"surface\": [{\"colorbar\": {\"outlinewidth\": 0, \"ticks\": \"\"}, \"colorscale\": [[0.0, \"#0d0887\"], [0.1111111111111111, \"#46039f\"], [0.2222222222222222, \"#7201a8\"], [0.3333333333333333, \"#9c179e\"], [0.4444444444444444, \"#bd3786\"], [0.5555555555555556, \"#d8576b\"], [0.6666666666666666, \"#ed7953\"], [0.7777777777777778, \"#fb9f3a\"], [0.8888888888888888, \"#fdca26\"], [1.0, \"#f0f921\"]], \"type\": \"surface\"}], \"table\": [{\"cells\": {\"fill\": {\"color\": \"#EBF0F8\"}, \"line\": {\"color\": \"white\"}}, \"header\": {\"fill\": {\"color\": \"#C8D4E3\"}, \"line\": {\"color\": \"white\"}}, \"type\": \"table\"}]}, \"layout\": {\"annotationdefaults\": {\"arrowcolor\": \"#2a3f5f\", \"arrowhead\": 0, \"arrowwidth\": 1}, \"coloraxis\": {\"colorbar\": {\"outlinewidth\": 0, \"ticks\": \"\"}}, \"colorscale\": {\"diverging\": [[0, \"#8e0152\"], [0.1, \"#c51b7d\"], [0.2, \"#de77ae\"], [0.3, \"#f1b6da\"], [0.4, \"#fde0ef\"], [0.5, \"#f7f7f7\"], [0.6, \"#e6f5d0\"], [0.7, \"#b8e186\"], [0.8, \"#7fbc41\"], [0.9, \"#4d9221\"], [1, \"#276419\"]], \"sequential\": [[0.0, \"#0d0887\"], [0.1111111111111111, \"#46039f\"], [0.2222222222222222, \"#7201a8\"], [0.3333333333333333, \"#9c179e\"], [0.4444444444444444, \"#bd3786\"], [0.5555555555555556, \"#d8576b\"], [0.6666666666666666, \"#ed7953\"], [0.7777777777777778, \"#fb9f3a\"], [0.8888888888888888, \"#fdca26\"], [1.0, \"#f0f921\"]], \"sequentialminus\": [[0.0, \"#0d0887\"], [0.1111111111111111, \"#46039f\"], [0.2222222222222222, \"#7201a8\"], [0.3333333333333333, \"#9c179e\"], [0.4444444444444444, \"#bd3786\"], [0.5555555555555556, \"#d8576b\"], [0.6666666666666666, \"#ed7953\"], [0.7777777777777778, \"#fb9f3a\"], [0.8888888888888888, \"#fdca26\"], [1.0, \"#f0f921\"]]}, \"colorway\": [\"#636efa\", \"#EF553B\", \"#00cc96\", \"#ab63fa\", \"#FFA15A\", \"#19d3f3\", \"#FF6692\", \"#B6E880\", \"#FF97FF\", \"#FECB52\"], \"font\": {\"color\": \"#2a3f5f\"}, \"geo\": {\"bgcolor\": \"white\", \"lakecolor\": \"white\", \"landcolor\": \"#E5ECF6\", \"showlakes\": true, \"showland\": true, \"subunitcolor\": \"white\"}, \"hoverlabel\": {\"align\": \"left\"}, \"hovermode\": \"closest\", \"mapbox\": {\"style\": \"light\"}, \"paper_bgcolor\": \"white\", \"plot_bgcolor\": \"#E5ECF6\", \"polar\": {\"angularaxis\": {\"gridcolor\": \"white\", \"linecolor\": \"white\", \"ticks\": \"\"}, \"bgcolor\": \"#E5ECF6\", \"radialaxis\": {\"gridcolor\": \"white\", \"linecolor\": \"white\", \"ticks\": \"\"}}, \"scene\": {\"xaxis\": {\"backgroundcolor\": \"#E5ECF6\", \"gridcolor\": \"white\", \"gridwidth\": 2, \"linecolor\": \"white\", \"showbackground\": true, \"ticks\": \"\", \"zerolinecolor\": \"white\"}, \"yaxis\": {\"backgroundcolor\": \"#E5ECF6\", \"gridcolor\": \"white\", \"gridwidth\": 2, \"linecolor\": \"white\", \"showbackground\": true, \"ticks\": \"\", \"zerolinecolor\": \"white\"}, \"zaxis\": {\"backgroundcolor\": \"#E5ECF6\", \"gridcolor\": \"white\", \"gridwidth\": 2, \"linecolor\": \"white\", \"showbackground\": true, \"ticks\": \"\", \"zerolinecolor\": \"white\"}}, \"shapedefaults\": {\"line\": {\"color\": \"#2a3f5f\"}}, \"ternary\": {\"aaxis\": {\"gridcolor\": \"white\", \"linecolor\": \"white\", \"ticks\": \"\"}, \"baxis\": {\"gridcolor\": \"white\", \"linecolor\": \"white\", \"ticks\": \"\"}, \"bgcolor\": \"#E5ECF6\", \"caxis\": {\"gridcolor\": \"white\", \"linecolor\": \"white\", \"ticks\": \"\"}}, \"title\": {\"x\": 0.05}, \"xaxis\": {\"automargin\": true, \"gridcolor\": \"white\", \"linecolor\": \"white\", \"ticks\": \"\", \"title\": {\"standoff\": 15}, \"zerolinecolor\": \"white\", \"zerolinewidth\": 2}, \"yaxis\": {\"automargin\": true, \"gridcolor\": \"white\", \"linecolor\": \"white\", \"ticks\": \"\", \"title\": {\"standoff\": 15}, \"zerolinecolor\": \"white\", \"zerolinewidth\": 2}}}, \"title\": {\"text\": \"Median Salary by Location\"}, \"width\": 1000, \"xaxis\": {\"title\": {\"text\": \"Salary in USD\"}}, \"yaxis\": {\"dtick\": 1}},\n",
       "                        {\"responsive\": true}\n",
       "                    ).then(function(){\n",
       "                            \n",
       "var gd = document.getElementById('d99fedd3-24a6-46e7-82db-d76bf90d56b6');\n",
       "var x = new MutationObserver(function (mutations, observer) {{\n",
       "        var display = window.getComputedStyle(gd).display;\n",
       "        if (!display || display === 'none') {{\n",
       "            console.log([gd, 'removed!']);\n",
       "            Plotly.purge(gd);\n",
       "            observer.disconnect();\n",
       "        }}\n",
       "}});\n",
       "\n",
       "// Listen for the removal of the full notebook cells\n",
       "var notebookContainer = gd.closest('#notebook-container');\n",
       "if (notebookContainer) {{\n",
       "    x.observe(notebookContainer, {childList: true});\n",
       "}}\n",
       "\n",
       "// Listen for the clearing of the current output cell\n",
       "var outputEl = gd.closest('.output');\n",
       "if (outputEl) {{\n",
       "    x.observe(outputEl, {childList: true});\n",
       "}}\n",
       "\n",
       "                        })\n",
       "                };\n",
       "                });\n",
       "            </script>\n",
       "        </div>"
      ]
     },
     "metadata": {},
     "output_type": "display_data"
    },
    {
     "name": "stdout",
     "output_type": "stream",
     "text": [
      "time: 330 ms\n"
     ]
    }
   ],
   "source": [
    "loc_salaries = loc_salaries.sort_values(by='salary_median', ascending=False)\n",
    "\n",
    "data = [go.Bar(\n",
    "    y=loc_salaries.index, \n",
    "    x=loc_salaries.salary_median, \n",
    "    text=loc_salaries.salary_median, \n",
    "    textposition='inside',\n",
    "        textfont=dict(\n",
    "        family=\"sans serif\",\n",
    "        size=100),\n",
    "    orientation='h')]\n",
    "\n",
    "layout = go.Layout(\n",
    "    autosize=False,\n",
    "    width=1000,\n",
    "    height=1200\n",
    ")\n",
    "\n",
    "fig = go.Figure(data=data, layout=layout)\n",
    "fig.update_layout(\n",
    "    title = 'Median Salary by Location', \n",
    "    xaxis_title = 'Salary in USD',\n",
    "    yaxis_dtick = 1\n",
    ")\n",
    "fig.show()"
   ]
  },
  {
   "cell_type": "markdown",
   "metadata": {},
   "source": [
    "### Comparing States"
   ]
  },
  {
   "cell_type": "code",
   "execution_count": 851,
   "metadata": {},
   "outputs": [
    {
     "name": "stdout",
     "output_type": "stream",
     "text": [
      "<class 'pandas.core.frame.DataFrame'>\n",
      "Index: 47 entries,  to  WY\n",
      "Data columns (total 3 columns):\n",
      "salary_median    47 non-null float64\n",
      "salary_mean      47 non-null float64\n",
      "salary_count     47 non-null int64\n",
      "dtypes: float64(2), int64(1)\n",
      "memory usage: 1.5+ KB\n",
      "time: 200 ms\n"
     ]
    }
   ],
   "source": [
    "state_salaries = data_scientists.groupby('state').agg({'salary': ['median', 'mean', 'count']})\n",
    "state_salaries.columns = [\"_\".join(x) for x in state_salaries.columns.ravel()]\n",
    "state_salaries.info()"
   ]
  },
  {
   "cell_type": "code",
   "execution_count": 856,
   "metadata": {},
   "outputs": [
    {
     "data": {
      "application/vnd.plotly.v1+json": {
       "config": {
        "plotlyServerURL": "https://plot.ly"
       },
       "data": [
        {
         "text": [
          3021,
          782,
          600,
          435,
          394,
          317,
          206,
          188,
          167,
          113,
          105,
          101,
          95,
          80,
          60,
          56,
          56,
          52,
          52,
          49,
          48,
          47,
          45,
          38,
          35,
          29,
          26,
          20,
          18,
          15,
          13,
          11,
          9,
          8,
          8,
          8,
          7,
          5,
          3,
          3,
          3,
          3,
          2,
          2,
          2,
          1,
          1
         ],
         "type": "bar",
         "x": [
          " CA",
          " NY",
          " WA",
          " MA",
          " TX",
          " IL",
          " GA",
          " NJ",
          " MI",
          " PA",
          " NC",
          " FL",
          " VA",
          " OH",
          " MO",
          " CT",
          " AZ",
          " UT",
          " MN",
          " CO",
          " OR",
          " MD",
          " IN",
          " AR",
          " DC",
          " WI",
          " TN",
          " IA",
          " NE",
          " SC",
          " KY",
          " NV",
          " KS",
          " OK",
          " RI",
          " DE",
          " ID",
          " AL",
          "",
          " NM",
          " NH",
          " HI",
          " PR",
          " MS",
          " LA",
          " IL 60654",
          " WY"
         ],
         "y": [
          3021,
          782,
          600,
          435,
          394,
          317,
          206,
          188,
          167,
          113,
          105,
          101,
          95,
          80,
          60,
          56,
          56,
          52,
          52,
          49,
          48,
          47,
          45,
          38,
          35,
          29,
          26,
          20,
          18,
          15,
          13,
          11,
          9,
          8,
          8,
          8,
          7,
          5,
          3,
          3,
          3,
          3,
          2,
          2,
          2,
          1,
          1
         ]
        }
       ],
       "layout": {
        "autosize": false,
        "height": 500,
        "template": {
         "data": {
          "bar": [
           {
            "error_x": {
             "color": "#2a3f5f"
            },
            "error_y": {
             "color": "#2a3f5f"
            },
            "marker": {
             "line": {
              "color": "#E5ECF6",
              "width": 0.5
             }
            },
            "type": "bar"
           }
          ],
          "barpolar": [
           {
            "marker": {
             "line": {
              "color": "#E5ECF6",
              "width": 0.5
             }
            },
            "type": "barpolar"
           }
          ],
          "carpet": [
           {
            "aaxis": {
             "endlinecolor": "#2a3f5f",
             "gridcolor": "white",
             "linecolor": "white",
             "minorgridcolor": "white",
             "startlinecolor": "#2a3f5f"
            },
            "baxis": {
             "endlinecolor": "#2a3f5f",
             "gridcolor": "white",
             "linecolor": "white",
             "minorgridcolor": "white",
             "startlinecolor": "#2a3f5f"
            },
            "type": "carpet"
           }
          ],
          "choropleth": [
           {
            "colorbar": {
             "outlinewidth": 0,
             "ticks": ""
            },
            "type": "choropleth"
           }
          ],
          "contour": [
           {
            "colorbar": {
             "outlinewidth": 0,
             "ticks": ""
            },
            "colorscale": [
             [
              0,
              "#0d0887"
             ],
             [
              0.1111111111111111,
              "#46039f"
             ],
             [
              0.2222222222222222,
              "#7201a8"
             ],
             [
              0.3333333333333333,
              "#9c179e"
             ],
             [
              0.4444444444444444,
              "#bd3786"
             ],
             [
              0.5555555555555556,
              "#d8576b"
             ],
             [
              0.6666666666666666,
              "#ed7953"
             ],
             [
              0.7777777777777778,
              "#fb9f3a"
             ],
             [
              0.8888888888888888,
              "#fdca26"
             ],
             [
              1,
              "#f0f921"
             ]
            ],
            "type": "contour"
           }
          ],
          "contourcarpet": [
           {
            "colorbar": {
             "outlinewidth": 0,
             "ticks": ""
            },
            "type": "contourcarpet"
           }
          ],
          "heatmap": [
           {
            "colorbar": {
             "outlinewidth": 0,
             "ticks": ""
            },
            "colorscale": [
             [
              0,
              "#0d0887"
             ],
             [
              0.1111111111111111,
              "#46039f"
             ],
             [
              0.2222222222222222,
              "#7201a8"
             ],
             [
              0.3333333333333333,
              "#9c179e"
             ],
             [
              0.4444444444444444,
              "#bd3786"
             ],
             [
              0.5555555555555556,
              "#d8576b"
             ],
             [
              0.6666666666666666,
              "#ed7953"
             ],
             [
              0.7777777777777778,
              "#fb9f3a"
             ],
             [
              0.8888888888888888,
              "#fdca26"
             ],
             [
              1,
              "#f0f921"
             ]
            ],
            "type": "heatmap"
           }
          ],
          "heatmapgl": [
           {
            "colorbar": {
             "outlinewidth": 0,
             "ticks": ""
            },
            "colorscale": [
             [
              0,
              "#0d0887"
             ],
             [
              0.1111111111111111,
              "#46039f"
             ],
             [
              0.2222222222222222,
              "#7201a8"
             ],
             [
              0.3333333333333333,
              "#9c179e"
             ],
             [
              0.4444444444444444,
              "#bd3786"
             ],
             [
              0.5555555555555556,
              "#d8576b"
             ],
             [
              0.6666666666666666,
              "#ed7953"
             ],
             [
              0.7777777777777778,
              "#fb9f3a"
             ],
             [
              0.8888888888888888,
              "#fdca26"
             ],
             [
              1,
              "#f0f921"
             ]
            ],
            "type": "heatmapgl"
           }
          ],
          "histogram": [
           {
            "marker": {
             "colorbar": {
              "outlinewidth": 0,
              "ticks": ""
             }
            },
            "type": "histogram"
           }
          ],
          "histogram2d": [
           {
            "colorbar": {
             "outlinewidth": 0,
             "ticks": ""
            },
            "colorscale": [
             [
              0,
              "#0d0887"
             ],
             [
              0.1111111111111111,
              "#46039f"
             ],
             [
              0.2222222222222222,
              "#7201a8"
             ],
             [
              0.3333333333333333,
              "#9c179e"
             ],
             [
              0.4444444444444444,
              "#bd3786"
             ],
             [
              0.5555555555555556,
              "#d8576b"
             ],
             [
              0.6666666666666666,
              "#ed7953"
             ],
             [
              0.7777777777777778,
              "#fb9f3a"
             ],
             [
              0.8888888888888888,
              "#fdca26"
             ],
             [
              1,
              "#f0f921"
             ]
            ],
            "type": "histogram2d"
           }
          ],
          "histogram2dcontour": [
           {
            "colorbar": {
             "outlinewidth": 0,
             "ticks": ""
            },
            "colorscale": [
             [
              0,
              "#0d0887"
             ],
             [
              0.1111111111111111,
              "#46039f"
             ],
             [
              0.2222222222222222,
              "#7201a8"
             ],
             [
              0.3333333333333333,
              "#9c179e"
             ],
             [
              0.4444444444444444,
              "#bd3786"
             ],
             [
              0.5555555555555556,
              "#d8576b"
             ],
             [
              0.6666666666666666,
              "#ed7953"
             ],
             [
              0.7777777777777778,
              "#fb9f3a"
             ],
             [
              0.8888888888888888,
              "#fdca26"
             ],
             [
              1,
              "#f0f921"
             ]
            ],
            "type": "histogram2dcontour"
           }
          ],
          "mesh3d": [
           {
            "colorbar": {
             "outlinewidth": 0,
             "ticks": ""
            },
            "type": "mesh3d"
           }
          ],
          "parcoords": [
           {
            "line": {
             "colorbar": {
              "outlinewidth": 0,
              "ticks": ""
             }
            },
            "type": "parcoords"
           }
          ],
          "pie": [
           {
            "automargin": true,
            "type": "pie"
           }
          ],
          "scatter": [
           {
            "marker": {
             "colorbar": {
              "outlinewidth": 0,
              "ticks": ""
             }
            },
            "type": "scatter"
           }
          ],
          "scatter3d": [
           {
            "line": {
             "colorbar": {
              "outlinewidth": 0,
              "ticks": ""
             }
            },
            "marker": {
             "colorbar": {
              "outlinewidth": 0,
              "ticks": ""
             }
            },
            "type": "scatter3d"
           }
          ],
          "scattercarpet": [
           {
            "marker": {
             "colorbar": {
              "outlinewidth": 0,
              "ticks": ""
             }
            },
            "type": "scattercarpet"
           }
          ],
          "scattergeo": [
           {
            "marker": {
             "colorbar": {
              "outlinewidth": 0,
              "ticks": ""
             }
            },
            "type": "scattergeo"
           }
          ],
          "scattergl": [
           {
            "marker": {
             "colorbar": {
              "outlinewidth": 0,
              "ticks": ""
             }
            },
            "type": "scattergl"
           }
          ],
          "scattermapbox": [
           {
            "marker": {
             "colorbar": {
              "outlinewidth": 0,
              "ticks": ""
             }
            },
            "type": "scattermapbox"
           }
          ],
          "scatterpolar": [
           {
            "marker": {
             "colorbar": {
              "outlinewidth": 0,
              "ticks": ""
             }
            },
            "type": "scatterpolar"
           }
          ],
          "scatterpolargl": [
           {
            "marker": {
             "colorbar": {
              "outlinewidth": 0,
              "ticks": ""
             }
            },
            "type": "scatterpolargl"
           }
          ],
          "scatterternary": [
           {
            "marker": {
             "colorbar": {
              "outlinewidth": 0,
              "ticks": ""
             }
            },
            "type": "scatterternary"
           }
          ],
          "surface": [
           {
            "colorbar": {
             "outlinewidth": 0,
             "ticks": ""
            },
            "colorscale": [
             [
              0,
              "#0d0887"
             ],
             [
              0.1111111111111111,
              "#46039f"
             ],
             [
              0.2222222222222222,
              "#7201a8"
             ],
             [
              0.3333333333333333,
              "#9c179e"
             ],
             [
              0.4444444444444444,
              "#bd3786"
             ],
             [
              0.5555555555555556,
              "#d8576b"
             ],
             [
              0.6666666666666666,
              "#ed7953"
             ],
             [
              0.7777777777777778,
              "#fb9f3a"
             ],
             [
              0.8888888888888888,
              "#fdca26"
             ],
             [
              1,
              "#f0f921"
             ]
            ],
            "type": "surface"
           }
          ],
          "table": [
           {
            "cells": {
             "fill": {
              "color": "#EBF0F8"
             },
             "line": {
              "color": "white"
             }
            },
            "header": {
             "fill": {
              "color": "#C8D4E3"
             },
             "line": {
              "color": "white"
             }
            },
            "type": "table"
           }
          ]
         },
         "layout": {
          "annotationdefaults": {
           "arrowcolor": "#2a3f5f",
           "arrowhead": 0,
           "arrowwidth": 1
          },
          "coloraxis": {
           "colorbar": {
            "outlinewidth": 0,
            "ticks": ""
           }
          },
          "colorscale": {
           "diverging": [
            [
             0,
             "#8e0152"
            ],
            [
             0.1,
             "#c51b7d"
            ],
            [
             0.2,
             "#de77ae"
            ],
            [
             0.3,
             "#f1b6da"
            ],
            [
             0.4,
             "#fde0ef"
            ],
            [
             0.5,
             "#f7f7f7"
            ],
            [
             0.6,
             "#e6f5d0"
            ],
            [
             0.7,
             "#b8e186"
            ],
            [
             0.8,
             "#7fbc41"
            ],
            [
             0.9,
             "#4d9221"
            ],
            [
             1,
             "#276419"
            ]
           ],
           "sequential": [
            [
             0,
             "#0d0887"
            ],
            [
             0.1111111111111111,
             "#46039f"
            ],
            [
             0.2222222222222222,
             "#7201a8"
            ],
            [
             0.3333333333333333,
             "#9c179e"
            ],
            [
             0.4444444444444444,
             "#bd3786"
            ],
            [
             0.5555555555555556,
             "#d8576b"
            ],
            [
             0.6666666666666666,
             "#ed7953"
            ],
            [
             0.7777777777777778,
             "#fb9f3a"
            ],
            [
             0.8888888888888888,
             "#fdca26"
            ],
            [
             1,
             "#f0f921"
            ]
           ],
           "sequentialminus": [
            [
             0,
             "#0d0887"
            ],
            [
             0.1111111111111111,
             "#46039f"
            ],
            [
             0.2222222222222222,
             "#7201a8"
            ],
            [
             0.3333333333333333,
             "#9c179e"
            ],
            [
             0.4444444444444444,
             "#bd3786"
            ],
            [
             0.5555555555555556,
             "#d8576b"
            ],
            [
             0.6666666666666666,
             "#ed7953"
            ],
            [
             0.7777777777777778,
             "#fb9f3a"
            ],
            [
             0.8888888888888888,
             "#fdca26"
            ],
            [
             1,
             "#f0f921"
            ]
           ]
          },
          "colorway": [
           "#636efa",
           "#EF553B",
           "#00cc96",
           "#ab63fa",
           "#FFA15A",
           "#19d3f3",
           "#FF6692",
           "#B6E880",
           "#FF97FF",
           "#FECB52"
          ],
          "font": {
           "color": "#2a3f5f"
          },
          "geo": {
           "bgcolor": "white",
           "lakecolor": "white",
           "landcolor": "#E5ECF6",
           "showlakes": true,
           "showland": true,
           "subunitcolor": "white"
          },
          "hoverlabel": {
           "align": "left"
          },
          "hovermode": "closest",
          "mapbox": {
           "style": "light"
          },
          "paper_bgcolor": "white",
          "plot_bgcolor": "#E5ECF6",
          "polar": {
           "angularaxis": {
            "gridcolor": "white",
            "linecolor": "white",
            "ticks": ""
           },
           "bgcolor": "#E5ECF6",
           "radialaxis": {
            "gridcolor": "white",
            "linecolor": "white",
            "ticks": ""
           }
          },
          "scene": {
           "xaxis": {
            "backgroundcolor": "#E5ECF6",
            "gridcolor": "white",
            "gridwidth": 2,
            "linecolor": "white",
            "showbackground": true,
            "ticks": "",
            "zerolinecolor": "white"
           },
           "yaxis": {
            "backgroundcolor": "#E5ECF6",
            "gridcolor": "white",
            "gridwidth": 2,
            "linecolor": "white",
            "showbackground": true,
            "ticks": "",
            "zerolinecolor": "white"
           },
           "zaxis": {
            "backgroundcolor": "#E5ECF6",
            "gridcolor": "white",
            "gridwidth": 2,
            "linecolor": "white",
            "showbackground": true,
            "ticks": "",
            "zerolinecolor": "white"
           }
          },
          "shapedefaults": {
           "line": {
            "color": "#2a3f5f"
           }
          },
          "ternary": {
           "aaxis": {
            "gridcolor": "white",
            "linecolor": "white",
            "ticks": ""
           },
           "baxis": {
            "gridcolor": "white",
            "linecolor": "white",
            "ticks": ""
           },
           "bgcolor": "#E5ECF6",
           "caxis": {
            "gridcolor": "white",
            "linecolor": "white",
            "ticks": ""
           }
          },
          "title": {
           "x": 0.05
          },
          "xaxis": {
           "automargin": true,
           "gridcolor": "white",
           "linecolor": "white",
           "ticks": "",
           "title": {
            "standoff": 15
           },
           "zerolinecolor": "white",
           "zerolinewidth": 2
          },
          "yaxis": {
           "automargin": true,
           "gridcolor": "white",
           "linecolor": "white",
           "ticks": "",
           "title": {
            "standoff": 15
           },
           "zerolinecolor": "white",
           "zerolinewidth": 2
          }
         }
        },
        "title": {
         "text": "Hires by State"
        },
        "width": 1000,
        "xaxis": {
         "title": {
          "text": "State"
         }
        },
        "yaxis": {
         "title": {
          "text": "Hires"
         }
        }
       }
      },
      "text/html": [
       "<div>\n",
       "        \n",
       "        \n",
       "            <div id=\"36d69b28-b489-4d48-a7a5-d67f67e25f5e\" class=\"plotly-graph-div\" style=\"height:500px; width:1000px;\"></div>\n",
       "            <script type=\"text/javascript\">\n",
       "                require([\"plotly\"], function(Plotly) {\n",
       "                    window.PLOTLYENV=window.PLOTLYENV || {};\n",
       "                    \n",
       "                if (document.getElementById(\"36d69b28-b489-4d48-a7a5-d67f67e25f5e\")) {\n",
       "                    Plotly.newPlot(\n",
       "                        '36d69b28-b489-4d48-a7a5-d67f67e25f5e',\n",
       "                        [{\"text\": [3021.0, 782.0, 600.0, 435.0, 394.0, 317.0, 206.0, 188.0, 167.0, 113.0, 105.0, 101.0, 95.0, 80.0, 60.0, 56.0, 56.0, 52.0, 52.0, 49.0, 48.0, 47.0, 45.0, 38.0, 35.0, 29.0, 26.0, 20.0, 18.0, 15.0, 13.0, 11.0, 9.0, 8.0, 8.0, 8.0, 7.0, 5.0, 3.0, 3.0, 3.0, 3.0, 2.0, 2.0, 2.0, 1.0, 1.0], \"type\": \"bar\", \"x\": [\" CA\", \" NY\", \" WA\", \" MA\", \" TX\", \" IL\", \" GA\", \" NJ\", \" MI\", \" PA\", \" NC\", \" FL\", \" VA\", \" OH\", \" MO\", \" CT\", \" AZ\", \" UT\", \" MN\", \" CO\", \" OR\", \" MD\", \" IN\", \" AR\", \" DC\", \" WI\", \" TN\", \" IA\", \" NE\", \" SC\", \" KY\", \" NV\", \" KS\", \" OK\", \" RI\", \" DE\", \" ID\", \" AL\", \"\", \" NM\", \" NH\", \" HI\", \" PR\", \" MS\", \" LA\", \" IL 60654\", \" WY\"], \"y\": [3021, 782, 600, 435, 394, 317, 206, 188, 167, 113, 105, 101, 95, 80, 60, 56, 56, 52, 52, 49, 48, 47, 45, 38, 35, 29, 26, 20, 18, 15, 13, 11, 9, 8, 8, 8, 7, 5, 3, 3, 3, 3, 2, 2, 2, 1, 1]}],\n",
       "                        {\"autosize\": false, \"height\": 500, \"template\": {\"data\": {\"bar\": [{\"error_x\": {\"color\": \"#2a3f5f\"}, \"error_y\": {\"color\": \"#2a3f5f\"}, \"marker\": {\"line\": {\"color\": \"#E5ECF6\", \"width\": 0.5}}, \"type\": \"bar\"}], \"barpolar\": [{\"marker\": {\"line\": {\"color\": \"#E5ECF6\", \"width\": 0.5}}, \"type\": \"barpolar\"}], \"carpet\": [{\"aaxis\": {\"endlinecolor\": \"#2a3f5f\", \"gridcolor\": \"white\", \"linecolor\": \"white\", \"minorgridcolor\": \"white\", \"startlinecolor\": \"#2a3f5f\"}, \"baxis\": {\"endlinecolor\": \"#2a3f5f\", \"gridcolor\": \"white\", \"linecolor\": \"white\", \"minorgridcolor\": \"white\", \"startlinecolor\": \"#2a3f5f\"}, \"type\": \"carpet\"}], \"choropleth\": [{\"colorbar\": {\"outlinewidth\": 0, \"ticks\": \"\"}, \"type\": \"choropleth\"}], \"contour\": [{\"colorbar\": {\"outlinewidth\": 0, \"ticks\": \"\"}, \"colorscale\": [[0.0, \"#0d0887\"], [0.1111111111111111, \"#46039f\"], [0.2222222222222222, \"#7201a8\"], [0.3333333333333333, \"#9c179e\"], [0.4444444444444444, \"#bd3786\"], [0.5555555555555556, \"#d8576b\"], [0.6666666666666666, \"#ed7953\"], [0.7777777777777778, \"#fb9f3a\"], [0.8888888888888888, \"#fdca26\"], [1.0, \"#f0f921\"]], \"type\": \"contour\"}], \"contourcarpet\": [{\"colorbar\": {\"outlinewidth\": 0, \"ticks\": \"\"}, \"type\": \"contourcarpet\"}], \"heatmap\": [{\"colorbar\": {\"outlinewidth\": 0, \"ticks\": \"\"}, \"colorscale\": [[0.0, \"#0d0887\"], [0.1111111111111111, \"#46039f\"], [0.2222222222222222, \"#7201a8\"], [0.3333333333333333, \"#9c179e\"], [0.4444444444444444, \"#bd3786\"], [0.5555555555555556, \"#d8576b\"], [0.6666666666666666, \"#ed7953\"], [0.7777777777777778, \"#fb9f3a\"], [0.8888888888888888, \"#fdca26\"], [1.0, \"#f0f921\"]], \"type\": \"heatmap\"}], \"heatmapgl\": [{\"colorbar\": {\"outlinewidth\": 0, \"ticks\": \"\"}, \"colorscale\": [[0.0, \"#0d0887\"], [0.1111111111111111, \"#46039f\"], [0.2222222222222222, \"#7201a8\"], [0.3333333333333333, \"#9c179e\"], [0.4444444444444444, \"#bd3786\"], [0.5555555555555556, \"#d8576b\"], [0.6666666666666666, \"#ed7953\"], [0.7777777777777778, \"#fb9f3a\"], [0.8888888888888888, \"#fdca26\"], [1.0, \"#f0f921\"]], \"type\": \"heatmapgl\"}], \"histogram\": [{\"marker\": {\"colorbar\": {\"outlinewidth\": 0, \"ticks\": \"\"}}, \"type\": \"histogram\"}], \"histogram2d\": [{\"colorbar\": {\"outlinewidth\": 0, \"ticks\": \"\"}, \"colorscale\": [[0.0, \"#0d0887\"], [0.1111111111111111, \"#46039f\"], [0.2222222222222222, \"#7201a8\"], [0.3333333333333333, \"#9c179e\"], [0.4444444444444444, \"#bd3786\"], [0.5555555555555556, \"#d8576b\"], [0.6666666666666666, \"#ed7953\"], [0.7777777777777778, \"#fb9f3a\"], [0.8888888888888888, \"#fdca26\"], [1.0, \"#f0f921\"]], \"type\": \"histogram2d\"}], \"histogram2dcontour\": [{\"colorbar\": {\"outlinewidth\": 0, \"ticks\": \"\"}, \"colorscale\": [[0.0, \"#0d0887\"], [0.1111111111111111, \"#46039f\"], [0.2222222222222222, \"#7201a8\"], [0.3333333333333333, \"#9c179e\"], [0.4444444444444444, \"#bd3786\"], [0.5555555555555556, \"#d8576b\"], [0.6666666666666666, \"#ed7953\"], [0.7777777777777778, \"#fb9f3a\"], [0.8888888888888888, \"#fdca26\"], [1.0, \"#f0f921\"]], \"type\": \"histogram2dcontour\"}], \"mesh3d\": [{\"colorbar\": {\"outlinewidth\": 0, \"ticks\": \"\"}, \"type\": \"mesh3d\"}], \"parcoords\": [{\"line\": {\"colorbar\": {\"outlinewidth\": 0, \"ticks\": \"\"}}, \"type\": \"parcoords\"}], \"pie\": [{\"automargin\": true, \"type\": \"pie\"}], \"scatter\": [{\"marker\": {\"colorbar\": {\"outlinewidth\": 0, \"ticks\": \"\"}}, \"type\": \"scatter\"}], \"scatter3d\": [{\"line\": {\"colorbar\": {\"outlinewidth\": 0, \"ticks\": \"\"}}, \"marker\": {\"colorbar\": {\"outlinewidth\": 0, \"ticks\": \"\"}}, \"type\": \"scatter3d\"}], \"scattercarpet\": [{\"marker\": {\"colorbar\": {\"outlinewidth\": 0, \"ticks\": \"\"}}, \"type\": \"scattercarpet\"}], \"scattergeo\": [{\"marker\": {\"colorbar\": {\"outlinewidth\": 0, \"ticks\": \"\"}}, \"type\": \"scattergeo\"}], \"scattergl\": [{\"marker\": {\"colorbar\": {\"outlinewidth\": 0, \"ticks\": \"\"}}, \"type\": \"scattergl\"}], \"scattermapbox\": [{\"marker\": {\"colorbar\": {\"outlinewidth\": 0, \"ticks\": \"\"}}, \"type\": \"scattermapbox\"}], \"scatterpolar\": [{\"marker\": {\"colorbar\": {\"outlinewidth\": 0, \"ticks\": \"\"}}, \"type\": \"scatterpolar\"}], \"scatterpolargl\": [{\"marker\": {\"colorbar\": {\"outlinewidth\": 0, \"ticks\": \"\"}}, \"type\": \"scatterpolargl\"}], \"scatterternary\": [{\"marker\": {\"colorbar\": {\"outlinewidth\": 0, \"ticks\": \"\"}}, \"type\": \"scatterternary\"}], \"surface\": [{\"colorbar\": {\"outlinewidth\": 0, \"ticks\": \"\"}, \"colorscale\": [[0.0, \"#0d0887\"], [0.1111111111111111, \"#46039f\"], [0.2222222222222222, \"#7201a8\"], [0.3333333333333333, \"#9c179e\"], [0.4444444444444444, \"#bd3786\"], [0.5555555555555556, \"#d8576b\"], [0.6666666666666666, \"#ed7953\"], [0.7777777777777778, \"#fb9f3a\"], [0.8888888888888888, \"#fdca26\"], [1.0, \"#f0f921\"]], \"type\": \"surface\"}], \"table\": [{\"cells\": {\"fill\": {\"color\": \"#EBF0F8\"}, \"line\": {\"color\": \"white\"}}, \"header\": {\"fill\": {\"color\": \"#C8D4E3\"}, \"line\": {\"color\": \"white\"}}, \"type\": \"table\"}]}, \"layout\": {\"annotationdefaults\": {\"arrowcolor\": \"#2a3f5f\", \"arrowhead\": 0, \"arrowwidth\": 1}, \"coloraxis\": {\"colorbar\": {\"outlinewidth\": 0, \"ticks\": \"\"}}, \"colorscale\": {\"diverging\": [[0, \"#8e0152\"], [0.1, \"#c51b7d\"], [0.2, \"#de77ae\"], [0.3, \"#f1b6da\"], [0.4, \"#fde0ef\"], [0.5, \"#f7f7f7\"], [0.6, \"#e6f5d0\"], [0.7, \"#b8e186\"], [0.8, \"#7fbc41\"], [0.9, \"#4d9221\"], [1, \"#276419\"]], \"sequential\": [[0.0, \"#0d0887\"], [0.1111111111111111, \"#46039f\"], [0.2222222222222222, \"#7201a8\"], [0.3333333333333333, \"#9c179e\"], [0.4444444444444444, \"#bd3786\"], [0.5555555555555556, \"#d8576b\"], [0.6666666666666666, \"#ed7953\"], [0.7777777777777778, \"#fb9f3a\"], [0.8888888888888888, \"#fdca26\"], [1.0, \"#f0f921\"]], \"sequentialminus\": [[0.0, \"#0d0887\"], [0.1111111111111111, \"#46039f\"], [0.2222222222222222, \"#7201a8\"], [0.3333333333333333, \"#9c179e\"], [0.4444444444444444, \"#bd3786\"], [0.5555555555555556, \"#d8576b\"], [0.6666666666666666, \"#ed7953\"], [0.7777777777777778, \"#fb9f3a\"], [0.8888888888888888, \"#fdca26\"], [1.0, \"#f0f921\"]]}, \"colorway\": [\"#636efa\", \"#EF553B\", \"#00cc96\", \"#ab63fa\", \"#FFA15A\", \"#19d3f3\", \"#FF6692\", \"#B6E880\", \"#FF97FF\", \"#FECB52\"], \"font\": {\"color\": \"#2a3f5f\"}, \"geo\": {\"bgcolor\": \"white\", \"lakecolor\": \"white\", \"landcolor\": \"#E5ECF6\", \"showlakes\": true, \"showland\": true, \"subunitcolor\": \"white\"}, \"hoverlabel\": {\"align\": \"left\"}, \"hovermode\": \"closest\", \"mapbox\": {\"style\": \"light\"}, \"paper_bgcolor\": \"white\", \"plot_bgcolor\": \"#E5ECF6\", \"polar\": {\"angularaxis\": {\"gridcolor\": \"white\", \"linecolor\": \"white\", \"ticks\": \"\"}, \"bgcolor\": \"#E5ECF6\", \"radialaxis\": {\"gridcolor\": \"white\", \"linecolor\": \"white\", \"ticks\": \"\"}}, \"scene\": {\"xaxis\": {\"backgroundcolor\": \"#E5ECF6\", \"gridcolor\": \"white\", \"gridwidth\": 2, \"linecolor\": \"white\", \"showbackground\": true, \"ticks\": \"\", \"zerolinecolor\": \"white\"}, \"yaxis\": {\"backgroundcolor\": \"#E5ECF6\", \"gridcolor\": \"white\", \"gridwidth\": 2, \"linecolor\": \"white\", \"showbackground\": true, \"ticks\": \"\", \"zerolinecolor\": \"white\"}, \"zaxis\": {\"backgroundcolor\": \"#E5ECF6\", \"gridcolor\": \"white\", \"gridwidth\": 2, \"linecolor\": \"white\", \"showbackground\": true, \"ticks\": \"\", \"zerolinecolor\": \"white\"}}, \"shapedefaults\": {\"line\": {\"color\": \"#2a3f5f\"}}, \"ternary\": {\"aaxis\": {\"gridcolor\": \"white\", \"linecolor\": \"white\", \"ticks\": \"\"}, \"baxis\": {\"gridcolor\": \"white\", \"linecolor\": \"white\", \"ticks\": \"\"}, \"bgcolor\": \"#E5ECF6\", \"caxis\": {\"gridcolor\": \"white\", \"linecolor\": \"white\", \"ticks\": \"\"}}, \"title\": {\"x\": 0.05}, \"xaxis\": {\"automargin\": true, \"gridcolor\": \"white\", \"linecolor\": \"white\", \"ticks\": \"\", \"title\": {\"standoff\": 15}, \"zerolinecolor\": \"white\", \"zerolinewidth\": 2}, \"yaxis\": {\"automargin\": true, \"gridcolor\": \"white\", \"linecolor\": \"white\", \"ticks\": \"\", \"title\": {\"standoff\": 15}, \"zerolinecolor\": \"white\", \"zerolinewidth\": 2}}}, \"title\": {\"text\": \"Hires by State\"}, \"width\": 1000, \"xaxis\": {\"title\": {\"text\": \"State\"}}, \"yaxis\": {\"title\": {\"text\": \"Hires\"}}},\n",
       "                        {\"responsive\": true}\n",
       "                    ).then(function(){\n",
       "                            \n",
       "var gd = document.getElementById('36d69b28-b489-4d48-a7a5-d67f67e25f5e');\n",
       "var x = new MutationObserver(function (mutations, observer) {{\n",
       "        var display = window.getComputedStyle(gd).display;\n",
       "        if (!display || display === 'none') {{\n",
       "            console.log([gd, 'removed!']);\n",
       "            Plotly.purge(gd);\n",
       "            observer.disconnect();\n",
       "        }}\n",
       "}});\n",
       "\n",
       "// Listen for the removal of the full notebook cells\n",
       "var notebookContainer = gd.closest('#notebook-container');\n",
       "if (notebookContainer) {{\n",
       "    x.observe(notebookContainer, {childList: true});\n",
       "}}\n",
       "\n",
       "// Listen for the clearing of the current output cell\n",
       "var outputEl = gd.closest('.output');\n",
       "if (outputEl) {{\n",
       "    x.observe(outputEl, {childList: true});\n",
       "}}\n",
       "\n",
       "                        })\n",
       "                };\n",
       "                });\n",
       "            </script>\n",
       "        </div>"
      ]
     },
     "metadata": {},
     "output_type": "display_data"
    },
    {
     "name": "stdout",
     "output_type": "stream",
     "text": [
      "time: 253 ms\n"
     ]
    }
   ],
   "source": [
    "state_salaries = state_salaries.sort_values(by='salary_count', ascending=False)\n",
    "\n",
    "data = [go.Bar(\n",
    "    x=state_salaries.index, \n",
    "    y=state_salaries.salary_count, \n",
    "    text=state_salaries.salary_count, \n",
    ")]\n",
    "\n",
    "layout = go.Layout(\n",
    "    autosize=False,\n",
    "    width=1000,\n",
    "    height=500\n",
    ")\n",
    "\n",
    "fig = go.Figure(data=data, layout=layout)\n",
    "fig.update_layout(\n",
    "    title = 'Hires by State', \n",
    "    xaxis_title = 'State',\n",
    "    yaxis_title = 'Hires')\n",
    "fig.show()"
   ]
  },
  {
   "cell_type": "code",
   "execution_count": 857,
   "metadata": {},
   "outputs": [
    {
     "data": {
      "application/vnd.plotly.v1+json": {
       "config": {
        "plotlyServerURL": "https://plot.ly"
       },
       "data": [
        {
         "text": [
          120000,
          115000,
          106977,
          96907,
          96895,
          95000,
          94770,
          94000,
          93000,
          92433.5,
          92019,
          91675,
          90000,
          90000,
          90000,
          90000,
          90000,
          90000,
          89024,
          88783,
          88483,
          87500,
          85675,
          85000,
          84157,
          82534,
          82181,
          81931,
          81900,
          81117.5,
          80000,
          80000,
          80000,
          79999,
          78920,
          76752,
          75000,
          74339,
          74035,
          73424,
          69867,
          68000,
          67995,
          65000,
          62350,
          61298,
          54600
         ],
         "type": "bar",
         "x": [
          " CA",
          " WA",
          " NY",
          "",
          " MO",
          " MA",
          " ID",
          " DC",
          " NJ",
          " MN",
          " VA",
          " UT",
          " DE",
          " CT",
          " AR",
          " OH",
          " GA",
          " IL",
          " TX",
          " AZ",
          " KS",
          " TN",
          " RI",
          " PA",
          " NC",
          " NH",
          " CO",
          " MD",
          " MI",
          " OR",
          " WI",
          " IA",
          " NE",
          " NV",
          " FL",
          " HI",
          " WY",
          " IL 60654",
          " OK",
          " SC",
          " KY",
          " IN",
          " MS",
          " AL",
          " LA",
          " NM",
          " PR"
         ],
         "y": [
          120000,
          115000,
          106977,
          96907,
          96895,
          95000,
          94770,
          94000,
          93000,
          92433.5,
          92019,
          91675,
          90000,
          90000,
          90000,
          90000,
          90000,
          90000,
          89024,
          88783,
          88483,
          87500,
          85675,
          85000,
          84157,
          82534,
          82181,
          81931,
          81900,
          81117.5,
          80000,
          80000,
          80000,
          79999,
          78920,
          76752,
          75000,
          74339,
          74035,
          73424,
          69867,
          68000,
          67995,
          65000,
          62350,
          61298,
          54600
         ]
        }
       ],
       "layout": {
        "autosize": false,
        "height": 500,
        "template": {
         "data": {
          "bar": [
           {
            "error_x": {
             "color": "#2a3f5f"
            },
            "error_y": {
             "color": "#2a3f5f"
            },
            "marker": {
             "line": {
              "color": "#E5ECF6",
              "width": 0.5
             }
            },
            "type": "bar"
           }
          ],
          "barpolar": [
           {
            "marker": {
             "line": {
              "color": "#E5ECF6",
              "width": 0.5
             }
            },
            "type": "barpolar"
           }
          ],
          "carpet": [
           {
            "aaxis": {
             "endlinecolor": "#2a3f5f",
             "gridcolor": "white",
             "linecolor": "white",
             "minorgridcolor": "white",
             "startlinecolor": "#2a3f5f"
            },
            "baxis": {
             "endlinecolor": "#2a3f5f",
             "gridcolor": "white",
             "linecolor": "white",
             "minorgridcolor": "white",
             "startlinecolor": "#2a3f5f"
            },
            "type": "carpet"
           }
          ],
          "choropleth": [
           {
            "colorbar": {
             "outlinewidth": 0,
             "ticks": ""
            },
            "type": "choropleth"
           }
          ],
          "contour": [
           {
            "colorbar": {
             "outlinewidth": 0,
             "ticks": ""
            },
            "colorscale": [
             [
              0,
              "#0d0887"
             ],
             [
              0.1111111111111111,
              "#46039f"
             ],
             [
              0.2222222222222222,
              "#7201a8"
             ],
             [
              0.3333333333333333,
              "#9c179e"
             ],
             [
              0.4444444444444444,
              "#bd3786"
             ],
             [
              0.5555555555555556,
              "#d8576b"
             ],
             [
              0.6666666666666666,
              "#ed7953"
             ],
             [
              0.7777777777777778,
              "#fb9f3a"
             ],
             [
              0.8888888888888888,
              "#fdca26"
             ],
             [
              1,
              "#f0f921"
             ]
            ],
            "type": "contour"
           }
          ],
          "contourcarpet": [
           {
            "colorbar": {
             "outlinewidth": 0,
             "ticks": ""
            },
            "type": "contourcarpet"
           }
          ],
          "heatmap": [
           {
            "colorbar": {
             "outlinewidth": 0,
             "ticks": ""
            },
            "colorscale": [
             [
              0,
              "#0d0887"
             ],
             [
              0.1111111111111111,
              "#46039f"
             ],
             [
              0.2222222222222222,
              "#7201a8"
             ],
             [
              0.3333333333333333,
              "#9c179e"
             ],
             [
              0.4444444444444444,
              "#bd3786"
             ],
             [
              0.5555555555555556,
              "#d8576b"
             ],
             [
              0.6666666666666666,
              "#ed7953"
             ],
             [
              0.7777777777777778,
              "#fb9f3a"
             ],
             [
              0.8888888888888888,
              "#fdca26"
             ],
             [
              1,
              "#f0f921"
             ]
            ],
            "type": "heatmap"
           }
          ],
          "heatmapgl": [
           {
            "colorbar": {
             "outlinewidth": 0,
             "ticks": ""
            },
            "colorscale": [
             [
              0,
              "#0d0887"
             ],
             [
              0.1111111111111111,
              "#46039f"
             ],
             [
              0.2222222222222222,
              "#7201a8"
             ],
             [
              0.3333333333333333,
              "#9c179e"
             ],
             [
              0.4444444444444444,
              "#bd3786"
             ],
             [
              0.5555555555555556,
              "#d8576b"
             ],
             [
              0.6666666666666666,
              "#ed7953"
             ],
             [
              0.7777777777777778,
              "#fb9f3a"
             ],
             [
              0.8888888888888888,
              "#fdca26"
             ],
             [
              1,
              "#f0f921"
             ]
            ],
            "type": "heatmapgl"
           }
          ],
          "histogram": [
           {
            "marker": {
             "colorbar": {
              "outlinewidth": 0,
              "ticks": ""
             }
            },
            "type": "histogram"
           }
          ],
          "histogram2d": [
           {
            "colorbar": {
             "outlinewidth": 0,
             "ticks": ""
            },
            "colorscale": [
             [
              0,
              "#0d0887"
             ],
             [
              0.1111111111111111,
              "#46039f"
             ],
             [
              0.2222222222222222,
              "#7201a8"
             ],
             [
              0.3333333333333333,
              "#9c179e"
             ],
             [
              0.4444444444444444,
              "#bd3786"
             ],
             [
              0.5555555555555556,
              "#d8576b"
             ],
             [
              0.6666666666666666,
              "#ed7953"
             ],
             [
              0.7777777777777778,
              "#fb9f3a"
             ],
             [
              0.8888888888888888,
              "#fdca26"
             ],
             [
              1,
              "#f0f921"
             ]
            ],
            "type": "histogram2d"
           }
          ],
          "histogram2dcontour": [
           {
            "colorbar": {
             "outlinewidth": 0,
             "ticks": ""
            },
            "colorscale": [
             [
              0,
              "#0d0887"
             ],
             [
              0.1111111111111111,
              "#46039f"
             ],
             [
              0.2222222222222222,
              "#7201a8"
             ],
             [
              0.3333333333333333,
              "#9c179e"
             ],
             [
              0.4444444444444444,
              "#bd3786"
             ],
             [
              0.5555555555555556,
              "#d8576b"
             ],
             [
              0.6666666666666666,
              "#ed7953"
             ],
             [
              0.7777777777777778,
              "#fb9f3a"
             ],
             [
              0.8888888888888888,
              "#fdca26"
             ],
             [
              1,
              "#f0f921"
             ]
            ],
            "type": "histogram2dcontour"
           }
          ],
          "mesh3d": [
           {
            "colorbar": {
             "outlinewidth": 0,
             "ticks": ""
            },
            "type": "mesh3d"
           }
          ],
          "parcoords": [
           {
            "line": {
             "colorbar": {
              "outlinewidth": 0,
              "ticks": ""
             }
            },
            "type": "parcoords"
           }
          ],
          "pie": [
           {
            "automargin": true,
            "type": "pie"
           }
          ],
          "scatter": [
           {
            "marker": {
             "colorbar": {
              "outlinewidth": 0,
              "ticks": ""
             }
            },
            "type": "scatter"
           }
          ],
          "scatter3d": [
           {
            "line": {
             "colorbar": {
              "outlinewidth": 0,
              "ticks": ""
             }
            },
            "marker": {
             "colorbar": {
              "outlinewidth": 0,
              "ticks": ""
             }
            },
            "type": "scatter3d"
           }
          ],
          "scattercarpet": [
           {
            "marker": {
             "colorbar": {
              "outlinewidth": 0,
              "ticks": ""
             }
            },
            "type": "scattercarpet"
           }
          ],
          "scattergeo": [
           {
            "marker": {
             "colorbar": {
              "outlinewidth": 0,
              "ticks": ""
             }
            },
            "type": "scattergeo"
           }
          ],
          "scattergl": [
           {
            "marker": {
             "colorbar": {
              "outlinewidth": 0,
              "ticks": ""
             }
            },
            "type": "scattergl"
           }
          ],
          "scattermapbox": [
           {
            "marker": {
             "colorbar": {
              "outlinewidth": 0,
              "ticks": ""
             }
            },
            "type": "scattermapbox"
           }
          ],
          "scatterpolar": [
           {
            "marker": {
             "colorbar": {
              "outlinewidth": 0,
              "ticks": ""
             }
            },
            "type": "scatterpolar"
           }
          ],
          "scatterpolargl": [
           {
            "marker": {
             "colorbar": {
              "outlinewidth": 0,
              "ticks": ""
             }
            },
            "type": "scatterpolargl"
           }
          ],
          "scatterternary": [
           {
            "marker": {
             "colorbar": {
              "outlinewidth": 0,
              "ticks": ""
             }
            },
            "type": "scatterternary"
           }
          ],
          "surface": [
           {
            "colorbar": {
             "outlinewidth": 0,
             "ticks": ""
            },
            "colorscale": [
             [
              0,
              "#0d0887"
             ],
             [
              0.1111111111111111,
              "#46039f"
             ],
             [
              0.2222222222222222,
              "#7201a8"
             ],
             [
              0.3333333333333333,
              "#9c179e"
             ],
             [
              0.4444444444444444,
              "#bd3786"
             ],
             [
              0.5555555555555556,
              "#d8576b"
             ],
             [
              0.6666666666666666,
              "#ed7953"
             ],
             [
              0.7777777777777778,
              "#fb9f3a"
             ],
             [
              0.8888888888888888,
              "#fdca26"
             ],
             [
              1,
              "#f0f921"
             ]
            ],
            "type": "surface"
           }
          ],
          "table": [
           {
            "cells": {
             "fill": {
              "color": "#EBF0F8"
             },
             "line": {
              "color": "white"
             }
            },
            "header": {
             "fill": {
              "color": "#C8D4E3"
             },
             "line": {
              "color": "white"
             }
            },
            "type": "table"
           }
          ]
         },
         "layout": {
          "annotationdefaults": {
           "arrowcolor": "#2a3f5f",
           "arrowhead": 0,
           "arrowwidth": 1
          },
          "coloraxis": {
           "colorbar": {
            "outlinewidth": 0,
            "ticks": ""
           }
          },
          "colorscale": {
           "diverging": [
            [
             0,
             "#8e0152"
            ],
            [
             0.1,
             "#c51b7d"
            ],
            [
             0.2,
             "#de77ae"
            ],
            [
             0.3,
             "#f1b6da"
            ],
            [
             0.4,
             "#fde0ef"
            ],
            [
             0.5,
             "#f7f7f7"
            ],
            [
             0.6,
             "#e6f5d0"
            ],
            [
             0.7,
             "#b8e186"
            ],
            [
             0.8,
             "#7fbc41"
            ],
            [
             0.9,
             "#4d9221"
            ],
            [
             1,
             "#276419"
            ]
           ],
           "sequential": [
            [
             0,
             "#0d0887"
            ],
            [
             0.1111111111111111,
             "#46039f"
            ],
            [
             0.2222222222222222,
             "#7201a8"
            ],
            [
             0.3333333333333333,
             "#9c179e"
            ],
            [
             0.4444444444444444,
             "#bd3786"
            ],
            [
             0.5555555555555556,
             "#d8576b"
            ],
            [
             0.6666666666666666,
             "#ed7953"
            ],
            [
             0.7777777777777778,
             "#fb9f3a"
            ],
            [
             0.8888888888888888,
             "#fdca26"
            ],
            [
             1,
             "#f0f921"
            ]
           ],
           "sequentialminus": [
            [
             0,
             "#0d0887"
            ],
            [
             0.1111111111111111,
             "#46039f"
            ],
            [
             0.2222222222222222,
             "#7201a8"
            ],
            [
             0.3333333333333333,
             "#9c179e"
            ],
            [
             0.4444444444444444,
             "#bd3786"
            ],
            [
             0.5555555555555556,
             "#d8576b"
            ],
            [
             0.6666666666666666,
             "#ed7953"
            ],
            [
             0.7777777777777778,
             "#fb9f3a"
            ],
            [
             0.8888888888888888,
             "#fdca26"
            ],
            [
             1,
             "#f0f921"
            ]
           ]
          },
          "colorway": [
           "#636efa",
           "#EF553B",
           "#00cc96",
           "#ab63fa",
           "#FFA15A",
           "#19d3f3",
           "#FF6692",
           "#B6E880",
           "#FF97FF",
           "#FECB52"
          ],
          "font": {
           "color": "#2a3f5f"
          },
          "geo": {
           "bgcolor": "white",
           "lakecolor": "white",
           "landcolor": "#E5ECF6",
           "showlakes": true,
           "showland": true,
           "subunitcolor": "white"
          },
          "hoverlabel": {
           "align": "left"
          },
          "hovermode": "closest",
          "mapbox": {
           "style": "light"
          },
          "paper_bgcolor": "white",
          "plot_bgcolor": "#E5ECF6",
          "polar": {
           "angularaxis": {
            "gridcolor": "white",
            "linecolor": "white",
            "ticks": ""
           },
           "bgcolor": "#E5ECF6",
           "radialaxis": {
            "gridcolor": "white",
            "linecolor": "white",
            "ticks": ""
           }
          },
          "scene": {
           "xaxis": {
            "backgroundcolor": "#E5ECF6",
            "gridcolor": "white",
            "gridwidth": 2,
            "linecolor": "white",
            "showbackground": true,
            "ticks": "",
            "zerolinecolor": "white"
           },
           "yaxis": {
            "backgroundcolor": "#E5ECF6",
            "gridcolor": "white",
            "gridwidth": 2,
            "linecolor": "white",
            "showbackground": true,
            "ticks": "",
            "zerolinecolor": "white"
           },
           "zaxis": {
            "backgroundcolor": "#E5ECF6",
            "gridcolor": "white",
            "gridwidth": 2,
            "linecolor": "white",
            "showbackground": true,
            "ticks": "",
            "zerolinecolor": "white"
           }
          },
          "shapedefaults": {
           "line": {
            "color": "#2a3f5f"
           }
          },
          "ternary": {
           "aaxis": {
            "gridcolor": "white",
            "linecolor": "white",
            "ticks": ""
           },
           "baxis": {
            "gridcolor": "white",
            "linecolor": "white",
            "ticks": ""
           },
           "bgcolor": "#E5ECF6",
           "caxis": {
            "gridcolor": "white",
            "linecolor": "white",
            "ticks": ""
           }
          },
          "title": {
           "x": 0.05
          },
          "xaxis": {
           "automargin": true,
           "gridcolor": "white",
           "linecolor": "white",
           "ticks": "",
           "title": {
            "standoff": 15
           },
           "zerolinecolor": "white",
           "zerolinewidth": 2
          },
          "yaxis": {
           "automargin": true,
           "gridcolor": "white",
           "linecolor": "white",
           "ticks": "",
           "title": {
            "standoff": 15
           },
           "zerolinecolor": "white",
           "zerolinewidth": 2
          }
         }
        },
        "title": {
         "text": "Median Salary by State"
        },
        "width": 1000,
        "xaxis": {
         "title": {
          "text": "State"
         }
        },
        "yaxis": {
         "title": {
          "text": "Salary"
         }
        }
       }
      },
      "text/html": [
       "<div>\n",
       "        \n",
       "        \n",
       "            <div id=\"86e29d8e-6a8e-4ba8-8861-6babf46e4aa7\" class=\"plotly-graph-div\" style=\"height:500px; width:1000px;\"></div>\n",
       "            <script type=\"text/javascript\">\n",
       "                require([\"plotly\"], function(Plotly) {\n",
       "                    window.PLOTLYENV=window.PLOTLYENV || {};\n",
       "                    \n",
       "                if (document.getElementById(\"86e29d8e-6a8e-4ba8-8861-6babf46e4aa7\")) {\n",
       "                    Plotly.newPlot(\n",
       "                        '86e29d8e-6a8e-4ba8-8861-6babf46e4aa7',\n",
       "                        [{\"text\": [120000.0, 115000.0, 106977.0, 96907.0, 96895.0, 95000.0, 94770.0, 94000.0, 93000.0, 92433.5, 92019.0, 91675.0, 90000.0, 90000.0, 90000.0, 90000.0, 90000.0, 90000.0, 89024.0, 88783.0, 88483.0, 87500.0, 85675.0, 85000.0, 84157.0, 82534.0, 82181.0, 81931.0, 81900.0, 81117.5, 80000.0, 80000.0, 80000.0, 79999.0, 78920.0, 76752.0, 75000.0, 74339.0, 74035.0, 73424.0, 69867.0, 68000.0, 67995.0, 65000.0, 62350.0, 61298.0, 54600.0], \"type\": \"bar\", \"x\": [\" CA\", \" WA\", \" NY\", \"\", \" MO\", \" MA\", \" ID\", \" DC\", \" NJ\", \" MN\", \" VA\", \" UT\", \" DE\", \" CT\", \" AR\", \" OH\", \" GA\", \" IL\", \" TX\", \" AZ\", \" KS\", \" TN\", \" RI\", \" PA\", \" NC\", \" NH\", \" CO\", \" MD\", \" MI\", \" OR\", \" WI\", \" IA\", \" NE\", \" NV\", \" FL\", \" HI\", \" WY\", \" IL 60654\", \" OK\", \" SC\", \" KY\", \" IN\", \" MS\", \" AL\", \" LA\", \" NM\", \" PR\"], \"y\": [120000.0, 115000.0, 106977.0, 96907.0, 96895.0, 95000.0, 94770.0, 94000.0, 93000.0, 92433.5, 92019.0, 91675.0, 90000.0, 90000.0, 90000.0, 90000.0, 90000.0, 90000.0, 89024.0, 88783.0, 88483.0, 87500.0, 85675.0, 85000.0, 84157.0, 82534.0, 82181.0, 81931.0, 81900.0, 81117.5, 80000.0, 80000.0, 80000.0, 79999.0, 78920.0, 76752.0, 75000.0, 74339.0, 74035.0, 73424.0, 69867.0, 68000.0, 67995.0, 65000.0, 62350.0, 61298.0, 54600.0]}],\n",
       "                        {\"autosize\": false, \"height\": 500, \"template\": {\"data\": {\"bar\": [{\"error_x\": {\"color\": \"#2a3f5f\"}, \"error_y\": {\"color\": \"#2a3f5f\"}, \"marker\": {\"line\": {\"color\": \"#E5ECF6\", \"width\": 0.5}}, \"type\": \"bar\"}], \"barpolar\": [{\"marker\": {\"line\": {\"color\": \"#E5ECF6\", \"width\": 0.5}}, \"type\": \"barpolar\"}], \"carpet\": [{\"aaxis\": {\"endlinecolor\": \"#2a3f5f\", \"gridcolor\": \"white\", \"linecolor\": \"white\", \"minorgridcolor\": \"white\", \"startlinecolor\": \"#2a3f5f\"}, \"baxis\": {\"endlinecolor\": \"#2a3f5f\", \"gridcolor\": \"white\", \"linecolor\": \"white\", \"minorgridcolor\": \"white\", \"startlinecolor\": \"#2a3f5f\"}, \"type\": \"carpet\"}], \"choropleth\": [{\"colorbar\": {\"outlinewidth\": 0, \"ticks\": \"\"}, \"type\": \"choropleth\"}], \"contour\": [{\"colorbar\": {\"outlinewidth\": 0, \"ticks\": \"\"}, \"colorscale\": [[0.0, \"#0d0887\"], [0.1111111111111111, \"#46039f\"], [0.2222222222222222, \"#7201a8\"], [0.3333333333333333, \"#9c179e\"], [0.4444444444444444, \"#bd3786\"], [0.5555555555555556, \"#d8576b\"], [0.6666666666666666, \"#ed7953\"], [0.7777777777777778, \"#fb9f3a\"], [0.8888888888888888, \"#fdca26\"], [1.0, \"#f0f921\"]], \"type\": \"contour\"}], \"contourcarpet\": [{\"colorbar\": {\"outlinewidth\": 0, \"ticks\": \"\"}, \"type\": \"contourcarpet\"}], \"heatmap\": [{\"colorbar\": {\"outlinewidth\": 0, \"ticks\": \"\"}, \"colorscale\": [[0.0, \"#0d0887\"], [0.1111111111111111, \"#46039f\"], [0.2222222222222222, \"#7201a8\"], [0.3333333333333333, \"#9c179e\"], [0.4444444444444444, \"#bd3786\"], [0.5555555555555556, \"#d8576b\"], [0.6666666666666666, \"#ed7953\"], [0.7777777777777778, \"#fb9f3a\"], [0.8888888888888888, \"#fdca26\"], [1.0, \"#f0f921\"]], \"type\": \"heatmap\"}], \"heatmapgl\": [{\"colorbar\": {\"outlinewidth\": 0, \"ticks\": \"\"}, \"colorscale\": [[0.0, \"#0d0887\"], [0.1111111111111111, \"#46039f\"], [0.2222222222222222, \"#7201a8\"], [0.3333333333333333, \"#9c179e\"], [0.4444444444444444, \"#bd3786\"], [0.5555555555555556, \"#d8576b\"], [0.6666666666666666, \"#ed7953\"], [0.7777777777777778, \"#fb9f3a\"], [0.8888888888888888, \"#fdca26\"], [1.0, \"#f0f921\"]], \"type\": \"heatmapgl\"}], \"histogram\": [{\"marker\": {\"colorbar\": {\"outlinewidth\": 0, \"ticks\": \"\"}}, \"type\": \"histogram\"}], \"histogram2d\": [{\"colorbar\": {\"outlinewidth\": 0, \"ticks\": \"\"}, \"colorscale\": [[0.0, \"#0d0887\"], [0.1111111111111111, \"#46039f\"], [0.2222222222222222, \"#7201a8\"], [0.3333333333333333, \"#9c179e\"], [0.4444444444444444, \"#bd3786\"], [0.5555555555555556, \"#d8576b\"], [0.6666666666666666, \"#ed7953\"], [0.7777777777777778, \"#fb9f3a\"], [0.8888888888888888, \"#fdca26\"], [1.0, \"#f0f921\"]], \"type\": \"histogram2d\"}], \"histogram2dcontour\": [{\"colorbar\": {\"outlinewidth\": 0, \"ticks\": \"\"}, \"colorscale\": [[0.0, \"#0d0887\"], [0.1111111111111111, \"#46039f\"], [0.2222222222222222, \"#7201a8\"], [0.3333333333333333, \"#9c179e\"], [0.4444444444444444, \"#bd3786\"], [0.5555555555555556, \"#d8576b\"], [0.6666666666666666, \"#ed7953\"], [0.7777777777777778, \"#fb9f3a\"], [0.8888888888888888, \"#fdca26\"], [1.0, \"#f0f921\"]], \"type\": \"histogram2dcontour\"}], \"mesh3d\": [{\"colorbar\": {\"outlinewidth\": 0, \"ticks\": \"\"}, \"type\": \"mesh3d\"}], \"parcoords\": [{\"line\": {\"colorbar\": {\"outlinewidth\": 0, \"ticks\": \"\"}}, \"type\": \"parcoords\"}], \"pie\": [{\"automargin\": true, \"type\": \"pie\"}], \"scatter\": [{\"marker\": {\"colorbar\": {\"outlinewidth\": 0, \"ticks\": \"\"}}, \"type\": \"scatter\"}], \"scatter3d\": [{\"line\": {\"colorbar\": {\"outlinewidth\": 0, \"ticks\": \"\"}}, \"marker\": {\"colorbar\": {\"outlinewidth\": 0, \"ticks\": \"\"}}, \"type\": \"scatter3d\"}], \"scattercarpet\": [{\"marker\": {\"colorbar\": {\"outlinewidth\": 0, \"ticks\": \"\"}}, \"type\": \"scattercarpet\"}], \"scattergeo\": [{\"marker\": {\"colorbar\": {\"outlinewidth\": 0, \"ticks\": \"\"}}, \"type\": \"scattergeo\"}], \"scattergl\": [{\"marker\": {\"colorbar\": {\"outlinewidth\": 0, \"ticks\": \"\"}}, \"type\": \"scattergl\"}], \"scattermapbox\": [{\"marker\": {\"colorbar\": {\"outlinewidth\": 0, \"ticks\": \"\"}}, \"type\": \"scattermapbox\"}], \"scatterpolar\": [{\"marker\": {\"colorbar\": {\"outlinewidth\": 0, \"ticks\": \"\"}}, \"type\": \"scatterpolar\"}], \"scatterpolargl\": [{\"marker\": {\"colorbar\": {\"outlinewidth\": 0, \"ticks\": \"\"}}, \"type\": \"scatterpolargl\"}], \"scatterternary\": [{\"marker\": {\"colorbar\": {\"outlinewidth\": 0, \"ticks\": \"\"}}, \"type\": \"scatterternary\"}], \"surface\": [{\"colorbar\": {\"outlinewidth\": 0, \"ticks\": \"\"}, \"colorscale\": [[0.0, \"#0d0887\"], [0.1111111111111111, \"#46039f\"], [0.2222222222222222, \"#7201a8\"], [0.3333333333333333, \"#9c179e\"], [0.4444444444444444, \"#bd3786\"], [0.5555555555555556, \"#d8576b\"], [0.6666666666666666, \"#ed7953\"], [0.7777777777777778, \"#fb9f3a\"], [0.8888888888888888, \"#fdca26\"], [1.0, \"#f0f921\"]], \"type\": \"surface\"}], \"table\": [{\"cells\": {\"fill\": {\"color\": \"#EBF0F8\"}, \"line\": {\"color\": \"white\"}}, \"header\": {\"fill\": {\"color\": \"#C8D4E3\"}, \"line\": {\"color\": \"white\"}}, \"type\": \"table\"}]}, \"layout\": {\"annotationdefaults\": {\"arrowcolor\": \"#2a3f5f\", \"arrowhead\": 0, \"arrowwidth\": 1}, \"coloraxis\": {\"colorbar\": {\"outlinewidth\": 0, \"ticks\": \"\"}}, \"colorscale\": {\"diverging\": [[0, \"#8e0152\"], [0.1, \"#c51b7d\"], [0.2, \"#de77ae\"], [0.3, \"#f1b6da\"], [0.4, \"#fde0ef\"], [0.5, \"#f7f7f7\"], [0.6, \"#e6f5d0\"], [0.7, \"#b8e186\"], [0.8, \"#7fbc41\"], [0.9, \"#4d9221\"], [1, \"#276419\"]], \"sequential\": [[0.0, \"#0d0887\"], [0.1111111111111111, \"#46039f\"], [0.2222222222222222, \"#7201a8\"], [0.3333333333333333, \"#9c179e\"], [0.4444444444444444, \"#bd3786\"], [0.5555555555555556, \"#d8576b\"], [0.6666666666666666, \"#ed7953\"], [0.7777777777777778, \"#fb9f3a\"], [0.8888888888888888, \"#fdca26\"], [1.0, \"#f0f921\"]], \"sequentialminus\": [[0.0, \"#0d0887\"], [0.1111111111111111, \"#46039f\"], [0.2222222222222222, \"#7201a8\"], [0.3333333333333333, \"#9c179e\"], [0.4444444444444444, \"#bd3786\"], [0.5555555555555556, \"#d8576b\"], [0.6666666666666666, \"#ed7953\"], [0.7777777777777778, \"#fb9f3a\"], [0.8888888888888888, \"#fdca26\"], [1.0, \"#f0f921\"]]}, \"colorway\": [\"#636efa\", \"#EF553B\", \"#00cc96\", \"#ab63fa\", \"#FFA15A\", \"#19d3f3\", \"#FF6692\", \"#B6E880\", \"#FF97FF\", \"#FECB52\"], \"font\": {\"color\": \"#2a3f5f\"}, \"geo\": {\"bgcolor\": \"white\", \"lakecolor\": \"white\", \"landcolor\": \"#E5ECF6\", \"showlakes\": true, \"showland\": true, \"subunitcolor\": \"white\"}, \"hoverlabel\": {\"align\": \"left\"}, \"hovermode\": \"closest\", \"mapbox\": {\"style\": \"light\"}, \"paper_bgcolor\": \"white\", \"plot_bgcolor\": \"#E5ECF6\", \"polar\": {\"angularaxis\": {\"gridcolor\": \"white\", \"linecolor\": \"white\", \"ticks\": \"\"}, \"bgcolor\": \"#E5ECF6\", \"radialaxis\": {\"gridcolor\": \"white\", \"linecolor\": \"white\", \"ticks\": \"\"}}, \"scene\": {\"xaxis\": {\"backgroundcolor\": \"#E5ECF6\", \"gridcolor\": \"white\", \"gridwidth\": 2, \"linecolor\": \"white\", \"showbackground\": true, \"ticks\": \"\", \"zerolinecolor\": \"white\"}, \"yaxis\": {\"backgroundcolor\": \"#E5ECF6\", \"gridcolor\": \"white\", \"gridwidth\": 2, \"linecolor\": \"white\", \"showbackground\": true, \"ticks\": \"\", \"zerolinecolor\": \"white\"}, \"zaxis\": {\"backgroundcolor\": \"#E5ECF6\", \"gridcolor\": \"white\", \"gridwidth\": 2, \"linecolor\": \"white\", \"showbackground\": true, \"ticks\": \"\", \"zerolinecolor\": \"white\"}}, \"shapedefaults\": {\"line\": {\"color\": \"#2a3f5f\"}}, \"ternary\": {\"aaxis\": {\"gridcolor\": \"white\", \"linecolor\": \"white\", \"ticks\": \"\"}, \"baxis\": {\"gridcolor\": \"white\", \"linecolor\": \"white\", \"ticks\": \"\"}, \"bgcolor\": \"#E5ECF6\", \"caxis\": {\"gridcolor\": \"white\", \"linecolor\": \"white\", \"ticks\": \"\"}}, \"title\": {\"x\": 0.05}, \"xaxis\": {\"automargin\": true, \"gridcolor\": \"white\", \"linecolor\": \"white\", \"ticks\": \"\", \"title\": {\"standoff\": 15}, \"zerolinecolor\": \"white\", \"zerolinewidth\": 2}, \"yaxis\": {\"automargin\": true, \"gridcolor\": \"white\", \"linecolor\": \"white\", \"ticks\": \"\", \"title\": {\"standoff\": 15}, \"zerolinecolor\": \"white\", \"zerolinewidth\": 2}}}, \"title\": {\"text\": \"Median Salary by State\"}, \"width\": 1000, \"xaxis\": {\"title\": {\"text\": \"State\"}}, \"yaxis\": {\"title\": {\"text\": \"Salary\"}}},\n",
       "                        {\"responsive\": true}\n",
       "                    ).then(function(){\n",
       "                            \n",
       "var gd = document.getElementById('86e29d8e-6a8e-4ba8-8861-6babf46e4aa7');\n",
       "var x = new MutationObserver(function (mutations, observer) {{\n",
       "        var display = window.getComputedStyle(gd).display;\n",
       "        if (!display || display === 'none') {{\n",
       "            console.log([gd, 'removed!']);\n",
       "            Plotly.purge(gd);\n",
       "            observer.disconnect();\n",
       "        }}\n",
       "}});\n",
       "\n",
       "// Listen for the removal of the full notebook cells\n",
       "var notebookContainer = gd.closest('#notebook-container');\n",
       "if (notebookContainer) {{\n",
       "    x.observe(notebookContainer, {childList: true});\n",
       "}}\n",
       "\n",
       "// Listen for the clearing of the current output cell\n",
       "var outputEl = gd.closest('.output');\n",
       "if (outputEl) {{\n",
       "    x.observe(outputEl, {childList: true});\n",
       "}}\n",
       "\n",
       "                        })\n",
       "                };\n",
       "                });\n",
       "            </script>\n",
       "        </div>"
      ]
     },
     "metadata": {},
     "output_type": "display_data"
    },
    {
     "name": "stdout",
     "output_type": "stream",
     "text": [
      "time: 239 ms\n"
     ]
    }
   ],
   "source": [
    "state_salaries = state_salaries.sort_values(by='salary_median', ascending=False)\n",
    "\n",
    "data = [go.Bar(\n",
    "    x=state_salaries.index, \n",
    "    y=state_salaries.salary_median, \n",
    "    text=state_salaries.salary_median, \n",
    ")]\n",
    "\n",
    "layout = go.Layout(\n",
    "    autosize=False,\n",
    "    width=1000,\n",
    "    height=500\n",
    ")\n",
    "\n",
    "fig = go.Figure(data=data, layout=layout)\n",
    "fig.update_layout(\n",
    "    title = 'Median Salary by State', \n",
    "    xaxis_title = 'State',\n",
    "    yaxis_title = 'Salary')\n",
    "fig.show()"
   ]
  }
 ],
 "metadata": {
  "kernelspec": {
   "display_name": "Python 3",
   "language": "python",
   "name": "python3"
  },
  "language_info": {
   "codemirror_mode": {
    "name": "ipython",
    "version": 3
   },
   "file_extension": ".py",
   "mimetype": "text/x-python",
   "name": "python",
   "nbconvert_exporter": "python",
   "pygments_lexer": "ipython3",
   "version": "3.7.5"
  }
 },
 "nbformat": 4,
 "nbformat_minor": 2
}
